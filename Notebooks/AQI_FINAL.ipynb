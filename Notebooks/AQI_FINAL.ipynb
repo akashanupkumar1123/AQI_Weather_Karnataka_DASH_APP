{
  "nbformat": 4,
  "nbformat_minor": 0,
  "metadata": {
    "colab": {
      "provenance": []
    },
    "kernelspec": {
      "name": "python3",
      "display_name": "Python 3"
    },
    "language_info": {
      "name": "python"
    }
  },
  "cells": [
    {
      "cell_type": "code",
      "execution_count": 1,
      "metadata": {
        "colab": {
          "base_uri": "https://localhost:8080/"
        },
        "id": "fXA7a1TddDIk",
        "outputId": "b748297c-30d8-4eb4-e277-f4e9d30f404e"
      },
      "outputs": [
        {
          "output_type": "stream",
          "name": "stdout",
          "text": [
            "\n",
            "📍 Weather in Bangalore\n",
            "City: Bangalore\n",
            "Date: 2025-07-23\n",
            "Time: 18:52:05\n",
            "Temperature (°C): 21.4\n",
            "Humidity (%): 88\n",
            "Condition: Partly cloudy\n",
            "Wind Speed (kph): 27.7\n",
            "\n",
            "📍 Weather in Mysore\n",
            "City: Mysore\n",
            "Date: 2025-07-23\n",
            "Time: 18:52:06\n",
            "Temperature (°C): 19.8\n",
            "Humidity (%): 91\n",
            "Condition: Patchy rain nearby\n",
            "Wind Speed (kph): 22.0\n",
            "\n",
            "✅ Weather data saved to live_weather_data.csv\n",
            "📊 Data Shape: 2 rows × 7 columns\n"
          ]
        }
      ],
      "source": [
        "import requests\n",
        "import csv\n",
        "from datetime import datetime\n",
        "\n",
        "API_KEY = 'c29a1583e9d54bf180f180516250106'\n",
        "CITIES = ['Bangalore', 'Mysore']\n",
        "URL_TEMPLATE = 'https://api.weatherapi.com/v1/current.json?key={}&q={}'\n",
        "\n",
        "# Prepare list for weather data\n",
        "weather_data = []\n",
        "\n",
        "for city in CITIES:\n",
        "    url = URL_TEMPLATE.format(API_KEY, city)\n",
        "    response = requests.get(url)\n",
        "    data = response.json()\n",
        "\n",
        "    if response.status_code == 200:\n",
        "        current = data['current']\n",
        "        city_data = {\n",
        "            'City': city,\n",
        "            'Date': datetime.now().strftime('%Y-%m-%d'),\n",
        "            'Time': datetime.now().strftime('%H:%M:%S'),\n",
        "            'Temperature (°C)': current['temp_c'],\n",
        "            'Humidity (%)': current['humidity'],\n",
        "            'Condition': current['condition']['text'],\n",
        "            'Wind Speed (kph)': current['wind_kph']\n",
        "        }\n",
        "        weather_data.append(city_data)\n",
        "\n",
        "        # ✅ Print weather data\n",
        "        print(f\"\\n📍 Weather in {city}\")\n",
        "        for key, value in city_data.items():\n",
        "            print(f\"{key}: {value}\")\n",
        "    else:\n",
        "        print(f\"❌ Error fetching data for {city}: {data.get('error', {}).get('message')}\")\n",
        "\n",
        "# Save the data to CSV and print size (rows x cols)\n",
        "if weather_data:\n",
        "    filename = 'live_weather_data.csv'\n",
        "    fieldnames = weather_data[0].keys()\n",
        "    with open(filename, mode='w', newline='') as file:\n",
        "        writer = csv.DictWriter(file, fieldnames=fieldnames)\n",
        "        writer.writeheader()\n",
        "        writer.writerows(weather_data)\n",
        "\n",
        "    num_rows = len(weather_data)\n",
        "    num_cols = len(fieldnames)\n",
        "\n",
        "    print(f\"\\n✅ Weather data saved to {filename}\")\n",
        "    print(f\"📊 Data Shape: {num_rows} rows × {num_cols} columns\")\n"
      ]
    },
    {
      "cell_type": "code",
      "source": [
        "from google.colab import drive\n",
        "drive.mount('/content/drive')\n"
      ],
      "metadata": {
        "colab": {
          "base_uri": "https://localhost:8080/"
        },
        "id": "a5qMniK2d9g2",
        "outputId": "c3493681-8401-4d46-b149-430ef0b54f65"
      },
      "execution_count": 2,
      "outputs": [
        {
          "output_type": "stream",
          "name": "stdout",
          "text": [
            "Drive already mounted at /content/drive; to attempt to forcibly remount, call drive.mount(\"/content/drive\", force_remount=True).\n"
          ]
        }
      ]
    },
    {
      "cell_type": "code",
      "source": [
        "\n",
        "import pandas as pd\n",
        "import zipfile\n",
        "\n",
        "# Define base path\n",
        "base_path = \"/content/drive/My Drive\"  # or add \"/your_folder\" if files are inside a folder\n",
        "\n",
        "# Load CSVs\n",
        "bengaluru_aqi = pd.read_csv(f\"{base_path}/Bengaluru_AQIBulletins.csv\")\n",
        "mysuru_aqi = pd.read_csv(f\"{base_path}/Mysuru_AQIBulletins.csv\")\n",
        "\n",
        "df = pd.read_csv(\"/content/drive/My Drive/AQI_Weather_Analyser_Project/DATA/final_AQI.zip\")\n",
        "\n",
        "# Step 5: Print shape and preview\n",
        "print(\"✅ final_AQI shape:\", df.shape)\n",
        "print(df.head())\n",
        "\n",
        "print(\"\\n✅ bengaluru_aqi shape:\", bengaluru_aqi.shape)\n",
        "print(bengaluru_aqi.head())\n",
        "\n",
        "print(\"\\n✅ mysuru_aqi shape:\", mysuru_aqi.shape)\n",
        "print(mysuru_aqi.head())\n"
      ],
      "metadata": {
        "colab": {
          "base_uri": "https://localhost:8080/"
        },
        "id": "IYfKcac_d9z3",
        "outputId": "b84c68c3-b967-4ba4-b231-e306f90c0423"
      },
      "execution_count": 3,
      "outputs": [
        {
          "output_type": "stream",
          "name": "stdout",
          "text": [
            "✅ final_AQI shape: (1332059, 52)\n",
            "                   Start_TS                  End_Date  PM25  PM10    NO  \\\n",
            "0  2010-01-01T00:00:00.000Z  2010-01-01T01:00:00.000Z   0.0   0.0  3.51   \n",
            "1  2010-01-01T00:00:00.000Z  2010-01-01T01:00:00.000Z   0.0   0.0  0.85   \n",
            "2  2010-01-01T01:00:00.000Z  2010-01-01T02:00:00.000Z   0.0   0.0  5.57   \n",
            "3  2010-01-01T01:00:00.000Z  2010-01-01T02:00:00.000Z   0.0   0.0  1.19   \n",
            "4  2010-01-01T02:00:00.000Z  2010-01-01T03:00:00.000Z   0.0   0.0  5.69   \n",
            "\n",
            "     NO2    NOX    NH3   SO2    CO  ...  Rolling_PM10_max_7d  \\\n",
            "0  17.84  21.26   0.00  1.36  0.48  ...                  0.0   \n",
            "1  21.07  21.91  32.51  4.30  0.45  ...                  0.0   \n",
            "2  14.71  20.28   0.00  1.23  0.49  ...                  0.0   \n",
            "3  20.41  21.60  31.99  1.22  0.35  ...                  0.0   \n",
            "4  14.18  19.87   0.00  1.09  0.38  ...                  0.0   \n",
            "\n",
            "   Rolling_NO2_mean  Lag_NO2_1h  Rolling_NO2_max_7d  Rolling_CO_mean  \\\n",
            "0         17.840000         NaN               21.07         0.480000   \n",
            "1         19.455000       17.84               21.07         0.465000   \n",
            "2         17.873333       21.07               21.07         0.473333   \n",
            "3         18.730000       14.71               21.07         0.430000   \n",
            "4         16.433333       20.41               21.07         0.406667   \n",
            "\n",
            "   Lag_CO_1h  Rolling_CO_max_7d  Rolling_SO2_mean  Lag_SO2_1h  \\\n",
            "0        NaN               0.48          1.360000         NaN   \n",
            "1       0.48               0.48          2.830000        1.36   \n",
            "2       0.45               0.49          2.296667        4.30   \n",
            "3       0.49               0.49          2.250000        1.23   \n",
            "4       0.35               0.49          1.180000        1.22   \n",
            "\n",
            "   Rolling_SO2_max_7d  \n",
            "0                 4.3  \n",
            "1                 4.3  \n",
            "2                 4.3  \n",
            "3                 4.3  \n",
            "4                 4.3  \n",
            "\n",
            "[5 rows x 52 columns]\n",
            "\n",
            "✅ bengaluru_aqi shape: (3120, 6)\n",
            "         date       City  No. Stations   Air Quality  Index Value  \\\n",
            "0  2015-05-02  Bengaluru           NaN      Moderate          132   \n",
            "1  2015-05-03  Bengaluru           NaN          Good           49   \n",
            "2  2015-05-04  Bengaluru           NaN          Good           46   \n",
            "3  2015-05-05  Bengaluru           NaN          Poor          229   \n",
            "4  2015-05-06  Bengaluru           NaN  Satisfactory           90   \n",
            "\n",
            "  Prominent Pollutant  \n",
            "0           CO, PM2.5  \n",
            "1           CO, PM2.5  \n",
            "2                  CO  \n",
            "3                  CO  \n",
            "4                  O3  \n",
            "\n",
            "✅ mysuru_aqi shape: (1393, 6)\n",
            "         date    City  No. Stations   Air Quality  Index Value  \\\n",
            "0  2019-07-29  Mysuru           1.0          Good           48   \n",
            "1  2019-07-30  Mysuru           1.0          Good           43   \n",
            "2  2019-07-31  Mysuru           1.0          Good           40   \n",
            "3  2019-08-01  Mysuru           1.0  Satisfactory           51   \n",
            "4  2019-08-02  Mysuru           1.0          Good           42   \n",
            "\n",
            "  Prominent Pollutant  \n",
            "0                PM10  \n",
            "1                PM10  \n",
            "2                PM10  \n",
            "3                PM10  \n",
            "4                PM10  \n"
          ]
        }
      ]
    },
    {
      "cell_type": "code",
      "source": [
        "# Rename weather_data list to DataFrame\n",
        "live_weather_df = pd.DataFrame(weather_data)\n",
        "\n",
        "# Convert date columns to datetime\n",
        "live_weather_df['Date'] = pd.to_datetime(live_weather_df['Date'])\n",
        "bengaluru_aqi['date'] = pd.to_datetime(bengaluru_aqi['date'])\n",
        "mysuru_aqi['date'] = pd.to_datetime(mysuru_aqi['date'])\n",
        "\n",
        "# Standardize City names\n",
        "bengaluru_aqi['City'] = 'Bangalore'\n",
        "mysuru_aqi['City'] = 'Mysore'\n",
        "\n",
        "# Combine AQI dataframes\n",
        "aqi_df = pd.concat([bengaluru_aqi, mysuru_aqi], ignore_index=True)\n",
        "\n",
        "# Merge live weather data with AQI data on City and Date\n",
        "merged_df = pd.merge(live_weather_df, aqi_df, left_on=['City', 'Date'], right_on=['City', 'date'], how='left')\n"
      ],
      "metadata": {
        "id": "ymzdfok8d92H"
      },
      "execution_count": 4,
      "outputs": []
    },
    {
      "cell_type": "code",
      "source": [
        "def get_weather_emoji(condition):\n",
        "    condition = condition.lower()\n",
        "    if 'clear' in condition:\n",
        "        return '☀️'\n",
        "    elif 'cloud' in condition:\n",
        "        return '☁️'\n",
        "    elif 'rain' in condition:\n",
        "        return '🌧️'\n",
        "    elif 'storm' in condition:\n",
        "        return '⛈️'\n",
        "    elif 'snow' in condition:\n",
        "        return '❄️'\n",
        "    else:\n",
        "        return '🌈'\n",
        "\n",
        "# Example usage\n",
        "merged_df['Weather_Emoji'] = merged_df['Condition'].apply(get_weather_emoji)\n"
      ],
      "metadata": {
        "id": "sScCk3Osd93y"
      },
      "execution_count": 5,
      "outputs": []
    },
    {
      "cell_type": "code",
      "source": [
        "'''import plotly.express as px\n",
        "\n",
        "# Your DataFrame: bengaluru_aqi\n",
        "fig = px.line(\n",
        "    bengaluru_aqi,\n",
        "    x='date',\n",
        "    y='Index Value',\n",
        "    title='Bangalore AQI Over Time (Historical)',\n",
        "    markers=True\n",
        ")\n",
        "\n",
        "# Show interactive plot\n",
        "fig.show()\n",
        "\n",
        "# Save static PNG\n",
        "fig.write_image(\"bangalore_aqi_plot.png\", width=1000, height=600)'''\n"
      ],
      "metadata": {
        "colab": {
          "base_uri": "https://localhost:8080/",
          "height": 70
        },
        "id": "Qan0Q-96d95i",
        "outputId": "d55ba4ce-4768-43a6-ac68-f9a69d38db7e"
      },
      "execution_count": 6,
      "outputs": [
        {
          "output_type": "execute_result",
          "data": {
            "text/plain": [
              "'import plotly.express as px\\n\\n# Your DataFrame: bengaluru_aqi\\nfig = px.line(\\n    bengaluru_aqi,\\n    x=\\'date\\',\\n    y=\\'Index Value\\',\\n    title=\\'Bangalore AQI Over Time (Historical)\\',\\n    markers=True\\n)\\n\\n# Show interactive plot\\nfig.show()\\n\\n# Save static PNG\\nfig.write_image(\"bangalore_aqi_plot.png\", width=1000, height=600)'"
            ],
            "application/vnd.google.colaboratory.intrinsic+json": {
              "type": "string"
            }
          },
          "metadata": {},
          "execution_count": 6
        }
      ]
    },
    {
      "cell_type": "code",
      "source": [
        "'''from google.colab import files\n",
        "files.download('/content/bangalore_aqi_plot.png')'''\n"
      ],
      "metadata": {
        "colab": {
          "base_uri": "https://localhost:8080/",
          "height": 35
        },
        "id": "1D1UjLYfd97W",
        "outputId": "c0476f60-6e63-4f55-bfd3-ab5eb6c19ad0"
      },
      "execution_count": 7,
      "outputs": [
        {
          "output_type": "execute_result",
          "data": {
            "text/plain": [
              "\"from google.colab import files\\nfiles.download('/content/bangalore_aqi_plot.png')\""
            ],
            "application/vnd.google.colaboratory.intrinsic+json": {
              "type": "string"
            }
          },
          "metadata": {},
          "execution_count": 7
        }
      ]
    },
    {
      "cell_type": "code",
      "source": [
        "import pandas as pd\n",
        "\n",
        "# Assuming df is your loaded DataFrame from final_AQI.zip\n",
        "df['Start_TS'] = pd.to_datetime(df['Start_TS'])\n",
        "df['End_Date'] = pd.to_datetime(df['End_Date'])\n",
        "\n",
        "# Check conversion\n",
        "print(df[['Start_TS', 'End_Date']].head())\n"
      ],
      "metadata": {
        "colab": {
          "base_uri": "https://localhost:8080/"
        },
        "id": "WJ3RDsxqd99G",
        "outputId": "50eb0363-7d7f-467b-9318-8f4a6913a7f8"
      },
      "execution_count": 8,
      "outputs": [
        {
          "output_type": "stream",
          "name": "stdout",
          "text": [
            "                   Start_TS                  End_Date\n",
            "0 2010-01-01 00:00:00+00:00 2010-01-01 01:00:00+00:00\n",
            "1 2010-01-01 00:00:00+00:00 2010-01-01 01:00:00+00:00\n",
            "2 2010-01-01 01:00:00+00:00 2010-01-01 02:00:00+00:00\n",
            "3 2010-01-01 01:00:00+00:00 2010-01-01 02:00:00+00:00\n",
            "4 2010-01-01 02:00:00+00:00 2010-01-01 03:00:00+00:00\n"
          ]
        }
      ]
    },
    {
      "cell_type": "code",
      "source": [
        "derived_cols = [col for col in df.columns if col.startswith(('Rolling_', 'Lag_'))] + ['AQI_CPCB', 'AQI_Category']\n",
        "\n",
        "missing_counts = df[derived_cols].isnull().sum()\n",
        "print(missing_counts)\n"
      ],
      "metadata": {
        "colab": {
          "base_uri": "https://localhost:8080/"
        },
        "id": "A2V0Lkadd9-_",
        "outputId": "32f5a715-0b9f-495e-a76f-7d51f948bd6e"
      },
      "execution_count": 9,
      "outputs": [
        {
          "output_type": "stream",
          "name": "stdout",
          "text": [
            "Rolling_PM25_mean          0\n",
            "Lag_PM25_1h                1\n",
            "Rolling_Temperature_max    0\n",
            "Rolling_PM10_mean          0\n",
            "Lag_PM10_1h                1\n",
            "Rolling_PM10_max_7d        0\n",
            "Rolling_NO2_mean           0\n",
            "Lag_NO2_1h                 1\n",
            "Rolling_NO2_max_7d         0\n",
            "Rolling_CO_mean            0\n",
            "Lag_CO_1h                  1\n",
            "Rolling_CO_max_7d          0\n",
            "Rolling_SO2_mean           0\n",
            "Lag_SO2_1h                 1\n",
            "Rolling_SO2_max_7d         0\n",
            "AQI_CPCB                   0\n",
            "AQI_Category               0\n",
            "dtype: int64\n"
          ]
        }
      ]
    },
    {
      "cell_type": "code",
      "source": [
        "df[derived_cols] = df[derived_cols].ffill().fillna(0)\n",
        "\n"
      ],
      "metadata": {
        "id": "L7kTFk8xd-A5"
      },
      "execution_count": 10,
      "outputs": []
    },
    {
      "cell_type": "code",
      "source": [
        "lag_cols = ['Lag_PM25_1h', 'Lag_PM10_1h', 'Lag_NO2_1h', 'Lag_CO_1h', 'Lag_SO2_1h']\n",
        "\n",
        "# Drop rows with NaN in any lag column\n",
        "df_clean = df.dropna(subset=lag_cols)\n",
        "\n",
        "print(f\"Shape before dropping: {df.shape}\")\n",
        "print(f\"Shape after dropping: {df_clean.shape}\")\n"
      ],
      "metadata": {
        "colab": {
          "base_uri": "https://localhost:8080/"
        },
        "id": "5-yZQnwtd-C6",
        "outputId": "0465241b-41fb-4552-d12d-95578f8bc59e"
      },
      "execution_count": 11,
      "outputs": [
        {
          "output_type": "stream",
          "name": "stdout",
          "text": [
            "Shape before dropping: (1332059, 52)\n",
            "Shape after dropping: (1332059, 52)\n"
          ]
        }
      ]
    },
    {
      "cell_type": "code",
      "source": [
        "df.nunique().sort_values()  # to check unique values per column\n"
      ],
      "metadata": {
        "colab": {
          "base_uri": "https://localhost:8080/",
          "height": 1000
        },
        "id": "INaZyMRxd-E7",
        "outputId": "1ff973b7-503f-479e-dec9-58ac72410949"
      },
      "execution_count": 12,
      "outputs": [
        {
          "output_type": "execute_result",
          "data": {
            "text/plain": [
              "AQI_Category                    6\n",
              "AQI_CPCB                      501\n",
              "Rolling_PM10_max_7d           936\n",
              "Rolling_Temperature_max      1051\n",
              "Rolling_CO_max_7d            1918\n",
              "Rolling_SO2_max_7d           1970\n",
              "Rolling_NO2_max_7d           1997\n",
              "AQI_CO                       4461\n",
              "ETH_BENZENE                  5142\n",
              "Lag_CO_1h                    9272\n",
              "CO                           9272\n",
              "TEMP_C                       9957\n",
              "O_XYLENE                    10020\n",
              "AQI_SO2                     11387\n",
              "SO2                         11562\n",
              "Lag_SO2_1h                  11562\n",
              "AQI_NH3                     11972\n",
              "NH3                         11980\n",
              "AQI_NO2                     14729\n",
              "NO2                         14942\n",
              "Lag_NO2_1h                  14942\n",
              "AQI_OZONE                   15721\n",
              "NO                          15746\n",
              "OZONE                       15956\n",
              "NOX                         17824\n",
              "AQI_PM25                    20898\n",
              "MP_XYLENE                   21462\n",
              "Lag_PM25_1h                 21755\n",
              "PM25                        21755\n",
              "AQI_PM10                    24063\n",
              "BENZENE                     24367\n",
              "PM10                        24965\n",
              "Lag_PM10_1h                 24965\n",
              "RH                          28829\n",
              "TOLUENE                     31162\n",
              "VWS                         40340\n",
              "BP                          48133\n",
              "SR                          51177\n",
              "WS                          62188\n",
              "WD                          72172\n",
              "Rolling_CO_mean             93132\n",
              "Start_TS                   116112\n",
              "End_Date                   116112\n",
              "Start_TS_unix              116112\n",
              "Rolling_PM25_mean          142172\n",
              "Rolling_SO2_mean           150232\n",
              "Rolling_NO2_mean           178505\n",
              "Rolling_PM10_mean          209034\n",
              "HUMIDITY_TEMP_INDEX        390538\n",
              "PM25_WIND_SCALED           417884\n",
              "PM_RATIO                   448976\n",
              "NOX_TO_NO2                 772891\n",
              "dtype: int64"
            ],
            "text/html": [
              "<div>\n",
              "<style scoped>\n",
              "    .dataframe tbody tr th:only-of-type {\n",
              "        vertical-align: middle;\n",
              "    }\n",
              "\n",
              "    .dataframe tbody tr th {\n",
              "        vertical-align: top;\n",
              "    }\n",
              "\n",
              "    .dataframe thead th {\n",
              "        text-align: right;\n",
              "    }\n",
              "</style>\n",
              "<table border=\"1\" class=\"dataframe\">\n",
              "  <thead>\n",
              "    <tr style=\"text-align: right;\">\n",
              "      <th></th>\n",
              "      <th>0</th>\n",
              "    </tr>\n",
              "  </thead>\n",
              "  <tbody>\n",
              "    <tr>\n",
              "      <th>AQI_Category</th>\n",
              "      <td>6</td>\n",
              "    </tr>\n",
              "    <tr>\n",
              "      <th>AQI_CPCB</th>\n",
              "      <td>501</td>\n",
              "    </tr>\n",
              "    <tr>\n",
              "      <th>Rolling_PM10_max_7d</th>\n",
              "      <td>936</td>\n",
              "    </tr>\n",
              "    <tr>\n",
              "      <th>Rolling_Temperature_max</th>\n",
              "      <td>1051</td>\n",
              "    </tr>\n",
              "    <tr>\n",
              "      <th>Rolling_CO_max_7d</th>\n",
              "      <td>1918</td>\n",
              "    </tr>\n",
              "    <tr>\n",
              "      <th>Rolling_SO2_max_7d</th>\n",
              "      <td>1970</td>\n",
              "    </tr>\n",
              "    <tr>\n",
              "      <th>Rolling_NO2_max_7d</th>\n",
              "      <td>1997</td>\n",
              "    </tr>\n",
              "    <tr>\n",
              "      <th>AQI_CO</th>\n",
              "      <td>4461</td>\n",
              "    </tr>\n",
              "    <tr>\n",
              "      <th>ETH_BENZENE</th>\n",
              "      <td>5142</td>\n",
              "    </tr>\n",
              "    <tr>\n",
              "      <th>Lag_CO_1h</th>\n",
              "      <td>9272</td>\n",
              "    </tr>\n",
              "    <tr>\n",
              "      <th>CO</th>\n",
              "      <td>9272</td>\n",
              "    </tr>\n",
              "    <tr>\n",
              "      <th>TEMP_C</th>\n",
              "      <td>9957</td>\n",
              "    </tr>\n",
              "    <tr>\n",
              "      <th>O_XYLENE</th>\n",
              "      <td>10020</td>\n",
              "    </tr>\n",
              "    <tr>\n",
              "      <th>AQI_SO2</th>\n",
              "      <td>11387</td>\n",
              "    </tr>\n",
              "    <tr>\n",
              "      <th>SO2</th>\n",
              "      <td>11562</td>\n",
              "    </tr>\n",
              "    <tr>\n",
              "      <th>Lag_SO2_1h</th>\n",
              "      <td>11562</td>\n",
              "    </tr>\n",
              "    <tr>\n",
              "      <th>AQI_NH3</th>\n",
              "      <td>11972</td>\n",
              "    </tr>\n",
              "    <tr>\n",
              "      <th>NH3</th>\n",
              "      <td>11980</td>\n",
              "    </tr>\n",
              "    <tr>\n",
              "      <th>AQI_NO2</th>\n",
              "      <td>14729</td>\n",
              "    </tr>\n",
              "    <tr>\n",
              "      <th>NO2</th>\n",
              "      <td>14942</td>\n",
              "    </tr>\n",
              "    <tr>\n",
              "      <th>Lag_NO2_1h</th>\n",
              "      <td>14942</td>\n",
              "    </tr>\n",
              "    <tr>\n",
              "      <th>AQI_OZONE</th>\n",
              "      <td>15721</td>\n",
              "    </tr>\n",
              "    <tr>\n",
              "      <th>NO</th>\n",
              "      <td>15746</td>\n",
              "    </tr>\n",
              "    <tr>\n",
              "      <th>OZONE</th>\n",
              "      <td>15956</td>\n",
              "    </tr>\n",
              "    <tr>\n",
              "      <th>NOX</th>\n",
              "      <td>17824</td>\n",
              "    </tr>\n",
              "    <tr>\n",
              "      <th>AQI_PM25</th>\n",
              "      <td>20898</td>\n",
              "    </tr>\n",
              "    <tr>\n",
              "      <th>MP_XYLENE</th>\n",
              "      <td>21462</td>\n",
              "    </tr>\n",
              "    <tr>\n",
              "      <th>Lag_PM25_1h</th>\n",
              "      <td>21755</td>\n",
              "    </tr>\n",
              "    <tr>\n",
              "      <th>PM25</th>\n",
              "      <td>21755</td>\n",
              "    </tr>\n",
              "    <tr>\n",
              "      <th>AQI_PM10</th>\n",
              "      <td>24063</td>\n",
              "    </tr>\n",
              "    <tr>\n",
              "      <th>BENZENE</th>\n",
              "      <td>24367</td>\n",
              "    </tr>\n",
              "    <tr>\n",
              "      <th>PM10</th>\n",
              "      <td>24965</td>\n",
              "    </tr>\n",
              "    <tr>\n",
              "      <th>Lag_PM10_1h</th>\n",
              "      <td>24965</td>\n",
              "    </tr>\n",
              "    <tr>\n",
              "      <th>RH</th>\n",
              "      <td>28829</td>\n",
              "    </tr>\n",
              "    <tr>\n",
              "      <th>TOLUENE</th>\n",
              "      <td>31162</td>\n",
              "    </tr>\n",
              "    <tr>\n",
              "      <th>VWS</th>\n",
              "      <td>40340</td>\n",
              "    </tr>\n",
              "    <tr>\n",
              "      <th>BP</th>\n",
              "      <td>48133</td>\n",
              "    </tr>\n",
              "    <tr>\n",
              "      <th>SR</th>\n",
              "      <td>51177</td>\n",
              "    </tr>\n",
              "    <tr>\n",
              "      <th>WS</th>\n",
              "      <td>62188</td>\n",
              "    </tr>\n",
              "    <tr>\n",
              "      <th>WD</th>\n",
              "      <td>72172</td>\n",
              "    </tr>\n",
              "    <tr>\n",
              "      <th>Rolling_CO_mean</th>\n",
              "      <td>93132</td>\n",
              "    </tr>\n",
              "    <tr>\n",
              "      <th>Start_TS</th>\n",
              "      <td>116112</td>\n",
              "    </tr>\n",
              "    <tr>\n",
              "      <th>End_Date</th>\n",
              "      <td>116112</td>\n",
              "    </tr>\n",
              "    <tr>\n",
              "      <th>Start_TS_unix</th>\n",
              "      <td>116112</td>\n",
              "    </tr>\n",
              "    <tr>\n",
              "      <th>Rolling_PM25_mean</th>\n",
              "      <td>142172</td>\n",
              "    </tr>\n",
              "    <tr>\n",
              "      <th>Rolling_SO2_mean</th>\n",
              "      <td>150232</td>\n",
              "    </tr>\n",
              "    <tr>\n",
              "      <th>Rolling_NO2_mean</th>\n",
              "      <td>178505</td>\n",
              "    </tr>\n",
              "    <tr>\n",
              "      <th>Rolling_PM10_mean</th>\n",
              "      <td>209034</td>\n",
              "    </tr>\n",
              "    <tr>\n",
              "      <th>HUMIDITY_TEMP_INDEX</th>\n",
              "      <td>390538</td>\n",
              "    </tr>\n",
              "    <tr>\n",
              "      <th>PM25_WIND_SCALED</th>\n",
              "      <td>417884</td>\n",
              "    </tr>\n",
              "    <tr>\n",
              "      <th>PM_RATIO</th>\n",
              "      <td>448976</td>\n",
              "    </tr>\n",
              "    <tr>\n",
              "      <th>NOX_TO_NO2</th>\n",
              "      <td>772891</td>\n",
              "    </tr>\n",
              "  </tbody>\n",
              "</table>\n",
              "</div><br><label><b>dtype:</b> int64</label>"
            ]
          },
          "metadata": {},
          "execution_count": 12
        }
      ]
    },
    {
      "cell_type": "code",
      "source": [
        "print(df.columns.tolist())\n"
      ],
      "metadata": {
        "colab": {
          "base_uri": "https://localhost:8080/"
        },
        "id": "TN8_vwUed-KG",
        "outputId": "402419ec-9689-463d-e7c9-44a7a07fedfd"
      },
      "execution_count": 13,
      "outputs": [
        {
          "output_type": "stream",
          "name": "stdout",
          "text": [
            "['Start_TS', 'End_Date', 'PM25', 'PM10', 'NO', 'NO2', 'NOX', 'NH3', 'SO2', 'CO', 'OZONE', 'BENZENE', 'TOLUENE', 'ETH_BENZENE', 'MP_XYLENE', 'O_XYLENE', 'TEMP_C', 'RH', 'WS', 'WD', 'SR', 'BP', 'VWS', 'PM_RATIO', 'NOX_TO_NO2', 'PM25_WIND_SCALED', 'HUMIDITY_TEMP_INDEX', 'AQI_PM25', 'AQI_PM10', 'AQI_NO2', 'AQI_SO2', 'AQI_CO', 'AQI_OZONE', 'AQI_NH3', 'AQI_CPCB', 'AQI_Category', 'Start_TS_unix', 'Rolling_PM25_mean', 'Lag_PM25_1h', 'Rolling_Temperature_max', 'Rolling_PM10_mean', 'Lag_PM10_1h', 'Rolling_PM10_max_7d', 'Rolling_NO2_mean', 'Lag_NO2_1h', 'Rolling_NO2_max_7d', 'Rolling_CO_mean', 'Lag_CO_1h', 'Rolling_CO_max_7d', 'Rolling_SO2_mean', 'Lag_SO2_1h', 'Rolling_SO2_max_7d']\n"
          ]
        }
      ]
    },
    {
      "cell_type": "code",
      "source": [
        "!pip install optuna\n",
        "!pip install mlflow"
      ],
      "metadata": {
        "colab": {
          "base_uri": "https://localhost:8080/"
        },
        "collapsed": true,
        "id": "gNMd8lWchb8y",
        "outputId": "542d501c-01db-4c9e-865b-b4c790973274"
      },
      "execution_count": 14,
      "outputs": [
        {
          "output_type": "stream",
          "name": "stdout",
          "text": [
            "Requirement already satisfied: optuna in /usr/local/lib/python3.11/dist-packages (4.4.0)\n",
            "Requirement already satisfied: alembic>=1.5.0 in /usr/local/lib/python3.11/dist-packages (from optuna) (1.16.4)\n",
            "Requirement already satisfied: colorlog in /usr/local/lib/python3.11/dist-packages (from optuna) (6.9.0)\n",
            "Requirement already satisfied: numpy in /usr/local/lib/python3.11/dist-packages (from optuna) (2.0.2)\n",
            "Requirement already satisfied: packaging>=20.0 in /usr/local/lib/python3.11/dist-packages (from optuna) (25.0)\n",
            "Requirement already satisfied: sqlalchemy>=1.4.2 in /usr/local/lib/python3.11/dist-packages (from optuna) (2.0.41)\n",
            "Requirement already satisfied: tqdm in /usr/local/lib/python3.11/dist-packages (from optuna) (4.67.1)\n",
            "Requirement already satisfied: PyYAML in /usr/local/lib/python3.11/dist-packages (from optuna) (6.0.2)\n",
            "Requirement already satisfied: Mako in /usr/lib/python3/dist-packages (from alembic>=1.5.0->optuna) (1.1.3)\n",
            "Requirement already satisfied: typing-extensions>=4.12 in /usr/local/lib/python3.11/dist-packages (from alembic>=1.5.0->optuna) (4.14.1)\n",
            "Requirement already satisfied: greenlet>=1 in /usr/local/lib/python3.11/dist-packages (from sqlalchemy>=1.4.2->optuna) (3.2.3)\n",
            "Requirement already satisfied: mlflow in /usr/local/lib/python3.11/dist-packages (3.1.4)\n",
            "Requirement already satisfied: mlflow-skinny==3.1.4 in /usr/local/lib/python3.11/dist-packages (from mlflow) (3.1.4)\n",
            "Requirement already satisfied: Flask<4 in /usr/local/lib/python3.11/dist-packages (from mlflow) (3.1.1)\n",
            "Requirement already satisfied: alembic!=1.10.0,<2 in /usr/local/lib/python3.11/dist-packages (from mlflow) (1.16.4)\n",
            "Requirement already satisfied: docker<8,>=4.0.0 in /usr/local/lib/python3.11/dist-packages (from mlflow) (7.1.0)\n",
            "Requirement already satisfied: graphene<4 in /usr/local/lib/python3.11/dist-packages (from mlflow) (3.4.3)\n",
            "Requirement already satisfied: gunicorn<24 in /usr/local/lib/python3.11/dist-packages (from mlflow) (23.0.0)\n",
            "Requirement already satisfied: matplotlib<4 in /usr/local/lib/python3.11/dist-packages (from mlflow) (3.10.0)\n",
            "Requirement already satisfied: numpy<3 in /usr/local/lib/python3.11/dist-packages (from mlflow) (2.0.2)\n",
            "Requirement already satisfied: pandas<3 in /usr/local/lib/python3.11/dist-packages (from mlflow) (2.2.2)\n",
            "Requirement already satisfied: pyarrow<21,>=4.0.0 in /usr/local/lib/python3.11/dist-packages (from mlflow) (18.1.0)\n",
            "Requirement already satisfied: scikit-learn<2 in /usr/local/lib/python3.11/dist-packages (from mlflow) (1.6.1)\n",
            "Requirement already satisfied: scipy<2 in /usr/local/lib/python3.11/dist-packages (from mlflow) (1.16.0)\n",
            "Requirement already satisfied: sqlalchemy<3,>=1.4.0 in /usr/local/lib/python3.11/dist-packages (from mlflow) (2.0.41)\n",
            "Requirement already satisfied: cachetools<7,>=5.0.0 in /usr/local/lib/python3.11/dist-packages (from mlflow-skinny==3.1.4->mlflow) (5.5.2)\n",
            "Requirement already satisfied: click<9,>=7.0 in /usr/local/lib/python3.11/dist-packages (from mlflow-skinny==3.1.4->mlflow) (8.2.1)\n",
            "Requirement already satisfied: cloudpickle<4 in /usr/local/lib/python3.11/dist-packages (from mlflow-skinny==3.1.4->mlflow) (3.1.1)\n",
            "Requirement already satisfied: databricks-sdk<1,>=0.20.0 in /usr/local/lib/python3.11/dist-packages (from mlflow-skinny==3.1.4->mlflow) (0.59.0)\n",
            "Requirement already satisfied: fastapi<1 in /usr/local/lib/python3.11/dist-packages (from mlflow-skinny==3.1.4->mlflow) (0.116.1)\n",
            "Requirement already satisfied: gitpython<4,>=3.1.9 in /usr/local/lib/python3.11/dist-packages (from mlflow-skinny==3.1.4->mlflow) (3.1.44)\n",
            "Requirement already satisfied: importlib_metadata!=4.7.0,<9,>=3.7.0 in /usr/local/lib/python3.11/dist-packages (from mlflow-skinny==3.1.4->mlflow) (8.7.0)\n",
            "Requirement already satisfied: opentelemetry-api<3,>=1.9.0 in /usr/local/lib/python3.11/dist-packages (from mlflow-skinny==3.1.4->mlflow) (1.35.0)\n",
            "Requirement already satisfied: opentelemetry-sdk<3,>=1.9.0 in /usr/local/lib/python3.11/dist-packages (from mlflow-skinny==3.1.4->mlflow) (1.35.0)\n",
            "Requirement already satisfied: packaging<26 in /usr/local/lib/python3.11/dist-packages (from mlflow-skinny==3.1.4->mlflow) (25.0)\n",
            "Requirement already satisfied: protobuf<7,>=3.12.0 in /usr/local/lib/python3.11/dist-packages (from mlflow-skinny==3.1.4->mlflow) (5.29.5)\n",
            "Requirement already satisfied: pydantic<3,>=1.10.8 in /usr/local/lib/python3.11/dist-packages (from mlflow-skinny==3.1.4->mlflow) (2.11.7)\n",
            "Requirement already satisfied: pyyaml<7,>=5.1 in /usr/local/lib/python3.11/dist-packages (from mlflow-skinny==3.1.4->mlflow) (6.0.2)\n",
            "Requirement already satisfied: requests<3,>=2.17.3 in /usr/local/lib/python3.11/dist-packages (from mlflow-skinny==3.1.4->mlflow) (2.32.3)\n",
            "Requirement already satisfied: sqlparse<1,>=0.4.0 in /usr/local/lib/python3.11/dist-packages (from mlflow-skinny==3.1.4->mlflow) (0.5.3)\n",
            "Requirement already satisfied: typing-extensions<5,>=4.0.0 in /usr/local/lib/python3.11/dist-packages (from mlflow-skinny==3.1.4->mlflow) (4.14.1)\n",
            "Requirement already satisfied: uvicorn<1 in /usr/local/lib/python3.11/dist-packages (from mlflow-skinny==3.1.4->mlflow) (0.35.0)\n",
            "Requirement already satisfied: Mako in /usr/lib/python3/dist-packages (from alembic!=1.10.0,<2->mlflow) (1.1.3)\n",
            "Requirement already satisfied: urllib3>=1.26.0 in /usr/local/lib/python3.11/dist-packages (from docker<8,>=4.0.0->mlflow) (2.5.0)\n",
            "Requirement already satisfied: blinker>=1.9.0 in /usr/local/lib/python3.11/dist-packages (from Flask<4->mlflow) (1.9.0)\n",
            "Requirement already satisfied: itsdangerous>=2.2.0 in /usr/local/lib/python3.11/dist-packages (from Flask<4->mlflow) (2.2.0)\n",
            "Requirement already satisfied: jinja2>=3.1.2 in /usr/local/lib/python3.11/dist-packages (from Flask<4->mlflow) (3.1.6)\n",
            "Requirement already satisfied: markupsafe>=2.1.1 in /usr/local/lib/python3.11/dist-packages (from Flask<4->mlflow) (3.0.2)\n",
            "Requirement already satisfied: werkzeug>=3.1.0 in /usr/local/lib/python3.11/dist-packages (from Flask<4->mlflow) (3.1.3)\n",
            "Requirement already satisfied: graphql-core<3.3,>=3.1 in /usr/local/lib/python3.11/dist-packages (from graphene<4->mlflow) (3.2.6)\n",
            "Requirement already satisfied: graphql-relay<3.3,>=3.1 in /usr/local/lib/python3.11/dist-packages (from graphene<4->mlflow) (3.2.0)\n",
            "Requirement already satisfied: python-dateutil<3,>=2.7.0 in /usr/local/lib/python3.11/dist-packages (from graphene<4->mlflow) (2.9.0.post0)\n",
            "Requirement already satisfied: contourpy>=1.0.1 in /usr/local/lib/python3.11/dist-packages (from matplotlib<4->mlflow) (1.3.2)\n",
            "Requirement already satisfied: cycler>=0.10 in /usr/local/lib/python3.11/dist-packages (from matplotlib<4->mlflow) (0.12.1)\n",
            "Requirement already satisfied: fonttools>=4.22.0 in /usr/local/lib/python3.11/dist-packages (from matplotlib<4->mlflow) (4.59.0)\n",
            "Requirement already satisfied: kiwisolver>=1.3.1 in /usr/local/lib/python3.11/dist-packages (from matplotlib<4->mlflow) (1.4.8)\n",
            "Requirement already satisfied: pillow>=8 in /usr/local/lib/python3.11/dist-packages (from matplotlib<4->mlflow) (11.3.0)\n",
            "Requirement already satisfied: pyparsing>=2.3.1 in /usr/local/lib/python3.11/dist-packages (from matplotlib<4->mlflow) (3.2.3)\n",
            "Requirement already satisfied: pytz>=2020.1 in /usr/local/lib/python3.11/dist-packages (from pandas<3->mlflow) (2025.2)\n",
            "Requirement already satisfied: tzdata>=2022.7 in /usr/local/lib/python3.11/dist-packages (from pandas<3->mlflow) (2025.2)\n",
            "Requirement already satisfied: joblib>=1.2.0 in /usr/local/lib/python3.11/dist-packages (from scikit-learn<2->mlflow) (1.5.1)\n",
            "Requirement already satisfied: threadpoolctl>=3.1.0 in /usr/local/lib/python3.11/dist-packages (from scikit-learn<2->mlflow) (3.6.0)\n",
            "Requirement already satisfied: greenlet>=1 in /usr/local/lib/python3.11/dist-packages (from sqlalchemy<3,>=1.4.0->mlflow) (3.2.3)\n",
            "Requirement already satisfied: google-auth~=2.0 in /usr/local/lib/python3.11/dist-packages (from databricks-sdk<1,>=0.20.0->mlflow-skinny==3.1.4->mlflow) (2.38.0)\n",
            "Requirement already satisfied: starlette<0.48.0,>=0.40.0 in /usr/local/lib/python3.11/dist-packages (from fastapi<1->mlflow-skinny==3.1.4->mlflow) (0.47.2)\n",
            "Requirement already satisfied: gitdb<5,>=4.0.1 in /usr/local/lib/python3.11/dist-packages (from gitpython<4,>=3.1.9->mlflow-skinny==3.1.4->mlflow) (4.0.12)\n",
            "Requirement already satisfied: zipp>=3.20 in /usr/local/lib/python3.11/dist-packages (from importlib_metadata!=4.7.0,<9,>=3.7.0->mlflow-skinny==3.1.4->mlflow) (3.23.0)\n",
            "Requirement already satisfied: opentelemetry-semantic-conventions==0.56b0 in /usr/local/lib/python3.11/dist-packages (from opentelemetry-sdk<3,>=1.9.0->mlflow-skinny==3.1.4->mlflow) (0.56b0)\n",
            "Requirement already satisfied: annotated-types>=0.6.0 in /usr/local/lib/python3.11/dist-packages (from pydantic<3,>=1.10.8->mlflow-skinny==3.1.4->mlflow) (0.7.0)\n",
            "Requirement already satisfied: pydantic-core==2.33.2 in /usr/local/lib/python3.11/dist-packages (from pydantic<3,>=1.10.8->mlflow-skinny==3.1.4->mlflow) (2.33.2)\n",
            "Requirement already satisfied: typing-inspection>=0.4.0 in /usr/local/lib/python3.11/dist-packages (from pydantic<3,>=1.10.8->mlflow-skinny==3.1.4->mlflow) (0.4.1)\n",
            "Requirement already satisfied: six>=1.5 in /usr/local/lib/python3.11/dist-packages (from python-dateutil<3,>=2.7.0->graphene<4->mlflow) (1.17.0)\n",
            "Requirement already satisfied: charset-normalizer<4,>=2 in /usr/local/lib/python3.11/dist-packages (from requests<3,>=2.17.3->mlflow-skinny==3.1.4->mlflow) (3.4.2)\n",
            "Requirement already satisfied: idna<4,>=2.5 in /usr/local/lib/python3.11/dist-packages (from requests<3,>=2.17.3->mlflow-skinny==3.1.4->mlflow) (3.10)\n",
            "Requirement already satisfied: certifi>=2017.4.17 in /usr/local/lib/python3.11/dist-packages (from requests<3,>=2.17.3->mlflow-skinny==3.1.4->mlflow) (2025.7.14)\n",
            "Requirement already satisfied: h11>=0.8 in /usr/local/lib/python3.11/dist-packages (from uvicorn<1->mlflow-skinny==3.1.4->mlflow) (0.16.0)\n",
            "Requirement already satisfied: smmap<6,>=3.0.1 in /usr/local/lib/python3.11/dist-packages (from gitdb<5,>=4.0.1->gitpython<4,>=3.1.9->mlflow-skinny==3.1.4->mlflow) (5.0.2)\n",
            "Requirement already satisfied: pyasn1-modules>=0.2.1 in /usr/local/lib/python3.11/dist-packages (from google-auth~=2.0->databricks-sdk<1,>=0.20.0->mlflow-skinny==3.1.4->mlflow) (0.4.2)\n",
            "Requirement already satisfied: rsa<5,>=3.1.4 in /usr/local/lib/python3.11/dist-packages (from google-auth~=2.0->databricks-sdk<1,>=0.20.0->mlflow-skinny==3.1.4->mlflow) (4.9.1)\n",
            "Requirement already satisfied: anyio<5,>=3.6.2 in /usr/local/lib/python3.11/dist-packages (from starlette<0.48.0,>=0.40.0->fastapi<1->mlflow-skinny==3.1.4->mlflow) (4.9.0)\n",
            "Requirement already satisfied: sniffio>=1.1 in /usr/local/lib/python3.11/dist-packages (from anyio<5,>=3.6.2->starlette<0.48.0,>=0.40.0->fastapi<1->mlflow-skinny==3.1.4->mlflow) (1.3.1)\n",
            "Requirement already satisfied: pyasn1<0.7.0,>=0.6.1 in /usr/local/lib/python3.11/dist-packages (from pyasn1-modules>=0.2.1->google-auth~=2.0->databricks-sdk<1,>=0.20.0->mlflow-skinny==3.1.4->mlflow) (0.6.1)\n"
          ]
        }
      ]
    },
    {
      "cell_type": "code",
      "source": [
        "\n",
        "import pandas as pd\n",
        "import xgboost as xgb\n",
        "import matplotlib.pyplot as plt\n",
        "from sklearn.model_selection import train_test_split\n",
        "\n",
        "\n",
        "\n",
        "features = ['PM25', 'PM10', 'NO2', 'CO', 'SO2', 'OZONE', 'TEMP_C', 'RH', 'WS', 'WD']\n",
        "target = 'AQI_CPCB'  # or 'PM25' if you're directly predicting PM2.5\n",
        "\n",
        "# Drop rows with NA in selected columns\n",
        "df_model = df[features + [target]].dropna()\n",
        "\n",
        "X = df_model[features]\n",
        "y = df_model[target]\n",
        "\n",
        "X_train, X_test, y_train, y_test = train_test_split(X, y, test_size=0.2, random_state=42)\n"
      ],
      "metadata": {
        "id": "v6JFzXctd-QT"
      },
      "execution_count": 15,
      "outputs": []
    },
    {
      "cell_type": "code",
      "source": [
        "import pandas as pd\n",
        "import numpy as np\n",
        "import xgboost as xgb\n",
        "import matplotlib.pyplot as plt\n",
        "from sklearn.model_selection import train_test_split\n",
        "from sklearn.metrics import mean_squared_error\n",
        "import mlflow\n",
        "import mlflow.xgboost\n",
        "from mlflow.models.signature import infer_signature\n",
        "import os\n",
        "\n",
        "# === 2. Feature selection (modify only if needed)\n",
        "features = ['PM25', 'PM10', 'NO2', 'CO', 'SO2', 'OZONE', 'TEMP_C', 'RH', 'WS', 'WD']\n",
        "target = 'AQI_CPCB'\n",
        "\n",
        "df_model = df[features + [target]].dropna()\n",
        "X = df_model[features]\n",
        "y = df_model[target]\n",
        "\n",
        "# === 3. Train-test split\n",
        "X_train, X_test, y_train, y_test = train_test_split(X, y, test_size=0.2, random_state=42)\n",
        "\n",
        "# === 4. Start MLflow logging\n",
        "mlflow.set_tracking_uri(\"file:///content/mlruns\")\n",
        "mlflow.set_experiment(\"AQI_Prediction\")\n",
        "\n",
        "with mlflow.start_run():\n",
        "    # === 5. Train XGBoost model\n",
        "    model = xgb.XGBRegressor(n_estimators=100, learning_rate=0.1, max_depth=5, random_state=42)\n",
        "    model.fit(X_train, y_train)\n",
        "\n",
        "    # === 6. Predict & evaluate\n",
        "    y_pred = model.predict(X_test)\n",
        "    rmse = np.sqrt(mean_squared_error(y_test, y_pred))\n",
        "\n",
        "    # === 7. Log parameters, metrics\n",
        "    mlflow.log_params(model.get_params())\n",
        "    mlflow.log_metric(\"rmse\", rmse)\n",
        "\n",
        "    # === 8. Save feature importance plot\n",
        "    fig_path = \"feature_importance.png\"\n",
        "    xgb.plot_importance(model, importance_type='gain',\n",
        "                        xlabel='Gain (Avg. Contribution to Prediction)', height=0.6)\n",
        "    plt.title(\"XGBoost Feature Importance (Gain)\")\n",
        "    plt.tight_layout()\n",
        "    plt.savefig(fig_path)\n",
        "    mlflow.log_artifact(fig_path)\n",
        "\n",
        "    # === 9. Log model with signature\n",
        "    input_example = X_test.iloc[:5]\n",
        "    signature = infer_signature(X_test, model.predict(X_test))\n",
        "    mlflow.xgboost.log_model(\n",
        "        model,\n",
        "        name=\"xgb_model\",\n",
        "        input_example=input_example,\n",
        "        signature=signature\n",
        "    )\n",
        "\n",
        "    print(f\"✅ RMSE: {rmse:.2f}\")\n",
        "    print(\"🚀 MLflow logging complete!\")\n"
      ],
      "metadata": {
        "colab": {
          "base_uri": "https://localhost:8080/",
          "height": 576
        },
        "id": "KSCcpbXjd-UJ",
        "outputId": "2b5fd28d-1a02-4bcf-feee-ae5ffbf54183"
      },
      "execution_count": 16,
      "outputs": [
        {
          "output_type": "stream",
          "name": "stderr",
          "text": [
            "/usr/local/lib/python3.11/dist-packages/xgboost/sklearn.py:1028: UserWarning: [18:53:37] WARNING: /workspace/src/c_api/c_api.cc:1427: Saving model in the UBJSON format as default.  You can use file extension: `json`, `ubj` or `deprecated` to choose between formats.\n",
            "  self.get_booster().save_model(fname)\n"
          ]
        },
        {
          "output_type": "stream",
          "name": "stdout",
          "text": [
            "✅ RMSE: 13.99\n",
            "🚀 MLflow logging complete!\n"
          ]
        },
        {
          "output_type": "display_data",
          "data": {
            "text/plain": [
              "<Figure size 640x480 with 1 Axes>"
            ],
            "image/png": "[encoded data removed]"
          },
          "metadata": {}
        }
      ]
    },
    {
      "cell_type": "code",
      "source": [
        "# Get feature importance as raw gain\n",
        "importance_dict = model.get_booster().get_score(importance_type='gain')\n",
        "\n",
        "# Convert to DataFrame\n",
        "importances_df = pd.DataFrame.from_dict(importance_dict, orient='index', columns=['Gain'])\n",
        "\n",
        "# Normalize to percentages\n",
        "importances_df['Gain %'] = 100 * importances_df['Gain'] / importances_df['Gain'].sum()\n",
        "\n",
        "# Sort by importance descending\n",
        "importances_df = importances_df.sort_values('Gain %', ascending=False)\n",
        "\n",
        "# Rename feature column for clarity\n",
        "importances_df.index.name = 'Feature'\n",
        "importances_df.reset_index(inplace=True)\n",
        "\n",
        "print(importances_df.round(2))\n"
      ],
      "metadata": {
        "colab": {
          "base_uri": "https://localhost:8080/"
        },
        "id": "4eeScc5Yd-XO",
        "outputId": "2c42a16f-c5a4-40fa-e5bb-8ce32975eab3"
      },
      "execution_count": 17,
      "outputs": [
        {
          "output_type": "stream",
          "name": "stdout",
          "text": [
            "  Feature         Gain  Gain %\n",
            "0    PM25  20451452.00   41.85\n",
            "1      CO  12904190.00   26.41\n",
            "2    PM10   5722040.50   11.71\n",
            "3     NO2   4434767.50    9.07\n",
            "4   OZONE   2586508.50    5.29\n",
            "5     SO2   1103349.88    2.26\n",
            "6  TEMP_C    540222.25    1.11\n",
            "7      RH    465745.25    0.95\n",
            "8      WD    352186.50    0.72\n",
            "9      WS    309088.91    0.63\n"
          ]
        }
      ]
    },
    {
      "cell_type": "code",
      "source": [
        "import matplotlib.pyplot as plt\n",
        "import seaborn as sns\n",
        "\n",
        "# Sort features for better display\n",
        "importances_df = importances_df.sort_values(\"Gain %\", ascending=True)\n",
        "\n",
        "plt.figure(figsize=(10, 6))\n",
        "sns.barplot(\n",
        "    x=\"Gain %\",\n",
        "    y=\"Feature\",\n",
        "    data=importances_df,\n",
        "    palette=\"viridis\"\n",
        ")\n",
        "\n",
        "plt.title(\"XGBoost Feature Importance (Gain %)\", fontsize=14)\n",
        "plt.xlabel(\"Importance (%)\", fontsize=12)\n",
        "plt.ylabel(\"Feature\", fontsize=12)\n",
        "plt.grid(axis='x', linestyle='--', alpha=0.5)\n",
        "plt.tight_layout()\n",
        "\n",
        "# === Save the plot ===\n",
        "plt.savefig(\"xgboost_feature_importance.png\", dpi=300, bbox_inches='tight')  # High-res\n",
        "plt.show()\n"
      ],
      "metadata": {
        "colab": {
          "base_uri": "https://localhost:8080/",
          "height": 714
        },
        "id": "v8anSoD3d-ai",
        "outputId": "e2f0512f-1d83-4b79-d427-43bf28480ddb"
      },
      "execution_count": 18,
      "outputs": [
        {
          "output_type": "stream",
          "name": "stderr",
          "text": [
            "/tmp/ipython-input-18-3743835153.py:8: FutureWarning: \n",
            "\n",
            "Passing `palette` without assigning `hue` is deprecated and will be removed in v0.14.0. Assign the `y` variable to `hue` and set `legend=False` for the same effect.\n",
            "\n",
            "  sns.barplot(\n"
          ]
        },
        {
          "output_type": "display_data",
          "data": {
            "text/plain": [
              "<Figure size 1000x600 with 1 Axes>"
            ],
            "image/png": "[encoded data removed]"
          },
          "metadata": {}
        }
      ]
    },
    {
      "cell_type": "code",
      "source": [
        "from google.colab import files\n",
        "files.download(\"xgboost_feature_importance.png\")"
      ],
      "metadata": {
        "colab": {
          "base_uri": "https://localhost:8080/",
          "height": 17
        },
        "id": "jOBHMsECd-de",
        "outputId": "d4784cc4-75a4-4e30-c128-5976562a1a0f"
      },
      "execution_count": 19,
      "outputs": [
        {
          "output_type": "display_data",
          "data": {
            "text/plain": [
              "<IPython.core.display.Javascript object>"
            ],
            "application/javascript": [
              "\n",
              "    async function download(id, filename, size) {\n",
              "      if (!google.colab.kernel.accessAllowed) {\n",
              "        return;\n",
              "      }\n",
              "      const div = document.createElement('div');\n",
              "      const label = document.createElement('label');\n",
              "      label.textContent = `Downloading \"${filename}\": `;\n",
              "      div.appendChild(label);\n",
              "      const progress = document.createElement('progress');\n",
              "      progress.max = size;\n",
              "      div.appendChild(progress);\n",
              "      document.body.appendChild(div);\n",
              "\n",
              "      const buffers = [];\n",
              "      let downloaded = 0;\n",
              "\n",
              "      const channel = await google.colab.kernel.comms.open(id);\n",
              "      // Send a message to notify the kernel that we're ready.\n",
              "      channel.send({})\n",
              "\n",
              "      for await (const message of channel.messages) {\n",
              "        // Send a message to notify the kernel that we're ready.\n",
              "        channel.send({})\n",
              "        if (message.buffers) {\n",
              "          for (const buffer of message.buffers) {\n",
              "            buffers.push(buffer);\n",
              "            downloaded += buffer.byteLength;\n",
              "            progress.value = downloaded;\n",
              "          }\n",
              "        }\n",
              "      }\n",
              "      const blob = new Blob(buffers, {type: 'application/binary'});\n",
              "      const a = document.createElement('a');\n",
              "      a.href = window.URL.createObjectURL(blob);\n",
              "      a.download = filename;\n",
              "      div.appendChild(a);\n",
              "      a.click();\n",
              "      div.remove();\n",
              "    }\n",
              "  "
            ]
          },
          "metadata": {}
        },
        {
          "output_type": "display_data",
          "data": {
            "text/plain": [
              "<IPython.core.display.Javascript object>"
            ],
            "application/javascript": [
              "download(\"download_89f56252-a797-4b30-9e71-cfd21bd44f50\", \"xgboost_feature_importance.png\", 117184)"
            ]
          },
          "metadata": {}
        }
      ]
    },
    {
      "cell_type": "code",
      "source": [
        "import pandas as pd\n",
        "import numpy as np\n",
        "from sklearn.preprocessing import MinMaxScaler\n",
        "from sklearn.metrics import mean_squared_error, mean_absolute_error, r2_score\n",
        "from tensorflow.keras.models import load_model\n",
        "import matplotlib.pyplot as plt\n",
        "\n",
        "# === 1. Load and prepare data ===\n",
        "\n",
        "df = df.sort_values(\"Start_TS\")\n",
        "\n",
        "top_features = ['PM25', 'CO', 'PM10', 'NO2', 'OZONE', 'SO2']\n",
        "target_col = 'AQI_CPCB'\n",
        "\n",
        "data = df[top_features + [target_col]].dropna().copy()\n",
        "\n",
        "# === 2. Normalize ===\n",
        "scaler = MinMaxScaler()\n",
        "scaled_data = scaler.fit_transform(data)\n",
        "\n",
        "# === 3. Create sequences ===\n",
        "def create_sequences(data, seq_len):\n",
        "    X, y = [], []\n",
        "    for i in range(seq_len, len(data)):\n",
        "        X.append(data[i-seq_len:i, :-1])  # features\n",
        "        y.append(data[i, -1])             # target\n",
        "    return np.array(X), np.array(y)\n",
        "\n",
        "SEQ_LEN = 24\n",
        "X, y = create_sequences(scaled_data, SEQ_LEN)\n",
        "\n",
        "# === 4. Recreate Train/Test Split ===\n",
        "split = int(0.8 * len(X))\n",
        "X_test, y_test = X[split:], y[split:]\n",
        "\n",
        "# === 5. Load Model and Predict ===\n",
        "model = load_model(\"lstm_aqi_model.keras\")\n",
        "y_pred = model.predict(X_test)\n",
        "\n",
        "# === 6. Evaluate ===\n",
        "mse = mean_squared_error(y_test, y_pred)\n",
        "rmse = np.sqrt(mean_squared_error(y_test, y_pred))\n",
        "\n",
        "\n",
        "print(f\"✅ MSE: {mse:.4f}\")\n",
        "print(f\"📉 RMSE: {rmse:.4f}\")\n",
        "\n",
        "\n",
        "# === 7. Optional: Plot Predictions ===\n",
        "plt.figure(figsize=(10, 4))\n",
        "plt.plot(y_test[:300], label=\"True AQI\")\n",
        "plt.plot(y_pred[:300], label=\"Predicted AQI\")\n",
        "plt.title(\"LSTM AQI Prediction vs Ground Truth\")\n",
        "plt.legend()\n",
        "plt.tight_layout()\n",
        "plt.show()\n"
      ],
      "metadata": {
        "colab": {
          "base_uri": "https://localhost:8080/",
          "height": 514
        },
        "id": "Ond2_dvId-gK",
        "outputId": "3d95c530-c733-4239-f270-f0e8bfa735e2"
      },
      "execution_count": 20,
      "outputs": [
        {
          "output_type": "stream",
          "name": "stderr",
          "text": [
            "/usr/local/lib/python3.11/dist-packages/keras/src/saving/saving_lib.py:757: UserWarning: Skipping variable loading for optimizer 'rmsprop', because it has 10 variables whereas the saved optimizer has 18 variables. \n",
            "  saveable.load_own_variables(weights_store.get(inner_path))\n"
          ]
        },
        {
          "output_type": "stream",
          "name": "stdout",
          "text": [
            "\u001b[1m8326/8326\u001b[0m \u001b[32m━━━━━━━━━━━━━━━━━━━━\u001b[0m\u001b[37m\u001b[0m \u001b[1m67s\u001b[0m 8ms/step\n",
            "✅ MSE: 0.0120\n",
            "📉 RMSE: 0.1096\n"
          ]
        },
        {
          "output_type": "display_data",
          "data": {
            "text/plain": [
              "<Figure size 1000x400 with 1 Axes>"
            ],
            "image/png": "[encoded data removed]"
          },
          "metadata": {}
        }
      ]
    },
    {
      "cell_type": "code",
      "source": [
        "import mlflow\n",
        "print(\"MLflow version:\", mlflow.__version__)\n"
      ],
      "metadata": {
        "colab": {
          "base_uri": "https://localhost:8080/"
        },
        "id": "E2PZ2XBHrEES",
        "outputId": "158df690-898c-4813-ef37-bd7cf97b0351"
      },
      "execution_count": 25,
      "outputs": [
        {
          "output_type": "stream",
          "name": "stdout",
          "text": [
            "MLflow version: 3.1.4\n"
          ]
        }
      ]
    },
    {
      "cell_type": "code",
      "source": [
        "# Create a proper input example with shape (1, 24, 6)\n",
        "example_input = X_test[:1].tolist()\n"
      ],
      "metadata": {
        "id": "BFgz3JmVrEBJ"
      },
      "execution_count": 28,
      "outputs": []
    },
    {
      "cell_type": "code",
      "source": [
        "import mlflow.models\n",
        "from mlflow.models.signature import infer_signature\n",
        "\n",
        "# Pick one test example\n",
        "input_example = X_test[:1]\n",
        "prediction_example = model.predict(input_example)\n",
        "\n",
        "signature = infer_signature(input_example, prediction_example)\n",
        "\n",
        "mlflow.tensorflow.log_model(\n",
        "    model,\n",
        "    name=\"lstm_model_logged\",\n",
        "    input_example=input_example,\n",
        "    signature=signature\n",
        ")\n"
      ],
      "metadata": {
        "colab": {
          "base_uri": "https://localhost:8080/"
        },
        "id": "QFfvpwDvkayK",
        "outputId": "a6e7d996-bec3-4dcd-e4f3-e941d8b01a65"
      },
      "execution_count": 31,
      "outputs": [
        {
          "output_type": "stream",
          "name": "stdout",
          "text": [
            "\u001b[1m1/1\u001b[0m \u001b[32m━━━━━━━━━━━━━━━━━━━━\u001b[0m\u001b[37m\u001b[0m \u001b[1m0s\u001b[0m 407ms/step\n",
            "\u001b[1m1/1\u001b[0m \u001b[32m━━━━━━━━━━━━━━━━━━━━\u001b[0m\u001b[37m\u001b[0m \u001b[1m0s\u001b[0m 394ms/step\n"
          ]
        },
        {
          "output_type": "execute_result",
          "data": {
            "text/plain": [
              "<mlflow.models.model.ModelInfo at 0x7e635137a3d0>"
            ]
          },
          "metadata": {},
          "execution_count": 31
        }
      ]
    },
    {
      "cell_type": "code",
      "source": [
        "info = mlflow.tensorflow.log_model(  # or mlflow.keras.log_model if you used that\n",
        "    model,\n",
        "    name=\"lstm_model_logged\",\n",
        "    input_example=input_example,\n",
        "    signature=signature\n",
        ")\n",
        "\n",
        "# Print full details\n",
        "print(f\"Model URI: {info.model_uri}\")\n",
        "print(f\"Run ID: {info.run_id}\")\n",
        "print(f\"Artifact Path: {info.artifact_path}\")\n"
      ],
      "metadata": {
        "colab": {
          "base_uri": "https://localhost:8080/"
        },
        "id": "NCzJYgrzka0q",
        "outputId": "e215fc16-04bd-4f00-8c14-cfea48cf1a40"
      },
      "execution_count": 33,
      "outputs": [
        {
          "output_type": "stream",
          "name": "stdout",
          "text": [
            "\u001b[1m1/1\u001b[0m \u001b[32m━━━━━━━━━━━━━━━━━━━━\u001b[0m\u001b[37m\u001b[0m \u001b[1m0s\u001b[0m 374ms/step\n",
            "Model URI: models:/m-3ea79f480b6a47e1800cb1866b3e7f4f\n",
            "Run ID: None\n",
            "Artifact Path: file:///content/mlruns/603149180463396499/models/m-3ea79f480b6a47e1800cb1866b3e7f4f/artifacts\n"
          ]
        }
      ]
    },
    {
      "cell_type": "code",
      "source": [
        "import pandas as pd\n",
        "import numpy as np\n",
        "import lightgbm as lgb\n",
        "import mlflow\n",
        "import mlflow.lightgbm\n",
        "import matplotlib.pyplot as plt\n",
        "import seaborn as sns\n",
        "from sklearn.model_selection import train_test_split\n",
        "from sklearn.metrics import mean_squared_error, mean_absolute_error, r2_score\n",
        "import os\n",
        "\n",
        "# === 1. Define Features and Target ===\n",
        "feature_cols = [\n",
        "    'AQI_CO', 'AQI_PM25', 'AQI_NO2', 'AQI_PM10',\n",
        "    'NO2', 'PM25', 'NOX_TO_NO2', 'AQI_OZONE',\n",
        "    'PM10', 'CO', 'Rolling_NO2_mean', 'Rolling_CO_mean', 'Rolling_PM10_mean'\n",
        "]\n",
        "target_col = 'AQI_CPCB'\n",
        "\n",
        "# === 2. Prepare Data ===\n",
        "X = df[feature_cols]\n",
        "y = df[target_col]\n",
        "\n",
        "# Impute missing values in X\n",
        "print(\"Missing values before imputation:\\n\", X.isnull().sum())\n",
        "X = X.fillna(X.median())\n",
        "print(\"Missing values after imputation:\\n\", X.isnull().sum())\n",
        "\n",
        "# Drop rows with missing target\n",
        "data = pd.concat([X, y], axis=1).dropna()\n",
        "X = data[feature_cols]\n",
        "y = data[target_col]\n",
        "\n",
        "print(f\"✅ Data shape after cleanup: {X.shape}\")\n",
        "\n",
        "# === 3. Train-Test Split ===\n",
        "X_train, X_val, y_train, y_val = train_test_split(\n",
        "    X, y, test_size=0.2, random_state=42\n",
        ")\n",
        "\n",
        "# === 4. LightGBM Dataset ===\n",
        "train_data = lgb.Dataset(X_train, label=y_train)\n",
        "val_data = lgb.Dataset(X_val, label=y_val)\n",
        "\n",
        "# === 5. Training Parameters ===\n",
        "params = {\n",
        "    'objective': 'regression',\n",
        "    'metric': 'rmse',\n",
        "    'verbosity': -1,\n",
        "    'boosting_type': 'gbdt',\n",
        "    'seed': 42\n",
        "}\n",
        "\n",
        "# === 6. Input Example ===\n",
        "input_example = X_val.iloc[:1]\n",
        "\n",
        "# === 7. Start MLflow Logging ===\n",
        "mlflow.set_tracking_uri(\"file:///content/mlruns\")  # Or change to your local path\n",
        "mlflow.set_experiment(\"AQI_LightGBM_Model\")\n",
        "\n",
        "with mlflow.start_run(run_name=\"LightGBM Baseline with Median Impute\"):\n",
        "    mlflow.log_params(params)\n",
        "    mlflow.log_param(\"n_train\", len(X_train))\n",
        "    mlflow.log_param(\"n_val\", len(X_val))\n",
        "\n",
        "    model = lgb.train(\n",
        "        params,\n",
        "        train_data,\n",
        "        valid_sets=[val_data],\n",
        "        num_boost_round=1000,\n",
        "        callbacks=[\n",
        "            lgb.early_stopping(stopping_rounds=50),\n",
        "            lgb.log_evaluation(period=50)\n",
        "        ]\n",
        "    )\n",
        "\n",
        "    mlflow.log_param(\"best_iteration\", model.best_iteration)\n",
        "\n",
        "    # === 8. Evaluate ===\n",
        "    y_pred = model.predict(X_val, num_iteration=model.best_iteration)\n",
        "    rmse = np.sqrt(mean_squared_error(y_val, y_pred))\n",
        "    mae = mean_absolute_error(y_val, y_pred)\n",
        "    r2 = r2_score(y_val, y_pred)\n",
        "    mape = (abs((y_val - y_pred) / y_val.replace(0, 1))).mean() * 100\n",
        "\n",
        "    mlflow.log_metrics({\n",
        "        \"RMSE\": rmse,\n",
        "        \"MAE\": mae,\n",
        "        \"R2\": r2,\n",
        "        \"MAPE\": mape\n",
        "    })\n",
        "\n",
        "    # === 9. Save Model ===\n",
        "    mlflow.lightgbm.log_model(\n",
        "        lgb_model=model,\n",
        "        name=\"model\",\n",
        "        input_example=input_example\n",
        "    )\n",
        "\n",
        "    # === 10. Save Feature Importance Plot ===\n",
        "    fig, ax = plt.subplots(figsize=(8, 6))\n",
        "    sns.barplot(\n",
        "        x=model.feature_importance(),\n",
        "        y=model.feature_name(),\n",
        "        ax=ax\n",
        "    )\n",
        "    ax.set_title(\"📊 LightGBM Feature Importance\")\n",
        "    plt.tight_layout()\n",
        "    fig_path = \"feature_importance.png\"\n",
        "    plt.savefig(fig_path)\n",
        "    mlflow.log_artifact(fig_path)\n",
        "\n",
        "    # === 11. Save Predictions CSV ===\n",
        "    pred_df = pd.DataFrame({\n",
        "        \"actual\": y_val.values,\n",
        "        \"predicted\": y_pred\n",
        "    })\n",
        "    pred_path = \"val_predictions.csv\"\n",
        "    pred_df.to_csv(pred_path, index=False)\n",
        "    mlflow.log_artifact(pred_path)\n",
        "\n",
        "    print(\"\\n✅ Evaluation Metrics:\")\n",
        "    print(f\"RMSE : {rmse:.4f}\")\n",
        "    print(f\"MAE  : {mae:.4f}\")\n",
        "    print(f\"R²   : {r2:.4f}\")\n",
        "    print(f\"MAPE : {mape:.2f}%\")\n",
        "    print(\"🚀 Model, plots, and metrics logged to MLflow successfully.\")\n"
      ],
      "metadata": {
        "colab": {
          "base_uri": "https://localhost:8080/",
          "height": 1000
        },
        "id": "t-_dBYrRka3D",
        "outputId": "6dfdbaf6-82f4-4c1d-e150-d1a0e63d34bc"
      },
      "execution_count": 35,
      "outputs": [
        {
          "output_type": "stream",
          "name": "stdout",
          "text": [
            "Missing values before imputation:\n",
            " AQI_CO                49942\n",
            "AQI_PM25              19202\n",
            "AQI_NO2                6729\n",
            "AQI_PM10              11131\n",
            "NO2                       0\n",
            "PM25                      0\n",
            "NOX_TO_NO2           314220\n",
            "AQI_OZONE              5219\n",
            "PM10                      0\n",
            "CO                        0\n",
            "Rolling_NO2_mean          0\n",
            "Rolling_CO_mean           0\n",
            "Rolling_PM10_mean         0\n",
            "dtype: int64\n",
            "Missing values after imputation:\n",
            " AQI_CO               0\n",
            "AQI_PM25             0\n",
            "AQI_NO2              0\n",
            "AQI_PM10             0\n",
            "NO2                  0\n",
            "PM25                 0\n",
            "NOX_TO_NO2           0\n",
            "AQI_OZONE            0\n",
            "PM10                 0\n",
            "CO                   0\n",
            "Rolling_NO2_mean     0\n",
            "Rolling_CO_mean      0\n",
            "Rolling_PM10_mean    0\n",
            "dtype: int64\n",
            "✅ Data shape after cleanup: (1332059, 13)\n",
            "Training until validation scores don't improve for 50 rounds\n",
            "[50]\tvalid_0's rmse: 7.12837\n",
            "[100]\tvalid_0's rmse: 6.67109\n",
            "[150]\tvalid_0's rmse: 6.45978\n",
            "[200]\tvalid_0's rmse: 6.33901\n",
            "[250]\tvalid_0's rmse: 6.25453\n",
            "[300]\tvalid_0's rmse: 6.18508\n",
            "[350]\tvalid_0's rmse: 6.13878\n",
            "[400]\tvalid_0's rmse: 6.09319\n",
            "[450]\tvalid_0's rmse: 6.07183\n",
            "[500]\tvalid_0's rmse: 6.04573\n",
            "[550]\tvalid_0's rmse: 6.02275\n",
            "[600]\tvalid_0's rmse: 6.00205\n",
            "[650]\tvalid_0's rmse: 5.98054\n",
            "[700]\tvalid_0's rmse: 5.96397\n",
            "[750]\tvalid_0's rmse: 5.95504\n",
            "[800]\tvalid_0's rmse: 5.94367\n",
            "[850]\tvalid_0's rmse: 5.92676\n",
            "[900]\tvalid_0's rmse: 5.91434\n",
            "[950]\tvalid_0's rmse: 5.90659\n",
            "[1000]\tvalid_0's rmse: 5.89783\n",
            "Did not meet early stopping. Best iteration is:\n",
            "[1000]\tvalid_0's rmse: 5.89783\n"
          ]
        },
        {
          "output_type": "stream",
          "name": "stderr",
          "text": [
            "/tmp/ipython-input-35-285313453.py:108: UserWarning: Glyph 128202 (\\N{BAR CHART}) missing from font(s) DejaVu Sans.\n",
            "  plt.tight_layout()\n",
            "/tmp/ipython-input-35-285313453.py:110: UserWarning: Glyph 128202 (\\N{BAR CHART}) missing from font(s) DejaVu Sans.\n",
            "  plt.savefig(fig_path)\n"
          ]
        },
        {
          "output_type": "stream",
          "name": "stdout",
          "text": [
            "\n",
            "✅ Evaluation Metrics:\n",
            "RMSE : 5.8978\n",
            "MAE  : 1.7099\n",
            "R²   : 0.9932\n",
            "MAPE : 5.99%\n",
            "🚀 Model, plots, and metrics logged to MLflow successfully.\n"
          ]
        },
        {
          "output_type": "stream",
          "name": "stderr",
          "text": [
            "/usr/local/lib/python3.11/dist-packages/IPython/core/pylabtools.py:151: UserWarning: Glyph 128202 (\\N{BAR CHART}) missing from font(s) DejaVu Sans.\n",
            "  fig.canvas.print_figure(bytes_io, **kw)\n"
          ]
        },
        {
          "output_type": "display_data",
          "data": {
            "text/plain": [
              "<Figure size 800x600 with 1 Axes>"
            ],
            "image/png": "[encoded data removed]"
          },
          "metadata": {}
        }
      ]
    },
    {
      "cell_type": "code",
      "source": [
        "from google.colab import files\n",
        "files.download(\"feature_importance.png\")\n"
      ],
      "metadata": {
        "colab": {
          "base_uri": "https://localhost:8080/",
          "height": 17
        },
        "id": "T7Eqjxuwka5X",
        "outputId": "67b83300-ed0b-4910-f227-6791b6d74da5"
      },
      "execution_count": 36,
      "outputs": [
        {
          "output_type": "display_data",
          "data": {
            "text/plain": [
              "<IPython.core.display.Javascript object>"
            ],
            "application/javascript": [
              "\n",
              "    async function download(id, filename, size) {\n",
              "      if (!google.colab.kernel.accessAllowed) {\n",
              "        return;\n",
              "      }\n",
              "      const div = document.createElement('div');\n",
              "      const label = document.createElement('label');\n",
              "      label.textContent = `Downloading \"${filename}\": `;\n",
              "      div.appendChild(label);\n",
              "      const progress = document.createElement('progress');\n",
              "      progress.max = size;\n",
              "      div.appendChild(progress);\n",
              "      document.body.appendChild(div);\n",
              "\n",
              "      const buffers = [];\n",
              "      let downloaded = 0;\n",
              "\n",
              "      const channel = await google.colab.kernel.comms.open(id);\n",
              "      // Send a message to notify the kernel that we're ready.\n",
              "      channel.send({})\n",
              "\n",
              "      for await (const message of channel.messages) {\n",
              "        // Send a message to notify the kernel that we're ready.\n",
              "        channel.send({})\n",
              "        if (message.buffers) {\n",
              "          for (const buffer of message.buffers) {\n",
              "            buffers.push(buffer);\n",
              "            downloaded += buffer.byteLength;\n",
              "            progress.value = downloaded;\n",
              "          }\n",
              "        }\n",
              "      }\n",
              "      const blob = new Blob(buffers, {type: 'application/binary'});\n",
              "      const a = document.createElement('a');\n",
              "      a.href = window.URL.createObjectURL(blob);\n",
              "      a.download = filename;\n",
              "      div.appendChild(a);\n",
              "      a.click();\n",
              "      div.remove();\n",
              "    }\n",
              "  "
            ]
          },
          "metadata": {}
        },
        {
          "output_type": "display_data",
          "data": {
            "text/plain": [
              "<IPython.core.display.Javascript object>"
            ],
            "application/javascript": [
              "download(\"download_65c6e610-db7d-4b59-a90c-045c0a4e1611\", \"feature_importance.png\", 30427)"
            ]
          },
          "metadata": {}
        }
      ]
    },
    {
      "cell_type": "code",
      "source": [
        "'''import pandas as pd\n",
        "import numpy as np\n",
        "import lightgbm as lgb\n",
        "import optuna\n",
        "import mlflow\n",
        "import mlflow.lightgbm\n",
        "from sklearn.model_selection import train_test_split\n",
        "from sklearn.metrics import mean_squared_error, mean_absolute_error, r2_score\n",
        "from mlflow.models.signature import infer_signature\n",
        "\n",
        "# === 1. Feature definitions ===\n",
        "feature_cols = [\n",
        "    'AQI_CO', 'AQI_PM25', 'AQI_NO2', 'AQI_PM10',\n",
        "    'NO2', 'PM25', 'NOX_TO_NO2', 'AQI_OZONE', 'PM10', 'CO',\n",
        "    'Rolling_NO2_mean', 'Rolling_CO_mean', 'Rolling_PM10_mean'\n",
        "]\n",
        "target_col = 'AQI_CPCB'\n",
        "\n",
        "# === 2. Prepare data ===\n",
        "X = df[feature_cols].fillna(df[feature_cols].median())\n",
        "y = df[target_col]\n",
        "data = pd.concat([X, y], axis=1).dropna()\n",
        "X = data[feature_cols]\n",
        "y = data[target_col]\n",
        "\n",
        "X_train, X_val, y_train, y_val = train_test_split(\n",
        "    X, y, test_size=0.2, random_state=42\n",
        ")\n",
        "\n",
        "# === 3. Define Optuna objective ===\n",
        "def objective(trial):\n",
        "    params = {\n",
        "        'objective': 'regression',\n",
        "        'metric': 'rmse',\n",
        "        'verbosity': -1,\n",
        "        'boosting_type': 'gbdt',\n",
        "        'learning_rate': trial.suggest_float('learning_rate', 1e-3, 0.3, log=True),\n",
        "        'num_leaves': trial.suggest_int('num_leaves', 31, 2047),\n",
        "        'max_depth': trial.suggest_int('max_depth', 4, 32),\n",
        "        'min_data_in_leaf': trial.suggest_int('min_data_in_leaf', 10, 100),\n",
        "        'lambda_l1': trial.suggest_float('lambda_l1', 1e-3, 10.0, log=True),\n",
        "        'lambda_l2': trial.suggest_float('lambda_l2', 1e-3, 10.0, log=True),\n",
        "        'feature_fraction': trial.suggest_float('feature_fraction', 0.5, 1.0),\n",
        "        'bagging_fraction': trial.suggest_float('bagging_fraction', 0.5, 1.0),\n",
        "        'bagging_freq': trial.suggest_int('bagging_freq', 1, 10),\n",
        "        'seed': 42\n",
        "    }\n",
        "\n",
        "    with mlflow.start_run(nested=True):\n",
        "        mlflow.log_params(params)\n",
        "\n",
        "        dtrain = lgb.Dataset(X_train, label=y_train)\n",
        "        dvalid = lgb.Dataset(X_val, label=y_val)\n",
        "\n",
        "        model = lgb.train(\n",
        "            params,\n",
        "            dtrain,\n",
        "            valid_sets=[dvalid],\n",
        "            num_boost_round=1000,\n",
        "            callbacks=[\n",
        "                lgb.early_stopping(stopping_rounds=50),\n",
        "                lgb.log_evaluation(period=50)\n",
        "            ]\n",
        "        )\n",
        "\n",
        "        y_pred = model.predict(X_val, num_iteration=model.best_iteration)\n",
        "        rmse = np.sqrt(mean_squared_error(y_val, y_pred))\n",
        "        mae = mean_absolute_error(y_val, y_pred)\n",
        "        r2 = r2_score(y_val, y_pred)\n",
        "        y_val_safe = y_val.replace(0, 1)\n",
        "        mape = np.mean(np.abs((y_val - y_pred) / y_val_safe)) * 100\n",
        "\n",
        "        mlflow.log_metrics({\n",
        "            \"rmse\": rmse,\n",
        "            \"mae\": mae,\n",
        "            \"r2\": r2,\n",
        "            \"mape\": mape\n",
        "        })\n",
        "\n",
        "        return rmse\n",
        "\n",
        "# === 4. Run Optuna Study ===\n",
        "study = optuna.create_study(direction=\"minimize\")\n",
        "with mlflow.start_run(run_name=\"Optuna_LightGBM_Tuning\"):\n",
        "    study.optimize(objective, n_trials=10)\n",
        "\n",
        "    # === 5. Train final model ===\n",
        "    best_params = study.best_params\n",
        "    best_params.update({\n",
        "        'objective': 'regression',\n",
        "        'metric': 'rmse',\n",
        "        'boosting_type': 'gbdt',\n",
        "        'verbosity': -1,\n",
        "        'seed': 42\n",
        "    })\n",
        "\n",
        "    dtrain = lgb.Dataset(X_train, label=y_train)\n",
        "    dvalid = lgb.Dataset(X_val, label=y_val)\n",
        "\n",
        "    best_model = lgb.train(\n",
        "        best_params,\n",
        "        dtrain,\n",
        "        valid_sets=[dvalid],\n",
        "        num_boost_round=1000,\n",
        "        callbacks=[\n",
        "            lgb.early_stopping(stopping_rounds=50),\n",
        "            lgb.log_evaluation(period=50)\n",
        "        ]\n",
        "    )\n",
        "\n",
        "    y_pred = best_model.predict(X_val, num_iteration=best_model.best_iteration)\n",
        "    rmse = np.sqrt(mean_squared_error(y_val, y_pred))\n",
        "    mae = mean_absolute_error(y_val, y_pred)\n",
        "    r2 = r2_score(y_val, y_pred)\n",
        "    y_val_safe = y_val.replace(0, 1)\n",
        "    mape = np.mean(np.abs((y_val - y_pred) / y_val_safe)) * 100\n",
        "\n",
        "    # === 6. Log final results ===\n",
        "    mlflow.log_metrics({\n",
        "        \"final_rmse\": rmse,\n",
        "        \"final_mae\": mae,\n",
        "        \"final_r2\": r2,\n",
        "        \"final_mape\": mape\n",
        "    })\n",
        "\n",
        "    signature = infer_signature(X_val, y_pred)\n",
        "    mlflow.lightgbm.log_model(\n",
        "        best_model,\n",
        "        name=\"model\",  # ✅ new param replaces deprecated artifact_path\n",
        "        signature=signature,\n",
        "        input_example=X_val.head(2)\n",
        "    )\n",
        "\n",
        "# === 7. Output ===\n",
        "print(\"\\n🎯 Best trial results:\")\n",
        "print(f\"Best RMSE: {study.best_value:.4f}\")\n",
        "print(\"Best Parameters:\")\n",
        "for k, v in study.best_params.items():\n",
        "    print(f\"  {k}: {v}\")\n",
        "'''"
      ],
      "metadata": {
        "colab": {
          "base_uri": "https://localhost:8080/",
          "height": 140
        },
        "id": "KhZxko31ka70",
        "outputId": "bc2660e4-8bfd-465b-c1a8-4e85184c49c1"
      },
      "execution_count": 37,
      "outputs": [
        {
          "output_type": "execute_result",
          "data": {
            "text/plain": [
              "'import pandas as pd\\nimport numpy as np\\nimport lightgbm as lgb\\nimport optuna\\nimport mlflow\\nimport mlflow.lightgbm\\nfrom sklearn.model_selection import train_test_split\\nfrom sklearn.metrics import mean_squared_error, mean_absolute_error, r2_score\\nfrom mlflow.models.signature import infer_signature\\n\\n# === 1. Feature definitions ===\\nfeature_cols = [\\n    \\'AQI_CO\\', \\'AQI_PM25\\', \\'AQI_NO2\\', \\'AQI_PM10\\',\\n    \\'NO2\\', \\'PM25\\', \\'NOX_TO_NO2\\', \\'AQI_OZONE\\', \\'PM10\\', \\'CO\\',\\n    \\'Rolling_NO2_mean\\', \\'Rolling_CO_mean\\', \\'Rolling_PM10_mean\\'\\n]\\ntarget_col = \\'AQI_CPCB\\'\\n\\n# === 2. Prepare data ===\\nX = df[feature_cols].fillna(df[feature_cols].median())\\ny = df[target_col]\\ndata = pd.concat([X, y], axis=1).dropna()\\nX = data[feature_cols]\\ny = data[target_col]\\n\\nX_train, X_val, y_train, y_val = train_test_split(\\n    X, y, test_size=0.2, random_state=42\\n)\\n\\n# === 3. Define Optuna objective ===\\ndef objective(trial):\\n    params = {\\n        \\'objective\\': \\'regression\\',\\n        \\'metric\\': \\'rmse\\',\\n        \\'verbosity\\': -1,\\n        \\'boosting_type\\': \\'gbdt\\',\\n        \\'learning_rate\\': trial.suggest_float(\\'learning_rate\\', 1e-3, 0.3, log=True),\\n        \\'num_leaves\\': trial.suggest_int(\\'num_leaves\\', 31, 2047),\\n        \\'max_depth\\': trial.suggest_int(\\'max_depth\\', 4, 32),\\n        \\'min_data_in_leaf\\': trial.suggest_int(\\'min_data_in_leaf\\', 10, 100),\\n        \\'lambda_l1\\': trial.suggest_float(\\'lambda_l1\\', 1e-3, 10.0, log=True),\\n        \\'lambda_l2\\': trial.suggest_float(\\'lambda_l2\\', 1e-3, 10.0, log=True),\\n        \\'feature_fraction\\': trial.suggest_float(\\'feature_fraction\\', 0.5, 1.0),\\n        \\'bagging_fraction\\': trial.suggest_float(\\'bagging_fraction\\', 0.5, 1.0),\\n        \\'bagging_freq\\': trial.suggest_int(\\'bagging_freq\\', 1, 10),\\n        \\'seed\\': 42\\n    }\\n\\n    with mlflow.start_run(nested=True):\\n        mlflow.log_params(params)\\n\\n        dtrain = lgb.Dataset(X_train, label=y_train)\\n        dvalid = lgb.Dataset(X_val, label=y_val)\\n\\n        model = lgb.train(\\n            params,\\n            dtrain,\\n            valid_sets=[dvalid],\\n            num_boost_round=1000,\\n            callbacks=[\\n                lgb.early_stopping(stopping_rounds=50),\\n                lgb.log_evaluation(period=50)\\n            ]\\n        )\\n\\n        y_pred = model.predict(X_val, num_iteration=model.best_iteration)\\n        rmse = np.sqrt(mean_squared_error(y_val, y_pred))\\n        mae = mean_absolute_error(y_val, y_pred)\\n        r2 = r2_score(y_val, y_pred)\\n        y_val_safe = y_val.replace(0, 1)\\n        mape = np.mean(np.abs((y_val - y_pred) / y_val_safe)) * 100\\n\\n        mlflow.log_metrics({\\n            \"rmse\": rmse,\\n            \"mae\": mae,\\n            \"r2\": r2,\\n            \"mape\": mape\\n        })\\n\\n        return rmse\\n\\n# === 4. Run Optuna Study ===\\nstudy = optuna.create_study(direction=\"minimize\")\\nwith mlflow.start_run(run_name=\"Optuna_LightGBM_Tuning\"):\\n    study.optimize(objective, n_trials=10)\\n\\n    # === 5. Train final model ===\\n    best_params = study.best_params\\n    best_params.update({\\n        \\'objective\\': \\'regression\\',\\n        \\'metric\\': \\'rmse\\',\\n        \\'boosting_type\\': \\'gbdt\\',\\n        \\'verbosity\\': -1,\\n        \\'seed\\': 42\\n    })\\n\\n    dtrain = lgb.Dataset(X_train, label=y_train)\\n    dvalid = lgb.Dataset(X_val, label=y_val)\\n\\n    best_model = lgb.train(\\n        best_params,\\n        dtrain,\\n        valid_sets=[dvalid],\\n        num_boost_round=1000,\\n        callbacks=[\\n            lgb.early_stopping(stopping_rounds=50),\\n            lgb.log_evaluation(period=50)\\n        ]\\n    )\\n\\n    y_pred = best_model.predict(X_val, num_iteration=best_model.best_iteration)\\n    rmse = np.sqrt(mean_squared_error(y_val, y_pred))\\n    mae = mean_absolute_error(y_val, y_pred)\\n    r2 = r2_score(y_val, y_pred)\\n    y_val_safe = y_val.replace(0, 1)\\n    mape = np.mean(np.abs((y_val - y_pred) / y_val_safe)) * 100\\n\\n    # === 6. Log final results ===\\n    mlflow.log_metrics({\\n        \"final_rmse\": rmse,\\n        \"final_mae\": mae,\\n        \"final_r2\": r2,\\n        \"final_mape\": mape\\n    })\\n\\n    signature = infer_signature(X_val, y_pred)\\n    mlflow.lightgbm.log_model(\\n        best_model,\\n        name=\"model\",  # ✅ new param replaces deprecated artifact_path\\n        signature=signature,\\n        input_example=X_val.head(2)\\n    )\\n\\n# === 7. Output ===\\nprint(\"\\n🎯 Best trial results:\")\\nprint(f\"Best RMSE: {study.best_value:.4f}\")\\nprint(\"Best Parameters:\")\\nfor k, v in study.best_params.items():\\n    print(f\"  {k}: {v}\")\\n'"
            ],
            "application/vnd.google.colaboratory.intrinsic+json": {
              "type": "string"
            }
          },
          "metadata": {},
          "execution_count": 37
        }
      ]
    },
    {
      "cell_type": "code",
      "source": [
        "import pandas as pd\n",
        "import numpy as np\n",
        "import lightgbm as lgb\n",
        "import mlflow\n",
        "import mlflow.lightgbm\n",
        "from sklearn.metrics import mean_squared_error, mean_absolute_error, r2_score\n",
        "from mlflow.models.signature import infer_signature\n",
        "import joblib\n",
        "\n",
        "# === 1. Load the trained model ===\n",
        "model = joblib.load(\"lgb_regressor.pkl\")  # Make sure this path is correct\n",
        "\n",
        "# === 2. Reuse data and best params ===\n",
        "best_params = {\n",
        "    'learning_rate': 0.019441889009495675,\n",
        "    'num_leaves': 843,\n",
        "    'max_depth': 23,\n",
        "    'min_data_in_leaf': 57,\n",
        "    'lambda_l1': 0.34764957462656026,\n",
        "    'lambda_l2': 0.025683287618678004,\n",
        "    'feature_fraction': 0.82725183139095,\n",
        "    'bagging_fraction': 0.5656402337445862,\n",
        "    'bagging_freq': 9,\n",
        "    'objective': 'regression',\n",
        "    'metric': 'rmse',\n",
        "    'boosting_type': 'gbdt',\n",
        "    'verbosity': -1,\n",
        "    'seed': 42\n",
        "}\n",
        "\n",
        "# === 3. Ensure X_val and y_val are prepared ===\n",
        "# If not already done:\n",
        "# X_val = df[feature_cols].fillna(...); y_val = df[target_col]\n",
        "\n",
        "# === 4. Predict and evaluate ===\n",
        "y_pred = model.predict(X_val)\n",
        "y_val_safe = y_val.replace(0, 1)\n",
        "\n",
        "rmse = np.sqrt(mean_squared_error(y_val, y_pred))\n",
        "mae = mean_absolute_error(y_val, y_pred)\n",
        "r2 = r2_score(y_val, y_pred)\n",
        "mape = np.mean(np.abs((y_val - y_pred) / y_val_safe)) * 100\n",
        "\n",
        "# === 5. Log everything to MLflow ===\n",
        "with mlflow.start_run(run_name=\"Log_Pretrained_LGBM_Joblib\"):\n",
        "    mlflow.log_params(best_params)\n",
        "    mlflow.log_metrics({\n",
        "        \"RMSE\": rmse,\n",
        "        \"MAE\": mae,\n",
        "        \"R2\": r2,\n",
        "        \"MAPE\": mape\n",
        "    })\n",
        "\n",
        "    signature = infer_signature(X_val, y_pred)\n",
        "\n",
        "    mlflow.lightgbm.log_model(\n",
        "        lgb_model=model,\n",
        "        name=\"model\",\n",
        "        input_example=X_val.head(2),\n",
        "        signature=signature,\n",
        "        registered_model_name=\"LGBM_Regressor_Optuna\"\n",
        "    )\n",
        "\n",
        "print(\"✅ Model and metrics logged to MLflow successfully.\")\n"
      ],
      "metadata": {
        "colab": {
          "base_uri": "https://localhost:8080/"
        },
        "id": "bAenwYbFkbAP",
        "outputId": "2c034001-34de-46a5-f94e-39dae85167a6"
      },
      "execution_count": 40,
      "outputs": [
        {
          "output_type": "stream",
          "name": "stdout",
          "text": [
            "✅ Model and metrics logged to MLflow successfully.\n"
          ]
        },
        {
          "output_type": "stream",
          "name": "stderr",
          "text": [
            "Successfully registered model 'LGBM_Regressor_Optuna'.\n",
            "Created version '1' of model 'LGBM_Regressor_Optuna'.\n"
          ]
        }
      ]
    },
    {
      "cell_type": "code",
      "source": [
        "# Check unique categories and their counts\n",
        "print(\"Unique AQI categories and counts:\")\n",
        "print(df['AQI_Category'].value_counts(dropna=False))\n",
        "\n",
        "# Check for null values\n",
        "null_count = df['AQI_Category'].isnull().sum()\n",
        "print(f\"\\nNumber of null values in AQI_Category: {null_count}\")\n",
        "\n",
        "# Basic info about the column\n",
        "print(f\"\\nTotal rows in AQI_Category column: {len(df['AQI_Category'])}\")\n",
        "print(f\"Non-null rows: {df['AQI_Category'].notnull().sum()}\")\n"
      ],
      "metadata": {
        "colab": {
          "base_uri": "https://localhost:8080/"
        },
        "id": "Qm46NUPckbCq",
        "outputId": "b11cef94-8063-4769-c946-6cc6b0966c52"
      },
      "execution_count": 41,
      "outputs": [
        {
          "output_type": "stream",
          "name": "stdout",
          "text": [
            "Unique AQI categories and counts:\n",
            "AQI_Category\n",
            "Good            702353\n",
            "Satisfactory    395049\n",
            "Moderate        176300\n",
            "Poor             24184\n",
            "Very Poor        20623\n",
            "Severe           13550\n",
            "Name: count, dtype: int64\n",
            "\n",
            "Number of null values in AQI_Category: 0\n",
            "\n",
            "Total rows in AQI_Category column: 1332059\n",
            "Non-null rows: 1332059\n"
          ]
        }
      ]
    },
    {
      "cell_type": "code",
      "source": [
        "import pandas as pd\n",
        "import numpy as np\n",
        "import lightgbm as lgb\n",
        "import mlflow\n",
        "import mlflow.lightgbm\n",
        "import joblib\n",
        "from sklearn.model_selection import train_test_split\n",
        "from sklearn.preprocessing import LabelEncoder\n",
        "from sklearn.metrics import accuracy_score, classification_report, confusion_matrix\n",
        "from mlflow.models.signature import infer_signature\n",
        "\n",
        "# === 1. Feature and Target Columns ===\n",
        "feature_cols = [\n",
        "    'AQI_CO', 'AQI_PM25', 'AQI_NO2', 'AQI_PM10',\n",
        "    'NO2', 'PM25', 'NOX_TO_NO2', 'AQI_OZONE', 'PM10', 'CO',\n",
        "    'Rolling_NO2_mean', 'Rolling_CO_mean', 'Rolling_PM10_mean'\n",
        "]\n",
        "target_col = 'AQI_Category'\n",
        "\n",
        "# === 2. Prepare Dataset ===\n",
        "X = df[feature_cols].fillna(df[feature_cols].median())\n",
        "y = df[target_col]\n",
        "\n",
        "# Drop missing values\n",
        "data = pd.concat([X, y], axis=1).dropna()\n",
        "X = data[feature_cols]\n",
        "y = data[target_col]\n",
        "\n",
        "# === 3. Encode Target Labels ===\n",
        "le = LabelEncoder()\n",
        "y_encoded = le.fit_transform(y)  # Encode to numeric\n",
        "\n",
        "# === 4. Train-Test Split ===\n",
        "X_train, X_val, y_train, y_val = train_test_split(\n",
        "    X, y_encoded, test_size=0.2, random_state=42, stratify=y_encoded\n",
        ")\n",
        "\n",
        "# === 5. LightGBM Datasets ===\n",
        "train_data = lgb.Dataset(X_train, label=y_train)\n",
        "val_data = lgb.Dataset(X_val, label=y_val)\n",
        "\n",
        "# === 6. LightGBM Parameters ===\n",
        "params = {\n",
        "    'objective': 'multiclass',\n",
        "    'num_class': len(le.classes_),\n",
        "    'metric': 'multi_logloss',\n",
        "    'verbosity': -1,\n",
        "    'boosting_type': 'gbdt',\n",
        "    'seed': 42\n",
        "}\n",
        "\n",
        "# === 7. MLflow Tracking ===\n",
        "with mlflow.start_run(run_name=\"LGBM_Classifier_Encoded\"):\n",
        "    mlflow.log_params(params)\n",
        "\n",
        "    # Train model\n",
        "    model = lgb.train(\n",
        "        params,\n",
        "        train_data,\n",
        "        valid_sets=[val_data],\n",
        "        num_boost_round=1000,\n",
        "        callbacks=[\n",
        "            lgb.early_stopping(stopping_rounds=50),\n",
        "            lgb.log_evaluation(period=20)\n",
        "        ]\n",
        "    )\n",
        "\n",
        "    # === 8. Predictions and Evaluation ===\n",
        "    y_pred_probs = model.predict(X_val, num_iteration=model.best_iteration)\n",
        "    y_pred = np.argmax(y_pred_probs, axis=1)\n",
        "\n",
        "    accuracy = accuracy_score(y_val, y_pred)\n",
        "    report = classification_report(y_val, y_pred, target_names=le.classes_)\n",
        "    cmatrix = confusion_matrix(y_val, y_pred)\n",
        "\n",
        "    mlflow.log_metric(\"accuracy\", accuracy)\n",
        "\n",
        "    print(\"\\n✅ Classification Metrics:\")\n",
        "    print(f\"Accuracy: {accuracy:.4f}\")\n",
        "    print(\"\\nClassification Report:\\n\", report)\n",
        "    print(\"\\nConfusion Matrix:\\n\", cmatrix)\n",
        "\n",
        "    # === 9. Save Label Encoder ===\n",
        "    joblib.dump(le, \"label_encoder.pkl\")\n",
        "    print(\"📦 Saved: label_encoder.pkl\")\n",
        "\n",
        "    # === 10. MLflow Model Logging ===\n",
        "    input_example = X_val.head(2)\n",
        "    signature = infer_signature(X_val, y_pred_probs)\n",
        "\n",
        "    mlflow.lightgbm.log_model(\n",
        "        model,\n",
        "        name=\"classifier\",\n",
        "        input_example=input_example,\n",
        "        signature=signature\n",
        "    )\n",
        "\n",
        "    # === 11. Save model manually as classifier.pkl ===\n",
        "    model.save_model(\"classifier.pkl\")\n",
        "    print(\"✅ Model saved as: classifier.pkl\")\n"
      ],
      "metadata": {
        "colab": {
          "base_uri": "https://localhost:8080/"
        },
        "id": "xVjOPjF1kbFV",
        "outputId": "ec9fbba2-918f-44d8-af99-7198b8ebbe77"
      },
      "execution_count": 43,
      "outputs": [
        {
          "output_type": "stream",
          "name": "stdout",
          "text": [
            "Training until validation scores don't improve for 50 rounds\n",
            "[20]\tvalid_0's multi_logloss: 0.0640787\n",
            "[40]\tvalid_0's multi_logloss: 0.0403925\n",
            "[60]\tvalid_0's multi_logloss: 0.0378708\n",
            "[80]\tvalid_0's multi_logloss: 0.0541655\n",
            "[100]\tvalid_0's multi_logloss: 0.0664285\n",
            "Early stopping, best iteration is:\n",
            "[60]\tvalid_0's multi_logloss: 0.0378708\n",
            "\n",
            "✅ Classification Metrics:\n",
            "Accuracy: 0.9893\n",
            "\n",
            "Classification Report:\n",
            "               precision    recall  f1-score   support\n",
            "\n",
            "        Good       0.99      1.00      0.99    140471\n",
            "    Moderate       0.99      0.97      0.98     35260\n",
            "        Poor       0.97      0.93      0.95      4837\n",
            "Satisfactory       0.99      0.99      0.99     79010\n",
            "      Severe       0.98      0.98      0.98      2710\n",
            "   Very Poor       0.97      0.97      0.97      4124\n",
            "\n",
            "    accuracy                           0.99    266412\n",
            "   macro avg       0.98      0.97      0.98    266412\n",
            "weighted avg       0.99      0.99      0.99    266412\n",
            "\n",
            "\n",
            "Confusion Matrix:\n",
            " [[140325     64      0     82      0      0]\n",
            " [   635  34169     70    381      0      5]\n",
            " [     0    257   4522      0      1     57]\n",
            " [   978    154      0  77878      0      0]\n",
            " [     0      0      6      0   2647     57]\n",
            " [     0     10     61      0     44   4009]]\n",
            "📦 Saved: label_encoder.pkl\n",
            "✅ Model saved as: classifier.pkl\n"
          ]
        }
      ]
    },
    {
      "cell_type": "code",
      "source": [
        "import mlflow\n",
        "from mlflow.tracking import MlflowClient\n",
        "from datetime import datetime\n",
        "\n",
        "# ✅ Set tracking URI to local (change path if needed)\n",
        "mlflow.set_tracking_uri(\"file:///content/mlruns\")  # Use a valid path in your environment\n",
        "\n",
        "# ✅ Confirm current URI\n",
        "print(\"📍 MLflow tracking URI:\", mlflow.get_tracking_uri())\n",
        "\n",
        "# ✅ Initialize client\n",
        "client = MlflowClient()\n",
        "\n",
        "# ✅ List all experiments\n",
        "experiments = client.search_experiments()\n",
        "print(\"\\n📊 Available Experiments:\")\n",
        "for exp in experiments:\n",
        "    print(f\"  • ID: {exp.experiment_id} | Name: '{exp.name}'\")\n",
        "\n",
        "# ✅ Function to print latest run from any experiment\n",
        "def print_latest_mlflow_run(experiment_name=\"Default\"):\n",
        "    experiment = client.get_experiment_by_name(experiment_name)\n",
        "\n",
        "    if experiment is None:\n",
        "        print(f\"❌ No experiment named '{experiment_name}' found.\")\n",
        "        return\n",
        "\n",
        "    runs = client.search_runs(\n",
        "        experiment_ids=[experiment.experiment_id],\n",
        "        order_by=[\"start_time DESC\"],\n",
        "        max_results=1\n",
        "    )\n",
        "\n",
        "    if not runs:\n",
        "        print(f\"❌ No runs found in the '{experiment_name}' experiment.\")\n",
        "        return\n",
        "\n",
        "    latest_run = runs[0]\n",
        "    print(f\"\\n🔍 Experiment Name: {experiment.name}\")\n",
        "    print(f\"📦 Latest Run ID: {latest_run.info.run_id}\")\n",
        "\n",
        "    print(\"\\n✅ Metrics:\")\n",
        "    for key, value in latest_run.data.metrics.items():\n",
        "        print(f\"  {key} : {value:.4f}\")\n",
        "\n",
        "    print(\"\\n✅ Parameters:\")\n",
        "    for key, value in latest_run.data.params.items():\n",
        "        print(f\"  {key} : {value}\")\n",
        "\n",
        "    start = datetime.fromtimestamp(latest_run.info.start_time / 1000)\n",
        "    print(\"🕒 Started at:\", start.strftime('%Y-%m-%d %H:%M:%S'))\n",
        "\n",
        "# ✅ Call the function (change experiment name if needed)\n",
        "print_latest_mlflow_run(\"Default\")  # or your experiment name\n"
      ],
      "metadata": {
        "colab": {
          "base_uri": "https://localhost:8080/"
        },
        "id": "Q04_XF49kbl-",
        "outputId": "996b62d9-8276-435d-fb02-33ef2a4f26b3"
      },
      "execution_count": 48,
      "outputs": [
        {
          "output_type": "stream",
          "name": "stdout",
          "text": [
            "📍 MLflow tracking URI: file:///content/mlruns\n",
            "\n",
            "📊 Available Experiments:\n",
            "  • ID: 516643929774059229 | Name: 'AQI_LightGBM_Model'\n",
            "  • ID: 603149180463396499 | Name: 'AQI_LSTM_Model'\n",
            "  • ID: 939229030347799963 | Name: 'LSTM_AQI_Prediction'\n",
            "  • ID: 829514681297761088 | Name: 'AQI_Prediction'\n",
            "  • ID: 0 | Name: 'Default'\n",
            "❌ No runs found in the 'Default' experiment.\n"
          ]
        }
      ]
    },
    {
      "cell_type": "code",
      "source": [
        "print_latest_mlflow_run(\"AQI_Prediction\")\n"
      ],
      "metadata": {
        "colab": {
          "base_uri": "https://localhost:8080/"
        },
        "id": "8p1TrD1ny4JV",
        "outputId": "9123e330-3c45-4ad0-caa2-0f2125c08b39"
      },
      "execution_count": 50,
      "outputs": [
        {
          "output_type": "stream",
          "name": "stdout",
          "text": [
            "\n",
            "🔍 Experiment Name: AQI_Prediction\n",
            "📦 Latest Run ID: 64d0371bd5694b88abd9b05ad6799106\n",
            "\n",
            "✅ Metrics:\n",
            "  rmse : 13.9860\n",
            "\n",
            "✅ Parameters:\n",
            "  sampling_method : None\n",
            "  device : None\n",
            "  max_delta_step : None\n",
            "  feature_types : None\n",
            "  enable_categorical : False\n",
            "  eval_metric : None\n",
            "  max_bin : None\n",
            "  booster : None\n",
            "  verbosity : None\n",
            "  n_jobs : None\n",
            "  colsample_bylevel : None\n",
            "  num_parallel_tree : None\n",
            "  max_cat_to_onehot : None\n",
            "  n_estimators : 100\n",
            "  callbacks : None\n",
            "  feature_weights : None\n",
            "  subsample : None\n",
            "  importance_type : None\n",
            "  validate_parameters : None\n",
            "  missing : nan\n",
            "  base_score : None\n",
            "  max_leaves : None\n",
            "  scale_pos_weight : None\n",
            "  reg_alpha : None\n",
            "  tree_method : None\n",
            "  objective : reg:squarederror\n",
            "  max_cat_threshold : None\n",
            "  multi_strategy : None\n",
            "  interaction_constraints : None\n",
            "  min_child_weight : None\n",
            "  gamma : None\n",
            "  grow_policy : None\n",
            "  max_depth : 5\n",
            "  colsample_bynode : None\n",
            "  monotone_constraints : None\n",
            "  colsample_bytree : None\n",
            "  early_stopping_rounds : None\n",
            "  learning_rate : 0.1\n",
            "  random_state : 42\n",
            "  reg_lambda : None\n",
            "🕒 Started at: 2025-07-23 18:53:09\n"
          ]
        }
      ]
    },
    {
      "cell_type": "code",
      "source": [
        "print_latest_mlflow_run(\"AQI_LSTM_Model\")\n"
      ],
      "metadata": {
        "colab": {
          "base_uri": "https://localhost:8080/"
        },
        "id": "UGhX-gnYy4N-",
        "outputId": "e76a0bef-385d-4658-c024-5fb7c457b5b5"
      },
      "execution_count": 51,
      "outputs": [
        {
          "output_type": "stream",
          "name": "stdout",
          "text": [
            "\n",
            "🔍 Experiment Name: AQI_LSTM_Model\n",
            "📦 Latest Run ID: be9bfd7a90a5437fa47a22d6fbd2b19f\n",
            "\n",
            "✅ Metrics:\n",
            "  RMSE : 0.1096\n",
            "  MSE : 0.0120\n",
            "\n",
            "✅ Parameters:\n",
            "  features_used : PM25,CO,PM10,NO2,OZONE,SO2\n",
            "  sequence_length : 24\n",
            "🕒 Started at: 2025-07-23 19:08:47\n"
          ]
        }
      ]
    },
    {
      "cell_type": "code",
      "source": [
        "# Try one by one:\n",
        "print_latest_mlflow_run(\"LSTM_AQI_Prediction\")\n",
        "print_latest_mlflow_run(\"AQI_LightGBM_Model\")\n"
      ],
      "metadata": {
        "colab": {
          "base_uri": "https://localhost:8080/"
        },
        "id": "4vj8Qg7o1J6L",
        "outputId": "732c05b9-00c0-4925-aad2-c04c8580bb0e"
      },
      "execution_count": 52,
      "outputs": [
        {
          "output_type": "stream",
          "name": "stdout",
          "text": [
            "\n",
            "🔍 Experiment Name: LSTM_AQI_Prediction\n",
            "📦 Latest Run ID: 043eefa7bed3468a93af93e184533d5a\n",
            "\n",
            "✅ Metrics:\n",
            "  RMSE : 0.1096\n",
            "  MSE : 0.0120\n",
            "\n",
            "✅ Parameters:\n",
            "  Model Type : LSTM\n",
            "  Features Used : PM25, CO, PM10, NO2, OZONE, SO2\n",
            "  Epochs : 10\n",
            "  Target : AQI_CPCB\n",
            "  Sequence Length : 24\n",
            "  Batch Size : 32\n",
            "🕒 Started at: 2025-07-23 18:57:49\n",
            "\n",
            "🔍 Experiment Name: AQI_LightGBM_Model\n",
            "📦 Latest Run ID: 949d2d215bdb43c6bee2f68cb6df387e\n",
            "\n",
            "✅ Metrics:\n",
            "  accuracy : 0.9893\n",
            "\n",
            "✅ Parameters:\n",
            "  boosting_type : gbdt\n",
            "  verbosity : -1\n",
            "  seed : 42\n",
            "  num_class : 6\n",
            "  objective : multiclass\n",
            "  metric : multi_logloss\n",
            "🕒 Started at: 2025-07-23 19:35:11\n"
          ]
        }
      ]
    },
    {
      "cell_type": "code",
      "source": [
        "from mlflow.tracking import MlflowClient\n",
        "\n",
        "def list_artifacts_from_latest_run(experiment_name=\"Default\"):\n",
        "    client = MlflowClient()\n",
        "    experiment = client.get_experiment_by_name(experiment_name)\n",
        "\n",
        "    if experiment is None:\n",
        "        print(f\"❌ No experiment named '{experiment_name}' found.\")\n",
        "        return\n",
        "\n",
        "    runs = client.search_runs(\n",
        "        experiment_ids=[experiment.experiment_id],\n",
        "        order_by=[\"start_time DESC\"],\n",
        "        max_results=1\n",
        "    )\n",
        "\n",
        "    if not runs:\n",
        "        print(f\"❌ No runs found in the '{experiment_name}' experiment.\")\n",
        "        return\n",
        "\n",
        "    latest_run = runs[0]\n",
        "    run_id = latest_run.info.run_id\n",
        "    print(f\"📦 Latest run ID: {run_id}\")\n",
        "\n",
        "    # List root artifacts\n",
        "    artifacts = client.list_artifacts(run_id)\n",
        "    if not artifacts:\n",
        "        print(\"📂 No artifacts logged in this run.\")\n",
        "    else:\n",
        "        print(f\"\\n📂 Artifacts in run '{run_id}':\")\n",
        "        for item in artifacts:\n",
        "            print(f\"📁 {item.path} ({item.file_size} bytes)\")\n",
        "\n",
        "# Example: Run it for your LSTM experiment\n",
        "list_artifacts_from_latest_run(\"AQI_LSTM_Model\")\n"
      ],
      "metadata": {
        "colab": {
          "base_uri": "https://localhost:8080/"
        },
        "id": "Xsdqu6oD1KE4",
        "outputId": "6e5deb02-f8b5-4094-dd23-7c6f258b6bf6"
      },
      "execution_count": 53,
      "outputs": [
        {
          "output_type": "stream",
          "name": "stdout",
          "text": [
            "📦 Latest run ID: be9bfd7a90a5437fa47a22d6fbd2b19f\n",
            "📂 No artifacts logged in this run.\n"
          ]
        }
      ]
    },
    {
      "cell_type": "code",
      "source": [
        "from mlflow.tracking import MlflowClient\n",
        "from datetime import datetime\n",
        "import pandas as pd\n",
        "\n",
        "def display_latest_runs_as_table(experiment_names):\n",
        "    client = MlflowClient()\n",
        "\n",
        "    rows = []\n",
        "    for exp_name in experiment_names:\n",
        "        experiment = client.get_experiment_by_name(exp_name)\n",
        "        if experiment is None:\n",
        "            print(f\"❌ No experiment named '{exp_name}' found.\\n\")\n",
        "            continue\n",
        "\n",
        "        runs = client.search_runs(\n",
        "            experiment_ids=[experiment.experiment_id],\n",
        "            order_by=[\"start_time DESC\"],\n",
        "            max_results=1\n",
        "        )\n",
        "\n",
        "        if not runs:\n",
        "            print(f\"❌ No runs found in the '{exp_name}' experiment.\\n\")\n",
        "            continue\n",
        "\n",
        "        run = runs[0]\n",
        "        run_id = run.info.run_id\n",
        "        start_time = datetime.fromtimestamp(run.info.start_time / 1000).strftime('%Y-%m-%d %H:%M:%S')\n",
        "\n",
        "        row = {\n",
        "            \"Experiment Name\": exp_name,\n",
        "            \"Run ID\": run_id,\n",
        "            \"Start Time\": start_time\n",
        "        }\n",
        "\n",
        "        # Add metrics\n",
        "        for key, value in run.data.metrics.items():\n",
        "            row[f\"Metric - {key}\"] = round(value, 4)\n",
        "\n",
        "        # Add parameters\n",
        "        for key, value in run.data.params.items():\n",
        "            row[f\"Param - {key}\"] = value\n",
        "\n",
        "        rows.append(row)\n",
        "\n",
        "    if rows:\n",
        "        df = pd.DataFrame(rows)\n",
        "        pd.set_option('display.max_columns', None)  # Show all columns\n",
        "        print(\"\\n📊 Latest MLflow Runs:\")\n",
        "        print(df.to_string(index=False))\n",
        "    else:\n",
        "        print(\"❌ No valid runs found.\")\n",
        "\n",
        "# 🔍 Use it like this\n",
        "experiments_to_check = [\"LSTM_AQI_Prediction\", \"AQI_LightGBM_Model\", \"AQI_LSTM_Model\", \"AQI_Prediction\"]\n",
        "display_latest_runs_as_table(experiments_to_check)\n"
      ],
      "metadata": {
        "colab": {
          "base_uri": "https://localhost:8080/"
        },
        "id": "1dxLkk8H2QBw",
        "outputId": "0281925b-dec2-4a18-889d-92762c29004d"
      },
      "execution_count": 58,
      "outputs": [
        {
          "output_type": "stream",
          "name": "stdout",
          "text": [
            "\n",
            "📊 Latest MLflow Runs:\n",
            "    Experiment Name                           Run ID          Start Time  Metric - RMSE  Metric - MSE Param - Model Type           Param - Features Used Param - Epochs Param - Target Param - Sequence Length Param - Batch Size  Metric - accuracy Param - boosting_type Param - verbosity Param - seed Param - num_class Param - objective Param - metric      Param - features_used Param - sequence_length  Metric - rmse Param - sampling_method Param - device Param - max_delta_step Param - feature_types Param - enable_categorical Param - eval_metric Param - max_bin Param - booster Param - n_jobs Param - colsample_bylevel Param - num_parallel_tree Param - max_cat_to_onehot Param - n_estimators Param - callbacks Param - feature_weights Param - subsample Param - importance_type Param - validate_parameters Param - missing Param - base_score Param - max_leaves Param - scale_pos_weight Param - reg_alpha Param - tree_method Param - max_cat_threshold Param - multi_strategy Param - interaction_constraints Param - min_child_weight Param - gamma Param - grow_policy Param - max_depth Param - colsample_bynode Param - monotone_constraints Param - colsample_bytree Param - early_stopping_rounds Param - learning_rate Param - random_state Param - reg_lambda\n",
            "LSTM_AQI_Prediction 043eefa7bed3468a93af93e184533d5a 2025-07-23 18:57:49         0.1096         0.012               LSTM PM25, CO, PM10, NO2, OZONE, SO2             10       AQI_CPCB                      24                 32                NaN                   NaN               NaN          NaN               NaN               NaN            NaN                        NaN                     NaN            NaN                     NaN            NaN                    NaN                   NaN                        NaN                 NaN             NaN             NaN            NaN                       NaN                       NaN                       NaN                  NaN               NaN                     NaN               NaN                     NaN                         NaN             NaN                NaN                NaN                      NaN               NaN                 NaN                       NaN                    NaN                             NaN                      NaN           NaN                 NaN               NaN                      NaN                          NaN                      NaN                           NaN                   NaN                  NaN                NaN\n",
            " AQI_LightGBM_Model 949d2d215bdb43c6bee2f68cb6df387e 2025-07-23 19:35:11            NaN           NaN                NaN                             NaN            NaN            NaN                     NaN                NaN             0.9893                  gbdt                -1           42                 6        multiclass  multi_logloss                        NaN                     NaN            NaN                     NaN            NaN                    NaN                   NaN                        NaN                 NaN             NaN             NaN            NaN                       NaN                       NaN                       NaN                  NaN               NaN                     NaN               NaN                     NaN                         NaN             NaN                NaN                NaN                      NaN               NaN                 NaN                       NaN                    NaN                             NaN                      NaN           NaN                 NaN               NaN                      NaN                          NaN                      NaN                           NaN                   NaN                  NaN                NaN\n",
            "     AQI_LSTM_Model be9bfd7a90a5437fa47a22d6fbd2b19f 2025-07-23 19:08:47         0.1096         0.012                NaN                             NaN            NaN            NaN                     NaN                NaN                NaN                   NaN               NaN          NaN               NaN               NaN            NaN PM25,CO,PM10,NO2,OZONE,SO2                      24            NaN                     NaN            NaN                    NaN                   NaN                        NaN                 NaN             NaN             NaN            NaN                       NaN                       NaN                       NaN                  NaN               NaN                     NaN               NaN                     NaN                         NaN             NaN                NaN                NaN                      NaN               NaN                 NaN                       NaN                    NaN                             NaN                      NaN           NaN                 NaN               NaN                      NaN                          NaN                      NaN                           NaN                   NaN                  NaN                NaN\n",
            "     AQI_Prediction 64d0371bd5694b88abd9b05ad6799106 2025-07-23 18:53:09            NaN           NaN                NaN                             NaN            NaN            NaN                     NaN                NaN                NaN                   NaN              None          NaN               NaN  reg:squarederror            NaN                        NaN                     NaN         13.986                    None           None                   None                  None                      False                None            None            None           None                      None                      None                      None                  100              None                    None              None                    None                        None             nan               None               None                     None              None                None                      None                   None                            None                     None          None                None                 5                     None                         None                     None                          None                   0.1                   42               None\n"
          ]
        }
      ]
    },
    {
      "cell_type": "code",
      "source": [
        "from mlflow.tracking import MlflowClient\n",
        "from datetime import datetime\n",
        "import pandas as pd\n",
        "\n",
        "def display_minimal_mlflow_table(experiment_names):\n",
        "    client = MlflowClient()\n",
        "    rows = []\n",
        "\n",
        "    for exp_name in experiment_names:\n",
        "        experiment = client.get_experiment_by_name(exp_name)\n",
        "        if not experiment:\n",
        "            continue\n",
        "\n",
        "        runs = client.search_runs(\n",
        "            experiment_ids=[experiment.experiment_id],\n",
        "            order_by=[\"start_time DESC\"],\n",
        "            max_results=1\n",
        "        )\n",
        "\n",
        "        if not runs:\n",
        "            continue\n",
        "\n",
        "        run = runs[0]\n",
        "        start_time = datetime.fromtimestamp(run.info.start_time / 1000).strftime('%Y-%m-%d %H:%M:%S')\n",
        "\n",
        "        row = {\n",
        "            \"Experiment\": exp_name,\n",
        "            \"Run ID\": run.info.run_id,\n",
        "            \"Start Time\": start_time\n",
        "        }\n",
        "\n",
        "        # Minimal Metrics\n",
        "        for key in [\"RMSE\", \"MSE\", \"accuracy\"]:\n",
        "            if key in run.data.metrics:\n",
        "                row[key] = round(run.data.metrics[key], 4)\n",
        "\n",
        "        # Minimal Params\n",
        "        for key in [\"Model Type\", \"Features Used\", \"Target\", \"Epochs\", \"Sequence Length\", \"Batch Size\",\n",
        "                    \"boosting_type\", \"objective\", \"metric\", \"num_class\"]:\n",
        "            if key in run.data.params:\n",
        "                row[key] = run.data.params[key]\n",
        "\n",
        "        rows.append(row)\n",
        "\n",
        "    # Create minimal DataFrame\n",
        "    df = pd.DataFrame(rows)\n",
        "    pd.set_option('display.max_columns', None)\n",
        "    print(\"\\n📊 Minimal MLflow Summary:\")\n",
        "    print(df.to_string(index=False))\n",
        "\n",
        "    return df\n"
      ],
      "metadata": {
        "id": "FzqPeTTG2QK7"
      },
      "execution_count": 59,
      "outputs": []
    },
    {
      "cell_type": "code",
      "source": [
        "experiments = [\n",
        "    \"LSTM_AQI_Prediction\",\n",
        "    \"AQI_LightGBM_Model\",\n",
        "    \"AQI_LSTM_Model\",\n",
        "    \"AQI_Prediction\"\n",
        "]\n",
        "\n",
        "minimal_df = display_minimal_mlflow_table(experiments)\n"
      ],
      "metadata": {
        "colab": {
          "base_uri": "https://localhost:8080/"
        },
        "id": "4SfMNl_s20-e",
        "outputId": "a1cb1261-0846-4ce3-fbb8-bf19a89fff20"
      },
      "execution_count": 60,
      "outputs": [
        {
          "output_type": "stream",
          "name": "stdout",
          "text": [
            "\n",
            "📊 Minimal MLflow Summary:\n",
            "         Experiment                           Run ID          Start Time   RMSE   MSE Model Type                   Features Used   Target Epochs Sequence Length Batch Size  accuracy boosting_type        objective        metric num_class\n",
            "LSTM_AQI_Prediction 043eefa7bed3468a93af93e184533d5a 2025-07-23 18:57:49 0.1096 0.012       LSTM PM25, CO, PM10, NO2, OZONE, SO2 AQI_CPCB     10              24         32       NaN           NaN              NaN           NaN       NaN\n",
            " AQI_LightGBM_Model 949d2d215bdb43c6bee2f68cb6df387e 2025-07-23 19:35:11    NaN   NaN        NaN                             NaN      NaN    NaN             NaN        NaN    0.9893          gbdt       multiclass multi_logloss         6\n",
            "     AQI_LSTM_Model be9bfd7a90a5437fa47a22d6fbd2b19f 2025-07-23 19:08:47 0.1096 0.012        NaN                             NaN      NaN    NaN             NaN        NaN       NaN           NaN              NaN           NaN       NaN\n",
            "     AQI_Prediction 64d0371bd5694b88abd9b05ad6799106 2025-07-23 18:53:09    NaN   NaN        NaN                             NaN      NaN    NaN             NaN        NaN       NaN           NaN reg:squarederror           NaN       NaN\n"
          ]
        }
      ]
    },
    {
      "cell_type": "code",
      "source": [
        "from mlflow.tracking import MlflowClient\n",
        "from datetime import datetime\n",
        "import pandas as pd\n",
        "\n",
        "def display_clean_mlflow_table(experiment_names):\n",
        "    client = MlflowClient()\n",
        "    rows = []\n",
        "\n",
        "    for exp_name in experiment_names:\n",
        "        experiment = client.get_experiment_by_name(exp_name)\n",
        "        if not experiment:\n",
        "            continue\n",
        "\n",
        "        runs = client.search_runs(\n",
        "            experiment_ids=[experiment.experiment_id],\n",
        "            order_by=[\"start_time DESC\"],\n",
        "            max_results=1\n",
        "        )\n",
        "\n",
        "        if not runs:\n",
        "            continue\n",
        "\n",
        "        run = runs[0]\n",
        "        start_time = datetime.fromtimestamp(run.info.start_time / 1000).strftime('%Y-%m-%d %H:%M:%S')\n",
        "\n",
        "        row = {\n",
        "            \"Experiment\": exp_name,\n",
        "            \"Run ID\": run.info.run_id,\n",
        "            \"Start Time\": start_time\n",
        "        }\n",
        "\n",
        "        # Add common metrics if available\n",
        "        for key in [\"RMSE\", \"MSE\", \"accuracy\"]:\n",
        "            value = run.data.metrics.get(key)\n",
        "            if value is not None:\n",
        "                row[key] = round(value, 4)\n",
        "\n",
        "        # Add selected parameters if available\n",
        "        selected_params = [\n",
        "            \"Model Type\", \"Features Used\", \"Target\", \"Epochs\", \"Sequence Length\", \"Batch Size\",\n",
        "            \"boosting_type\", \"objective\", \"metric\", \"num_class\"\n",
        "        ]\n",
        "        for param in selected_params:\n",
        "            if param in run.data.params:\n",
        "                row[param] = run.data.params[param]\n",
        "\n",
        "        rows.append(row)\n",
        "\n",
        "    # Final DataFrame\n",
        "    df = pd.DataFrame(rows)\n",
        "\n",
        "    # Drop all-NaN columns\n",
        "    df = df.dropna(axis=1, how='all')\n",
        "\n",
        "    print(\"\\n📊 Clean MLflow Summary Table:\")\n",
        "    print(df.to_string(index=False))\n",
        "\n",
        "    return df\n",
        "\n",
        "experiments = [\n",
        "    \"LSTM_AQI_Prediction\",\n",
        "    \"AQI_LightGBM_Model\",\n",
        "    \"AQI_LSTM_Model\",\n",
        "    \"AQI_Prediction\"\n",
        "]\n",
        "\n",
        "minimal_df = display_minimal_mlflow_table(experiments)\n"
      ],
      "metadata": {
        "colab": {
          "base_uri": "https://localhost:8080/"
        },
        "id": "2G-BXVdB3ezF",
        "outputId": "ad2854c9-3c18-4226-add4-66198cb4e63f"
      },
      "execution_count": 61,
      "outputs": [
        {
          "output_type": "stream",
          "name": "stdout",
          "text": [
            "\n",
            "📊 Minimal MLflow Summary:\n",
            "         Experiment                           Run ID          Start Time   RMSE   MSE Model Type                   Features Used   Target Epochs Sequence Length Batch Size  accuracy boosting_type        objective        metric num_class\n",
            "LSTM_AQI_Prediction 043eefa7bed3468a93af93e184533d5a 2025-07-23 18:57:49 0.1096 0.012       LSTM PM25, CO, PM10, NO2, OZONE, SO2 AQI_CPCB     10              24         32       NaN           NaN              NaN           NaN       NaN\n",
            " AQI_LightGBM_Model 949d2d215bdb43c6bee2f68cb6df387e 2025-07-23 19:35:11    NaN   NaN        NaN                             NaN      NaN    NaN             NaN        NaN    0.9893          gbdt       multiclass multi_logloss         6\n",
            "     AQI_LSTM_Model be9bfd7a90a5437fa47a22d6fbd2b19f 2025-07-23 19:08:47 0.1096 0.012        NaN                             NaN      NaN    NaN             NaN        NaN       NaN           NaN              NaN           NaN       NaN\n",
            "     AQI_Prediction 64d0371bd5694b88abd9b05ad6799106 2025-07-23 18:53:09    NaN   NaN        NaN                             NaN      NaN    NaN             NaN        NaN       NaN           NaN reg:squarederror           NaN       NaN\n"
          ]
        }
      ]
    },
    {
      "cell_type": "code",
      "source": [
        "from mlflow.tracking import MlflowClient\n",
        "from datetime import datetime\n",
        "import pandas as pd\n",
        "import joblib\n",
        "\n",
        "def collect_mlflow_summary(experiment_names, save_as_pkl=\"mlflow_summary.pkl\", save_csv=True):\n",
        "    client = MlflowClient()\n",
        "    rows = []\n",
        "\n",
        "    for name in experiment_names:\n",
        "        experiment = client.get_experiment_by_name(name)\n",
        "        if not experiment:\n",
        "            continue\n",
        "\n",
        "        runs = client.search_runs(\n",
        "            experiment_ids=[experiment.experiment_id],\n",
        "            order_by=[\"start_time DESC\"],\n",
        "            max_results=1\n",
        "        )\n",
        "\n",
        "        if not runs:\n",
        "            continue\n",
        "\n",
        "        run = runs[0]\n",
        "        start_time = datetime.fromtimestamp(run.info.start_time / 1000).strftime('%Y-%m-%d %H:%M:%S')\n",
        "\n",
        "        row = {\n",
        "            \"Experiment\": name,\n",
        "            \"Run ID\": run.info.run_id,\n",
        "            \"Start Time\": start_time,\n",
        "            \"RMSE\": round(run.data.metrics.get(\"RMSE\", float(\"nan\")), 4),\n",
        "            \"MSE\": round(run.data.metrics.get(\"MSE\", float(\"nan\")), 4),\n",
        "            \"Accuracy\": round(run.data.metrics.get(\"accuracy\", float(\"nan\")), 4),\n",
        "            \"Model Type\": run.data.params.get(\"Model Type\", \"\"),\n",
        "            \"Target\": run.data.params.get(\"Target\", \"\"),\n",
        "            \"Features Used\": run.data.params.get(\"Features Used\", \"\"),\n",
        "            \"Epochs\": run.data.params.get(\"Epochs\", \"\"),\n",
        "            \"Batch Size\": run.data.params.get(\"Batch Size\", \"\"),\n",
        "            \"Sequence Length\": run.data.params.get(\"Sequence Length\", \"\"),\n",
        "            \"Boosting Type\": run.data.params.get(\"boosting_type\", \"\"),\n",
        "            \"Objective\": run.data.params.get(\"objective\", \"\"),\n",
        "            \"Metric\": run.data.params.get(\"metric\", \"\"),\n",
        "            \"Num Classes\": run.data.params.get(\"num_class\", \"\")\n",
        "        }\n",
        "\n",
        "        rows.append(row)\n",
        "\n",
        "    df = pd.DataFrame(rows)\n",
        "    df = df.dropna(axis=1, how='all')  # remove columns with all NaNs\n",
        "\n",
        "    # Save as .pkl for app use\n",
        "    joblib.dump(df, save_as_pkl)\n",
        "    print(f\"✅ Saved MLflow summary as pickle → {save_as_pkl}\")\n",
        "\n",
        "    # Optional: also save as CSV\n",
        "    if save_csv:\n",
        "        csv_name = save_as_pkl.replace(\".pkl\", \".csv\")\n",
        "        df.to_csv(csv_name, index=False)\n",
        "        print(f\"📄 Also saved as CSV → {csv_name}\")\n",
        "\n",
        "    return df\n"
      ],
      "metadata": {
        "id": "T-6ukZhg4a9t"
      },
      "execution_count": 69,
      "outputs": []
    },
    {
      "cell_type": "code",
      "source": [
        "experiments = [\n",
        "    \"LSTM_AQI_Prediction\",\n",
        "    \"AQI_LSTM_Model\",\n",
        "    \"AQI_LightGBM_Model\",\n",
        "    \"AQI_Prediction\"\n",
        "]\n",
        "\n",
        "df_summary = collect_mlflow_summary(\n",
        "    experiment_names=experiments,\n",
        "    save_as_pkl=\"mlflow_summary.pkl\",\n",
        "    save_csv=True  # This creates 'mlflow_summary.csv'\n",
        ")\n"
      ],
      "metadata": {
        "colab": {
          "base_uri": "https://localhost:8080/"
        },
        "id": "fLrp6I6Y58Ai",
        "outputId": "9053570c-0808-4918-fd82-1dff73b155f8"
      },
      "execution_count": 70,
      "outputs": [
        {
          "output_type": "stream",
          "name": "stdout",
          "text": [
            "✅ Saved MLflow summary as pickle → mlflow_summary.pkl\n",
            "📄 Also saved as CSV → mlflow_summary.csv\n"
          ]
        }
      ]
    },
    {
      "cell_type": "code",
      "source": [
        "from google.colab import files\n",
        "files.download(\"mlflow_summary.csv\")\n"
      ],
      "metadata": {
        "colab": {
          "base_uri": "https://localhost:8080/",
          "height": 17
        },
        "id": "dEoan1mS4vWi",
        "outputId": "cc12d63c-81af-4ed9-c304-b09b2337018f"
      },
      "execution_count": 71,
      "outputs": [
        {
          "output_type": "display_data",
          "data": {
            "text/plain": [
              "<IPython.core.display.Javascript object>"
            ],
            "application/javascript": [
              "\n",
              "    async function download(id, filename, size) {\n",
              "      if (!google.colab.kernel.accessAllowed) {\n",
              "        return;\n",
              "      }\n",
              "      const div = document.createElement('div');\n",
              "      const label = document.createElement('label');\n",
              "      label.textContent = `Downloading \"${filename}\": `;\n",
              "      div.appendChild(label);\n",
              "      const progress = document.createElement('progress');\n",
              "      progress.max = size;\n",
              "      div.appendChild(progress);\n",
              "      document.body.appendChild(div);\n",
              "\n",
              "      const buffers = [];\n",
              "      let downloaded = 0;\n",
              "\n",
              "      const channel = await google.colab.kernel.comms.open(id);\n",
              "      // Send a message to notify the kernel that we're ready.\n",
              "      channel.send({})\n",
              "\n",
              "      for await (const message of channel.messages) {\n",
              "        // Send a message to notify the kernel that we're ready.\n",
              "        channel.send({})\n",
              "        if (message.buffers) {\n",
              "          for (const buffer of message.buffers) {\n",
              "            buffers.push(buffer);\n",
              "            downloaded += buffer.byteLength;\n",
              "            progress.value = downloaded;\n",
              "          }\n",
              "        }\n",
              "      }\n",
              "      const blob = new Blob(buffers, {type: 'application/binary'});\n",
              "      const a = document.createElement('a');\n",
              "      a.href = window.URL.createObjectURL(blob);\n",
              "      a.download = filename;\n",
              "      div.appendChild(a);\n",
              "      a.click();\n",
              "      div.remove();\n",
              "    }\n",
              "  "
            ]
          },
          "metadata": {}
        },
        {
          "output_type": "display_data",
          "data": {
            "text/plain": [
              "<IPython.core.display.Javascript object>"
            ],
            "application/javascript": [
              "download(\"download_02315daa-1269-40af-8ece-8169b59fdb2d\", \"mlflow_summary.csv\", 612)"
            ]
          },
          "metadata": {}
        }
      ]
    },
    {
      "cell_type": "code",
      "source": [
        "print(\"✅ All models trained & saved successfully! 🚀 You're all set.\\n🎯 Next step: Build the interactive App using DASH 🖥️🌿\")\n"
      ],
      "metadata": {
        "colab": {
          "base_uri": "https://localhost:8080/"
        },
        "id": "5PFJGMt721Ev",
        "outputId": "7450b0ba-313a-40fc-b559-7992b5e32ffc"
      },
      "execution_count": 72,
      "outputs": [
        {
          "output_type": "stream",
          "name": "stdout",
          "text": [
            "✅ All models trained & saved successfully! 🚀 You're all set.\n",
            "🎯 Next step: Build the interactive App using DASH 🖥️🌿\n"
          ]
        }
      ]
    }
  ]
}