{
  "nbformat": 4,
  "nbformat_minor": 0,
  "metadata": {
    "colab": {
      "provenance": []
    },
    "kernelspec": {
      "name": "python3",
      "display_name": "Python 3"
    },
    "language_info": {
      "name": "python"
    }
  },
  "cells": [
    {
      "cell_type": "code",
      "execution_count": 1,
      "metadata": {
        "colab": {
          "base_uri": "https://localhost:8080/"
        },
        "id": "bIacz7wEq20E",
        "outputId": "bf18e529-9505-41c5-bee9-a51f8345fa6c"
      },
      "outputs": [
        {
          "output_type": "stream",
          "name": "stdout",
          "text": [
            "\n",
            "📍 Weather in Bangalore\n",
            "City: Bangalore\n",
            "Date: 2025-06-06\n",
            "Time: 21:51:09\n",
            "Temperature (°C): 23.4\n",
            "Humidity (%): 83\n",
            "Condition: Clear\n",
            "Wind Speed (kph): 12.2\n",
            "\n",
            "📍 Weather in Mysore\n",
            "City: Mysore\n",
            "Date: 2025-06-06\n",
            "Time: 21:51:09\n",
            "Temperature (°C): 21.6\n",
            "Humidity (%): 86\n",
            "Condition: Clear\n",
            "Wind Speed (kph): 14.4\n",
            "\n",
            "✅ Weather data saved to live_weather_data.csv\n",
            "📊 Data Shape: 2 rows × 7 columns\n"
          ]
        }
      ],
      "source": [
        "import requests\n",
        "import csv\n",
        "from datetime import datetime\n",
        "\n",
        "API_KEY = 'c29a1583e9d54bf180f180516250106'\n",
        "CITIES = ['Bangalore', 'Mysore']\n",
        "URL_TEMPLATE = 'https://api.weatherapi.com/v1/current.json?key={}&q={}'\n",
        "\n",
        "# Prepare list for weather data\n",
        "weather_data = []\n",
        "\n",
        "for city in CITIES:\n",
        "    url = URL_TEMPLATE.format(API_KEY, city)\n",
        "    response = requests.get(url)\n",
        "    data = response.json()\n",
        "\n",
        "    if response.status_code == 200:\n",
        "        current = data['current']\n",
        "        city_data = {\n",
        "            'City': city,\n",
        "            'Date': datetime.now().strftime('%Y-%m-%d'),\n",
        "            'Time': datetime.now().strftime('%H:%M:%S'),\n",
        "            'Temperature (°C)': current['temp_c'],\n",
        "            'Humidity (%)': current['humidity'],\n",
        "            'Condition': current['condition']['text'],\n",
        "            'Wind Speed (kph)': current['wind_kph']\n",
        "        }\n",
        "        weather_data.append(city_data)\n",
        "\n",
        "        # ✅ Print weather data\n",
        "        print(f\"\\n📍 Weather in {city}\")\n",
        "        for key, value in city_data.items():\n",
        "            print(f\"{key}: {value}\")\n",
        "    else:\n",
        "        print(f\"❌ Error fetching data for {city}: {data.get('error', {}).get('message')}\")\n",
        "\n",
        "# Save the data to CSV and print size (rows x cols)\n",
        "if weather_data:\n",
        "    filename = 'live_weather_data.csv'\n",
        "    fieldnames = weather_data[0].keys()\n",
        "    with open(filename, mode='w', newline='') as file:\n",
        "        writer = csv.DictWriter(file, fieldnames=fieldnames)\n",
        "        writer.writeheader()\n",
        "        writer.writerows(weather_data)\n",
        "\n",
        "    num_rows = len(weather_data)\n",
        "    num_cols = len(fieldnames)\n",
        "\n",
        "    print(f\"\\n✅ Weather data saved to {filename}\")\n",
        "    print(f\"📊 Data Shape: {num_rows} rows × {num_cols} columns\")\n"
      ]
    },
    {
      "cell_type": "code",
      "source": [
        "from google.colab import files\n",
        "files.download('live_weather_data.csv')\n"
      ],
      "metadata": {
        "colab": {
          "base_uri": "https://localhost:8080/",
          "height": 17
        },
        "id": "Wpe9n7s8q6_o",
        "outputId": "bc17855c-cdf6-4c9f-d01a-e5fe2aef415c"
      },
      "execution_count": 2,
      "outputs": [
        {
          "output_type": "display_data",
          "data": {
            "text/plain": [
              "<IPython.core.display.Javascript object>"
            ],
            "application/javascript": [
              "\n",
              "    async function download(id, filename, size) {\n",
              "      if (!google.colab.kernel.accessAllowed) {\n",
              "        return;\n",
              "      }\n",
              "      const div = document.createElement('div');\n",
              "      const label = document.createElement('label');\n",
              "      label.textContent = `Downloading \"${filename}\": `;\n",
              "      div.appendChild(label);\n",
              "      const progress = document.createElement('progress');\n",
              "      progress.max = size;\n",
              "      div.appendChild(progress);\n",
              "      document.body.appendChild(div);\n",
              "\n",
              "      const buffers = [];\n",
              "      let downloaded = 0;\n",
              "\n",
              "      const channel = await google.colab.kernel.comms.open(id);\n",
              "      // Send a message to notify the kernel that we're ready.\n",
              "      channel.send({})\n",
              "\n",
              "      for await (const message of channel.messages) {\n",
              "        // Send a message to notify the kernel that we're ready.\n",
              "        channel.send({})\n",
              "        if (message.buffers) {\n",
              "          for (const buffer of message.buffers) {\n",
              "            buffers.push(buffer);\n",
              "            downloaded += buffer.byteLength;\n",
              "            progress.value = downloaded;\n",
              "          }\n",
              "        }\n",
              "      }\n",
              "      const blob = new Blob(buffers, {type: 'application/binary'});\n",
              "      const a = document.createElement('a');\n",
              "      a.href = window.URL.createObjectURL(blob);\n",
              "      a.download = filename;\n",
              "      div.appendChild(a);\n",
              "      a.click();\n",
              "      div.remove();\n",
              "    }\n",
              "  "
            ]
          },
          "metadata": {}
        },
        {
          "output_type": "display_data",
          "data": {
            "text/plain": [
              "<IPython.core.display.Javascript object>"
            ],
            "application/javascript": [
              "download(\"download_3b1bc089-9a05-4d55-ad51-d9c20802329f\", \"live_weather_data.csv\", 171)"
            ]
          },
          "metadata": {}
        }
      ]
    },
    {
      "cell_type": "code",
      "source": [
        "from google.colab import drive\n",
        "drive.mount('/content/drive')\n"
      ],
      "metadata": {
        "colab": {
          "base_uri": "https://localhost:8080/"
        },
        "collapsed": true,
        "id": "W35buMv7q7C8",
        "outputId": "9c8ff3dd-be35-4260-f982-284083447d75"
      },
      "execution_count": 3,
      "outputs": [
        {
          "output_type": "stream",
          "name": "stdout",
          "text": [
            "Mounted at /content/drive\n"
          ]
        }
      ]
    },
    {
      "cell_type": "code",
      "source": [
        "\n",
        "import pandas as pd\n",
        "import zipfile\n",
        "\n",
        "# Define base path\n",
        "base_path = \"/content/drive/My Drive\"  # or add \"/your_folder\" if files are inside a folder\n",
        "\n",
        "# Load CSVs\n",
        "bengaluru_aqi = pd.read_csv(f\"{base_path}/Bengaluru_AQIBulletins.csv\")\n",
        "mysuru_aqi = pd.read_csv(f\"{base_path}/Mysuru_AQIBulletins.csv\")\n",
        "\n",
        "df = pd.read_csv(\"/content/drive/My Drive/AQI_Weather_Analyser_Project/DATA/final_AQI.zip\")\n",
        "\n",
        "# Step 5: Print shape and preview\n",
        "print(\"✅ final_AQI shape:\", df.shape)\n",
        "print(df.head())\n",
        "\n",
        "print(\"\\n✅ bengaluru_aqi shape:\", bengaluru_aqi.shape)\n",
        "print(bengaluru_aqi.head())\n",
        "\n",
        "print(\"\\n✅ mysuru_aqi shape:\", mysuru_aqi.shape)\n",
        "print(mysuru_aqi.head())\n"
      ],
      "metadata": {
        "colab": {
          "base_uri": "https://localhost:8080/"
        },
        "collapsed": true,
        "id": "ohq7TCx-q7GK",
        "outputId": "9d8bb22c-058c-4cf7-ab01-cea4fe8ad26a"
      },
      "execution_count": 4,
      "outputs": [
        {
          "output_type": "stream",
          "name": "stdout",
          "text": [
            "✅ final_AQI shape: (1332059, 52)\n",
            "                   Start_TS                  End_Date  PM25  PM10    NO  \\\n",
            "0  2010-01-01T00:00:00.000Z  2010-01-01T01:00:00.000Z   0.0   0.0  3.51   \n",
            "1  2010-01-01T00:00:00.000Z  2010-01-01T01:00:00.000Z   0.0   0.0  0.85   \n",
            "2  2010-01-01T01:00:00.000Z  2010-01-01T02:00:00.000Z   0.0   0.0  5.57   \n",
            "3  2010-01-01T01:00:00.000Z  2010-01-01T02:00:00.000Z   0.0   0.0  1.19   \n",
            "4  2010-01-01T02:00:00.000Z  2010-01-01T03:00:00.000Z   0.0   0.0  5.69   \n",
            "\n",
            "     NO2    NOX    NH3   SO2    CO  ...  Rolling_PM10_max_7d  \\\n",
            "0  17.84  21.26   0.00  1.36  0.48  ...                  0.0   \n",
            "1  21.07  21.91  32.51  4.30  0.45  ...                  0.0   \n",
            "2  14.71  20.28   0.00  1.23  0.49  ...                  0.0   \n",
            "3  20.41  21.60  31.99  1.22  0.35  ...                  0.0   \n",
            "4  14.18  19.87   0.00  1.09  0.38  ...                  0.0   \n",
            "\n",
            "   Rolling_NO2_mean  Lag_NO2_1h  Rolling_NO2_max_7d  Rolling_CO_mean  \\\n",
            "0         17.840000         NaN               21.07         0.480000   \n",
            "1         19.455000       17.84               21.07         0.465000   \n",
            "2         17.873333       21.07               21.07         0.473333   \n",
            "3         18.730000       14.71               21.07         0.430000   \n",
            "4         16.433333       20.41               21.07         0.406667   \n",
            "\n",
            "   Lag_CO_1h  Rolling_CO_max_7d  Rolling_SO2_mean  Lag_SO2_1h  \\\n",
            "0        NaN               0.48          1.360000         NaN   \n",
            "1       0.48               0.48          2.830000        1.36   \n",
            "2       0.45               0.49          2.296667        4.30   \n",
            "3       0.49               0.49          2.250000        1.23   \n",
            "4       0.35               0.49          1.180000        1.22   \n",
            "\n",
            "   Rolling_SO2_max_7d  \n",
            "0                 4.3  \n",
            "1                 4.3  \n",
            "2                 4.3  \n",
            "3                 4.3  \n",
            "4                 4.3  \n",
            "\n",
            "[5 rows x 52 columns]\n",
            "\n",
            "✅ bengaluru_aqi shape: (3120, 6)\n",
            "         date       City  No. Stations   Air Quality  Index Value  \\\n",
            "0  2015-05-02  Bengaluru           NaN      Moderate          132   \n",
            "1  2015-05-03  Bengaluru           NaN          Good           49   \n",
            "2  2015-05-04  Bengaluru           NaN          Good           46   \n",
            "3  2015-05-05  Bengaluru           NaN          Poor          229   \n",
            "4  2015-05-06  Bengaluru           NaN  Satisfactory           90   \n",
            "\n",
            "  Prominent Pollutant  \n",
            "0           CO, PM2.5  \n",
            "1           CO, PM2.5  \n",
            "2                  CO  \n",
            "3                  CO  \n",
            "4                  O3  \n",
            "\n",
            "✅ mysuru_aqi shape: (1393, 6)\n",
            "         date    City  No. Stations   Air Quality  Index Value  \\\n",
            "0  2019-07-29  Mysuru           1.0          Good           48   \n",
            "1  2019-07-30  Mysuru           1.0          Good           43   \n",
            "2  2019-07-31  Mysuru           1.0          Good           40   \n",
            "3  2019-08-01  Mysuru           1.0  Satisfactory           51   \n",
            "4  2019-08-02  Mysuru           1.0          Good           42   \n",
            "\n",
            "  Prominent Pollutant  \n",
            "0                PM10  \n",
            "1                PM10  \n",
            "2                PM10  \n",
            "3                PM10  \n",
            "4                PM10  \n"
          ]
        }
      ]
    },
    {
      "cell_type": "code",
      "source": [
        "# Print columns and their count\n",
        "print(f\"Number of columns: {len(df.columns)}\")\n",
        "print(\"Columns:\")\n",
        "print(df.columns.tolist())"
      ],
      "metadata": {
        "colab": {
          "base_uri": "https://localhost:8080/"
        },
        "id": "qaEqmrSiq7Je",
        "outputId": "3f28ef1b-9261-4023-85a1-94d42d7cdfcf"
      },
      "execution_count": 5,
      "outputs": [
        {
          "output_type": "stream",
          "name": "stdout",
          "text": [
            "Number of columns: 52\n",
            "Columns:\n",
            "['Start_TS', 'End_Date', 'PM25', 'PM10', 'NO', 'NO2', 'NOX', 'NH3', 'SO2', 'CO', 'OZONE', 'BENZENE', 'TOLUENE', 'ETH_BENZENE', 'MP_XYLENE', 'O_XYLENE', 'TEMP_C', 'RH', 'WS', 'WD', 'SR', 'BP', 'VWS', 'PM_RATIO', 'NOX_TO_NO2', 'PM25_WIND_SCALED', 'HUMIDITY_TEMP_INDEX', 'AQI_PM25', 'AQI_PM10', 'AQI_NO2', 'AQI_SO2', 'AQI_CO', 'AQI_OZONE', 'AQI_NH3', 'AQI_CPCB', 'AQI_Category', 'Start_TS_unix', 'Rolling_PM25_mean', 'Lag_PM25_1h', 'Rolling_Temperature_max', 'Rolling_PM10_mean', 'Lag_PM10_1h', 'Rolling_PM10_max_7d', 'Rolling_NO2_mean', 'Lag_NO2_1h', 'Rolling_NO2_max_7d', 'Rolling_CO_mean', 'Lag_CO_1h', 'Rolling_CO_max_7d', 'Rolling_SO2_mean', 'Lag_SO2_1h', 'Rolling_SO2_max_7d']\n"
          ]
        }
      ]
    },
    {
      "cell_type": "code",
      "source": [
        "# Rename weather_data list to DataFrame\n",
        "live_weather_df = pd.DataFrame(weather_data)\n",
        "\n",
        "# Convert date columns to datetime\n",
        "live_weather_df['Date'] = pd.to_datetime(live_weather_df['Date'])\n",
        "bengaluru_aqi['date'] = pd.to_datetime(bengaluru_aqi['date'])\n",
        "mysuru_aqi['date'] = pd.to_datetime(mysuru_aqi['date'])\n",
        "\n",
        "# Standardize City names\n",
        "bengaluru_aqi['City'] = 'Bangalore'\n",
        "mysuru_aqi['City'] = 'Mysore'\n",
        "\n",
        "# Combine AQI dataframes\n",
        "aqi_df = pd.concat([bengaluru_aqi, mysuru_aqi], ignore_index=True)\n",
        "\n",
        "# Merge live weather data with AQI data on City and Date\n",
        "merged_df = pd.merge(live_weather_df, aqi_df, left_on=['City', 'Date'], right_on=['City', 'date'], how='left')\n"
      ],
      "metadata": {
        "id": "0lftFYuTq7MV"
      },
      "execution_count": 7,
      "outputs": []
    },
    {
      "cell_type": "code",
      "source": [
        "def get_weather_emoji(condition):\n",
        "    condition = condition.lower()\n",
        "    if 'clear' in condition:\n",
        "        return '☀️'\n",
        "    elif 'cloud' in condition:\n",
        "        return '☁️'\n",
        "    elif 'rain' in condition:\n",
        "        return '🌧️'\n",
        "    elif 'storm' in condition:\n",
        "        return '⛈️'\n",
        "    elif 'snow' in condition:\n",
        "        return '❄️'\n",
        "    else:\n",
        "        return '🌈'\n",
        "\n",
        "# Example usage\n",
        "merged_df['Weather_Emoji'] = merged_df['Condition'].apply(get_weather_emoji)\n"
      ],
      "metadata": {
        "id": "q4Lut6zAaJgw"
      },
      "execution_count": 8,
      "outputs": []
    },
    {
      "cell_type": "code",
      "source": [
        "import plotly.express as px\n",
        "\n",
        "# Example: Line chart of AQI over time for Bangalore\n",
        "bangalore_data = merged_df[merged_df['City'] == 'Bangalore']\n",
        "fig = px.line(bangalore_data, x='Date', y='Index Value', title='Bangalore AQI Over Time')\n",
        "fig.show()\n"
      ],
      "metadata": {
        "id": "379xjPbuaNHf",
        "colab": {
          "base_uri": "https://localhost:8080/",
          "height": 542
        },
        "outputId": "4e0fa252-ef92-4d3f-f9f0-7ca3448d88c2"
      },
      "execution_count": 9,
      "outputs": [
        {
          "output_type": "display_data",
          "data": {
            "text/html": [
              "<html>\n",
              "<head><meta charset=\"utf-8\" /></head>\n",
              "<body>\n",
              "    <div>            <script src=\"https://cdnjs.cloudflare.com/ajax/libs/mathjax/2.7.5/MathJax.js?config=TeX-AMS-MML_SVG\"></script><script type=\"text/javascript\">if (window.MathJax && window.MathJax.Hub && window.MathJax.Hub.Config) {window.MathJax.Hub.Config({SVG: {font: \"STIX-Web\"}});}</script>                <script type=\"text/javascript\">window.PlotlyConfig = {MathJaxConfig: 'local'};</script>\n",
              "        <script charset=\"utf-8\" src=\"https://cdn.plot.ly/plotly-2.35.2.min.js\"></script>                <div id=\"463692de-733b-418b-9dcd-653cc499e3e7\" class=\"plotly-graph-div\" style=\"height:525px; width:100%;\"></div>            <script type=\"text/javascript\">                                    window.PLOTLYENV=window.PLOTLYENV || {};                                    if (document.getElementById(\"463692de-733b-418b-9dcd-653cc499e3e7\")) {                    Plotly.newPlot(                        \"463692de-733b-418b-9dcd-653cc499e3e7\",                        [{\"hovertemplate\":\"Date=%{x}\\u003cbr\\u003eIndex Value=%{y}\\u003cextra\\u003e\\u003c\\u002fextra\\u003e\",\"legendgroup\":\"\",\"line\":{\"color\":\"#636efa\",\"dash\":\"solid\"},\"marker\":{\"symbol\":\"circle\"},\"mode\":\"lines\",\"name\":\"\",\"orientation\":\"v\",\"showlegend\":false,\"x\":[\"2025-06-06T00:00:00\"],\"xaxis\":\"x\",\"y\":[null],\"yaxis\":\"y\",\"type\":\"scatter\"}],                        {\"template\":{\"data\":{\"histogram2dcontour\":[{\"type\":\"histogram2dcontour\",\"colorbar\":{\"outlinewidth\":0,\"ticks\":\"\"},\"colorscale\":[[0.0,\"#0d0887\"],[0.1111111111111111,\"#46039f\"],[0.2222222222222222,\"#7201a8\"],[0.3333333333333333,\"#9c179e\"],[0.4444444444444444,\"#bd3786\"],[0.5555555555555556,\"#d8576b\"],[0.6666666666666666,\"#ed7953\"],[0.7777777777777778,\"#fb9f3a\"],[0.8888888888888888,\"#fdca26\"],[1.0,\"#f0f921\"]]}],\"choropleth\":[{\"type\":\"choropleth\",\"colorbar\":{\"outlinewidth\":0,\"ticks\":\"\"}}],\"histogram2d\":[{\"type\":\"histogram2d\",\"colorbar\":{\"outlinewidth\":0,\"ticks\":\"\"},\"colorscale\":[[0.0,\"#0d0887\"],[0.1111111111111111,\"#46039f\"],[0.2222222222222222,\"#7201a8\"],[0.3333333333333333,\"#9c179e\"],[0.4444444444444444,\"#bd3786\"],[0.5555555555555556,\"#d8576b\"],[0.6666666666666666,\"#ed7953\"],[0.7777777777777778,\"#fb9f3a\"],[0.8888888888888888,\"#fdca26\"],[1.0,\"#f0f921\"]]}],\"heatmap\":[{\"type\":\"heatmap\",\"colorbar\":{\"outlinewidth\":0,\"ticks\":\"\"},\"colorscale\":[[0.0,\"#0d0887\"],[0.1111111111111111,\"#46039f\"],[0.2222222222222222,\"#7201a8\"],[0.3333333333333333,\"#9c179e\"],[0.4444444444444444,\"#bd3786\"],[0.5555555555555556,\"#d8576b\"],[0.6666666666666666,\"#ed7953\"],[0.7777777777777778,\"#fb9f3a\"],[0.8888888888888888,\"#fdca26\"],[1.0,\"#f0f921\"]]}],\"heatmapgl\":[{\"type\":\"heatmapgl\",\"colorbar\":{\"outlinewidth\":0,\"ticks\":\"\"},\"colorscale\":[[0.0,\"#0d0887\"],[0.1111111111111111,\"#46039f\"],[0.2222222222222222,\"#7201a8\"],[0.3333333333333333,\"#9c179e\"],[0.4444444444444444,\"#bd3786\"],[0.5555555555555556,\"#d8576b\"],[0.6666666666666666,\"#ed7953\"],[0.7777777777777778,\"#fb9f3a\"],[0.8888888888888888,\"#fdca26\"],[1.0,\"#f0f921\"]]}],\"contourcarpet\":[{\"type\":\"contourcarpet\",\"colorbar\":{\"outlinewidth\":0,\"ticks\":\"\"}}],\"contour\":[{\"type\":\"contour\",\"colorbar\":{\"outlinewidth\":0,\"ticks\":\"\"},\"colorscale\":[[0.0,\"#0d0887\"],[0.1111111111111111,\"#46039f\"],[0.2222222222222222,\"#7201a8\"],[0.3333333333333333,\"#9c179e\"],[0.4444444444444444,\"#bd3786\"],[0.5555555555555556,\"#d8576b\"],[0.6666666666666666,\"#ed7953\"],[0.7777777777777778,\"#fb9f3a\"],[0.8888888888888888,\"#fdca26\"],[1.0,\"#f0f921\"]]}],\"surface\":[{\"type\":\"surface\",\"colorbar\":{\"outlinewidth\":0,\"ticks\":\"\"},\"colorscale\":[[0.0,\"#0d0887\"],[0.1111111111111111,\"#46039f\"],[0.2222222222222222,\"#7201a8\"],[0.3333333333333333,\"#9c179e\"],[0.4444444444444444,\"#bd3786\"],[0.5555555555555556,\"#d8576b\"],[0.6666666666666666,\"#ed7953\"],[0.7777777777777778,\"#fb9f3a\"],[0.8888888888888888,\"#fdca26\"],[1.0,\"#f0f921\"]]}],\"mesh3d\":[{\"type\":\"mesh3d\",\"colorbar\":{\"outlinewidth\":0,\"ticks\":\"\"}}],\"scatter\":[{\"fillpattern\":{\"fillmode\":\"overlay\",\"size\":10,\"solidity\":0.2},\"type\":\"scatter\"}],\"parcoords\":[{\"type\":\"parcoords\",\"line\":{\"colorbar\":{\"outlinewidth\":0,\"ticks\":\"\"}}}],\"scatterpolargl\":[{\"type\":\"scatterpolargl\",\"marker\":{\"colorbar\":{\"outlinewidth\":0,\"ticks\":\"\"}}}],\"bar\":[{\"error_x\":{\"color\":\"#2a3f5f\"},\"error_y\":{\"color\":\"#2a3f5f\"},\"marker\":{\"line\":{\"color\":\"#E5ECF6\",\"width\":0.5},\"pattern\":{\"fillmode\":\"overlay\",\"size\":10,\"solidity\":0.2}},\"type\":\"bar\"}],\"scattergeo\":[{\"type\":\"scattergeo\",\"marker\":{\"colorbar\":{\"outlinewidth\":0,\"ticks\":\"\"}}}],\"scatterpolar\":[{\"type\":\"scatterpolar\",\"marker\":{\"colorbar\":{\"outlinewidth\":0,\"ticks\":\"\"}}}],\"histogram\":[{\"marker\":{\"pattern\":{\"fillmode\":\"overlay\",\"size\":10,\"solidity\":0.2}},\"type\":\"histogram\"}],\"scattergl\":[{\"type\":\"scattergl\",\"marker\":{\"colorbar\":{\"outlinewidth\":0,\"ticks\":\"\"}}}],\"scatter3d\":[{\"type\":\"scatter3d\",\"line\":{\"colorbar\":{\"outlinewidth\":0,\"ticks\":\"\"}},\"marker\":{\"colorbar\":{\"outlinewidth\":0,\"ticks\":\"\"}}}],\"scattermapbox\":[{\"type\":\"scattermapbox\",\"marker\":{\"colorbar\":{\"outlinewidth\":0,\"ticks\":\"\"}}}],\"scatterternary\":[{\"type\":\"scatterternary\",\"marker\":{\"colorbar\":{\"outlinewidth\":0,\"ticks\":\"\"}}}],\"scattercarpet\":[{\"type\":\"scattercarpet\",\"marker\":{\"colorbar\":{\"outlinewidth\":0,\"ticks\":\"\"}}}],\"carpet\":[{\"aaxis\":{\"endlinecolor\":\"#2a3f5f\",\"gridcolor\":\"white\",\"linecolor\":\"white\",\"minorgridcolor\":\"white\",\"startlinecolor\":\"#2a3f5f\"},\"baxis\":{\"endlinecolor\":\"#2a3f5f\",\"gridcolor\":\"white\",\"linecolor\":\"white\",\"minorgridcolor\":\"white\",\"startlinecolor\":\"#2a3f5f\"},\"type\":\"carpet\"}],\"table\":[{\"cells\":{\"fill\":{\"color\":\"#EBF0F8\"},\"line\":{\"color\":\"white\"}},\"header\":{\"fill\":{\"color\":\"#C8D4E3\"},\"line\":{\"color\":\"white\"}},\"type\":\"table\"}],\"barpolar\":[{\"marker\":{\"line\":{\"color\":\"#E5ECF6\",\"width\":0.5},\"pattern\":{\"fillmode\":\"overlay\",\"size\":10,\"solidity\":0.2}},\"type\":\"barpolar\"}],\"pie\":[{\"automargin\":true,\"type\":\"pie\"}]},\"layout\":{\"autotypenumbers\":\"strict\",\"colorway\":[\"#636efa\",\"#EF553B\",\"#00cc96\",\"#ab63fa\",\"#FFA15A\",\"#19d3f3\",\"#FF6692\",\"#B6E880\",\"#FF97FF\",\"#FECB52\"],\"font\":{\"color\":\"#2a3f5f\"},\"hovermode\":\"closest\",\"hoverlabel\":{\"align\":\"left\"},\"paper_bgcolor\":\"white\",\"plot_bgcolor\":\"#E5ECF6\",\"polar\":{\"bgcolor\":\"#E5ECF6\",\"angularaxis\":{\"gridcolor\":\"white\",\"linecolor\":\"white\",\"ticks\":\"\"},\"radialaxis\":{\"gridcolor\":\"white\",\"linecolor\":\"white\",\"ticks\":\"\"}},\"ternary\":{\"bgcolor\":\"#E5ECF6\",\"aaxis\":{\"gridcolor\":\"white\",\"linecolor\":\"white\",\"ticks\":\"\"},\"baxis\":{\"gridcolor\":\"white\",\"linecolor\":\"white\",\"ticks\":\"\"},\"caxis\":{\"gridcolor\":\"white\",\"linecolor\":\"white\",\"ticks\":\"\"}},\"coloraxis\":{\"colorbar\":{\"outlinewidth\":0,\"ticks\":\"\"}},\"colorscale\":{\"sequential\":[[0.0,\"#0d0887\"],[0.1111111111111111,\"#46039f\"],[0.2222222222222222,\"#7201a8\"],[0.3333333333333333,\"#9c179e\"],[0.4444444444444444,\"#bd3786\"],[0.5555555555555556,\"#d8576b\"],[0.6666666666666666,\"#ed7953\"],[0.7777777777777778,\"#fb9f3a\"],[0.8888888888888888,\"#fdca26\"],[1.0,\"#f0f921\"]],\"sequentialminus\":[[0.0,\"#0d0887\"],[0.1111111111111111,\"#46039f\"],[0.2222222222222222,\"#7201a8\"],[0.3333333333333333,\"#9c179e\"],[0.4444444444444444,\"#bd3786\"],[0.5555555555555556,\"#d8576b\"],[0.6666666666666666,\"#ed7953\"],[0.7777777777777778,\"#fb9f3a\"],[0.8888888888888888,\"#fdca26\"],[1.0,\"#f0f921\"]],\"diverging\":[[0,\"#8e0152\"],[0.1,\"#c51b7d\"],[0.2,\"#de77ae\"],[0.3,\"#f1b6da\"],[0.4,\"#fde0ef\"],[0.5,\"#f7f7f7\"],[0.6,\"#e6f5d0\"],[0.7,\"#b8e186\"],[0.8,\"#7fbc41\"],[0.9,\"#4d9221\"],[1,\"#276419\"]]},\"xaxis\":{\"gridcolor\":\"white\",\"linecolor\":\"white\",\"ticks\":\"\",\"title\":{\"standoff\":15},\"zerolinecolor\":\"white\",\"automargin\":true,\"zerolinewidth\":2},\"yaxis\":{\"gridcolor\":\"white\",\"linecolor\":\"white\",\"ticks\":\"\",\"title\":{\"standoff\":15},\"zerolinecolor\":\"white\",\"automargin\":true,\"zerolinewidth\":2},\"scene\":{\"xaxis\":{\"backgroundcolor\":\"#E5ECF6\",\"gridcolor\":\"white\",\"linecolor\":\"white\",\"showbackground\":true,\"ticks\":\"\",\"zerolinecolor\":\"white\",\"gridwidth\":2},\"yaxis\":{\"backgroundcolor\":\"#E5ECF6\",\"gridcolor\":\"white\",\"linecolor\":\"white\",\"showbackground\":true,\"ticks\":\"\",\"zerolinecolor\":\"white\",\"gridwidth\":2},\"zaxis\":{\"backgroundcolor\":\"#E5ECF6\",\"gridcolor\":\"white\",\"linecolor\":\"white\",\"showbackground\":true,\"ticks\":\"\",\"zerolinecolor\":\"white\",\"gridwidth\":2}},\"shapedefaults\":{\"line\":{\"color\":\"#2a3f5f\"}},\"annotationdefaults\":{\"arrowcolor\":\"#2a3f5f\",\"arrowhead\":0,\"arrowwidth\":1},\"geo\":{\"bgcolor\":\"white\",\"landcolor\":\"#E5ECF6\",\"subunitcolor\":\"white\",\"showland\":true,\"showlakes\":true,\"lakecolor\":\"white\"},\"title\":{\"x\":0.05},\"mapbox\":{\"style\":\"light\"}}},\"xaxis\":{\"anchor\":\"y\",\"domain\":[0.0,1.0],\"title\":{\"text\":\"Date\"}},\"yaxis\":{\"anchor\":\"x\",\"domain\":[0.0,1.0],\"title\":{\"text\":\"Index Value\"}},\"legend\":{\"tracegroupgap\":0},\"title\":{\"text\":\"Bangalore AQI Over Time\"}},                        {\"responsive\": true}                    ).then(function(){\n",
              "                            \n",
              "var gd = document.getElementById('463692de-733b-418b-9dcd-653cc499e3e7');\n",
              "var x = new MutationObserver(function (mutations, observer) {{\n",
              "        var display = window.getComputedStyle(gd).display;\n",
              "        if (!display || display === 'none') {{\n",
              "            console.log([gd, 'removed!']);\n",
              "            Plotly.purge(gd);\n",
              "            observer.disconnect();\n",
              "        }}\n",
              "}});\n",
              "\n",
              "// Listen for the removal of the full notebook cells\n",
              "var notebookContainer = gd.closest('#notebook-container');\n",
              "if (notebookContainer) {{\n",
              "    x.observe(notebookContainer, {childList: true});\n",
              "}}\n",
              "\n",
              "// Listen for the clearing of the current output cell\n",
              "var outputEl = gd.closest('.output');\n",
              "if (outputEl) {{\n",
              "    x.observe(outputEl, {childList: true});\n",
              "}}\n",
              "\n",
              "                        })                };                            </script>        </div>\n",
              "</body>\n",
              "</html>"
            ]
          },
          "metadata": {}
        }
      ]
    },
    {
      "cell_type": "code",
      "source": [
        "import pandas as pd\n",
        "\n",
        "# Assuming df is your loaded DataFrame from final_AQI.zip\n",
        "df['Start_TS'] = pd.to_datetime(df['Start_TS'])\n",
        "df['End_Date'] = pd.to_datetime(df['End_Date'])\n",
        "\n",
        "# Check conversion\n",
        "print(df[['Start_TS', 'End_Date']].head())\n"
      ],
      "metadata": {
        "collapsed": true,
        "id": "xC1RcOyZq7O5",
        "colab": {
          "base_uri": "https://localhost:8080/"
        },
        "outputId": "14c6179b-77c2-4420-eceb-ade267286298"
      },
      "execution_count": 10,
      "outputs": [
        {
          "output_type": "stream",
          "name": "stdout",
          "text": [
            "                   Start_TS                  End_Date\n",
            "0 2010-01-01 00:00:00+00:00 2010-01-01 01:00:00+00:00\n",
            "1 2010-01-01 00:00:00+00:00 2010-01-01 01:00:00+00:00\n",
            "2 2010-01-01 01:00:00+00:00 2010-01-01 02:00:00+00:00\n",
            "3 2010-01-01 01:00:00+00:00 2010-01-01 02:00:00+00:00\n",
            "4 2010-01-01 02:00:00+00:00 2010-01-01 03:00:00+00:00\n"
          ]
        }
      ]
    },
    {
      "cell_type": "code",
      "source": [
        "derived_cols = [col for col in df.columns if col.startswith(('Rolling_', 'Lag_'))] + ['AQI_CPCB', 'AQI_Category']\n",
        "\n",
        "missing_counts = df[derived_cols].isnull().sum()\n",
        "print(missing_counts)\n"
      ],
      "metadata": {
        "collapsed": true,
        "id": "j03n1xTQq7SZ",
        "colab": {
          "base_uri": "https://localhost:8080/"
        },
        "outputId": "39aa37d5-fd28-4651-d3a5-afff80866dbe"
      },
      "execution_count": 11,
      "outputs": [
        {
          "output_type": "stream",
          "name": "stdout",
          "text": [
            "Rolling_PM25_mean          0\n",
            "Lag_PM25_1h                1\n",
            "Rolling_Temperature_max    0\n",
            "Rolling_PM10_mean          0\n",
            "Lag_PM10_1h                1\n",
            "Rolling_PM10_max_7d        0\n",
            "Rolling_NO2_mean           0\n",
            "Lag_NO2_1h                 1\n",
            "Rolling_NO2_max_7d         0\n",
            "Rolling_CO_mean            0\n",
            "Lag_CO_1h                  1\n",
            "Rolling_CO_max_7d          0\n",
            "Rolling_SO2_mean           0\n",
            "Lag_SO2_1h                 1\n",
            "Rolling_SO2_max_7d         0\n",
            "AQI_CPCB                   0\n",
            "AQI_Category               0\n",
            "dtype: int64\n"
          ]
        }
      ]
    },
    {
      "cell_type": "code",
      "source": [
        "df[derived_cols] = df[derived_cols].ffill().fillna(0)\n",
        "\n"
      ],
      "metadata": {
        "id": "NWXIdPCryy0L"
      },
      "execution_count": 12,
      "outputs": []
    },
    {
      "cell_type": "code",
      "source": [
        "lag_cols = ['Lag_PM25_1h', 'Lag_PM10_1h', 'Lag_NO2_1h', 'Lag_CO_1h', 'Lag_SO2_1h']\n",
        "\n",
        "# Drop rows with NaN in any lag column\n",
        "df_clean = df.dropna(subset=lag_cols)\n",
        "\n",
        "print(f\"Shape before dropping: {df.shape}\")\n",
        "print(f\"Shape after dropping: {df_clean.shape}\")\n"
      ],
      "metadata": {
        "collapsed": true,
        "id": "7OC52R1lyy4I",
        "colab": {
          "base_uri": "https://localhost:8080/"
        },
        "outputId": "f402622b-46a4-42f4-f602-9ad64c8e3d22"
      },
      "execution_count": 13,
      "outputs": [
        {
          "output_type": "stream",
          "name": "stdout",
          "text": [
            "Shape before dropping: (1332059, 52)\n",
            "Shape after dropping: (1332059, 52)\n"
          ]
        }
      ]
    },
    {
      "cell_type": "code",
      "source": [
        "df.nunique().sort_values()  # to check unique values per column\n"
      ],
      "metadata": {
        "collapsed": true,
        "id": "w7Rpsprjyy6-",
        "colab": {
          "base_uri": "https://localhost:8080/",
          "height": 1000
        },
        "outputId": "44d97525-683c-4678-d155-56d4c5395db5"
      },
      "execution_count": 14,
      "outputs": [
        {
          "output_type": "execute_result",
          "data": {
            "text/plain": [
              "AQI_Category                    6\n",
              "AQI_CPCB                      501\n",
              "Rolling_PM10_max_7d           936\n",
              "Rolling_Temperature_max      1051\n",
              "Rolling_CO_max_7d            1918\n",
              "Rolling_SO2_max_7d           1970\n",
              "Rolling_NO2_max_7d           1997\n",
              "AQI_CO                       4461\n",
              "ETH_BENZENE                  5142\n",
              "Lag_CO_1h                    9272\n",
              "CO                           9272\n",
              "TEMP_C                       9957\n",
              "O_XYLENE                    10020\n",
              "AQI_SO2                     11387\n",
              "SO2                         11562\n",
              "Lag_SO2_1h                  11562\n",
              "AQI_NH3                     11972\n",
              "NH3                         11980\n",
              "AQI_NO2                     14729\n",
              "NO2                         14942\n",
              "Lag_NO2_1h                  14942\n",
              "AQI_OZONE                   15721\n",
              "NO                          15746\n",
              "OZONE                       15956\n",
              "NOX                         17824\n",
              "AQI_PM25                    20898\n",
              "MP_XYLENE                   21462\n",
              "Lag_PM25_1h                 21755\n",
              "PM25                        21755\n",
              "AQI_PM10                    24063\n",
              "BENZENE                     24367\n",
              "PM10                        24965\n",
              "Lag_PM10_1h                 24965\n",
              "RH                          28829\n",
              "TOLUENE                     31162\n",
              "VWS                         40340\n",
              "BP                          48133\n",
              "SR                          51177\n",
              "WS                          62188\n",
              "WD                          72172\n",
              "Rolling_CO_mean             93132\n",
              "Start_TS                   116112\n",
              "End_Date                   116112\n",
              "Start_TS_unix              116112\n",
              "Rolling_PM25_mean          142172\n",
              "Rolling_SO2_mean           150232\n",
              "Rolling_NO2_mean           178505\n",
              "Rolling_PM10_mean          209034\n",
              "HUMIDITY_TEMP_INDEX        390538\n",
              "PM25_WIND_SCALED           417884\n",
              "PM_RATIO                   448976\n",
              "NOX_TO_NO2                 772891\n",
              "dtype: int64"
            ],
            "text/html": [
              "<div>\n",
              "<style scoped>\n",
              "    .dataframe tbody tr th:only-of-type {\n",
              "        vertical-align: middle;\n",
              "    }\n",
              "\n",
              "    .dataframe tbody tr th {\n",
              "        vertical-align: top;\n",
              "    }\n",
              "\n",
              "    .dataframe thead th {\n",
              "        text-align: right;\n",
              "    }\n",
              "</style>\n",
              "<table border=\"1\" class=\"dataframe\">\n",
              "  <thead>\n",
              "    <tr style=\"text-align: right;\">\n",
              "      <th></th>\n",
              "      <th>0</th>\n",
              "    </tr>\n",
              "  </thead>\n",
              "  <tbody>\n",
              "    <tr>\n",
              "      <th>AQI_Category</th>\n",
              "      <td>6</td>\n",
              "    </tr>\n",
              "    <tr>\n",
              "      <th>AQI_CPCB</th>\n",
              "      <td>501</td>\n",
              "    </tr>\n",
              "    <tr>\n",
              "      <th>Rolling_PM10_max_7d</th>\n",
              "      <td>936</td>\n",
              "    </tr>\n",
              "    <tr>\n",
              "      <th>Rolling_Temperature_max</th>\n",
              "      <td>1051</td>\n",
              "    </tr>\n",
              "    <tr>\n",
              "      <th>Rolling_CO_max_7d</th>\n",
              "      <td>1918</td>\n",
              "    </tr>\n",
              "    <tr>\n",
              "      <th>Rolling_SO2_max_7d</th>\n",
              "      <td>1970</td>\n",
              "    </tr>\n",
              "    <tr>\n",
              "      <th>Rolling_NO2_max_7d</th>\n",
              "      <td>1997</td>\n",
              "    </tr>\n",
              "    <tr>\n",
              "      <th>AQI_CO</th>\n",
              "      <td>4461</td>\n",
              "    </tr>\n",
              "    <tr>\n",
              "      <th>ETH_BENZENE</th>\n",
              "      <td>5142</td>\n",
              "    </tr>\n",
              "    <tr>\n",
              "      <th>Lag_CO_1h</th>\n",
              "      <td>9272</td>\n",
              "    </tr>\n",
              "    <tr>\n",
              "      <th>CO</th>\n",
              "      <td>9272</td>\n",
              "    </tr>\n",
              "    <tr>\n",
              "      <th>TEMP_C</th>\n",
              "      <td>9957</td>\n",
              "    </tr>\n",
              "    <tr>\n",
              "      <th>O_XYLENE</th>\n",
              "      <td>10020</td>\n",
              "    </tr>\n",
              "    <tr>\n",
              "      <th>AQI_SO2</th>\n",
              "      <td>11387</td>\n",
              "    </tr>\n",
              "    <tr>\n",
              "      <th>SO2</th>\n",
              "      <td>11562</td>\n",
              "    </tr>\n",
              "    <tr>\n",
              "      <th>Lag_SO2_1h</th>\n",
              "      <td>11562</td>\n",
              "    </tr>\n",
              "    <tr>\n",
              "      <th>AQI_NH3</th>\n",
              "      <td>11972</td>\n",
              "    </tr>\n",
              "    <tr>\n",
              "      <th>NH3</th>\n",
              "      <td>11980</td>\n",
              "    </tr>\n",
              "    <tr>\n",
              "      <th>AQI_NO2</th>\n",
              "      <td>14729</td>\n",
              "    </tr>\n",
              "    <tr>\n",
              "      <th>NO2</th>\n",
              "      <td>14942</td>\n",
              "    </tr>\n",
              "    <tr>\n",
              "      <th>Lag_NO2_1h</th>\n",
              "      <td>14942</td>\n",
              "    </tr>\n",
              "    <tr>\n",
              "      <th>AQI_OZONE</th>\n",
              "      <td>15721</td>\n",
              "    </tr>\n",
              "    <tr>\n",
              "      <th>NO</th>\n",
              "      <td>15746</td>\n",
              "    </tr>\n",
              "    <tr>\n",
              "      <th>OZONE</th>\n",
              "      <td>15956</td>\n",
              "    </tr>\n",
              "    <tr>\n",
              "      <th>NOX</th>\n",
              "      <td>17824</td>\n",
              "    </tr>\n",
              "    <tr>\n",
              "      <th>AQI_PM25</th>\n",
              "      <td>20898</td>\n",
              "    </tr>\n",
              "    <tr>\n",
              "      <th>MP_XYLENE</th>\n",
              "      <td>21462</td>\n",
              "    </tr>\n",
              "    <tr>\n",
              "      <th>Lag_PM25_1h</th>\n",
              "      <td>21755</td>\n",
              "    </tr>\n",
              "    <tr>\n",
              "      <th>PM25</th>\n",
              "      <td>21755</td>\n",
              "    </tr>\n",
              "    <tr>\n",
              "      <th>AQI_PM10</th>\n",
              "      <td>24063</td>\n",
              "    </tr>\n",
              "    <tr>\n",
              "      <th>BENZENE</th>\n",
              "      <td>24367</td>\n",
              "    </tr>\n",
              "    <tr>\n",
              "      <th>PM10</th>\n",
              "      <td>24965</td>\n",
              "    </tr>\n",
              "    <tr>\n",
              "      <th>Lag_PM10_1h</th>\n",
              "      <td>24965</td>\n",
              "    </tr>\n",
              "    <tr>\n",
              "      <th>RH</th>\n",
              "      <td>28829</td>\n",
              "    </tr>\n",
              "    <tr>\n",
              "      <th>TOLUENE</th>\n",
              "      <td>31162</td>\n",
              "    </tr>\n",
              "    <tr>\n",
              "      <th>VWS</th>\n",
              "      <td>40340</td>\n",
              "    </tr>\n",
              "    <tr>\n",
              "      <th>BP</th>\n",
              "      <td>48133</td>\n",
              "    </tr>\n",
              "    <tr>\n",
              "      <th>SR</th>\n",
              "      <td>51177</td>\n",
              "    </tr>\n",
              "    <tr>\n",
              "      <th>WS</th>\n",
              "      <td>62188</td>\n",
              "    </tr>\n",
              "    <tr>\n",
              "      <th>WD</th>\n",
              "      <td>72172</td>\n",
              "    </tr>\n",
              "    <tr>\n",
              "      <th>Rolling_CO_mean</th>\n",
              "      <td>93132</td>\n",
              "    </tr>\n",
              "    <tr>\n",
              "      <th>Start_TS</th>\n",
              "      <td>116112</td>\n",
              "    </tr>\n",
              "    <tr>\n",
              "      <th>End_Date</th>\n",
              "      <td>116112</td>\n",
              "    </tr>\n",
              "    <tr>\n",
              "      <th>Start_TS_unix</th>\n",
              "      <td>116112</td>\n",
              "    </tr>\n",
              "    <tr>\n",
              "      <th>Rolling_PM25_mean</th>\n",
              "      <td>142172</td>\n",
              "    </tr>\n",
              "    <tr>\n",
              "      <th>Rolling_SO2_mean</th>\n",
              "      <td>150232</td>\n",
              "    </tr>\n",
              "    <tr>\n",
              "      <th>Rolling_NO2_mean</th>\n",
              "      <td>178505</td>\n",
              "    </tr>\n",
              "    <tr>\n",
              "      <th>Rolling_PM10_mean</th>\n",
              "      <td>209034</td>\n",
              "    </tr>\n",
              "    <tr>\n",
              "      <th>HUMIDITY_TEMP_INDEX</th>\n",
              "      <td>390538</td>\n",
              "    </tr>\n",
              "    <tr>\n",
              "      <th>PM25_WIND_SCALED</th>\n",
              "      <td>417884</td>\n",
              "    </tr>\n",
              "    <tr>\n",
              "      <th>PM_RATIO</th>\n",
              "      <td>448976</td>\n",
              "    </tr>\n",
              "    <tr>\n",
              "      <th>NOX_TO_NO2</th>\n",
              "      <td>772891</td>\n",
              "    </tr>\n",
              "  </tbody>\n",
              "</table>\n",
              "</div><br><label><b>dtype:</b> int64</label>"
            ]
          },
          "metadata": {},
          "execution_count": 14
        }
      ]
    },
    {
      "cell_type": "code",
      "source": [
        "import pandas as pd\n",
        "from sklearn.ensemble import RandomForestRegressor\n",
        "from sklearn.model_selection import train_test_split\n",
        "import matplotlib.pyplot as plt\n",
        "\n",
        "# Parameters\n",
        "target_col = 'AQI_CPCB'\n",
        "sample_size = 100_000  # adjust based on your memory & time constraints\n",
        "\n",
        "# 1️⃣ Sample data\n",
        "df_sample = df.sample(n=sample_size, random_state=42)\n",
        "\n",
        "# 2️⃣ Prepare features and target\n",
        "X = df_sample.drop(columns=[target_col])\n",
        "# Drop datetime columns to avoid dtype errors\n",
        "X = X.select_dtypes(exclude=['datetime64[ns]', 'datetime64[ns, UTC]'])\n",
        "# One-hot encode categorical features if any\n",
        "X = pd.get_dummies(X)\n",
        "\n",
        "y = df_sample[target_col]\n",
        "\n",
        "# 3️⃣ Train-test split\n",
        "X_train, X_val, y_train, y_val = train_test_split(\n",
        "    X, y, test_size=0.2, random_state=42)\n",
        "\n",
        "# 4️⃣ Train Random Forest\n",
        "rf = RandomForestRegressor(n_estimators=100, random_state=42, n_jobs=-1)\n",
        "rf.fit(X_train, y_train)\n",
        "\n",
        "# 5️⃣ Get feature importances\n",
        "importances = pd.Series(rf.feature_importances_, index=X.columns).sort_values(ascending=False)\n",
        "\n",
        "# 6️⃣ Show top 20 features\n",
        "print(\"\\n🎯 Top 20 Important Features (Random Forest):\")\n",
        "print(importances.head(20))\n",
        "\n",
        "# 7️⃣ Plot\n",
        "plt.figure(figsize=(10, 6))\n",
        "importances.head(20).plot(kind='barh')\n",
        "plt.gca().invert_yaxis()\n",
        "plt.title(f\"Top 20 Features for {target_col} (Random Forest)\")\n",
        "plt.xlabel(\"Importance Score\")\n",
        "plt.tight_layout()\n",
        "plt.show()\n"
      ],
      "metadata": {
        "collapsed": true,
        "id": "gPNkGUGcyzAn",
        "colab": {
          "base_uri": "https://localhost:8080/",
          "height": 1000
        },
        "outputId": "45f61221-fc41-4009-dea2-f2b6144d1296"
      },
      "execution_count": 15,
      "outputs": [
        {
          "output_type": "stream",
          "name": "stdout",
          "text": [
            "\n",
            "🎯 Top 20 Important Features (Random Forest):\n",
            "AQI_Category_Good            0.393292\n",
            "AQI_Category_Satisfactory    0.179309\n",
            "AQI_Category_Moderate        0.166624\n",
            "AQI_CO                       0.085019\n",
            "AQI_PM25                     0.082532\n",
            "AQI_Category_Poor            0.026727\n",
            "AQI_NO2                      0.011009\n",
            "AQI_PM10                     0.009516\n",
            "AQI_Category_Severe          0.009512\n",
            "NO2                          0.008644\n",
            "PM25                         0.007328\n",
            "NOX_TO_NO2                   0.007044\n",
            "AQI_Category_Very Poor       0.004342\n",
            "AQI_OZONE                    0.003478\n",
            "PM10                         0.001960\n",
            "CO                           0.001573\n",
            "OZONE                        0.001128\n",
            "AQI_SO2                      0.000561\n",
            "SO2                          0.000271\n",
            "PM_RATIO                     0.000026\n",
            "dtype: float64\n"
          ]
        },
        {
          "output_type": "display_data",
          "data": {
            "text/plain": [
              "<Figure size 1000x600 with 1 Axes>"
            ],
            "image/png": "[encoded data removed]"
          },
          "metadata": {}
        }
      ]
    },
    {
      "cell_type": "code",
      "source": [
        "# Filter only your features of interest from the importance series\n",
        "features_of_interest = [\n",
        "    'Rolling_PM25_mean', 'Lag_PM25_1h',\n",
        "    'Rolling_Temperature_max',\n",
        "    'Rolling_PM10_mean', 'Lag_PM10_1h', 'Rolling_PM10_max_7d',\n",
        "    'Rolling_NO2_mean', 'Lag_NO2_1h', 'Rolling_NO2_max_7d',\n",
        "    'Rolling_CO_mean', 'Lag_CO_1h', 'Rolling_CO_max_7d',\n",
        "    'Rolling_SO2_mean', 'Lag_SO2_1h', 'Rolling_SO2_max_7d'\n",
        "]\n",
        "\n",
        "importances_of_interest = importances.loc[\n",
        "    importances.index.intersection(features_of_interest)\n",
        "]\n",
        "\n",
        "print(importances_of_interest.sort_values(ascending=False))\n"
      ],
      "metadata": {
        "id": "IVMyEpDCyzDQ",
        "colab": {
          "base_uri": "https://localhost:8080/"
        },
        "collapsed": true,
        "outputId": "1611617c-8f79-4b8b-9818-3b59e70ba5fc"
      },
      "execution_count": 16,
      "outputs": [
        {
          "output_type": "stream",
          "name": "stdout",
          "text": [
            "Rolling_NO2_mean           0.000011\n",
            "Rolling_CO_mean            0.000008\n",
            "Rolling_PM10_mean          0.000006\n",
            "Rolling_SO2_mean           0.000006\n",
            "Rolling_CO_max_7d          0.000004\n",
            "Rolling_PM25_mean          0.000004\n",
            "Rolling_SO2_max_7d         0.000003\n",
            "Rolling_PM10_max_7d        0.000003\n",
            "Lag_NO2_1h                 0.000003\n",
            "Rolling_NO2_max_7d         0.000003\n",
            "Lag_PM25_1h                0.000003\n",
            "Rolling_Temperature_max    0.000003\n",
            "Lag_SO2_1h                 0.000002\n",
            "Lag_PM10_1h                0.000002\n",
            "Lag_CO_1h                  0.000002\n",
            "dtype: float64\n"
          ]
        }
      ]
    },
    {
      "cell_type": "code",
      "source": [
        "!pip install optuna\n",
        "!pip install mlflow"
      ],
      "metadata": {
        "collapsed": true,
        "id": "eL2xNFGV8AmW",
        "colab": {
          "base_uri": "https://localhost:8080/"
        },
        "outputId": "af6c10a6-3648-4bc6-cd93-8f09cdf4b993"
      },
      "execution_count": 17,
      "outputs": [
        {
          "output_type": "stream",
          "name": "stdout",
          "text": [
            "Collecting optuna\n",
            "  Downloading optuna-4.3.0-py3-none-any.whl.metadata (17 kB)\n",
            "Collecting alembic>=1.5.0 (from optuna)\n",
            "  Downloading alembic-1.16.1-py3-none-any.whl.metadata (7.3 kB)\n",
            "Collecting colorlog (from optuna)\n",
            "  Downloading colorlog-6.9.0-py3-none-any.whl.metadata (10 kB)\n",
            "Requirement already satisfied: numpy in /usr/local/lib/python3.11/dist-packages (from optuna) (2.0.2)\n",
            "Requirement already satisfied: packaging>=20.0 in /usr/local/lib/python3.11/dist-packages (from optuna) (24.2)\n",
            "Requirement already satisfied: sqlalchemy>=1.4.2 in /usr/local/lib/python3.11/dist-packages (from optuna) (2.0.41)\n",
            "Requirement already satisfied: tqdm in /usr/local/lib/python3.11/dist-packages (from optuna) (4.67.1)\n",
            "Requirement already satisfied: PyYAML in /usr/local/lib/python3.11/dist-packages (from optuna) (6.0.2)\n",
            "Requirement already satisfied: Mako in /usr/lib/python3/dist-packages (from alembic>=1.5.0->optuna) (1.1.3)\n",
            "Requirement already satisfied: typing-extensions>=4.12 in /usr/local/lib/python3.11/dist-packages (from alembic>=1.5.0->optuna) (4.14.0)\n",
            "Requirement already satisfied: greenlet>=1 in /usr/local/lib/python3.11/dist-packages (from sqlalchemy>=1.4.2->optuna) (3.2.2)\n",
            "Downloading optuna-4.3.0-py3-none-any.whl (386 kB)\n",
            "\u001b[2K   \u001b[90m━━━━━━━━━━━━━━━━━━━━━━━━━━━━━━━━━━━━━━━━\u001b[0m \u001b[32m386.6/386.6 kB\u001b[0m \u001b[31m11.9 MB/s\u001b[0m eta \u001b[36m0:00:00\u001b[0m\n",
            "\u001b[?25hDownloading alembic-1.16.1-py3-none-any.whl (242 kB)\n",
            "\u001b[2K   \u001b[90m━━━━━━━━━━━━━━━━━━━━━━━━━━━━━━━━━━━━━━━━\u001b[0m \u001b[32m242.5/242.5 kB\u001b[0m \u001b[31m15.1 MB/s\u001b[0m eta \u001b[36m0:00:00\u001b[0m\n",
            "\u001b[?25hDownloading colorlog-6.9.0-py3-none-any.whl (11 kB)\n",
            "Installing collected packages: colorlog, alembic, optuna\n",
            "Successfully installed alembic-1.16.1 colorlog-6.9.0 optuna-4.3.0\n",
            "Collecting mlflow\n",
            "  Downloading mlflow-2.22.1-py3-none-any.whl.metadata (30 kB)\n",
            "Collecting mlflow-skinny==2.22.1 (from mlflow)\n",
            "  Downloading mlflow_skinny-2.22.1-py3-none-any.whl.metadata (31 kB)\n",
            "Requirement already satisfied: Flask<4 in /usr/local/lib/python3.11/dist-packages (from mlflow) (3.1.1)\n",
            "Requirement already satisfied: Jinja2<4,>=2.11 in /usr/local/lib/python3.11/dist-packages (from mlflow) (3.1.6)\n",
            "Requirement already satisfied: alembic!=1.10.0,<2 in /usr/local/lib/python3.11/dist-packages (from mlflow) (1.16.1)\n",
            "Collecting docker<8,>=4.0.0 (from mlflow)\n",
            "  Downloading docker-7.1.0-py3-none-any.whl.metadata (3.8 kB)\n",
            "Collecting graphene<4 (from mlflow)\n",
            "  Downloading graphene-3.4.3-py2.py3-none-any.whl.metadata (6.9 kB)\n",
            "Collecting gunicorn<24 (from mlflow)\n",
            "  Downloading gunicorn-23.0.0-py3-none-any.whl.metadata (4.4 kB)\n",
            "Requirement already satisfied: markdown<4,>=3.3 in /usr/local/lib/python3.11/dist-packages (from mlflow) (3.8)\n",
            "Requirement already satisfied: matplotlib<4 in /usr/local/lib/python3.11/dist-packages (from mlflow) (3.10.0)\n",
            "Requirement already satisfied: numpy<3 in /usr/local/lib/python3.11/dist-packages (from mlflow) (2.0.2)\n",
            "Requirement already satisfied: pandas!=2.3.0,<3 in /usr/local/lib/python3.11/dist-packages (from mlflow) (2.2.2)\n",
            "Requirement already satisfied: pyarrow<20,>=4.0.0 in /usr/local/lib/python3.11/dist-packages (from mlflow) (18.1.0)\n",
            "Requirement already satisfied: scikit-learn<2 in /usr/local/lib/python3.11/dist-packages (from mlflow) (1.6.1)\n",
            "Requirement already satisfied: scipy<2 in /usr/local/lib/python3.11/dist-packages (from mlflow) (1.15.3)\n",
            "Requirement already satisfied: sqlalchemy<3,>=1.4.0 in /usr/local/lib/python3.11/dist-packages (from mlflow) (2.0.41)\n",
            "Requirement already satisfied: cachetools<6,>=5.0.0 in /usr/local/lib/python3.11/dist-packages (from mlflow-skinny==2.22.1->mlflow) (5.5.2)\n",
            "Requirement already satisfied: click<9,>=7.0 in /usr/local/lib/python3.11/dist-packages (from mlflow-skinny==2.22.1->mlflow) (8.2.1)\n",
            "Requirement already satisfied: cloudpickle<4 in /usr/local/lib/python3.11/dist-packages (from mlflow-skinny==2.22.1->mlflow) (3.1.1)\n",
            "Collecting databricks-sdk<1,>=0.20.0 (from mlflow-skinny==2.22.1->mlflow)\n",
            "  Downloading databricks_sdk-0.56.0-py3-none-any.whl.metadata (39 kB)\n",
            "Requirement already satisfied: fastapi<1 in /usr/local/lib/python3.11/dist-packages (from mlflow-skinny==2.22.1->mlflow) (0.115.12)\n",
            "Requirement already satisfied: gitpython<4,>=3.1.9 in /usr/local/lib/python3.11/dist-packages (from mlflow-skinny==2.22.1->mlflow) (3.1.44)\n",
            "Requirement already satisfied: importlib_metadata!=4.7.0,<9,>=3.7.0 in /usr/local/lib/python3.11/dist-packages (from mlflow-skinny==2.22.1->mlflow) (8.7.0)\n",
            "Collecting opentelemetry-api<3,>=1.9.0 (from mlflow-skinny==2.22.1->mlflow)\n",
            "  Downloading opentelemetry_api-1.34.0-py3-none-any.whl.metadata (1.5 kB)\n",
            "Collecting opentelemetry-sdk<3,>=1.9.0 (from mlflow-skinny==2.22.1->mlflow)\n",
            "  Downloading opentelemetry_sdk-1.34.0-py3-none-any.whl.metadata (1.6 kB)\n",
            "Requirement already satisfied: packaging<25 in /usr/local/lib/python3.11/dist-packages (from mlflow-skinny==2.22.1->mlflow) (24.2)\n",
            "Requirement already satisfied: protobuf<7,>=3.12.0 in /usr/local/lib/python3.11/dist-packages (from mlflow-skinny==2.22.1->mlflow) (5.29.5)\n",
            "Requirement already satisfied: pydantic<3,>=1.10.8 in /usr/local/lib/python3.11/dist-packages (from mlflow-skinny==2.22.1->mlflow) (2.11.5)\n",
            "Requirement already satisfied: pyyaml<7,>=5.1 in /usr/local/lib/python3.11/dist-packages (from mlflow-skinny==2.22.1->mlflow) (6.0.2)\n",
            "Requirement already satisfied: requests<3,>=2.17.3 in /usr/local/lib/python3.11/dist-packages (from mlflow-skinny==2.22.1->mlflow) (2.32.3)\n",
            "Requirement already satisfied: sqlparse<1,>=0.4.0 in /usr/local/lib/python3.11/dist-packages (from mlflow-skinny==2.22.1->mlflow) (0.5.3)\n",
            "Requirement already satisfied: typing-extensions<5,>=4.0.0 in /usr/local/lib/python3.11/dist-packages (from mlflow-skinny==2.22.1->mlflow) (4.14.0)\n",
            "Requirement already satisfied: uvicorn<1 in /usr/local/lib/python3.11/dist-packages (from mlflow-skinny==2.22.1->mlflow) (0.34.3)\n",
            "Requirement already satisfied: Mako in /usr/lib/python3/dist-packages (from alembic!=1.10.0,<2->mlflow) (1.1.3)\n",
            "Requirement already satisfied: urllib3>=1.26.0 in /usr/local/lib/python3.11/dist-packages (from docker<8,>=4.0.0->mlflow) (2.4.0)\n",
            "Requirement already satisfied: blinker>=1.9.0 in /usr/local/lib/python3.11/dist-packages (from Flask<4->mlflow) (1.9.0)\n",
            "Requirement already satisfied: itsdangerous>=2.2.0 in /usr/local/lib/python3.11/dist-packages (from Flask<4->mlflow) (2.2.0)\n",
            "Requirement already satisfied: markupsafe>=2.1.1 in /usr/local/lib/python3.11/dist-packages (from Flask<4->mlflow) (3.0.2)\n",
            "Requirement already satisfied: werkzeug>=3.1.0 in /usr/local/lib/python3.11/dist-packages (from Flask<4->mlflow) (3.1.3)\n",
            "Collecting graphql-core<3.3,>=3.1 (from graphene<4->mlflow)\n",
            "  Downloading graphql_core-3.2.6-py3-none-any.whl.metadata (11 kB)\n",
            "Collecting graphql-relay<3.3,>=3.1 (from graphene<4->mlflow)\n",
            "  Downloading graphql_relay-3.2.0-py3-none-any.whl.metadata (12 kB)\n",
            "Requirement already satisfied: python-dateutil<3,>=2.7.0 in /usr/local/lib/python3.11/dist-packages (from graphene<4->mlflow) (2.9.0.post0)\n",
            "Requirement already satisfied: contourpy>=1.0.1 in /usr/local/lib/python3.11/dist-packages (from matplotlib<4->mlflow) (1.3.2)\n",
            "Requirement already satisfied: cycler>=0.10 in /usr/local/lib/python3.11/dist-packages (from matplotlib<4->mlflow) (0.12.1)\n",
            "Requirement already satisfied: fonttools>=4.22.0 in /usr/local/lib/python3.11/dist-packages (from matplotlib<4->mlflow) (4.58.1)\n",
            "Requirement already satisfied: kiwisolver>=1.3.1 in /usr/local/lib/python3.11/dist-packages (from matplotlib<4->mlflow) (1.4.8)\n",
            "Requirement already satisfied: pillow>=8 in /usr/local/lib/python3.11/dist-packages (from matplotlib<4->mlflow) (11.2.1)\n",
            "Requirement already satisfied: pyparsing>=2.3.1 in /usr/local/lib/python3.11/dist-packages (from matplotlib<4->mlflow) (3.2.3)\n",
            "Requirement already satisfied: pytz>=2020.1 in /usr/local/lib/python3.11/dist-packages (from pandas!=2.3.0,<3->mlflow) (2025.2)\n",
            "Requirement already satisfied: tzdata>=2022.7 in /usr/local/lib/python3.11/dist-packages (from pandas!=2.3.0,<3->mlflow) (2025.2)\n",
            "Requirement already satisfied: joblib>=1.2.0 in /usr/local/lib/python3.11/dist-packages (from scikit-learn<2->mlflow) (1.5.1)\n",
            "Requirement already satisfied: threadpoolctl>=3.1.0 in /usr/local/lib/python3.11/dist-packages (from scikit-learn<2->mlflow) (3.6.0)\n",
            "Requirement already satisfied: greenlet>=1 in /usr/local/lib/python3.11/dist-packages (from sqlalchemy<3,>=1.4.0->mlflow) (3.2.2)\n",
            "Requirement already satisfied: google-auth~=2.0 in /usr/local/lib/python3.11/dist-packages (from databricks-sdk<1,>=0.20.0->mlflow-skinny==2.22.1->mlflow) (2.38.0)\n",
            "Requirement already satisfied: starlette<0.47.0,>=0.40.0 in /usr/local/lib/python3.11/dist-packages (from fastapi<1->mlflow-skinny==2.22.1->mlflow) (0.46.2)\n",
            "Requirement already satisfied: gitdb<5,>=4.0.1 in /usr/local/lib/python3.11/dist-packages (from gitpython<4,>=3.1.9->mlflow-skinny==2.22.1->mlflow) (4.0.12)\n",
            "Requirement already satisfied: zipp>=3.20 in /usr/local/lib/python3.11/dist-packages (from importlib_metadata!=4.7.0,<9,>=3.7.0->mlflow-skinny==2.22.1->mlflow) (3.22.0)\n",
            "Collecting opentelemetry-semantic-conventions==0.55b0 (from opentelemetry-sdk<3,>=1.9.0->mlflow-skinny==2.22.1->mlflow)\n",
            "  Downloading opentelemetry_semantic_conventions-0.55b0-py3-none-any.whl.metadata (2.5 kB)\n",
            "Requirement already satisfied: annotated-types>=0.6.0 in /usr/local/lib/python3.11/dist-packages (from pydantic<3,>=1.10.8->mlflow-skinny==2.22.1->mlflow) (0.7.0)\n",
            "Requirement already satisfied: pydantic-core==2.33.2 in /usr/local/lib/python3.11/dist-packages (from pydantic<3,>=1.10.8->mlflow-skinny==2.22.1->mlflow) (2.33.2)\n",
            "Requirement already satisfied: typing-inspection>=0.4.0 in /usr/local/lib/python3.11/dist-packages (from pydantic<3,>=1.10.8->mlflow-skinny==2.22.1->mlflow) (0.4.1)\n",
            "Requirement already satisfied: six>=1.5 in /usr/local/lib/python3.11/dist-packages (from python-dateutil<3,>=2.7.0->graphene<4->mlflow) (1.17.0)\n",
            "Requirement already satisfied: charset-normalizer<4,>=2 in /usr/local/lib/python3.11/dist-packages (from requests<3,>=2.17.3->mlflow-skinny==2.22.1->mlflow) (3.4.2)\n",
            "Requirement already satisfied: idna<4,>=2.5 in /usr/local/lib/python3.11/dist-packages (from requests<3,>=2.17.3->mlflow-skinny==2.22.1->mlflow) (3.10)\n",
            "Requirement already satisfied: certifi>=2017.4.17 in /usr/local/lib/python3.11/dist-packages (from requests<3,>=2.17.3->mlflow-skinny==2.22.1->mlflow) (2025.4.26)\n",
            "Requirement already satisfied: h11>=0.8 in /usr/local/lib/python3.11/dist-packages (from uvicorn<1->mlflow-skinny==2.22.1->mlflow) (0.16.0)\n",
            "Requirement already satisfied: smmap<6,>=3.0.1 in /usr/local/lib/python3.11/dist-packages (from gitdb<5,>=4.0.1->gitpython<4,>=3.1.9->mlflow-skinny==2.22.1->mlflow) (5.0.2)\n",
            "Requirement already satisfied: pyasn1-modules>=0.2.1 in /usr/local/lib/python3.11/dist-packages (from google-auth~=2.0->databricks-sdk<1,>=0.20.0->mlflow-skinny==2.22.1->mlflow) (0.4.2)\n",
            "Requirement already satisfied: rsa<5,>=3.1.4 in /usr/local/lib/python3.11/dist-packages (from google-auth~=2.0->databricks-sdk<1,>=0.20.0->mlflow-skinny==2.22.1->mlflow) (4.9.1)\n",
            "Requirement already satisfied: anyio<5,>=3.6.2 in /usr/local/lib/python3.11/dist-packages (from starlette<0.47.0,>=0.40.0->fastapi<1->mlflow-skinny==2.22.1->mlflow) (4.9.0)\n",
            "Requirement already satisfied: sniffio>=1.1 in /usr/local/lib/python3.11/dist-packages (from anyio<5,>=3.6.2->starlette<0.47.0,>=0.40.0->fastapi<1->mlflow-skinny==2.22.1->mlflow) (1.3.1)\n",
            "Requirement already satisfied: pyasn1<0.7.0,>=0.6.1 in /usr/local/lib/python3.11/dist-packages (from pyasn1-modules>=0.2.1->google-auth~=2.0->databricks-sdk<1,>=0.20.0->mlflow-skinny==2.22.1->mlflow) (0.6.1)\n",
            "Downloading mlflow-2.22.1-py3-none-any.whl (29.0 MB)\n",
            "\u001b[2K   \u001b[90m━━━━━━━━━━━━━━━━━━━━━━━━━━━━━━━━━━━━━━━━\u001b[0m \u001b[32m29.0/29.0 MB\u001b[0m \u001b[31m22.0 MB/s\u001b[0m eta \u001b[36m0:00:00\u001b[0m\n",
            "\u001b[?25hDownloading mlflow_skinny-2.22.1-py3-none-any.whl (6.3 MB)\n",
            "\u001b[2K   \u001b[90m━━━━━━━━━━━━━━━━━━━━━━━━━━━━━━━━━━━━━━━━\u001b[0m \u001b[32m6.3/6.3 MB\u001b[0m \u001b[31m17.8 MB/s\u001b[0m eta \u001b[36m0:00:00\u001b[0m\n",
            "\u001b[?25hDownloading docker-7.1.0-py3-none-any.whl (147 kB)\n",
            "\u001b[2K   \u001b[90m━━━━━━━━━━━━━━━━━━━━━━━━━━━━━━━━━━━━━━━━\u001b[0m \u001b[32m147.8/147.8 kB\u001b[0m \u001b[31m8.1 MB/s\u001b[0m eta \u001b[36m0:00:00\u001b[0m\n",
            "\u001b[?25hDownloading graphene-3.4.3-py2.py3-none-any.whl (114 kB)\n",
            "\u001b[2K   \u001b[90m━━━━━━━━━━━━━━━━━━━━━━━━━━━━━━━━━━━━━━━━\u001b[0m \u001b[32m114.9/114.9 kB\u001b[0m \u001b[31m3.5 MB/s\u001b[0m eta \u001b[36m0:00:00\u001b[0m\n",
            "\u001b[?25hDownloading gunicorn-23.0.0-py3-none-any.whl (85 kB)\n",
            "\u001b[2K   \u001b[90m━━━━━━━━━━━━━━━━━━━━━━━━━━━━━━━━━━━━━━━━\u001b[0m \u001b[32m85.0/85.0 kB\u001b[0m \u001b[31m3.0 MB/s\u001b[0m eta \u001b[36m0:00:00\u001b[0m\n",
            "\u001b[?25hDownloading databricks_sdk-0.56.0-py3-none-any.whl (733 kB)\n",
            "\u001b[2K   \u001b[90m━━━━━━━━━━━━━━━━━━━━━━━━━━━━━━━━━━━━━━━━\u001b[0m \u001b[32m733.7/733.7 kB\u001b[0m \u001b[31m10.8 MB/s\u001b[0m eta \u001b[36m0:00:00\u001b[0m\n",
            "\u001b[?25hDownloading graphql_core-3.2.6-py3-none-any.whl (203 kB)\n",
            "\u001b[2K   \u001b[90m━━━━━━━━━━━━━━━━━━━━━━━━━━━━━━━━━━━━━━━━\u001b[0m \u001b[32m203.4/203.4 kB\u001b[0m \u001b[31m11.0 MB/s\u001b[0m eta \u001b[36m0:00:00\u001b[0m\n",
            "\u001b[?25hDownloading graphql_relay-3.2.0-py3-none-any.whl (16 kB)\n",
            "Downloading opentelemetry_api-1.34.0-py3-none-any.whl (65 kB)\n",
            "\u001b[2K   \u001b[90m━━━━━━━━━━━━━━━━━━━━━━━━━━━━━━━━━━━━━━━━\u001b[0m \u001b[32m65.8/65.8 kB\u001b[0m \u001b[31m1.8 MB/s\u001b[0m eta \u001b[36m0:00:00\u001b[0m\n",
            "\u001b[?25hDownloading opentelemetry_sdk-1.34.0-py3-none-any.whl (118 kB)\n",
            "\u001b[2K   \u001b[90m━━━━━━━━━━━━━━━━━━━━━━━━━━━━━━━━━━━━━━━━\u001b[0m \u001b[32m118.4/118.4 kB\u001b[0m \u001b[31m5.8 MB/s\u001b[0m eta \u001b[36m0:00:00\u001b[0m\n",
            "\u001b[?25hDownloading opentelemetry_semantic_conventions-0.55b0-py3-none-any.whl (196 kB)\n",
            "\u001b[2K   \u001b[90m━━━━━━━━━━━━━━━━━━━━━━━━━━━━━━━━━━━━━━━━\u001b[0m \u001b[32m196.2/196.2 kB\u001b[0m \u001b[31m4.5 MB/s\u001b[0m eta \u001b[36m0:00:00\u001b[0m\n",
            "\u001b[?25hInstalling collected packages: gunicorn, graphql-core, opentelemetry-api, graphql-relay, docker, opentelemetry-semantic-conventions, graphene, databricks-sdk, opentelemetry-sdk, mlflow-skinny, mlflow\n",
            "Successfully installed databricks-sdk-0.56.0 docker-7.1.0 graphene-3.4.3 graphql-core-3.2.6 graphql-relay-3.2.0 gunicorn-23.0.0 mlflow-2.22.1 mlflow-skinny-2.22.1 opentelemetry-api-1.34.0 opentelemetry-sdk-1.34.0 opentelemetry-semantic-conventions-0.55b0\n"
          ]
        }
      ]
    },
    {
      "cell_type": "code",
      "source": [
        "import pandas as pd\n",
        "import numpy as np\n",
        "from sklearn.model_selection import train_test_split\n",
        "from sklearn.metrics import mean_squared_error, mean_absolute_error, r2_score\n",
        "import lightgbm as lgb\n",
        "import mlflow\n",
        "import mlflow.lightgbm\n",
        "\n",
        "# Selected features\n",
        "feature_cols = [\n",
        "    'AQI_CO', 'AQI_PM25', 'AQI_NO2', 'AQI_PM10',\n",
        "    'NO2', 'PM25', 'NOX_TO_NO2', 'AQI_OZONE', 'PM10', 'CO',\n",
        "    'Rolling_NO2_mean', 'Rolling_CO_mean', 'Rolling_PM10_mean'\n",
        "]\n",
        "\n",
        "# Target column\n",
        "target_col = 'AQI_CPCB'\n",
        "\n",
        "# Filter to features and target\n",
        "X = df[feature_cols]\n",
        "y = df[target_col]\n",
        "\n",
        "# Impute missing values in features with median\n",
        "print(\"Missing values before imputation:\\n\", X.isnull().sum())\n",
        "X = X.fillna(X.median())\n",
        "print(\"Missing values after imputation:\\n\", X.isnull().sum())\n",
        "\n",
        "# Drop any rows with missing target values\n",
        "data = pd.concat([X, y], axis=1).dropna()\n",
        "X = data[feature_cols]\n",
        "y = data[target_col]\n",
        "\n",
        "print(f\"Data shape after cleanup: {X.shape}\")\n",
        "\n",
        "# Train-test split\n",
        "X_train, X_val, y_train, y_val = train_test_split(\n",
        "    X, y, test_size=0.2, random_state=42)\n",
        "\n",
        "# LightGBM datasets\n",
        "train_data = lgb.Dataset(X_train, label=y_train)\n",
        "val_data = lgb.Dataset(X_val, label=y_val)\n",
        "\n",
        "# LightGBM params\n",
        "params = {\n",
        "    'objective': 'regression',\n",
        "    'metric': 'rmse',\n",
        "    'verbosity': -1,\n",
        "    'boosting_type': 'gbdt',\n",
        "    'seed': 42\n",
        "}\n",
        "\n",
        "# Prepare input example for MLflow model logging\n",
        "input_example = X_val.iloc[:1]\n",
        "\n",
        "# Start MLflow run\n",
        "with mlflow.start_run(run_name=\"LightGBM Baseline with Median Impute\"):\n",
        "    # Log parameters\n",
        "    mlflow.log_params(params)\n",
        "\n",
        "    # Train model with callbacks\n",
        "    model = lgb.train(\n",
        "        params,\n",
        "        train_data,\n",
        "        valid_sets=[val_data],\n",
        "        num_boost_round=1000,\n",
        "        callbacks=[\n",
        "            lgb.early_stopping(stopping_rounds=50),\n",
        "            lgb.log_evaluation(period=50)\n",
        "        ]\n",
        "    )\n",
        "\n",
        "    # Predict\n",
        "    y_pred = model.predict(X_val, num_iteration=model.best_iteration)\n",
        "\n",
        "    # Evaluate\n",
        "    rmse = np.sqrt(mean_squared_error(y_val, y_pred))\n",
        "    mae = mean_absolute_error(y_val, y_pred)\n",
        "    r2 = r2_score(y_val, y_pred)\n",
        "    mape = (abs((y_val - y_pred) / y_val.replace(0, 1))).mean() * 100\n",
        "\n",
        "    # Log metrics\n",
        "    mlflow.log_metrics({\n",
        "        \"RMSE\": rmse,\n",
        "        \"MAE\": mae,\n",
        "        \"R2\": r2,\n",
        "        \"MAPE\": mape\n",
        "    })\n",
        "\n",
        "    # Log model with input example\n",
        "    mlflow.lightgbm.log_model(model, \"model\", input_example=input_example)\n",
        "\n",
        "    print(\"\\n✅ Evaluation Metrics:\")\n",
        "    print(f\"RMSE : {rmse:.4f}\")\n",
        "    print(f\"MAE  : {mae:.4f}\")\n",
        "    print(f\"R²   : {r2:.4f}\")\n",
        "    print(f\"MAPE : {mape:.2f}%\")\n"
      ],
      "metadata": {
        "id": "ICMoB6_NyzFv",
        "colab": {
          "base_uri": "https://localhost:8080/"
        },
        "outputId": "fa0a6a5c-0fcc-44e6-d9b6-aadc989cfb95"
      },
      "execution_count": 18,
      "outputs": [
        {
          "output_type": "stream",
          "name": "stdout",
          "text": [
            "Missing values before imputation:\n",
            " AQI_CO                49942\n",
            "AQI_PM25              19202\n",
            "AQI_NO2                6729\n",
            "AQI_PM10              11131\n",
            "NO2                       0\n",
            "PM25                      0\n",
            "NOX_TO_NO2           314220\n",
            "AQI_OZONE              5219\n",
            "PM10                      0\n",
            "CO                        0\n",
            "Rolling_NO2_mean          0\n",
            "Rolling_CO_mean           0\n",
            "Rolling_PM10_mean         0\n",
            "dtype: int64\n",
            "Missing values after imputation:\n",
            " AQI_CO               0\n",
            "AQI_PM25             0\n",
            "AQI_NO2              0\n",
            "AQI_PM10             0\n",
            "NO2                  0\n",
            "PM25                 0\n",
            "NOX_TO_NO2           0\n",
            "AQI_OZONE            0\n",
            "PM10                 0\n",
            "CO                   0\n",
            "Rolling_NO2_mean     0\n",
            "Rolling_CO_mean      0\n",
            "Rolling_PM10_mean    0\n",
            "dtype: int64\n",
            "Data shape after cleanup: (1332059, 13)\n",
            "Training until validation scores don't improve for 50 rounds\n",
            "[50]\tvalid_0's rmse: 7.18413\n",
            "[100]\tvalid_0's rmse: 6.62909\n",
            "[150]\tvalid_0's rmse: 6.41343\n",
            "[200]\tvalid_0's rmse: 6.31026\n",
            "[250]\tvalid_0's rmse: 6.21669\n",
            "[300]\tvalid_0's rmse: 6.16166\n",
            "[350]\tvalid_0's rmse: 6.11092\n",
            "[400]\tvalid_0's rmse: 6.06842\n",
            "[450]\tvalid_0's rmse: 6.03398\n",
            "[500]\tvalid_0's rmse: 6.00979\n",
            "[550]\tvalid_0's rmse: 5.98535\n",
            "[600]\tvalid_0's rmse: 5.96702\n",
            "[650]\tvalid_0's rmse: 5.95454\n",
            "[700]\tvalid_0's rmse: 5.94414\n",
            "[750]\tvalid_0's rmse: 5.93221\n",
            "[800]\tvalid_0's rmse: 5.91788\n",
            "[850]\tvalid_0's rmse: 5.90621\n",
            "[900]\tvalid_0's rmse: 5.89749\n",
            "[950]\tvalid_0's rmse: 5.88936\n",
            "[1000]\tvalid_0's rmse: 5.87919\n",
            "Did not meet early stopping. Best iteration is:\n",
            "[1000]\tvalid_0's rmse: 5.87919\n",
            "\n",
            "✅ Evaluation Metrics:\n",
            "RMSE : 5.8792\n",
            "MAE  : 1.6838\n",
            "R²   : 0.9932\n",
            "MAPE : 5.86%\n"
          ]
        }
      ]
    },
    {
      "cell_type": "code",
      "source": [
        "import pandas as pd\n",
        "import numpy as np\n",
        "import lightgbm as lgb\n",
        "import optuna\n",
        "import mlflow\n",
        "import mlflow.lightgbm\n",
        "from sklearn.model_selection import train_test_split\n",
        "from sklearn.metrics import mean_squared_error, mean_absolute_error, r2_score\n",
        "from mlflow.models.signature import infer_signature\n",
        "\n",
        "# 1. Define your selected features and target\n",
        "feature_cols = [\n",
        "    'AQI_CO', 'AQI_PM25', 'AQI_NO2', 'AQI_PM10',\n",
        "    'NO2', 'PM25', 'NOX_TO_NO2', 'AQI_OZONE', 'PM10', 'CO',\n",
        "    'Rolling_NO2_mean', 'Rolling_CO_mean', 'Rolling_PM10_mean'\n",
        "]\n",
        "target_col = 'AQI_CPCB'\n",
        "\n",
        "# 2. Prepare the dataset\n",
        "X = df[feature_cols].fillna(df[feature_cols].median())\n",
        "y = df[target_col]\n",
        "\n",
        "# Drop rows with missing target values if any\n",
        "data = pd.concat([X, y], axis=1).dropna()\n",
        "X = data[feature_cols]\n",
        "y = data[target_col]\n",
        "\n",
        "# Train/Validation split\n",
        "X_train, X_val, y_train, y_val = train_test_split(\n",
        "    X, y, test_size=0.2, random_state=42\n",
        ")\n",
        "'''\n",
        "# 3. Define Optuna objective function\n",
        "def objective(trial):\n",
        "    params = {\n",
        "        'objective': 'regression',\n",
        "        'metric': 'rmse',\n",
        "        'verbosity': -1,\n",
        "        'boosting_type': 'gbdt',\n",
        "        'learning_rate': trial.suggest_float('learning_rate', 1e-3, 0.3, log=True),\n",
        "        'num_leaves': trial.suggest_int('num_leaves', 31, 2047),\n",
        "        'max_depth': trial.suggest_int('max_depth', 4, 32),\n",
        "        'min_data_in_leaf': trial.suggest_int('min_data_in_leaf', 10, 100),\n",
        "        'lambda_l1': trial.suggest_float('lambda_l1', 1e-3, 10.0, log=True),\n",
        "        'lambda_l2': trial.suggest_float('lambda_l2', 1e-3, 10.0, log=True),\n",
        "        'feature_fraction': trial.suggest_float('feature_fraction', 0.5, 1.0),\n",
        "        'bagging_fraction': trial.suggest_float('bagging_fraction', 0.5, 1.0),\n",
        "        'bagging_freq': trial.suggest_int('bagging_freq', 1, 10),\n",
        "        'seed': 42\n",
        "    }\n",
        "\n",
        "    with mlflow.start_run(nested=True):\n",
        "        mlflow.log_params(params)\n",
        "\n",
        "        dtrain = lgb.Dataset(X_train, label=y_train)\n",
        "        dvalid = lgb.Dataset(X_val, label=y_val)\n",
        "\n",
        "        model = lgb.train(\n",
        "            params,\n",
        "            dtrain,\n",
        "            valid_sets=[dvalid],\n",
        "            num_boost_round=1000,\n",
        "            callbacks=[\n",
        "                lgb.early_stopping(stopping_rounds=50),\n",
        "                lgb.log_evaluation(period=50)\n",
        "            ]\n",
        "        )\n",
        "\n",
        "        y_pred = model.predict(X_val, num_iteration=model.best_iteration)\n",
        "        rmse = np.sqrt(mean_squared_error(y_val, y_pred))\n",
        "        mae = mean_absolute_error(y_val, y_pred)\n",
        "        r2 = r2_score(y_val, y_pred)\n",
        "        # Prevent division by zero in MAPE calculation:\n",
        "        y_val_safe = y_val.replace(0, 1)\n",
        "        mape = np.mean(np.abs((y_val - y_pred) / y_val_safe)) * 100\n",
        "\n",
        "        mlflow.log_metric(\"rmse\", rmse)\n",
        "        mlflow.log_metric(\"mae\", mae)\n",
        "        mlflow.log_metric(\"r2\", r2)\n",
        "        mlflow.log_metric(\"mape\", mape)\n",
        "\n",
        "        return rmse\n",
        "\n",
        "# 4. Create and run the Optuna study\n",
        "study = optuna.create_study(direction=\"minimize\")\n",
        "with mlflow.start_run(run_name=\"Optuna_LightGBM_Tuning\") as run:\n",
        "    study.optimize(objective, n_trials=10)\n",
        "\n",
        "    # 5. Train final model using best parameters found\n",
        "    best_params = study.best_params\n",
        "    # Add fixed parameters\n",
        "    best_params.update({\n",
        "        'objective': 'regression',\n",
        "        'metric': 'rmse',\n",
        "        'boosting_type': 'gbdt',\n",
        "        'verbosity': -1,\n",
        "        'seed': 42\n",
        "    })\n",
        "\n",
        "    dtrain = lgb.Dataset(X_train, label=y_train)\n",
        "    dvalid = lgb.Dataset(X_val, label=y_val)\n",
        "\n",
        "    best_model = lgb.train(\n",
        "        best_params,\n",
        "        dtrain,\n",
        "        valid_sets=[dvalid],\n",
        "        num_boost_round=1000,\n",
        "        callbacks=[\n",
        "            lgb.early_stopping(stopping_rounds=50),\n",
        "            lgb.log_evaluation(period=50)\n",
        "        ]\n",
        "    )\n",
        "\n",
        "    # Evaluate final model\n",
        "    y_pred = best_model.predict(X_val, num_iteration=best_model.best_iteration)\n",
        "    rmse = np.sqrt(mean_squared_error(y_val, y_pred))\n",
        "    mae = mean_absolute_error(y_val, y_pred)\n",
        "    r2 = r2_score(y_val, y_pred)\n",
        "    y_val_safe = y_val.replace(0, 1)\n",
        "    mape = np.mean(np.abs((y_val - y_pred) / y_val_safe)) * 100\n",
        "\n",
        "    mlflow.log_metrics({\n",
        "        \"final_rmse\": rmse,\n",
        "        \"final_mae\": mae,\n",
        "        \"final_r2\": r2,\n",
        "        \"final_mape\": mape\n",
        "    })\n",
        "\n",
        "    # Log final model with signature and example input\n",
        "    signature = infer_signature(X_val, y_pred)\n",
        "    mlflow.lightgbm.log_model(\n",
        "        best_model,\n",
        "        \"model\",\n",
        "        signature=signature,\n",
        "        input_example=X_val.head(2)\n",
        "    )\n",
        "'''\n",
        "print(\"\\n🎯 Best trial results:\")\n",
        "print(f\"Best RMSE: {study.best_value:.4f}\")\n",
        "print(\"Best Parameters:\")\n",
        "for k, v in study.best_params.items():\n",
        "    print(f\"  {k}: {v}\")\n"
      ],
      "metadata": {
        "collapsed": true,
        "id": "SraO91AMq7V4",
        "colab": {
          "base_uri": "https://localhost:8080/"
        },
        "outputId": "dbe2c76a-363a-4ace-96f7-a71ae9db2d8b"
      },
      "execution_count": 19,
      "outputs": [
        {
          "output_type": "stream",
          "name": "stderr",
          "text": [
            "[I 2025-06-06 22:24:50,903] A new study created in memory with name: no-name-4f54768a-54ec-4e1b-a8da-9a29f721bf68\n"
          ]
        },
        {
          "output_type": "stream",
          "name": "stdout",
          "text": [
            "Training until validation scores don't improve for 50 rounds\n",
            "[50]\tvalid_0's rmse: 62.5801\n",
            "[100]\tvalid_0's rmse: 54.7425\n",
            "[150]\tvalid_0's rmse: 47.922\n",
            "[200]\tvalid_0's rmse: 41.9775\n",
            "[250]\tvalid_0's rmse: 36.8101\n",
            "[300]\tvalid_0's rmse: 32.3201\n",
            "[350]\tvalid_0's rmse: 28.4108\n",
            "[400]\tvalid_0's rmse: 25.0259\n",
            "[450]\tvalid_0's rmse: 22.0883\n",
            "[500]\tvalid_0's rmse: 19.5545\n",
            "[550]\tvalid_0's rmse: 17.3696\n",
            "[600]\tvalid_0's rmse: 15.497\n",
            "[650]\tvalid_0's rmse: 13.8983\n",
            "[700]\tvalid_0's rmse: 12.5353\n",
            "[750]\tvalid_0's rmse: 11.3821\n",
            "[800]\tvalid_0's rmse: 10.4164\n",
            "[850]\tvalid_0's rmse: 9.60833\n",
            "[900]\tvalid_0's rmse: 8.94111\n",
            "[950]\tvalid_0's rmse: 8.39175\n",
            "[1000]\tvalid_0's rmse: 7.94282\n",
            "Did not meet early stopping. Best iteration is:\n",
            "[1000]\tvalid_0's rmse: 7.94282\n"
          ]
        },
        {
          "output_type": "stream",
          "name": "stderr",
          "text": [
            "[I 2025-06-06 22:34:37,593] Trial 0 finished with value: 7.942823532991769 and parameters: {'learning_rate': 0.002720928012728246, 'num_leaves': 272, 'max_depth': 32, 'min_data_in_leaf': 49, 'lambda_l1': 0.0037914974692650426, 'lambda_l2': 0.02706019857831766, 'feature_fraction': 0.9118377103440345, 'bagging_fraction': 0.7445630179961968, 'bagging_freq': 4}. Best is trial 0 with value: 7.942823532991769.\n"
          ]
        },
        {
          "output_type": "stream",
          "name": "stdout",
          "text": [
            "Training until validation scores don't improve for 50 rounds\n",
            "[50]\tvalid_0's rmse: 6.72047\n",
            "[100]\tvalid_0's rmse: 6.4847\n",
            "[150]\tvalid_0's rmse: 6.39649\n",
            "[200]\tvalid_0's rmse: 6.351\n",
            "[250]\tvalid_0's rmse: 6.32556\n",
            "[300]\tvalid_0's rmse: 6.30202\n",
            "[350]\tvalid_0's rmse: 6.29134\n",
            "[400]\tvalid_0's rmse: 6.28089\n",
            "[450]\tvalid_0's rmse: 6.27453\n",
            "[500]\tvalid_0's rmse: 6.26909\n",
            "Early stopping, best iteration is:\n",
            "[477]\tvalid_0's rmse: 6.26749\n"
          ]
        },
        {
          "output_type": "stream",
          "name": "stderr",
          "text": [
            "[I 2025-06-06 22:37:00,060] Trial 1 finished with value: 6.26749026147163 and parameters: {'learning_rate': 0.22507125641864542, 'num_leaves': 174, 'max_depth': 31, 'min_data_in_leaf': 68, 'lambda_l1': 3.255889663974898, 'lambda_l2': 1.349228696010318, 'feature_fraction': 0.7906847720688912, 'bagging_fraction': 0.6460969491116111, 'bagging_freq': 3}. Best is trial 1 with value: 6.26749026147163.\n"
          ]
        },
        {
          "output_type": "stream",
          "name": "stdout",
          "text": [
            "Training until validation scores don't improve for 50 rounds\n",
            "[50]\tvalid_0's rmse: 19.2921\n",
            "[100]\tvalid_0's rmse: 8.91975\n",
            "[150]\tvalid_0's rmse: 7.37166\n",
            "[200]\tvalid_0's rmse: 6.95184\n",
            "[250]\tvalid_0's rmse: 6.72465\n",
            "[300]\tvalid_0's rmse: 6.57723\n",
            "[350]\tvalid_0's rmse: 6.48397\n",
            "[400]\tvalid_0's rmse: 6.41759\n",
            "[450]\tvalid_0's rmse: 6.35102\n",
            "[500]\tvalid_0's rmse: 6.29012\n",
            "[550]\tvalid_0's rmse: 6.25714\n",
            "[600]\tvalid_0's rmse: 6.22057\n",
            "[650]\tvalid_0's rmse: 6.19261\n",
            "[700]\tvalid_0's rmse: 6.17291\n",
            "[750]\tvalid_0's rmse: 6.15821\n",
            "[800]\tvalid_0's rmse: 6.1356\n",
            "[850]\tvalid_0's rmse: 6.12191\n",
            "[900]\tvalid_0's rmse: 6.10693\n",
            "[950]\tvalid_0's rmse: 6.0965\n",
            "[1000]\tvalid_0's rmse: 6.08323\n",
            "Did not meet early stopping. Best iteration is:\n",
            "[1000]\tvalid_0's rmse: 6.08323\n"
          ]
        },
        {
          "output_type": "stream",
          "name": "stderr",
          "text": [
            "[I 2025-06-06 22:44:10,232] Trial 2 finished with value: 6.083233333169114 and parameters: {'learning_rate': 0.03140759589425407, 'num_leaves': 1743, 'max_depth': 11, 'min_data_in_leaf': 85, 'lambda_l1': 0.005291842680625401, 'lambda_l2': 0.05411880336239647, 'feature_fraction': 0.5102947973193157, 'bagging_fraction': 0.6730869069170204, 'bagging_freq': 10}. Best is trial 2 with value: 6.083233333169114.\n"
          ]
        },
        {
          "output_type": "stream",
          "name": "stdout",
          "text": [
            "Training until validation scores don't improve for 50 rounds\n",
            "[50]\tvalid_0's rmse: 9.79861\n",
            "[100]\tvalid_0's rmse: 7.36838\n",
            "[150]\tvalid_0's rmse: 6.8912\n",
            "[200]\tvalid_0's rmse: 6.62361\n",
            "[250]\tvalid_0's rmse: 6.49632\n",
            "[300]\tvalid_0's rmse: 6.39671\n",
            "[350]\tvalid_0's rmse: 6.3444\n",
            "[400]\tvalid_0's rmse: 6.30517\n",
            "[450]\tvalid_0's rmse: 6.26566\n",
            "[500]\tvalid_0's rmse: 6.23723\n",
            "[550]\tvalid_0's rmse: 6.20851\n",
            "[600]\tvalid_0's rmse: 6.18342\n",
            "[650]\tvalid_0's rmse: 6.16582\n",
            "[700]\tvalid_0's rmse: 6.14505\n",
            "[750]\tvalid_0's rmse: 6.131\n",
            "[800]\tvalid_0's rmse: 6.1174\n",
            "[850]\tvalid_0's rmse: 6.10385\n",
            "[900]\tvalid_0's rmse: 6.09131\n",
            "[950]\tvalid_0's rmse: 6.0777\n",
            "[1000]\tvalid_0's rmse: 6.06983\n",
            "Did not meet early stopping. Best iteration is:\n",
            "[1000]\tvalid_0's rmse: 6.06983\n"
          ]
        },
        {
          "output_type": "stream",
          "name": "stderr",
          "text": [
            "[I 2025-06-06 22:50:30,182] Trial 3 finished with value: 6.069831644293168 and parameters: {'learning_rate': 0.056020991520021025, 'num_leaves': 273, 'max_depth': 9, 'min_data_in_leaf': 98, 'lambda_l1': 0.013116723294433726, 'lambda_l2': 1.508310106737222, 'feature_fraction': 0.6157643118466976, 'bagging_fraction': 0.8321006804171381, 'bagging_freq': 2}. Best is trial 3 with value: 6.069831644293168.\n"
          ]
        },
        {
          "output_type": "stream",
          "name": "stdout",
          "text": [
            "Training until validation scores don't improve for 50 rounds\n",
            "[50]\tvalid_0's rmse: 38.4081\n",
            "[100]\tvalid_0's rmse: 21.3846\n",
            "[150]\tvalid_0's rmse: 13.3396\n",
            "[200]\tvalid_0's rmse: 9.83166\n",
            "[250]\tvalid_0's rmse: 8.43349\n",
            "[300]\tvalid_0's rmse: 7.86809\n",
            "[350]\tvalid_0's rmse: 7.58522\n",
            "[400]\tvalid_0's rmse: 7.42607\n",
            "[450]\tvalid_0's rmse: 7.31524\n",
            "[500]\tvalid_0's rmse: 7.19609\n",
            "[550]\tvalid_0's rmse: 7.10246\n",
            "[600]\tvalid_0's rmse: 7.02458\n",
            "[650]\tvalid_0's rmse: 6.95044\n",
            "[700]\tvalid_0's rmse: 6.89523\n",
            "[750]\tvalid_0's rmse: 6.84777\n",
            "[800]\tvalid_0's rmse: 6.8062\n",
            "[850]\tvalid_0's rmse: 6.76612\n",
            "[900]\tvalid_0's rmse: 6.72823\n",
            "[950]\tvalid_0's rmse: 6.70066\n",
            "[1000]\tvalid_0's rmse: 6.67128\n",
            "Did not meet early stopping. Best iteration is:\n",
            "[1000]\tvalid_0's rmse: 6.67128\n"
          ]
        },
        {
          "output_type": "stream",
          "name": "stderr",
          "text": [
            "[I 2025-06-06 22:55:06,095] Trial 4 finished with value: 6.671275102057971 and parameters: {'learning_rate': 0.013909085635987887, 'num_leaves': 38, 'max_depth': 8, 'min_data_in_leaf': 95, 'lambda_l1': 0.007911796738826136, 'lambda_l2': 7.122120375733457, 'feature_fraction': 0.7197712682211816, 'bagging_fraction': 0.7365412497386551, 'bagging_freq': 6}. Best is trial 3 with value: 6.069831644293168.\n"
          ]
        },
        {
          "output_type": "stream",
          "name": "stdout",
          "text": [
            "Training until validation scores don't improve for 50 rounds\n",
            "[50]\tvalid_0's rmse: 6.21288\n",
            "[100]\tvalid_0's rmse: 5.93019\n",
            "[150]\tvalid_0's rmse: 5.87328\n",
            "[200]\tvalid_0's rmse: 5.84293\n",
            "[250]\tvalid_0's rmse: 5.82301\n",
            "[300]\tvalid_0's rmse: 5.8191\n",
            "[350]\tvalid_0's rmse: 5.81705\n",
            "[400]\tvalid_0's rmse: 5.81583\n",
            "[450]\tvalid_0's rmse: 5.81395\n",
            "Early stopping, best iteration is:\n",
            "[442]\tvalid_0's rmse: 5.81332\n"
          ]
        },
        {
          "output_type": "stream",
          "name": "stderr",
          "text": [
            "[I 2025-06-06 23:01:31,297] Trial 5 finished with value: 5.813318210115349 and parameters: {'learning_rate': 0.08845678690090503, 'num_leaves': 640, 'max_depth': 23, 'min_data_in_leaf': 98, 'lambda_l1': 0.30137067845666576, 'lambda_l2': 0.00790586727986332, 'feature_fraction': 0.9811882287698017, 'bagging_fraction': 0.9292335888305305, 'bagging_freq': 2}. Best is trial 5 with value: 5.813318210115349.\n"
          ]
        },
        {
          "output_type": "stream",
          "name": "stdout",
          "text": [
            "Training until validation scores don't improve for 50 rounds\n",
            "[50]\tvalid_0's rmse: 15.0169\n",
            "[100]\tvalid_0's rmse: 9.1319\n",
            "[150]\tvalid_0's rmse: 8.19333\n",
            "[200]\tvalid_0's rmse: 7.80928\n",
            "[250]\tvalid_0's rmse: 7.58048\n",
            "[300]\tvalid_0's rmse: 7.39149\n",
            "[350]\tvalid_0's rmse: 7.24877\n",
            "[400]\tvalid_0's rmse: 7.17878\n",
            "[450]\tvalid_0's rmse: 7.09098\n",
            "[500]\tvalid_0's rmse: 6.99762\n",
            "[550]\tvalid_0's rmse: 6.9217\n",
            "[600]\tvalid_0's rmse: 6.88277\n",
            "[650]\tvalid_0's rmse: 6.84275\n",
            "[700]\tvalid_0's rmse: 6.81644\n",
            "[750]\tvalid_0's rmse: 6.7872\n",
            "[800]\tvalid_0's rmse: 6.75103\n",
            "[850]\tvalid_0's rmse: 6.72531\n",
            "[900]\tvalid_0's rmse: 6.70448\n",
            "[950]\tvalid_0's rmse: 6.69117\n",
            "[1000]\tvalid_0's rmse: 6.6761\n",
            "Did not meet early stopping. Best iteration is:\n",
            "[1000]\tvalid_0's rmse: 6.6761\n"
          ]
        },
        {
          "output_type": "stream",
          "name": "stderr",
          "text": [
            "[I 2025-06-06 23:04:47,732] Trial 6 finished with value: 6.676103987060881 and parameters: {'learning_rate': 0.045050607661235906, 'num_leaves': 1471, 'max_depth': 5, 'min_data_in_leaf': 25, 'lambda_l1': 0.001390790816884231, 'lambda_l2': 2.004198305200149, 'feature_fraction': 0.6213493295350927, 'bagging_fraction': 0.6378531886031317, 'bagging_freq': 8}. Best is trial 5 with value: 5.813318210115349.\n"
          ]
        },
        {
          "output_type": "stream",
          "name": "stdout",
          "text": [
            "Training until validation scores don't improve for 50 rounds\n",
            "[50]\tvalid_0's rmse: 8.80382\n",
            "[100]\tvalid_0's rmse: 6.17258\n",
            "[150]\tvalid_0's rmse: 6.00103\n",
            "[200]\tvalid_0's rmse: 5.9392\n",
            "[250]\tvalid_0's rmse: 5.90053\n",
            "[300]\tvalid_0's rmse: 5.87574\n",
            "[350]\tvalid_0's rmse: 5.85539\n",
            "[400]\tvalid_0's rmse: 5.8383\n",
            "[450]\tvalid_0's rmse: 5.82777\n",
            "[500]\tvalid_0's rmse: 5.81753\n",
            "[550]\tvalid_0's rmse: 5.80817\n",
            "[600]\tvalid_0's rmse: 5.80174\n",
            "[650]\tvalid_0's rmse: 5.79483\n",
            "[700]\tvalid_0's rmse: 5.79017\n",
            "[750]\tvalid_0's rmse: 5.78451\n",
            "[800]\tvalid_0's rmse: 5.77925\n",
            "[850]\tvalid_0's rmse: 5.77623\n",
            "[900]\tvalid_0's rmse: 5.77429\n",
            "[950]\tvalid_0's rmse: 5.77309\n",
            "[1000]\tvalid_0's rmse: 5.76926\n",
            "Did not meet early stopping. Best iteration is:\n",
            "[999]\tvalid_0's rmse: 5.76923\n"
          ]
        },
        {
          "output_type": "stream",
          "name": "stderr",
          "text": [
            "[I 2025-06-06 23:09:31,906] Trial 7 finished with value: 5.769233616244889 and parameters: {'learning_rate': 0.04884411164221402, 'num_leaves': 200, 'max_depth': 27, 'min_data_in_leaf': 63, 'lambda_l1': 1.0702764814616916, 'lambda_l2': 2.5809342513468176, 'feature_fraction': 0.9669515630031549, 'bagging_fraction': 0.9558138154268565, 'bagging_freq': 1}. Best is trial 7 with value: 5.769233616244889.\n"
          ]
        },
        {
          "output_type": "stream",
          "name": "stdout",
          "text": [
            "Training until validation scores don't improve for 50 rounds\n",
            "[50]\tvalid_0's rmse: 7.66266\n",
            "[100]\tvalid_0's rmse: 7.5475\n",
            "[150]\tvalid_0's rmse: 7.53072\n",
            "[200]\tvalid_0's rmse: 7.52897\n",
            "[250]\tvalid_0's rmse: 7.52259\n",
            "Early stopping, best iteration is:\n",
            "[244]\tvalid_0's rmse: 7.51897\n"
          ]
        },
        {
          "output_type": "stream",
          "name": "stderr",
          "text": [
            "[I 2025-06-06 23:10:59,540] Trial 8 finished with value: 7.518970121684657 and parameters: {'learning_rate': 0.2795378401902285, 'num_leaves': 561, 'max_depth': 32, 'min_data_in_leaf': 14, 'lambda_l1': 8.742224084624125, 'lambda_l2': 0.001328358643453451, 'feature_fraction': 0.6270812522432803, 'bagging_fraction': 0.6178350865714854, 'bagging_freq': 10}. Best is trial 7 with value: 5.769233616244889.\n"
          ]
        },
        {
          "output_type": "stream",
          "name": "stdout",
          "text": [
            "Training until validation scores don't improve for 50 rounds\n",
            "[50]\tvalid_0's rmse: 7.67567\n",
            "[100]\tvalid_0's rmse: 6.9705\n",
            "[150]\tvalid_0's rmse: 6.7798\n",
            "[200]\tvalid_0's rmse: 6.66593\n",
            "[250]\tvalid_0's rmse: 6.56632\n",
            "[300]\tvalid_0's rmse: 6.51866\n",
            "[350]\tvalid_0's rmse: 6.47759\n",
            "[400]\tvalid_0's rmse: 6.44358\n",
            "[450]\tvalid_0's rmse: 6.41149\n",
            "[500]\tvalid_0's rmse: 6.38189\n",
            "[550]\tvalid_0's rmse: 6.36156\n",
            "[600]\tvalid_0's rmse: 6.34059\n",
            "[650]\tvalid_0's rmse: 6.3247\n",
            "[700]\tvalid_0's rmse: 6.30563\n",
            "[750]\tvalid_0's rmse: 6.29668\n",
            "[800]\tvalid_0's rmse: 6.28847\n",
            "[850]\tvalid_0's rmse: 6.28079\n",
            "[900]\tvalid_0's rmse: 6.27688\n",
            "[950]\tvalid_0's rmse: 6.26793\n",
            "[1000]\tvalid_0's rmse: 6.258\n",
            "Did not meet early stopping. Best iteration is:\n",
            "[1000]\tvalid_0's rmse: 6.258\n"
          ]
        },
        {
          "output_type": "stream",
          "name": "stderr",
          "text": [
            "[I 2025-06-06 23:15:55,130] Trial 9 finished with value: 6.258003525137699 and parameters: {'learning_rate': 0.21588121420083345, 'num_leaves': 1028, 'max_depth': 7, 'min_data_in_leaf': 81, 'lambda_l1': 0.0870786469841463, 'lambda_l2': 0.01652858277756936, 'feature_fraction': 0.5931004147521137, 'bagging_fraction': 0.9042535608635405, 'bagging_freq': 7}. Best is trial 7 with value: 5.769233616244889.\n"
          ]
        },
        {
          "output_type": "stream",
          "name": "stdout",
          "text": [
            "Training until validation scores don't improve for 50 rounds\n",
            "[50]\tvalid_0's rmse: 8.80382\n",
            "[100]\tvalid_0's rmse: 6.17258\n",
            "[150]\tvalid_0's rmse: 6.00103\n",
            "[200]\tvalid_0's rmse: 5.9392\n",
            "[250]\tvalid_0's rmse: 5.90053\n",
            "[300]\tvalid_0's rmse: 5.87574\n",
            "[350]\tvalid_0's rmse: 5.85539\n",
            "[400]\tvalid_0's rmse: 5.8383\n",
            "[450]\tvalid_0's rmse: 5.82777\n",
            "[500]\tvalid_0's rmse: 5.81753\n",
            "[550]\tvalid_0's rmse: 5.80817\n",
            "[600]\tvalid_0's rmse: 5.80174\n",
            "[650]\tvalid_0's rmse: 5.79483\n",
            "[700]\tvalid_0's rmse: 5.79017\n",
            "[750]\tvalid_0's rmse: 5.78451\n",
            "[800]\tvalid_0's rmse: 5.77925\n",
            "[850]\tvalid_0's rmse: 5.77623\n",
            "[900]\tvalid_0's rmse: 5.77429\n",
            "[950]\tvalid_0's rmse: 5.77309\n",
            "[1000]\tvalid_0's rmse: 5.76926\n",
            "Did not meet early stopping. Best iteration is:\n",
            "[999]\tvalid_0's rmse: 5.76923\n",
            "\n",
            "🎯 Best trial results:\n",
            "Best RMSE: 5.7692\n",
            "Best Parameters:\n",
            "  learning_rate: 0.04884411164221402\n",
            "  num_leaves: 200\n",
            "  max_depth: 27\n",
            "  min_data_in_leaf: 63\n",
            "  lambda_l1: 1.0702764814616916\n",
            "  lambda_l2: 2.5809342513468176\n",
            "  feature_fraction: 0.9669515630031549\n",
            "  bagging_fraction: 0.9558138154268565\n",
            "  bagging_freq: 1\n"
          ]
        }
      ]
    },
    {
      "cell_type": "code",
      "source": [
        "# ✅ Final Model Training using Best Parameters from Optuna\n",
        "best_params = {\n",
        "    'objective': 'regression',\n",
        "    'metric': 'rmse',\n",
        "    'boosting_type': 'gbdt',\n",
        "    'verbosity': -1,\n",
        "    'seed': 42,\n",
        "    'learning_rate': 0.04884411164221402,\n",
        "    'num_leaves': 200,\n",
        "    'max_depth': 27,\n",
        "    'min_data_in_leaf': 63,\n",
        "    'lambda_l1': 1.0702764814616916,\n",
        "    'lambda_l2': 2.5809342513468176,\n",
        "    'feature_fraction': 0.9669515630031549,\n",
        "    'bagging_fraction': 0.9558138154268565,\n",
        "    'bagging_freq': 1\n",
        "}\n",
        "\n",
        "with mlflow.start_run(run_name=\"FinalModel_ManualParams\"):\n",
        "    dtrain = lgb.Dataset(X_train, label=y_train)\n",
        "    dvalid = lgb.Dataset(X_val, label=y_val)\n",
        "\n",
        "    model = lgb.train(\n",
        "        best_params,\n",
        "        dtrain,\n",
        "        valid_sets=[dvalid],\n",
        "        num_boost_round=1000,\n",
        "        callbacks=[\n",
        "            lgb.early_stopping(stopping_rounds=50),\n",
        "            lgb.log_evaluation(period=50)\n",
        "        ]\n",
        "    )\n",
        "\n",
        "    y_pred = model.predict(X_val, num_iteration=model.best_iteration)\n",
        "    rmse = np.sqrt(mean_squared_error(y_val, y_pred))\n",
        "    mae = mean_absolute_error(y_val, y_pred)\n",
        "    r2 = r2_score(y_val, y_pred)\n",
        "    mape = np.mean(np.abs((y_val - y_pred) / y_val.replace(0, 1))) * 100\n",
        "\n",
        "    mlflow.log_metrics({\n",
        "        \"final_rmse\": rmse,\n",
        "        \"final_mae\": mae,\n",
        "        \"final_r2\": r2,\n",
        "        \"final_mape\": mape\n",
        "    })\n",
        "\n",
        "    mlflow.lightgbm.log_model(\n",
        "        model, \"model\",\n",
        "        signature=infer_signature(X_val, y_pred),\n",
        "        input_example=X_val.head(2)\n",
        "    )\n",
        "\n",
        "    print(\"\\n✅ Final Model Evaluation:\")\n",
        "    print(f\"RMSE : {rmse:.4f}\")\n",
        "    print(f\"MAE  : {mae:.4f}\")\n",
        "    print(f\"R²   : {r2:.4f}\")\n",
        "    print(f\"MAPE : {mape:.2f}%\")\n"
      ],
      "metadata": {
        "colab": {
          "base_uri": "https://localhost:8080/"
        },
        "id": "AFB-Jqtuj-yw",
        "outputId": "cfd2f843-a249-46da-974c-ceba70435921"
      },
      "execution_count": 21,
      "outputs": [
        {
          "output_type": "stream",
          "name": "stdout",
          "text": [
            "Training until validation scores don't improve for 50 rounds\n",
            "[50]\tvalid_0's rmse: 8.80382\n",
            "[100]\tvalid_0's rmse: 6.17258\n",
            "[150]\tvalid_0's rmse: 6.00103\n",
            "[200]\tvalid_0's rmse: 5.9392\n",
            "[250]\tvalid_0's rmse: 5.90053\n",
            "[300]\tvalid_0's rmse: 5.87574\n",
            "[350]\tvalid_0's rmse: 5.85539\n",
            "[400]\tvalid_0's rmse: 5.8383\n",
            "[450]\tvalid_0's rmse: 5.82777\n",
            "[500]\tvalid_0's rmse: 5.81753\n",
            "[550]\tvalid_0's rmse: 5.80817\n",
            "[600]\tvalid_0's rmse: 5.80174\n",
            "[650]\tvalid_0's rmse: 5.79483\n",
            "[700]\tvalid_0's rmse: 5.79017\n",
            "[750]\tvalid_0's rmse: 5.78451\n",
            "[800]\tvalid_0's rmse: 5.77925\n",
            "[850]\tvalid_0's rmse: 5.77623\n",
            "[900]\tvalid_0's rmse: 5.77429\n",
            "[950]\tvalid_0's rmse: 5.77309\n",
            "[1000]\tvalid_0's rmse: 5.76926\n",
            "Did not meet early stopping. Best iteration is:\n",
            "[999]\tvalid_0's rmse: 5.76923\n",
            "\n",
            "✅ Final Model Evaluation:\n",
            "RMSE : 5.7692\n",
            "MAE  : 1.4622\n",
            "R²   : 0.9935\n",
            "MAPE : 4.97%\n"
          ]
        }
      ]
    },
    {
      "cell_type": "code",
      "source": [
        "from mlflow.tracking import MlflowClient\n",
        "\n",
        "client = MlflowClient()\n",
        "\n",
        "# Get experiment by name\n",
        "experiment = client.get_experiment_by_name(\"Default\")\n",
        "\n",
        "if experiment is None:\n",
        "    print(\"❌ No experiment named 'Default' found.\")\n",
        "else:\n",
        "    runs = client.search_runs(\n",
        "        experiment_ids=[experiment.experiment_id],\n",
        "        order_by=[\"start_time DESC\"],\n",
        "        max_results=1\n",
        "    )\n",
        "\n",
        "    if not runs:\n",
        "        print(\"❌ No runs found in the 'Default' experiment.\")\n",
        "    else:\n",
        "        latest_run = runs[0]\n",
        "        print(\"\\n📦 Latest MLflow Run ID:\", latest_run.info.run_id)\n",
        "        print(\"✅ MLflow Logged Metrics:\")\n",
        "        for key, value in latest_run.data.metrics.items():\n",
        "            print(f\"{key} : {value:.4f}\")\n"
      ],
      "metadata": {
        "colab": {
          "base_uri": "https://localhost:8080/"
        },
        "id": "1L2M4fvpkU3h",
        "outputId": "1c1609c8-6e0c-4432-f4f5-c3d61645278b"
      },
      "execution_count": 22,
      "outputs": [
        {
          "output_type": "stream",
          "name": "stdout",
          "text": [
            "\n",
            "📦 Latest MLflow Run ID: 9c966145016c496cb49b0ff844a12b4e\n",
            "✅ MLflow Logged Metrics:\n",
            "final_mae : 1.4622\n",
            "final_rmse : 5.7692\n",
            "final_r2 : 0.9935\n",
            "final_mape : 4.9658\n"
          ]
        }
      ]
    },
    {
      "cell_type": "code",
      "source": [
        "from mlflow.tracking import MlflowClient\n",
        "\n",
        "# Initialize MLflow client\n",
        "client = MlflowClient()\n",
        "\n",
        "# Get experiment by name\n",
        "experiment = client.get_experiment_by_name(\"Default\")\n",
        "\n",
        "if experiment is None:\n",
        "    print(\"❌ No experiment named 'Default' found.\")\n",
        "else:\n",
        "    runs = client.search_runs(\n",
        "        experiment_ids=[experiment.experiment_id],\n",
        "        order_by=[\"start_time DESC\"],\n",
        "        max_results=1\n",
        "    )\n",
        "\n",
        "    if not runs:\n",
        "        print(\"❌ No runs found in the 'Default' experiment.\")\n",
        "    else:\n",
        "        latest_run = runs[0]\n",
        "\n",
        "        # Print Experiment Name and Run ID\n",
        "        print(f\"\\n🔍 Experiment Name: {experiment.name}\")\n",
        "        print(\"📦 Latest MLflow Run ID:\", latest_run.info.run_id)\n",
        "\n",
        "        # Print Metrics\n",
        "        print(\"\\n✅ MLflow Logged Metrics:\")\n",
        "        for key, value in latest_run.data.metrics.items():\n",
        "            print(f\"{key} : {value:.4f}\")\n",
        "\n",
        "        # Print Parameters\n",
        "        print(\"\\n✅ MLflow Logged Parameters:\")\n",
        "        for key, value in latest_run.data.params.items():\n",
        "            print(f\"{key} : {value}\")\n",
        "\n"
      ],
      "metadata": {
        "id": "iyPvNF_PKtGL",
        "colab": {
          "base_uri": "https://localhost:8080/"
        },
        "outputId": "0bf67da5-0f76-41bc-842a-0a10b6b85928"
      },
      "execution_count": 23,
      "outputs": [
        {
          "output_type": "stream",
          "name": "stdout",
          "text": [
            "\n",
            "🔍 Experiment Name: Default\n",
            "📦 Latest MLflow Run ID: 9c966145016c496cb49b0ff844a12b4e\n",
            "\n",
            "✅ MLflow Logged Metrics:\n",
            "final_mae : 1.4622\n",
            "final_rmse : 5.7692\n",
            "final_r2 : 0.9935\n",
            "final_mape : 4.9658\n",
            "\n",
            "✅ MLflow Logged Parameters:\n"
          ]
        }
      ]
    },
    {
      "cell_type": "code",
      "source": [
        "from datetime import datetime\n",
        "start = datetime.fromtimestamp(latest_run.info.start_time / 1000)\n",
        "print(\"🕒 Run started at:\", start.strftime('%Y-%m-%d %H:%M:%S'))\n"
      ],
      "metadata": {
        "id": "EECTxx_gKtKs",
        "colab": {
          "base_uri": "https://localhost:8080/"
        },
        "outputId": "104ba654-60e1-4a85-d016-b4f7cd5fc411"
      },
      "execution_count": 24,
      "outputs": [
        {
          "output_type": "stream",
          "name": "stdout",
          "text": [
            "🕒 Run started at: 2025-06-06 23:25:13\n"
          ]
        }
      ]
    },
    {
      "cell_type": "code",
      "source": [
        "import joblib\n",
        "\n",
        "# Save to Colab's local filesystem\n",
        "joblib.dump(best_model, \"LightGBM_AQI_Regression.pkl\")\n",
        "\n",
        "# Download it to your system\n",
        "from google.colab import files\n",
        "files.download(\"LightGBM_AQI_Regression.pkl\")\n"
      ],
      "metadata": {
        "id": "n27-lhQLq7f0",
        "colab": {
          "base_uri": "https://localhost:8080/",
          "height": 17
        },
        "outputId": "d356a36c-7a48-4c6f-a711-494eab9e6c68"
      },
      "execution_count": 31,
      "outputs": [
        {
          "output_type": "display_data",
          "data": {
            "text/plain": [
              "<IPython.core.display.Javascript object>"
            ],
            "application/javascript": [
              "\n",
              "    async function download(id, filename, size) {\n",
              "      if (!google.colab.kernel.accessAllowed) {\n",
              "        return;\n",
              "      }\n",
              "      const div = document.createElement('div');\n",
              "      const label = document.createElement('label');\n",
              "      label.textContent = `Downloading \"${filename}\": `;\n",
              "      div.appendChild(label);\n",
              "      const progress = document.createElement('progress');\n",
              "      progress.max = size;\n",
              "      div.appendChild(progress);\n",
              "      document.body.appendChild(div);\n",
              "\n",
              "      const buffers = [];\n",
              "      let downloaded = 0;\n",
              "\n",
              "      const channel = await google.colab.kernel.comms.open(id);\n",
              "      // Send a message to notify the kernel that we're ready.\n",
              "      channel.send({})\n",
              "\n",
              "      for await (const message of channel.messages) {\n",
              "        // Send a message to notify the kernel that we're ready.\n",
              "        channel.send({})\n",
              "        if (message.buffers) {\n",
              "          for (const buffer of message.buffers) {\n",
              "            buffers.push(buffer);\n",
              "            downloaded += buffer.byteLength;\n",
              "            progress.value = downloaded;\n",
              "          }\n",
              "        }\n",
              "      }\n",
              "      const blob = new Blob(buffers, {type: 'application/binary'});\n",
              "      const a = document.createElement('a');\n",
              "      a.href = window.URL.createObjectURL(blob);\n",
              "      a.download = filename;\n",
              "      div.appendChild(a);\n",
              "      a.click();\n",
              "      div.remove();\n",
              "    }\n",
              "  "
            ]
          },
          "metadata": {}
        },
        {
          "output_type": "display_data",
          "data": {
            "text/plain": [
              "<IPython.core.display.Javascript object>"
            ],
            "application/javascript": [
              "download(\"download_5b5b9a9d-b385-4e31-80f6-c29455f49545\", \"LightGBM_AQI_Regression.pkl\", 17576924)"
            ]
          },
          "metadata": {}
        }
      ]
    },
    {
      "cell_type": "code",
      "source": [
        "# Check unique categories and their counts\n",
        "print(\"Unique AQI categories and counts:\")\n",
        "print(df['AQI_Category'].value_counts(dropna=False))\n",
        "\n",
        "# Check for null values\n",
        "null_count = df['AQI_Category'].isnull().sum()\n",
        "print(f\"\\nNumber of null values in AQI_Category: {null_count}\")\n",
        "\n",
        "# Basic info about the column\n",
        "print(f\"\\nTotal rows in AQI_Category column: {len(df['AQI_Category'])}\")\n",
        "print(f\"Non-null rows: {df['AQI_Category'].notnull().sum()}\")\n"
      ],
      "metadata": {
        "id": "tfFNYSw7NtjK",
        "colab": {
          "base_uri": "https://localhost:8080/"
        },
        "collapsed": true,
        "outputId": "ba8ae6ac-6fbf-45a0-ac63-a4b738e9ccc7"
      },
      "execution_count": 27,
      "outputs": [
        {
          "output_type": "stream",
          "name": "stdout",
          "text": [
            "Unique AQI categories and counts:\n",
            "AQI_Category\n",
            "Good            702353\n",
            "Satisfactory    395049\n",
            "Moderate        176300\n",
            "Poor             24184\n",
            "Very Poor        20623\n",
            "Severe           13550\n",
            "Name: count, dtype: int64\n",
            "\n",
            "Number of null values in AQI_Category: 0\n",
            "\n",
            "Total rows in AQI_Category column: 1332059\n",
            "Non-null rows: 1332059\n"
          ]
        }
      ]
    },
    {
      "cell_type": "code",
      "source": [
        "import pandas as pd\n",
        "import numpy as np\n",
        "from sklearn.model_selection import train_test_split\n",
        "from sklearn.preprocessing import LabelEncoder\n",
        "from sklearn.metrics import accuracy_score, classification_report, confusion_matrix\n",
        "import lightgbm as lgb\n",
        "import mlflow\n",
        "import mlflow.lightgbm\n",
        "from mlflow.models.signature import infer_signature\n",
        "import joblib\n",
        "import os\n",
        "from google.colab import files\n",
        "\n",
        "# 1. Define features and target\n",
        "feature_cols = [\n",
        "    'AQI_CO', 'AQI_PM25', 'AQI_NO2', 'AQI_PM10',\n",
        "    'NO2', 'PM25', 'NOX_TO_NO2', 'AQI_OZONE', 'PM10', 'CO',\n",
        "    'Rolling_NO2_mean', 'Rolling_CO_mean', 'Rolling_PM10_mean'\n",
        "]\n",
        "target_col = 'AQI_Category'\n",
        "\n",
        "# 2. Prepare dataset\n",
        "X = df[feature_cols].fillna(df[feature_cols].median())\n",
        "y = df[target_col]\n",
        "\n",
        "# Remove rows with missing target values\n",
        "data = pd.concat([X, y], axis=1).dropna()\n",
        "X = data[feature_cols]\n",
        "y = data[target_col]\n",
        "\n",
        "# 3. Encode labels\n",
        "le = LabelEncoder()\n",
        "y_encoded = le.fit_transform(y)\n",
        "\n",
        "# 4. Split data\n",
        "X_train, X_val, y_train, y_val = train_test_split(\n",
        "    X, y_encoded, test_size=0.2, random_state=42, stratify=y_encoded\n",
        ")\n",
        "\n",
        "# 5. Prepare LightGBM Datasets\n",
        "train_data = lgb.Dataset(X_train, label=y_train)\n",
        "val_data = lgb.Dataset(X_val, label=y_val)\n",
        "\n",
        "# 6. LightGBM parameters\n",
        "params = {\n",
        "    'objective': 'multiclass',\n",
        "    'num_class': len(le.classes_),\n",
        "    'metric': 'multi_logloss',\n",
        "    'verbosity': -1,\n",
        "    'boosting_type': 'gbdt',\n",
        "    'seed': 42\n",
        "}\n",
        "\n",
        "# 7. MLflow tracking\n",
        "with mlflow.start_run(run_name=\"LightGBM AQI Category Classifier\"):\n",
        "\n",
        "    mlflow.log_params(params)\n",
        "\n",
        "    model = lgb.train(\n",
        "        params,\n",
        "        train_data,\n",
        "        valid_sets=[val_data],\n",
        "        num_boost_round=1000,\n",
        "        callbacks=[\n",
        "            lgb.early_stopping(stopping_rounds=50),\n",
        "            lgb.log_evaluation(period=10)\n",
        "        ]\n",
        "    )\n",
        "\n",
        "    # Predict on validation set\n",
        "    y_pred_probs = model.predict(X_val, num_iteration=model.best_iteration)\n",
        "    y_pred = np.argmax(y_pred_probs, axis=1)\n",
        "\n",
        "    # Evaluate\n",
        "    accuracy = accuracy_score(y_val, y_pred)\n",
        "    report = classification_report(y_val, y_pred, target_names=le.classes_)\n",
        "    conf_matrix = confusion_matrix(y_val, y_pred)\n",
        "\n",
        "    # Log accuracy\n",
        "    mlflow.log_metric(\"accuracy\", accuracy)\n",
        "\n",
        "    # Log model with input_example and signature\n",
        "    input_example = X_val.head(2)\n",
        "    signature = infer_signature(X_val, y_pred_probs)\n",
        "    mlflow.lightgbm.log_model(\n",
        "        model,\n",
        "        \"model\",\n",
        "        input_example=input_example,\n",
        "        signature=signature\n",
        "    )\n",
        "\n",
        "    print(\"\\n✅ Classification Metrics:\")\n",
        "    print(f\"Accuracy: {accuracy:.4f}\")\n",
        "    print(\"\\nClassification Report:\\n\", report)\n",
        "    print(\"\\nConfusion Matrix:\\n\", conf_matrix)\n",
        "\n",
        "    # Save LabelEncoder locally in Colab\n",
        "    encoder_path = \"label_encoder.pkl\"\n",
        "    joblib.dump(le, encoder_path)\n",
        "    print(f\"\\n📦 LabelEncoder saved as: {encoder_path}\")\n",
        "\n",
        "    # Trigger file download\n",
        "    files.download(encoder_path)\n"
      ],
      "metadata": {
        "id": "fnWhP-yrNtmc",
        "colab": {
          "base_uri": "https://localhost:8080/",
          "height": 746
        },
        "outputId": "b4904f9a-3015-4c1b-c9f2-a469dab18457"
      },
      "execution_count": 29,
      "outputs": [
        {
          "output_type": "stream",
          "name": "stdout",
          "text": [
            "Training until validation scores don't improve for 50 rounds\n",
            "[10]\tvalid_0's multi_logloss: 0.166961\n",
            "[20]\tvalid_0's multi_logloss: 0.064053\n",
            "[30]\tvalid_0's multi_logloss: 0.0448353\n",
            "[40]\tvalid_0's multi_logloss: 0.0401942\n",
            "[50]\tvalid_0's multi_logloss: 0.0384265\n",
            "[60]\tvalid_0's multi_logloss: 0.0375662\n",
            "[70]\tvalid_0's multi_logloss: 0.0471331\n",
            "[80]\tvalid_0's multi_logloss: 0.064203\n",
            "[90]\tvalid_0's multi_logloss: 0.0827101\n",
            "[100]\tvalid_0's multi_logloss: 0.080245\n",
            "[110]\tvalid_0's multi_logloss: 0.154981\n",
            "Early stopping, best iteration is:\n",
            "[64]\tvalid_0's multi_logloss: 0.0372728\n",
            "\n",
            "✅ Classification Metrics:\n",
            "Accuracy: 0.9894\n",
            "\n",
            "Classification Report:\n",
            "               precision    recall  f1-score   support\n",
            "\n",
            "        Good       0.99      1.00      0.99    140471\n",
            "    Moderate       0.99      0.97      0.98     35260\n",
            "        Poor       0.97      0.92      0.95      4837\n",
            "Satisfactory       0.99      0.99      0.99     79010\n",
            "      Severe       0.99      0.98      0.98      2710\n",
            "   Very Poor       0.97      0.98      0.97      4124\n",
            "\n",
            "    accuracy                           0.99    266412\n",
            "   macro avg       0.98      0.97      0.98    266412\n",
            "weighted avg       0.99      0.99      0.99    266412\n",
            "\n",
            "\n",
            "Confusion Matrix:\n",
            " [[140390     62      0     19      0      0]\n",
            " [   615  34181     57    401      0      6]\n",
            " [     0    286   4470      0      2     79]\n",
            " [  1028    120      0  77862      0      0]\n",
            " [     0      2      8      0   2644     56]\n",
            " [     0      8     54      0     23   4039]]\n",
            "\n",
            "📦 LabelEncoder saved as: label_encoder.pkl\n"
          ]
        },
        {
          "output_type": "display_data",
          "data": {
            "text/plain": [
              "<IPython.core.display.Javascript object>"
            ],
            "application/javascript": [
              "\n",
              "    async function download(id, filename, size) {\n",
              "      if (!google.colab.kernel.accessAllowed) {\n",
              "        return;\n",
              "      }\n",
              "      const div = document.createElement('div');\n",
              "      const label = document.createElement('label');\n",
              "      label.textContent = `Downloading \"${filename}\": `;\n",
              "      div.appendChild(label);\n",
              "      const progress = document.createElement('progress');\n",
              "      progress.max = size;\n",
              "      div.appendChild(progress);\n",
              "      document.body.appendChild(div);\n",
              "\n",
              "      const buffers = [];\n",
              "      let downloaded = 0;\n",
              "\n",
              "      const channel = await google.colab.kernel.comms.open(id);\n",
              "      // Send a message to notify the kernel that we're ready.\n",
              "      channel.send({})\n",
              "\n",
              "      for await (const message of channel.messages) {\n",
              "        // Send a message to notify the kernel that we're ready.\n",
              "        channel.send({})\n",
              "        if (message.buffers) {\n",
              "          for (const buffer of message.buffers) {\n",
              "            buffers.push(buffer);\n",
              "            downloaded += buffer.byteLength;\n",
              "            progress.value = downloaded;\n",
              "          }\n",
              "        }\n",
              "      }\n",
              "      const blob = new Blob(buffers, {type: 'application/binary'});\n",
              "      const a = document.createElement('a');\n",
              "      a.href = window.URL.createObjectURL(blob);\n",
              "      a.download = filename;\n",
              "      div.appendChild(a);\n",
              "      a.click();\n",
              "      div.remove();\n",
              "    }\n",
              "  "
            ]
          },
          "metadata": {}
        },
        {
          "output_type": "display_data",
          "data": {
            "text/plain": [
              "<IPython.core.display.Javascript object>"
            ],
            "application/javascript": [
              "download(\"download_fbf1afe2-8fe1-4ff1-9fd8-880dcb4fe433\", \"label_encoder.pkl\", 534)"
            ]
          },
          "metadata": {}
        }
      ]
    },
    {
      "cell_type": "code",
      "source": [
        "import joblib\n",
        "from google.colab import files\n",
        "\n",
        "# Save model in Colab's local environment\n",
        "classifier_model_path = \"LightGBM_AQI_Classifier.pkl\"\n",
        "joblib.dump(model, classifier_model_path)\n",
        "\n",
        "# Download the saved model to your PC\n",
        "files.download(classifier_model_path)\n"
      ],
      "metadata": {
        "id": "bxwNN0o2Ntq_",
        "colab": {
          "base_uri": "https://localhost:8080/",
          "height": 17
        },
        "outputId": "3d559063-ca16-4682-c182-121be24e40e1"
      },
      "execution_count": 30,
      "outputs": [
        {
          "output_type": "display_data",
          "data": {
            "text/plain": [
              "<IPython.core.display.Javascript object>"
            ],
            "application/javascript": [
              "\n",
              "    async function download(id, filename, size) {\n",
              "      if (!google.colab.kernel.accessAllowed) {\n",
              "        return;\n",
              "      }\n",
              "      const div = document.createElement('div');\n",
              "      const label = document.createElement('label');\n",
              "      label.textContent = `Downloading \"${filename}\": `;\n",
              "      div.appendChild(label);\n",
              "      const progress = document.createElement('progress');\n",
              "      progress.max = size;\n",
              "      div.appendChild(progress);\n",
              "      document.body.appendChild(div);\n",
              "\n",
              "      const buffers = [];\n",
              "      let downloaded = 0;\n",
              "\n",
              "      const channel = await google.colab.kernel.comms.open(id);\n",
              "      // Send a message to notify the kernel that we're ready.\n",
              "      channel.send({})\n",
              "\n",
              "      for await (const message of channel.messages) {\n",
              "        // Send a message to notify the kernel that we're ready.\n",
              "        channel.send({})\n",
              "        if (message.buffers) {\n",
              "          for (const buffer of message.buffers) {\n",
              "            buffers.push(buffer);\n",
              "            downloaded += buffer.byteLength;\n",
              "            progress.value = downloaded;\n",
              "          }\n",
              "        }\n",
              "      }\n",
              "      const blob = new Blob(buffers, {type: 'application/binary'});\n",
              "      const a = document.createElement('a');\n",
              "      a.href = window.URL.createObjectURL(blob);\n",
              "      a.download = filename;\n",
              "      div.appendChild(a);\n",
              "      a.click();\n",
              "      div.remove();\n",
              "    }\n",
              "  "
            ]
          },
          "metadata": {}
        },
        {
          "output_type": "display_data",
          "data": {
            "text/plain": [
              "<IPython.core.display.Javascript object>"
            ],
            "application/javascript": [
              "download(\"download_390c2e83-2689-47a8-861d-eebbfbdaeec5\", \"LightGBM_AQI_Classifier.pkl\", 1324855)"
            ]
          },
          "metadata": {}
        }
      ]
    },
    {
      "cell_type": "code",
      "source": [
        "print(\"✅ All models trained & saved successfully! 🚀 You're all set.\\n🎯 Next step: Build the interactive Desktop App with PySide6! 🖥️🌿\")\n"
      ],
      "metadata": {
        "id": "XhsdwwFDNtuP",
        "colab": {
          "base_uri": "https://localhost:8080/"
        },
        "outputId": "62bf70d9-e1ef-4a68-ad6b-3b0b695c0fc6"
      },
      "execution_count": 32,
      "outputs": [
        {
          "output_type": "stream",
          "name": "stdout",
          "text": [
            "✅ All models trained & saved successfully! 🚀 You're all set.\n",
            "🎯 Next step: Build the interactive Desktop App with PySide6! 🖥️🌿\n"
          ]
        }
      ]
    },
    {
      "cell_type": "code",
      "source": [],
      "metadata": {
        "id": "XnHyqfxMNtzP"
      },
      "execution_count": null,
      "outputs": []
    },
    {
      "cell_type": "code",
      "source": [],
      "metadata": {
        "id": "8lBG1w5bNt2F"
      },
      "execution_count": null,
      "outputs": []
    },
    {
      "cell_type": "code",
      "source": [],
      "metadata": {
        "id": "QJj5DsceNt4x"
      },
      "execution_count": null,
      "outputs": []
    },
    {
      "cell_type": "code",
      "source": [],
      "metadata": {
        "id": "7y1PV1kONt75"
      },
      "execution_count": null,
      "outputs": []
    },
    {
      "cell_type": "code",
      "source": [],
      "metadata": {
        "id": "o4VqP7qANt-4"
      },
      "execution_count": null,
      "outputs": []
    },
    {
      "cell_type": "code",
      "source": [],
      "metadata": {
        "id": "hnmtj6LPNuBn"
      },
      "execution_count": null,
      "outputs": []
    },
    {
      "cell_type": "code",
      "source": [],
      "metadata": {
        "id": "3EuLVTzuNuFU"
      },
      "execution_count": null,
      "outputs": []
    }
  ]
}