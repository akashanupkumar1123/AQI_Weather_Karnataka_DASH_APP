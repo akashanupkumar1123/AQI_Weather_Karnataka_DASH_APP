{
  "nbformat": 4,
  "nbformat_minor": 0,
  "metadata": {
    "colab": {
      "provenance": []
    },
    "kernelspec": {
      "name": "python3",
      "display_name": "Python 3"
    },
    "language_info": {
      "name": "python"
    }
  },
  "cells": [
    {
      "cell_type": "code",
      "execution_count": null,
      "metadata": {
        "colab": {
          "base_uri": "https://localhost:8080/"
        },
        "id": "D3njfwTPxdwi",
        "outputId": "e90a7d2f-3ac3-48e4-fa29-0d9ec337a9a4"
      },
      "outputs": [
        {
          "output_type": "stream",
          "name": "stdout",
          "text": [
            "\n",
            "📍 Weather in Bangalore\n",
            "City: Bangalore\n",
            "Date: 2025-07-17\n",
            "Time: 18:28:50\n",
            "Temperature (°C): 21.3\n",
            "Humidity (%): 100\n",
            "Condition: Light rain\n",
            "Wind Speed (kph): 18.0\n",
            "\n",
            "📍 Weather in Mysore\n",
            "City: Mysore\n",
            "Date: 2025-07-17\n",
            "Time: 18:28:50\n",
            "Temperature (°C): 21.2\n",
            "Humidity (%): 91\n",
            "Condition: Overcast\n",
            "Wind Speed (kph): 17.3\n",
            "\n",
            "✅ Weather data saved to live_weather_data.csv\n",
            "📊 Data Shape: 2 rows × 7 columns\n"
          ]
        }
      ],
      "source": [
        "import requests\n",
        "import csv\n",
        "from datetime import datetime\n",
        "\n",
        "API_KEY = 'c29a1583e9d54bf180f180516250106'\n",
        "CITIES = ['Bangalore', 'Mysore']\n",
        "URL_TEMPLATE = 'https://api.weatherapi.com/v1/current.json?key={}&q={}'\n",
        "\n",
        "# Prepare list for weather data\n",
        "weather_data = []\n",
        "\n",
        "for city in CITIES:\n",
        "    url = URL_TEMPLATE.format(API_KEY, city)\n",
        "    response = requests.get(url)\n",
        "    data = response.json()\n",
        "\n",
        "    if response.status_code == 200:\n",
        "        current = data['current']\n",
        "        city_data = {\n",
        "            'City': city,\n",
        "            'Date': datetime.now().strftime('%Y-%m-%d'),\n",
        "            'Time': datetime.now().strftime('%H:%M:%S'),\n",
        "            'Temperature (°C)': current['temp_c'],\n",
        "            'Humidity (%)': current['humidity'],\n",
        "            'Condition': current['condition']['text'],\n",
        "            'Wind Speed (kph)': current['wind_kph']\n",
        "        }\n",
        "        weather_data.append(city_data)\n",
        "\n",
        "        # ✅ Print weather data\n",
        "        print(f\"\\n📍 Weather in {city}\")\n",
        "        for key, value in city_data.items():\n",
        "            print(f\"{key}: {value}\")\n",
        "    else:\n",
        "        print(f\"❌ Error fetching data for {city}: {data.get('error', {}).get('message')}\")\n",
        "\n",
        "# Save the data to CSV and print size (rows x cols)\n",
        "if weather_data:\n",
        "    filename = 'live_weather_data.csv'\n",
        "    fieldnames = weather_data[0].keys()\n",
        "    with open(filename, mode='w', newline='') as file:\n",
        "        writer = csv.DictWriter(file, fieldnames=fieldnames)\n",
        "        writer.writeheader()\n",
        "        writer.writerows(weather_data)\n",
        "\n",
        "    num_rows = len(weather_data)\n",
        "    num_cols = len(fieldnames)\n",
        "\n",
        "    print(f\"\\n✅ Weather data saved to {filename}\")\n",
        "    print(f\"📊 Data Shape: {num_rows} rows × {num_cols} columns\")\n"
      ]
    },
    {
      "cell_type": "code",
      "source": [
        "from google.colab import drive\n",
        "drive.mount('/content/drive')\n"
      ],
      "metadata": {
        "colab": {
          "base_uri": "https://localhost:8080/"
        },
        "id": "-G3CzNiKxfT3",
        "outputId": "fede1a90-2b75-4d2c-cedf-f56e78bc12aa"
      },
      "execution_count": null,
      "outputs": [
        {
          "output_type": "stream",
          "name": "stdout",
          "text": [
            "Drive already mounted at /content/drive; to attempt to forcibly remount, call drive.mount(\"/content/drive\", force_remount=True).\n"
          ]
        }
      ]
    },
    {
      "cell_type": "code",
      "source": [
        "from google.colab import files\n",
        "files.download('live_weather_data.csv')\n"
      ],
      "metadata": {
        "colab": {
          "base_uri": "https://localhost:8080/",
          "height": 34
        },
        "id": "_fn--7hcxfWf",
        "outputId": "48cf9838-0cdc-47ee-835b-e8d76270cef4"
      },
      "execution_count": null,
      "outputs": [
        {
          "output_type": "display_data",
          "data": {
            "text/plain": [
              "<IPython.core.display.Javascript object>"
            ],
            "application/javascript": [
              "\n",
              "    async function download(id, filename, size) {\n",
              "      if (!google.colab.kernel.accessAllowed) {\n",
              "        return;\n",
              "      }\n",
              "      const div = document.createElement('div');\n",
              "      const label = document.createElement('label');\n",
              "      label.textContent = `Downloading \"${filename}\": `;\n",
              "      div.appendChild(label);\n",
              "      const progress = document.createElement('progress');\n",
              "      progress.max = size;\n",
              "      div.appendChild(progress);\n",
              "      document.body.appendChild(div);\n",
              "\n",
              "      const buffers = [];\n",
              "      let downloaded = 0;\n",
              "\n",
              "      const channel = await google.colab.kernel.comms.open(id);\n",
              "      // Send a message to notify the kernel that we're ready.\n",
              "      channel.send({})\n",
              "\n",
              "      for await (const message of channel.messages) {\n",
              "        // Send a message to notify the kernel that we're ready.\n",
              "        channel.send({})\n",
              "        if (message.buffers) {\n",
              "          for (const buffer of message.buffers) {\n",
              "            buffers.push(buffer);\n",
              "            downloaded += buffer.byteLength;\n",
              "            progress.value = downloaded;\n",
              "          }\n",
              "        }\n",
              "      }\n",
              "      const blob = new Blob(buffers, {type: 'application/binary'});\n",
              "      const a = document.createElement('a');\n",
              "      a.href = window.URL.createObjectURL(blob);\n",
              "      a.download = filename;\n",
              "      div.appendChild(a);\n",
              "      a.click();\n",
              "      div.remove();\n",
              "    }\n",
              "  "
            ]
          },
          "metadata": {}
        },
        {
          "output_type": "display_data",
          "data": {
            "text/plain": [
              "<IPython.core.display.Javascript object>"
            ],
            "application/javascript": [
              "download(\"download_948ce302-4634-4af4-ab70-0a035355e3f7\", \"live_weather_data.csv\", 180)"
            ]
          },
          "metadata": {}
        }
      ]
    },
    {
      "cell_type": "code",
      "source": [
        "\n",
        "import pandas as pd\n",
        "import zipfile\n",
        "\n",
        "# Define base path\n",
        "base_path = \"/content/drive/My Drive\"  # or add \"/your_folder\" if files are inside a folder\n",
        "\n",
        "# Load CSVs\n",
        "bengaluru_aqi = pd.read_csv(f\"{base_path}/Bengaluru_AQIBulletins.csv\")\n",
        "mysuru_aqi = pd.read_csv(f\"{base_path}/Mysuru_AQIBulletins.csv\")\n",
        "\n",
        "df = pd.read_csv(\"/content/drive/My Drive/AQI_Weather_Analyser_Project/DATA/final_AQI.zip\")\n",
        "\n",
        "# Step 5: Print shape and preview\n",
        "print(\"✅ final_AQI shape:\", df.shape)\n",
        "print(df.head())\n",
        "\n",
        "\n",
        "print(\"\\n✅ mysuru_aqi shape:\", mysuru_aqi.shape)\n",
        "print(mysuru_aqi.head())\n",
        "\n",
        "print(\"\\n✅ bengaluru_aqi shape:\", bengaluru_aqi.shape)\n",
        "print(bengaluru_aqi.head())\n",
        "\n",
        "\n"
      ],
      "metadata": {
        "colab": {
          "base_uri": "https://localhost:8080/"
        },
        "id": "YrL-nP5oxfZF",
        "outputId": "6c08865e-504f-4178-f2e4-0902ce005a5f"
      },
      "execution_count": null,
      "outputs": [
        {
          "output_type": "stream",
          "name": "stdout",
          "text": [
            "✅ final_AQI shape: (1332059, 52)\n",
            "                   Start_TS                  End_Date  PM25  PM10    NO  \\\n",
            "0  2010-01-01T00:00:00.000Z  2010-01-01T01:00:00.000Z   0.0   0.0  3.51   \n",
            "1  2010-01-01T00:00:00.000Z  2010-01-01T01:00:00.000Z   0.0   0.0  0.85   \n",
            "2  2010-01-01T01:00:00.000Z  2010-01-01T02:00:00.000Z   0.0   0.0  5.57   \n",
            "3  2010-01-01T01:00:00.000Z  2010-01-01T02:00:00.000Z   0.0   0.0  1.19   \n",
            "4  2010-01-01T02:00:00.000Z  2010-01-01T03:00:00.000Z   0.0   0.0  5.69   \n",
            "\n",
            "     NO2    NOX    NH3   SO2    CO  ...  Rolling_PM10_max_7d  \\\n",
            "0  17.84  21.26   0.00  1.36  0.48  ...                  0.0   \n",
            "1  21.07  21.91  32.51  4.30  0.45  ...                  0.0   \n",
            "2  14.71  20.28   0.00  1.23  0.49  ...                  0.0   \n",
            "3  20.41  21.60  31.99  1.22  0.35  ...                  0.0   \n",
            "4  14.18  19.87   0.00  1.09  0.38  ...                  0.0   \n",
            "\n",
            "   Rolling_NO2_mean  Lag_NO2_1h  Rolling_NO2_max_7d  Rolling_CO_mean  \\\n",
            "0         17.840000         NaN               21.07         0.480000   \n",
            "1         19.455000       17.84               21.07         0.465000   \n",
            "2         17.873333       21.07               21.07         0.473333   \n",
            "3         18.730000       14.71               21.07         0.430000   \n",
            "4         16.433333       20.41               21.07         0.406667   \n",
            "\n",
            "   Lag_CO_1h  Rolling_CO_max_7d  Rolling_SO2_mean  Lag_SO2_1h  \\\n",
            "0        NaN               0.48          1.360000         NaN   \n",
            "1       0.48               0.48          2.830000        1.36   \n",
            "2       0.45               0.49          2.296667        4.30   \n",
            "3       0.49               0.49          2.250000        1.23   \n",
            "4       0.35               0.49          1.180000        1.22   \n",
            "\n",
            "   Rolling_SO2_max_7d  \n",
            "0                 4.3  \n",
            "1                 4.3  \n",
            "2                 4.3  \n",
            "3                 4.3  \n",
            "4                 4.3  \n",
            "\n",
            "[5 rows x 52 columns]\n",
            "\n",
            "✅ mysuru_aqi shape: (1393, 6)\n",
            "         date    City  No. Stations   Air Quality  Index Value  \\\n",
            "0  2019-07-29  Mysuru           1.0          Good           48   \n",
            "1  2019-07-30  Mysuru           1.0          Good           43   \n",
            "2  2019-07-31  Mysuru           1.0          Good           40   \n",
            "3  2019-08-01  Mysuru           1.0  Satisfactory           51   \n",
            "4  2019-08-02  Mysuru           1.0          Good           42   \n",
            "\n",
            "  Prominent Pollutant  \n",
            "0                PM10  \n",
            "1                PM10  \n",
            "2                PM10  \n",
            "3                PM10  \n",
            "4                PM10  \n",
            "\n",
            "✅ bengaluru_aqi shape: (3120, 6)\n",
            "         date       City  No. Stations   Air Quality  Index Value  \\\n",
            "0  2015-05-02  Bengaluru           NaN      Moderate          132   \n",
            "1  2015-05-03  Bengaluru           NaN          Good           49   \n",
            "2  2015-05-04  Bengaluru           NaN          Good           46   \n",
            "3  2015-05-05  Bengaluru           NaN          Poor          229   \n",
            "4  2015-05-06  Bengaluru           NaN  Satisfactory           90   \n",
            "\n",
            "  Prominent Pollutant  \n",
            "0           CO, PM2.5  \n",
            "1           CO, PM2.5  \n",
            "2                  CO  \n",
            "3                  CO  \n",
            "4                  O3  \n"
          ]
        }
      ]
    },
    {
      "cell_type": "code",
      "source": [
        "# Print columns and their count\n",
        "print(f\"Number of columns: {len(df.columns)}\")\n",
        "print(\"Columns:\")\n",
        "print(df.columns.tolist())"
      ],
      "metadata": {
        "colab": {
          "base_uri": "https://localhost:8080/"
        },
        "id": "het4Kv8oxfby",
        "outputId": "e64978dd-62f7-49c5-a73c-d0790910390a"
      },
      "execution_count": null,
      "outputs": [
        {
          "output_type": "stream",
          "name": "stdout",
          "text": [
            "Number of columns: 52\n",
            "Columns:\n",
            "['Start_TS', 'End_Date', 'PM25', 'PM10', 'NO', 'NO2', 'NOX', 'NH3', 'SO2', 'CO', 'OZONE', 'BENZENE', 'TOLUENE', 'ETH_BENZENE', 'MP_XYLENE', 'O_XYLENE', 'TEMP_C', 'RH', 'WS', 'WD', 'SR', 'BP', 'VWS', 'PM_RATIO', 'NOX_TO_NO2', 'PM25_WIND_SCALED', 'HUMIDITY_TEMP_INDEX', 'AQI_PM25', 'AQI_PM10', 'AQI_NO2', 'AQI_SO2', 'AQI_CO', 'AQI_OZONE', 'AQI_NH3', 'AQI_CPCB', 'AQI_Category', 'Start_TS_unix', 'Rolling_PM25_mean', 'Lag_PM25_1h', 'Rolling_Temperature_max', 'Rolling_PM10_mean', 'Lag_PM10_1h', 'Rolling_PM10_max_7d', 'Rolling_NO2_mean', 'Lag_NO2_1h', 'Rolling_NO2_max_7d', 'Rolling_CO_mean', 'Lag_CO_1h', 'Rolling_CO_max_7d', 'Rolling_SO2_mean', 'Lag_SO2_1h', 'Rolling_SO2_max_7d']\n"
          ]
        }
      ]
    },
    {
      "cell_type": "code",
      "source": [
        "# Rename weather_data list to DataFrame\n",
        "live_weather_df = pd.DataFrame(weather_data)\n",
        "\n",
        "# Convert date columns to datetime\n",
        "live_weather_df['Date'] = pd.to_datetime(live_weather_df['Date'])\n",
        "bengaluru_aqi['date'] = pd.to_datetime(bengaluru_aqi['date'])\n",
        "mysuru_aqi['date'] = pd.to_datetime(mysuru_aqi['date'])\n",
        "\n",
        "# Standardize City names\n",
        "bengaluru_aqi['City'] = 'Bangalore'\n",
        "mysuru_aqi['City'] = 'Mysore'\n",
        "\n",
        "# Combine AQI dataframes\n",
        "aqi_df = pd.concat([bengaluru_aqi, mysuru_aqi], ignore_index=True)\n",
        "\n",
        "# Merge live weather data with AQI data on City and Date\n",
        "merged_df = pd.merge(live_weather_df, aqi_df, left_on=['City', 'Date'], right_on=['City', 'date'], how='left')\n"
      ],
      "metadata": {
        "id": "bcibI5BKxfeh"
      },
      "execution_count": null,
      "outputs": []
    },
    {
      "cell_type": "code",
      "source": [
        "def get_weather_emoji(condition):\n",
        "    condition = condition.lower()\n",
        "    if 'clear' in condition:\n",
        "        return '☀️'\n",
        "    elif 'cloud' in condition:\n",
        "        return '☁️'\n",
        "    elif 'rain' in condition:\n",
        "        return '🌧️'\n",
        "    elif 'storm' in condition:\n",
        "        return '⛈️'\n",
        "    elif 'snow' in condition:\n",
        "        return '❄️'\n",
        "    else:\n",
        "        return '🌈'\n",
        "\n",
        "# Example usage\n",
        "merged_df['Weather_Emoji'] = merged_df['Condition'].apply(get_weather_emoji)\n"
      ],
      "metadata": {
        "id": "zKaAi-j5xfhF"
      },
      "execution_count": null,
      "outputs": []
    },
    {
      "cell_type": "code",
      "source": [
        "'''import plotly.express as px\n",
        "\n",
        "# Your DataFrame: bengaluru_aqi\n",
        "fig = px.line(\n",
        "    bengaluru_aqi,\n",
        "    x='date',\n",
        "    y='Index Value',\n",
        "    title='Bangalore AQI Over Time (Historical)',\n",
        "    markers=True\n",
        ")\n",
        "\n",
        "# Show interactive plot\n",
        "fig.show()\n",
        "\n",
        "# Save static PNG\n",
        "fig.write_image(\"bangalore_aqi_plot.png\", width=1000, height=600)'''\n"
      ],
      "metadata": {
        "colab": {
          "base_uri": "https://localhost:8080/",
          "height": 70
        },
        "id": "EkavlX0Mxfjy",
        "outputId": "0a2d29fe-c66c-43a4-cc09-af043db7a759"
      },
      "execution_count": null,
      "outputs": [
        {
          "output_type": "execute_result",
          "data": {
            "text/plain": [
              "'import plotly.express as px\\n\\n# Your DataFrame: bengaluru_aqi\\nfig = px.line(\\n    bengaluru_aqi,\\n    x=\\'date\\',\\n    y=\\'Index Value\\',\\n    title=\\'Bangalore AQI Over Time (Historical)\\',\\n    markers=True\\n)\\n\\n# Show interactive plot\\nfig.show()\\n\\n# Save static PNG\\nfig.write_image(\"bangalore_aqi_plot.png\", width=1000, height=600)'"
            ],
            "application/vnd.google.colaboratory.intrinsic+json": {
              "type": "string"
            }
          },
          "metadata": {},
          "execution_count": 8
        }
      ]
    },
    {
      "cell_type": "code",
      "source": [
        "'''from google.colab import files\n",
        "files.download('/content/bangalore_aqi_plot.png')'''\n"
      ],
      "metadata": {
        "colab": {
          "base_uri": "https://localhost:8080/",
          "height": 35
        },
        "id": "nmcxj82ixfmL",
        "outputId": "50e931f5-7d1d-4746-e625-e88f98e8fffe"
      },
      "execution_count": null,
      "outputs": [
        {
          "output_type": "execute_result",
          "data": {
            "text/plain": [
              "\"from google.colab import files\\nfiles.download('/content/bangalore_aqi_plot.png')\""
            ],
            "application/vnd.google.colaboratory.intrinsic+json": {
              "type": "string"
            }
          },
          "metadata": {},
          "execution_count": 9
        }
      ]
    },
    {
      "cell_type": "code",
      "source": [
        "import pandas as pd\n",
        "\n",
        "# Assuming df is your loaded DataFrame from final_AQI.zip\n",
        "df['Start_TS'] = pd.to_datetime(df['Start_TS'])\n",
        "df['End_Date'] = pd.to_datetime(df['End_Date'])\n",
        "\n",
        "# Check conversion\n",
        "print(df[['Start_TS', 'End_Date']].head())\n"
      ],
      "metadata": {
        "colab": {
          "base_uri": "https://localhost:8080/"
        },
        "id": "xFSxOChRxfpO",
        "outputId": "0b2b8577-24df-4515-a3a4-8698d751bdb9"
      },
      "execution_count": null,
      "outputs": [
        {
          "output_type": "stream",
          "name": "stdout",
          "text": [
            "                   Start_TS                  End_Date\n",
            "0 2010-01-01 00:00:00+00:00 2010-01-01 01:00:00+00:00\n",
            "1 2010-01-01 00:00:00+00:00 2010-01-01 01:00:00+00:00\n",
            "2 2010-01-01 01:00:00+00:00 2010-01-01 02:00:00+00:00\n",
            "3 2010-01-01 01:00:00+00:00 2010-01-01 02:00:00+00:00\n",
            "4 2010-01-01 02:00:00+00:00 2010-01-01 03:00:00+00:00\n"
          ]
        }
      ]
    },
    {
      "cell_type": "code",
      "source": [
        "derived_cols = [col for col in df.columns if col.startswith(('Rolling_', 'Lag_'))] + ['AQI_CPCB', 'AQI_Category']\n",
        "\n",
        "missing_counts = df[derived_cols].isnull().sum()\n",
        "print(missing_counts)\n"
      ],
      "metadata": {
        "colab": {
          "base_uri": "https://localhost:8080/"
        },
        "id": "pzXawOkwxfrb",
        "outputId": "297ad94e-8d32-4f83-8ec7-699f5b42ceab"
      },
      "execution_count": null,
      "outputs": [
        {
          "output_type": "stream",
          "name": "stdout",
          "text": [
            "Rolling_PM25_mean          0\n",
            "Lag_PM25_1h                1\n",
            "Rolling_Temperature_max    0\n",
            "Rolling_PM10_mean          0\n",
            "Lag_PM10_1h                1\n",
            "Rolling_PM10_max_7d        0\n",
            "Rolling_NO2_mean           0\n",
            "Lag_NO2_1h                 1\n",
            "Rolling_NO2_max_7d         0\n",
            "Rolling_CO_mean            0\n",
            "Lag_CO_1h                  1\n",
            "Rolling_CO_max_7d          0\n",
            "Rolling_SO2_mean           0\n",
            "Lag_SO2_1h                 1\n",
            "Rolling_SO2_max_7d         0\n",
            "AQI_CPCB                   0\n",
            "AQI_Category               0\n",
            "dtype: int64\n"
          ]
        }
      ]
    },
    {
      "cell_type": "code",
      "source": [
        "df[derived_cols] = df[derived_cols].ffill().fillna(0)\n",
        "\n"
      ],
      "metadata": {
        "id": "L7P5L5rCxfuJ"
      },
      "execution_count": null,
      "outputs": []
    },
    {
      "cell_type": "code",
      "source": [
        "lag_cols = ['Lag_PM25_1h', 'Lag_PM10_1h', 'Lag_NO2_1h', 'Lag_CO_1h', 'Lag_SO2_1h']\n",
        "\n",
        "# Drop rows with NaN in any lag column\n",
        "df_clean = df.dropna(subset=lag_cols)\n",
        "\n",
        "print(f\"Shape before dropping: {df.shape}\")\n",
        "print(f\"Shape after dropping: {df_clean.shape}\")\n"
      ],
      "metadata": {
        "colab": {
          "base_uri": "https://localhost:8080/"
        },
        "id": "JS2i9V0oxfwa",
        "outputId": "548ddc9a-1e15-4d47-ad83-25fe0605c182"
      },
      "execution_count": null,
      "outputs": [
        {
          "output_type": "stream",
          "name": "stdout",
          "text": [
            "Shape before dropping: (1332059, 52)\n",
            "Shape after dropping: (1332059, 52)\n"
          ]
        }
      ]
    },
    {
      "cell_type": "code",
      "source": [
        "df.nunique().sort_values()  # to check unique values per column\n"
      ],
      "metadata": {
        "colab": {
          "base_uri": "https://localhost:8080/",
          "height": 1000
        },
        "id": "o2jlZYgAxf0v",
        "outputId": "d79d6b35-56f7-462c-a368-f9fd61c73365"
      },
      "execution_count": null,
      "outputs": [
        {
          "output_type": "execute_result",
          "data": {
            "text/plain": [
              "AQI_Category                    6\n",
              "AQI_CPCB                      501\n",
              "Rolling_PM10_max_7d           936\n",
              "Rolling_Temperature_max      1051\n",
              "Rolling_CO_max_7d            1918\n",
              "Rolling_SO2_max_7d           1970\n",
              "Rolling_NO2_max_7d           1997\n",
              "AQI_CO                       4461\n",
              "ETH_BENZENE                  5142\n",
              "Lag_CO_1h                    9272\n",
              "CO                           9272\n",
              "TEMP_C                       9957\n",
              "O_XYLENE                    10020\n",
              "AQI_SO2                     11387\n",
              "SO2                         11562\n",
              "Lag_SO2_1h                  11562\n",
              "AQI_NH3                     11972\n",
              "NH3                         11980\n",
              "AQI_NO2                     14729\n",
              "NO2                         14942\n",
              "Lag_NO2_1h                  14942\n",
              "AQI_OZONE                   15721\n",
              "NO                          15746\n",
              "OZONE                       15956\n",
              "NOX                         17824\n",
              "AQI_PM25                    20898\n",
              "MP_XYLENE                   21462\n",
              "Lag_PM25_1h                 21755\n",
              "PM25                        21755\n",
              "AQI_PM10                    24063\n",
              "BENZENE                     24367\n",
              "PM10                        24965\n",
              "Lag_PM10_1h                 24965\n",
              "RH                          28829\n",
              "TOLUENE                     31162\n",
              "VWS                         40340\n",
              "BP                          48133\n",
              "SR                          51177\n",
              "WS                          62188\n",
              "WD                          72172\n",
              "Rolling_CO_mean             93132\n",
              "Start_TS                   116112\n",
              "End_Date                   116112\n",
              "Start_TS_unix              116112\n",
              "Rolling_PM25_mean          142172\n",
              "Rolling_SO2_mean           150232\n",
              "Rolling_NO2_mean           178505\n",
              "Rolling_PM10_mean          209034\n",
              "HUMIDITY_TEMP_INDEX        390538\n",
              "PM25_WIND_SCALED           417884\n",
              "PM_RATIO                   448976\n",
              "NOX_TO_NO2                 772891\n",
              "dtype: int64"
            ],
            "text/html": [
              "<div>\n",
              "<style scoped>\n",
              "    .dataframe tbody tr th:only-of-type {\n",
              "        vertical-align: middle;\n",
              "    }\n",
              "\n",
              "    .dataframe tbody tr th {\n",
              "        vertical-align: top;\n",
              "    }\n",
              "\n",
              "    .dataframe thead th {\n",
              "        text-align: right;\n",
              "    }\n",
              "</style>\n",
              "<table border=\"1\" class=\"dataframe\">\n",
              "  <thead>\n",
              "    <tr style=\"text-align: right;\">\n",
              "      <th></th>\n",
              "      <th>0</th>\n",
              "    </tr>\n",
              "  </thead>\n",
              "  <tbody>\n",
              "    <tr>\n",
              "      <th>AQI_Category</th>\n",
              "      <td>6</td>\n",
              "    </tr>\n",
              "    <tr>\n",
              "      <th>AQI_CPCB</th>\n",
              "      <td>501</td>\n",
              "    </tr>\n",
              "    <tr>\n",
              "      <th>Rolling_PM10_max_7d</th>\n",
              "      <td>936</td>\n",
              "    </tr>\n",
              "    <tr>\n",
              "      <th>Rolling_Temperature_max</th>\n",
              "      <td>1051</td>\n",
              "    </tr>\n",
              "    <tr>\n",
              "      <th>Rolling_CO_max_7d</th>\n",
              "      <td>1918</td>\n",
              "    </tr>\n",
              "    <tr>\n",
              "      <th>Rolling_SO2_max_7d</th>\n",
              "      <td>1970</td>\n",
              "    </tr>\n",
              "    <tr>\n",
              "      <th>Rolling_NO2_max_7d</th>\n",
              "      <td>1997</td>\n",
              "    </tr>\n",
              "    <tr>\n",
              "      <th>AQI_CO</th>\n",
              "      <td>4461</td>\n",
              "    </tr>\n",
              "    <tr>\n",
              "      <th>ETH_BENZENE</th>\n",
              "      <td>5142</td>\n",
              "    </tr>\n",
              "    <tr>\n",
              "      <th>Lag_CO_1h</th>\n",
              "      <td>9272</td>\n",
              "    </tr>\n",
              "    <tr>\n",
              "      <th>CO</th>\n",
              "      <td>9272</td>\n",
              "    </tr>\n",
              "    <tr>\n",
              "      <th>TEMP_C</th>\n",
              "      <td>9957</td>\n",
              "    </tr>\n",
              "    <tr>\n",
              "      <th>O_XYLENE</th>\n",
              "      <td>10020</td>\n",
              "    </tr>\n",
              "    <tr>\n",
              "      <th>AQI_SO2</th>\n",
              "      <td>11387</td>\n",
              "    </tr>\n",
              "    <tr>\n",
              "      <th>SO2</th>\n",
              "      <td>11562</td>\n",
              "    </tr>\n",
              "    <tr>\n",
              "      <th>Lag_SO2_1h</th>\n",
              "      <td>11562</td>\n",
              "    </tr>\n",
              "    <tr>\n",
              "      <th>AQI_NH3</th>\n",
              "      <td>11972</td>\n",
              "    </tr>\n",
              "    <tr>\n",
              "      <th>NH3</th>\n",
              "      <td>11980</td>\n",
              "    </tr>\n",
              "    <tr>\n",
              "      <th>AQI_NO2</th>\n",
              "      <td>14729</td>\n",
              "    </tr>\n",
              "    <tr>\n",
              "      <th>NO2</th>\n",
              "      <td>14942</td>\n",
              "    </tr>\n",
              "    <tr>\n",
              "      <th>Lag_NO2_1h</th>\n",
              "      <td>14942</td>\n",
              "    </tr>\n",
              "    <tr>\n",
              "      <th>AQI_OZONE</th>\n",
              "      <td>15721</td>\n",
              "    </tr>\n",
              "    <tr>\n",
              "      <th>NO</th>\n",
              "      <td>15746</td>\n",
              "    </tr>\n",
              "    <tr>\n",
              "      <th>OZONE</th>\n",
              "      <td>15956</td>\n",
              "    </tr>\n",
              "    <tr>\n",
              "      <th>NOX</th>\n",
              "      <td>17824</td>\n",
              "    </tr>\n",
              "    <tr>\n",
              "      <th>AQI_PM25</th>\n",
              "      <td>20898</td>\n",
              "    </tr>\n",
              "    <tr>\n",
              "      <th>MP_XYLENE</th>\n",
              "      <td>21462</td>\n",
              "    </tr>\n",
              "    <tr>\n",
              "      <th>Lag_PM25_1h</th>\n",
              "      <td>21755</td>\n",
              "    </tr>\n",
              "    <tr>\n",
              "      <th>PM25</th>\n",
              "      <td>21755</td>\n",
              "    </tr>\n",
              "    <tr>\n",
              "      <th>AQI_PM10</th>\n",
              "      <td>24063</td>\n",
              "    </tr>\n",
              "    <tr>\n",
              "      <th>BENZENE</th>\n",
              "      <td>24367</td>\n",
              "    </tr>\n",
              "    <tr>\n",
              "      <th>PM10</th>\n",
              "      <td>24965</td>\n",
              "    </tr>\n",
              "    <tr>\n",
              "      <th>Lag_PM10_1h</th>\n",
              "      <td>24965</td>\n",
              "    </tr>\n",
              "    <tr>\n",
              "      <th>RH</th>\n",
              "      <td>28829</td>\n",
              "    </tr>\n",
              "    <tr>\n",
              "      <th>TOLUENE</th>\n",
              "      <td>31162</td>\n",
              "    </tr>\n",
              "    <tr>\n",
              "      <th>VWS</th>\n",
              "      <td>40340</td>\n",
              "    </tr>\n",
              "    <tr>\n",
              "      <th>BP</th>\n",
              "      <td>48133</td>\n",
              "    </tr>\n",
              "    <tr>\n",
              "      <th>SR</th>\n",
              "      <td>51177</td>\n",
              "    </tr>\n",
              "    <tr>\n",
              "      <th>WS</th>\n",
              "      <td>62188</td>\n",
              "    </tr>\n",
              "    <tr>\n",
              "      <th>WD</th>\n",
              "      <td>72172</td>\n",
              "    </tr>\n",
              "    <tr>\n",
              "      <th>Rolling_CO_mean</th>\n",
              "      <td>93132</td>\n",
              "    </tr>\n",
              "    <tr>\n",
              "      <th>Start_TS</th>\n",
              "      <td>116112</td>\n",
              "    </tr>\n",
              "    <tr>\n",
              "      <th>End_Date</th>\n",
              "      <td>116112</td>\n",
              "    </tr>\n",
              "    <tr>\n",
              "      <th>Start_TS_unix</th>\n",
              "      <td>116112</td>\n",
              "    </tr>\n",
              "    <tr>\n",
              "      <th>Rolling_PM25_mean</th>\n",
              "      <td>142172</td>\n",
              "    </tr>\n",
              "    <tr>\n",
              "      <th>Rolling_SO2_mean</th>\n",
              "      <td>150232</td>\n",
              "    </tr>\n",
              "    <tr>\n",
              "      <th>Rolling_NO2_mean</th>\n",
              "      <td>178505</td>\n",
              "    </tr>\n",
              "    <tr>\n",
              "      <th>Rolling_PM10_mean</th>\n",
              "      <td>209034</td>\n",
              "    </tr>\n",
              "    <tr>\n",
              "      <th>HUMIDITY_TEMP_INDEX</th>\n",
              "      <td>390538</td>\n",
              "    </tr>\n",
              "    <tr>\n",
              "      <th>PM25_WIND_SCALED</th>\n",
              "      <td>417884</td>\n",
              "    </tr>\n",
              "    <tr>\n",
              "      <th>PM_RATIO</th>\n",
              "      <td>448976</td>\n",
              "    </tr>\n",
              "    <tr>\n",
              "      <th>NOX_TO_NO2</th>\n",
              "      <td>772891</td>\n",
              "    </tr>\n",
              "  </tbody>\n",
              "</table>\n",
              "</div><br><label><b>dtype:</b> int64</label>"
            ]
          },
          "metadata": {},
          "execution_count": 14
        }
      ]
    },
    {
      "cell_type": "code",
      "source": [
        " print(df.columns.tolist())\n"
      ],
      "metadata": {
        "colab": {
          "base_uri": "https://localhost:8080/"
        },
        "id": "92DTthSjxf3p",
        "outputId": "7fe2dad5-b693-4e1b-f968-c8facafe567b"
      },
      "execution_count": null,
      "outputs": [
        {
          "output_type": "stream",
          "name": "stdout",
          "text": [
            "['Start_TS', 'End_Date', 'PM25', 'PM10', 'NO', 'NO2', 'NOX', 'NH3', 'SO2', 'CO', 'OZONE', 'BENZENE', 'TOLUENE', 'ETH_BENZENE', 'MP_XYLENE', 'O_XYLENE', 'TEMP_C', 'RH', 'WS', 'WD', 'SR', 'BP', 'VWS', 'PM_RATIO', 'NOX_TO_NO2', 'PM25_WIND_SCALED', 'HUMIDITY_TEMP_INDEX', 'AQI_PM25', 'AQI_PM10', 'AQI_NO2', 'AQI_SO2', 'AQI_CO', 'AQI_OZONE', 'AQI_NH3', 'AQI_CPCB', 'AQI_Category', 'Start_TS_unix', 'Rolling_PM25_mean', 'Lag_PM25_1h', 'Rolling_Temperature_max', 'Rolling_PM10_mean', 'Lag_PM10_1h', 'Rolling_PM10_max_7d', 'Rolling_NO2_mean', 'Lag_NO2_1h', 'Rolling_NO2_max_7d', 'Rolling_CO_mean', 'Lag_CO_1h', 'Rolling_CO_max_7d', 'Rolling_SO2_mean', 'Lag_SO2_1h', 'Rolling_SO2_max_7d']\n"
          ]
        }
      ]
    },
    {
      "cell_type": "code",
      "source": [
        "\n",
        "import pandas as pd\n",
        "import xgboost as xgb\n",
        "import matplotlib.pyplot as plt\n",
        "from sklearn.model_selection import train_test_split\n"
      ],
      "metadata": {
        "id": "CNDYrSVbj9sk"
      },
      "execution_count": null,
      "outputs": []
    },
    {
      "cell_type": "code",
      "source": [
        "features = ['PM25', 'PM10', 'NO2', 'CO', 'SO2', 'OZONE', 'TEMP_C', 'RH', 'WS', 'WD']\n",
        "target = 'AQI_CPCB'  # or 'PM25' if you're directly predicting PM2.5\n",
        "\n",
        "# Drop rows with NA in selected columns\n",
        "df_model = df[features + [target]].dropna()\n",
        "\n",
        "X = df_model[features]\n",
        "y = df_model[target]\n",
        "\n",
        "X_train, X_test, y_train, y_test = train_test_split(X, y, test_size=0.2, random_state=42)\n"
      ],
      "metadata": {
        "id": "QUid8mM0j4Mm"
      },
      "execution_count": null,
      "outputs": []
    },
    {
      "cell_type": "code",
      "source": [
        "model = xgb.XGBRegressor(objective='reg:squarederror', n_estimators=100, random_state=42)\n",
        "model.fit(X_train, y_train)\n"
      ],
      "metadata": {
        "colab": {
          "base_uri": "https://localhost:8080/",
          "height": 254
        },
        "id": "AkfJ-pdWj6XM",
        "outputId": "e52b822b-2374-4c3e-841b-22c4b4aaba8c"
      },
      "execution_count": null,
      "outputs": [
        {
          "output_type": "execute_result",
          "data": {
            "text/plain": [
              "XGBRegressor(base_score=None, booster=None, callbacks=None,\n",
              "             colsample_bylevel=None, colsample_bynode=None,\n",
              "             colsample_bytree=None, device=None, early_stopping_rounds=None,\n",
              "             enable_categorical=False, eval_metric=None, feature_types=None,\n",
              "             gamma=None, grow_policy=None, importance_type=None,\n",
              "             interaction_constraints=None, learning_rate=None, max_bin=None,\n",
              "             max_cat_threshold=None, max_cat_to_onehot=None,\n",
              "             max_delta_step=None, max_depth=None, max_leaves=None,\n",
              "             min_child_weight=None, missing=nan, monotone_constraints=None,\n",
              "             multi_strategy=None, n_estimators=100, n_jobs=None,\n",
              "             num_parallel_tree=None, random_state=42, ...)"
            ],
            "text/html": [
              "<style>#sk-container-id-1 {\n",
              "  /* Definition of color scheme common for light and dark mode */\n",
              "  --sklearn-color-text: #000;\n",
              "  --sklearn-color-text-muted: #666;\n",
              "  --sklearn-color-line: gray;\n",
              "  /* Definition of color scheme for unfitted estimators */\n",
              "  --sklearn-color-unfitted-level-0: #fff5e6;\n",
              "  --sklearn-color-unfitted-level-1: #f6e4d2;\n",
              "  --sklearn-color-unfitted-level-2: #ffe0b3;\n",
              "  --sklearn-color-unfitted-level-3: chocolate;\n",
              "  /* Definition of color scheme for fitted estimators */\n",
              "  --sklearn-color-fitted-level-0: #f0f8ff;\n",
              "  --sklearn-color-fitted-level-1: #d4ebff;\n",
              "  --sklearn-color-fitted-level-2: #b3dbfd;\n",
              "  --sklearn-color-fitted-level-3: cornflowerblue;\n",
              "\n",
              "  /* Specific color for light theme */\n",
              "  --sklearn-color-text-on-default-background: var(--sg-text-color, var(--theme-code-foreground, var(--jp-content-font-color1, black)));\n",
              "  --sklearn-color-background: var(--sg-background-color, var(--theme-background, var(--jp-layout-color0, white)));\n",
              "  --sklearn-color-border-box: var(--sg-text-color, var(--theme-code-foreground, var(--jp-content-font-color1, black)));\n",
              "  --sklearn-color-icon: #696969;\n",
              "\n",
              "  @media (prefers-color-scheme: dark) {\n",
              "    /* Redefinition of color scheme for dark theme */\n",
              "    --sklearn-color-text-on-default-background: var(--sg-text-color, var(--theme-code-foreground, var(--jp-content-font-color1, white)));\n",
              "    --sklearn-color-background: var(--sg-background-color, var(--theme-background, var(--jp-layout-color0, #111)));\n",
              "    --sklearn-color-border-box: var(--sg-text-color, var(--theme-code-foreground, var(--jp-content-font-color1, white)));\n",
              "    --sklearn-color-icon: #878787;\n",
              "  }\n",
              "}\n",
              "\n",
              "#sk-container-id-1 {\n",
              "  color: var(--sklearn-color-text);\n",
              "}\n",
              "\n",
              "#sk-container-id-1 pre {\n",
              "  padding: 0;\n",
              "}\n",
              "\n",
              "#sk-container-id-1 input.sk-hidden--visually {\n",
              "  border: 0;\n",
              "  clip: rect(1px 1px 1px 1px);\n",
              "  clip: rect(1px, 1px, 1px, 1px);\n",
              "  height: 1px;\n",
              "  margin: -1px;\n",
              "  overflow: hidden;\n",
              "  padding: 0;\n",
              "  position: absolute;\n",
              "  width: 1px;\n",
              "}\n",
              "\n",
              "#sk-container-id-1 div.sk-dashed-wrapped {\n",
              "  border: 1px dashed var(--sklearn-color-line);\n",
              "  margin: 0 0.4em 0.5em 0.4em;\n",
              "  box-sizing: border-box;\n",
              "  padding-bottom: 0.4em;\n",
              "  background-color: var(--sklearn-color-background);\n",
              "}\n",
              "\n",
              "#sk-container-id-1 div.sk-container {\n",
              "  /* jupyter's `normalize.less` sets `[hidden] { display: none; }`\n",
              "     but bootstrap.min.css set `[hidden] { display: none !important; }`\n",
              "     so we also need the `!important` here to be able to override the\n",
              "     default hidden behavior on the sphinx rendered scikit-learn.org.\n",
              "     See: https://github.com/scikit-learn/scikit-learn/issues/21755 */\n",
              "  display: inline-block !important;\n",
              "  position: relative;\n",
              "}\n",
              "\n",
              "#sk-container-id-1 div.sk-text-repr-fallback {\n",
              "  display: none;\n",
              "}\n",
              "\n",
              "div.sk-parallel-item,\n",
              "div.sk-serial,\n",
              "div.sk-item {\n",
              "  /* draw centered vertical line to link estimators */\n",
              "  background-image: linear-gradient(var(--sklearn-color-text-on-default-background), var(--sklearn-color-text-on-default-background));\n",
              "  background-size: 2px 100%;\n",
              "  background-repeat: no-repeat;\n",
              "  background-position: center center;\n",
              "}\n",
              "\n",
              "/* Parallel-specific style estimator block */\n",
              "\n",
              "#sk-container-id-1 div.sk-parallel-item::after {\n",
              "  content: \"\";\n",
              "  width: 100%;\n",
              "  border-bottom: 2px solid var(--sklearn-color-text-on-default-background);\n",
              "  flex-grow: 1;\n",
              "}\n",
              "\n",
              "#sk-container-id-1 div.sk-parallel {\n",
              "  display: flex;\n",
              "  align-items: stretch;\n",
              "  justify-content: center;\n",
              "  background-color: var(--sklearn-color-background);\n",
              "  position: relative;\n",
              "}\n",
              "\n",
              "#sk-container-id-1 div.sk-parallel-item {\n",
              "  display: flex;\n",
              "  flex-direction: column;\n",
              "}\n",
              "\n",
              "#sk-container-id-1 div.sk-parallel-item:first-child::after {\n",
              "  align-self: flex-end;\n",
              "  width: 50%;\n",
              "}\n",
              "\n",
              "#sk-container-id-1 div.sk-parallel-item:last-child::after {\n",
              "  align-self: flex-start;\n",
              "  width: 50%;\n",
              "}\n",
              "\n",
              "#sk-container-id-1 div.sk-parallel-item:only-child::after {\n",
              "  width: 0;\n",
              "}\n",
              "\n",
              "/* Serial-specific style estimator block */\n",
              "\n",
              "#sk-container-id-1 div.sk-serial {\n",
              "  display: flex;\n",
              "  flex-direction: column;\n",
              "  align-items: center;\n",
              "  background-color: var(--sklearn-color-background);\n",
              "  padding-right: 1em;\n",
              "  padding-left: 1em;\n",
              "}\n",
              "\n",
              "\n",
              "/* Toggleable style: style used for estimator/Pipeline/ColumnTransformer box that is\n",
              "clickable and can be expanded/collapsed.\n",
              "- Pipeline and ColumnTransformer use this feature and define the default style\n",
              "- Estimators will overwrite some part of the style using the `sk-estimator` class\n",
              "*/\n",
              "\n",
              "/* Pipeline and ColumnTransformer style (default) */\n",
              "\n",
              "#sk-container-id-1 div.sk-toggleable {\n",
              "  /* Default theme specific background. It is overwritten whether we have a\n",
              "  specific estimator or a Pipeline/ColumnTransformer */\n",
              "  background-color: var(--sklearn-color-background);\n",
              "}\n",
              "\n",
              "/* Toggleable label */\n",
              "#sk-container-id-1 label.sk-toggleable__label {\n",
              "  cursor: pointer;\n",
              "  display: flex;\n",
              "  width: 100%;\n",
              "  margin-bottom: 0;\n",
              "  padding: 0.5em;\n",
              "  box-sizing: border-box;\n",
              "  text-align: center;\n",
              "  align-items: start;\n",
              "  justify-content: space-between;\n",
              "  gap: 0.5em;\n",
              "}\n",
              "\n",
              "#sk-container-id-1 label.sk-toggleable__label .caption {\n",
              "  font-size: 0.6rem;\n",
              "  font-weight: lighter;\n",
              "  color: var(--sklearn-color-text-muted);\n",
              "}\n",
              "\n",
              "#sk-container-id-1 label.sk-toggleable__label-arrow:before {\n",
              "  /* Arrow on the left of the label */\n",
              "  content: \"▸\";\n",
              "  float: left;\n",
              "  margin-right: 0.25em;\n",
              "  color: var(--sklearn-color-icon);\n",
              "}\n",
              "\n",
              "#sk-container-id-1 label.sk-toggleable__label-arrow:hover:before {\n",
              "  color: var(--sklearn-color-text);\n",
              "}\n",
              "\n",
              "/* Toggleable content - dropdown */\n",
              "\n",
              "#sk-container-id-1 div.sk-toggleable__content {\n",
              "  max-height: 0;\n",
              "  max-width: 0;\n",
              "  overflow: hidden;\n",
              "  text-align: left;\n",
              "  /* unfitted */\n",
              "  background-color: var(--sklearn-color-unfitted-level-0);\n",
              "}\n",
              "\n",
              "#sk-container-id-1 div.sk-toggleable__content.fitted {\n",
              "  /* fitted */\n",
              "  background-color: var(--sklearn-color-fitted-level-0);\n",
              "}\n",
              "\n",
              "#sk-container-id-1 div.sk-toggleable__content pre {\n",
              "  margin: 0.2em;\n",
              "  border-radius: 0.25em;\n",
              "  color: var(--sklearn-color-text);\n",
              "  /* unfitted */\n",
              "  background-color: var(--sklearn-color-unfitted-level-0);\n",
              "}\n",
              "\n",
              "#sk-container-id-1 div.sk-toggleable__content.fitted pre {\n",
              "  /* unfitted */\n",
              "  background-color: var(--sklearn-color-fitted-level-0);\n",
              "}\n",
              "\n",
              "#sk-container-id-1 input.sk-toggleable__control:checked~div.sk-toggleable__content {\n",
              "  /* Expand drop-down */\n",
              "  max-height: 200px;\n",
              "  max-width: 100%;\n",
              "  overflow: auto;\n",
              "}\n",
              "\n",
              "#sk-container-id-1 input.sk-toggleable__control:checked~label.sk-toggleable__label-arrow:before {\n",
              "  content: \"▾\";\n",
              "}\n",
              "\n",
              "/* Pipeline/ColumnTransformer-specific style */\n",
              "\n",
              "#sk-container-id-1 div.sk-label input.sk-toggleable__control:checked~label.sk-toggleable__label {\n",
              "  color: var(--sklearn-color-text);\n",
              "  background-color: var(--sklearn-color-unfitted-level-2);\n",
              "}\n",
              "\n",
              "#sk-container-id-1 div.sk-label.fitted input.sk-toggleable__control:checked~label.sk-toggleable__label {\n",
              "  background-color: var(--sklearn-color-fitted-level-2);\n",
              "}\n",
              "\n",
              "/* Estimator-specific style */\n",
              "\n",
              "/* Colorize estimator box */\n",
              "#sk-container-id-1 div.sk-estimator input.sk-toggleable__control:checked~label.sk-toggleable__label {\n",
              "  /* unfitted */\n",
              "  background-color: var(--sklearn-color-unfitted-level-2);\n",
              "}\n",
              "\n",
              "#sk-container-id-1 div.sk-estimator.fitted input.sk-toggleable__control:checked~label.sk-toggleable__label {\n",
              "  /* fitted */\n",
              "  background-color: var(--sklearn-color-fitted-level-2);\n",
              "}\n",
              "\n",
              "#sk-container-id-1 div.sk-label label.sk-toggleable__label,\n",
              "#sk-container-id-1 div.sk-label label {\n",
              "  /* The background is the default theme color */\n",
              "  color: var(--sklearn-color-text-on-default-background);\n",
              "}\n",
              "\n",
              "/* On hover, darken the color of the background */\n",
              "#sk-container-id-1 div.sk-label:hover label.sk-toggleable__label {\n",
              "  color: var(--sklearn-color-text);\n",
              "  background-color: var(--sklearn-color-unfitted-level-2);\n",
              "}\n",
              "\n",
              "/* Label box, darken color on hover, fitted */\n",
              "#sk-container-id-1 div.sk-label.fitted:hover label.sk-toggleable__label.fitted {\n",
              "  color: var(--sklearn-color-text);\n",
              "  background-color: var(--sklearn-color-fitted-level-2);\n",
              "}\n",
              "\n",
              "/* Estimator label */\n",
              "\n",
              "#sk-container-id-1 div.sk-label label {\n",
              "  font-family: monospace;\n",
              "  font-weight: bold;\n",
              "  display: inline-block;\n",
              "  line-height: 1.2em;\n",
              "}\n",
              "\n",
              "#sk-container-id-1 div.sk-label-container {\n",
              "  text-align: center;\n",
              "}\n",
              "\n",
              "/* Estimator-specific */\n",
              "#sk-container-id-1 div.sk-estimator {\n",
              "  font-family: monospace;\n",
              "  border: 1px dotted var(--sklearn-color-border-box);\n",
              "  border-radius: 0.25em;\n",
              "  box-sizing: border-box;\n",
              "  margin-bottom: 0.5em;\n",
              "  /* unfitted */\n",
              "  background-color: var(--sklearn-color-unfitted-level-0);\n",
              "}\n",
              "\n",
              "#sk-container-id-1 div.sk-estimator.fitted {\n",
              "  /* fitted */\n",
              "  background-color: var(--sklearn-color-fitted-level-0);\n",
              "}\n",
              "\n",
              "/* on hover */\n",
              "#sk-container-id-1 div.sk-estimator:hover {\n",
              "  /* unfitted */\n",
              "  background-color: var(--sklearn-color-unfitted-level-2);\n",
              "}\n",
              "\n",
              "#sk-container-id-1 div.sk-estimator.fitted:hover {\n",
              "  /* fitted */\n",
              "  background-color: var(--sklearn-color-fitted-level-2);\n",
              "}\n",
              "\n",
              "/* Specification for estimator info (e.g. \"i\" and \"?\") */\n",
              "\n",
              "/* Common style for \"i\" and \"?\" */\n",
              "\n",
              ".sk-estimator-doc-link,\n",
              "a:link.sk-estimator-doc-link,\n",
              "a:visited.sk-estimator-doc-link {\n",
              "  float: right;\n",
              "  font-size: smaller;\n",
              "  line-height: 1em;\n",
              "  font-family: monospace;\n",
              "  background-color: var(--sklearn-color-background);\n",
              "  border-radius: 1em;\n",
              "  height: 1em;\n",
              "  width: 1em;\n",
              "  text-decoration: none !important;\n",
              "  margin-left: 0.5em;\n",
              "  text-align: center;\n",
              "  /* unfitted */\n",
              "  border: var(--sklearn-color-unfitted-level-1) 1pt solid;\n",
              "  color: var(--sklearn-color-unfitted-level-1);\n",
              "}\n",
              "\n",
              ".sk-estimator-doc-link.fitted,\n",
              "a:link.sk-estimator-doc-link.fitted,\n",
              "a:visited.sk-estimator-doc-link.fitted {\n",
              "  /* fitted */\n",
              "  border: var(--sklearn-color-fitted-level-1) 1pt solid;\n",
              "  color: var(--sklearn-color-fitted-level-1);\n",
              "}\n",
              "\n",
              "/* On hover */\n",
              "div.sk-estimator:hover .sk-estimator-doc-link:hover,\n",
              ".sk-estimator-doc-link:hover,\n",
              "div.sk-label-container:hover .sk-estimator-doc-link:hover,\n",
              ".sk-estimator-doc-link:hover {\n",
              "  /* unfitted */\n",
              "  background-color: var(--sklearn-color-unfitted-level-3);\n",
              "  color: var(--sklearn-color-background);\n",
              "  text-decoration: none;\n",
              "}\n",
              "\n",
              "div.sk-estimator.fitted:hover .sk-estimator-doc-link.fitted:hover,\n",
              ".sk-estimator-doc-link.fitted:hover,\n",
              "div.sk-label-container:hover .sk-estimator-doc-link.fitted:hover,\n",
              ".sk-estimator-doc-link.fitted:hover {\n",
              "  /* fitted */\n",
              "  background-color: var(--sklearn-color-fitted-level-3);\n",
              "  color: var(--sklearn-color-background);\n",
              "  text-decoration: none;\n",
              "}\n",
              "\n",
              "/* Span, style for the box shown on hovering the info icon */\n",
              ".sk-estimator-doc-link span {\n",
              "  display: none;\n",
              "  z-index: 9999;\n",
              "  position: relative;\n",
              "  font-weight: normal;\n",
              "  right: .2ex;\n",
              "  padding: .5ex;\n",
              "  margin: .5ex;\n",
              "  width: min-content;\n",
              "  min-width: 20ex;\n",
              "  max-width: 50ex;\n",
              "  color: var(--sklearn-color-text);\n",
              "  box-shadow: 2pt 2pt 4pt #999;\n",
              "  /* unfitted */\n",
              "  background: var(--sklearn-color-unfitted-level-0);\n",
              "  border: .5pt solid var(--sklearn-color-unfitted-level-3);\n",
              "}\n",
              "\n",
              ".sk-estimator-doc-link.fitted span {\n",
              "  /* fitted */\n",
              "  background: var(--sklearn-color-fitted-level-0);\n",
              "  border: var(--sklearn-color-fitted-level-3);\n",
              "}\n",
              "\n",
              ".sk-estimator-doc-link:hover span {\n",
              "  display: block;\n",
              "}\n",
              "\n",
              "/* \"?\"-specific style due to the `<a>` HTML tag */\n",
              "\n",
              "#sk-container-id-1 a.estimator_doc_link {\n",
              "  float: right;\n",
              "  font-size: 1rem;\n",
              "  line-height: 1em;\n",
              "  font-family: monospace;\n",
              "  background-color: var(--sklearn-color-background);\n",
              "  border-radius: 1rem;\n",
              "  height: 1rem;\n",
              "  width: 1rem;\n",
              "  text-decoration: none;\n",
              "  /* unfitted */\n",
              "  color: var(--sklearn-color-unfitted-level-1);\n",
              "  border: var(--sklearn-color-unfitted-level-1) 1pt solid;\n",
              "}\n",
              "\n",
              "#sk-container-id-1 a.estimator_doc_link.fitted {\n",
              "  /* fitted */\n",
              "  border: var(--sklearn-color-fitted-level-1) 1pt solid;\n",
              "  color: var(--sklearn-color-fitted-level-1);\n",
              "}\n",
              "\n",
              "/* On hover */\n",
              "#sk-container-id-1 a.estimator_doc_link:hover {\n",
              "  /* unfitted */\n",
              "  background-color: var(--sklearn-color-unfitted-level-3);\n",
              "  color: var(--sklearn-color-background);\n",
              "  text-decoration: none;\n",
              "}\n",
              "\n",
              "#sk-container-id-1 a.estimator_doc_link.fitted:hover {\n",
              "  /* fitted */\n",
              "  background-color: var(--sklearn-color-fitted-level-3);\n",
              "}\n",
              "</style><div id=\"sk-container-id-1\" class=\"sk-top-container\"><div class=\"sk-text-repr-fallback\"><pre>XGBRegressor(base_score=None, booster=None, callbacks=None,\n",
              "             colsample_bylevel=None, colsample_bynode=None,\n",
              "             colsample_bytree=None, device=None, early_stopping_rounds=None,\n",
              "             enable_categorical=False, eval_metric=None, feature_types=None,\n",
              "             gamma=None, grow_policy=None, importance_type=None,\n",
              "             interaction_constraints=None, learning_rate=None, max_bin=None,\n",
              "             max_cat_threshold=None, max_cat_to_onehot=None,\n",
              "             max_delta_step=None, max_depth=None, max_leaves=None,\n",
              "             min_child_weight=None, missing=nan, monotone_constraints=None,\n",
              "             multi_strategy=None, n_estimators=100, n_jobs=None,\n",
              "             num_parallel_tree=None, random_state=42, ...)</pre><b>In a Jupyter environment, please rerun this cell to show the HTML representation or trust the notebook. <br />On GitHub, the HTML representation is unable to render, please try loading this page with nbviewer.org.</b></div><div class=\"sk-container\" hidden><div class=\"sk-item\"><div class=\"sk-estimator fitted sk-toggleable\"><input class=\"sk-toggleable__control sk-hidden--visually\" id=\"sk-estimator-id-1\" type=\"checkbox\" checked><label for=\"sk-estimator-id-1\" class=\"sk-toggleable__label fitted sk-toggleable__label-arrow\"><div><div>XGBRegressor</div></div><div><span class=\"sk-estimator-doc-link fitted\">i<span>Fitted</span></span></div></label><div class=\"sk-toggleable__content fitted\"><pre>XGBRegressor(base_score=None, booster=None, callbacks=None,\n",
              "             colsample_bylevel=None, colsample_bynode=None,\n",
              "             colsample_bytree=None, device=None, early_stopping_rounds=None,\n",
              "             enable_categorical=False, eval_metric=None, feature_types=None,\n",
              "             gamma=None, grow_policy=None, importance_type=None,\n",
              "             interaction_constraints=None, learning_rate=None, max_bin=None,\n",
              "             max_cat_threshold=None, max_cat_to_onehot=None,\n",
              "             max_delta_step=None, max_depth=None, max_leaves=None,\n",
              "             min_child_weight=None, missing=nan, monotone_constraints=None,\n",
              "             multi_strategy=None, n_estimators=100, n_jobs=None,\n",
              "             num_parallel_tree=None, random_state=42, ...)</pre></div> </div></div></div></div>"
            ]
          },
          "metadata": {},
          "execution_count": 18
        }
      ]
    },
    {
      "cell_type": "code",
      "source": [
        "xgb.plot_importance(model, importance_type='gain', xlabel='Gain (Avg. Contribution to Prediction)', height=0.6)\n",
        "plt.title(\"XGBoost Feature Importance (Gain)\")\n",
        "plt.tight_layout()\n",
        "plt.show()\n"
      ],
      "metadata": {
        "colab": {
          "base_uri": "https://localhost:8080/",
          "height": 487
        },
        "id": "pM4uHSU_kBbQ",
        "outputId": "ec2e626e-cffa-49ce-88bc-7886c911a698"
      },
      "execution_count": null,
      "outputs": [
        {
          "output_type": "display_data",
          "data": {
            "text/plain": [
              "<Figure size 640x480 with 1 Axes>"
            ],
            "image/png": "[encoded data removed]"
          },
          "metadata": {}
        }
      ]
    },
    {
      "cell_type": "code",
      "source": [
        "# Get feature importance as raw gain\n",
        "importance_dict = model.get_booster().get_score(importance_type='gain')\n",
        "\n",
        "# Convert to DataFrame\n",
        "importances_df = pd.DataFrame.from_dict(importance_dict, orient='index', columns=['Gain'])\n",
        "\n",
        "# Normalize to percentages\n",
        "importances_df['Gain %'] = 100 * importances_df['Gain'] / importances_df['Gain'].sum()\n",
        "\n",
        "# Sort by importance descending\n",
        "importances_df = importances_df.sort_values('Gain %', ascending=False)\n",
        "\n",
        "# Rename feature column for clarity\n",
        "importances_df.index.name = 'Feature'\n",
        "importances_df.reset_index(inplace=True)\n",
        "\n",
        "print(importances_df.round(2))\n"
      ],
      "metadata": {
        "colab": {
          "base_uri": "https://localhost:8080/"
        },
        "id": "8P6y29dxkawI",
        "outputId": "1491a075-4d06-4255-8167-1445ac87e6e1"
      },
      "execution_count": null,
      "outputs": [
        {
          "output_type": "stream",
          "name": "stdout",
          "text": [
            "  Feature        Gain  Gain %\n",
            "0    PM25  4235989.50   40.58\n",
            "1      CO  3188217.75   30.54\n",
            "2    PM10  1222928.75   11.71\n",
            "3     NO2   769869.00    7.37\n",
            "4   OZONE   456087.03    4.37\n",
            "5     SO2   247039.16    2.37\n",
            "6      RH    87099.28    0.83\n",
            "7  TEMP_C    86255.70    0.83\n",
            "8      WS    79566.48    0.76\n",
            "9      WD    66786.68    0.64\n"
          ]
        }
      ]
    },
    {
      "cell_type": "code",
      "source": [
        "'''import matplotlib.pyplot as plt\n",
        "import seaborn as sns\n",
        "\n",
        "# Sort features for better display\n",
        "importances_df = importances_df.sort_values(\"Gain %\", ascending=True)\n",
        "\n",
        "plt.figure(figsize=(10, 6))\n",
        "sns.barplot(\n",
        "    x=\"Gain %\",\n",
        "    y=\"Feature\",\n",
        "    data=importances_df,\n",
        "    palette=\"viridis\"\n",
        ")\n",
        "\n",
        "plt.title(\"XGBoost Feature Importance (Gain %)\", fontsize=14)\n",
        "plt.xlabel(\"Importance (%)\", fontsize=12)\n",
        "plt.ylabel(\"Feature\", fontsize=12)\n",
        "plt.grid(axis='x', linestyle='--', alpha=0.5)\n",
        "plt.tight_layout()\n",
        "\n",
        "# === Save the plot ===\n",
        "plt.savefig(\"xgboost_feature_importance.png\", dpi=300, bbox_inches='tight')  # High-res\n",
        "plt.show()'''\n"
      ],
      "metadata": {
        "colab": {
          "base_uri": "https://localhost:8080/",
          "height": 714
        },
        "id": "iv_XuYB2km8y",
        "outputId": "28182e41-df4b-45d2-db22-fbfc9ea919ee"
      },
      "execution_count": null,
      "outputs": [
        {
          "output_type": "stream",
          "name": "stderr",
          "text": [
            "/tmp/ipython-input-21-3845123518.py:8: FutureWarning: \n",
            "\n",
            "Passing `palette` without assigning `hue` is deprecated and will be removed in v0.14.0. Assign the `y` variable to `hue` and set `legend=False` for the same effect.\n",
            "\n",
            "  sns.barplot(\n"
          ]
        },
        {
          "output_type": "display_data",
          "data": {
            "text/plain": [
              "<Figure size 1000x600 with 1 Axes>"
            ],
            "image/png": "[encoded data removed]"
          },
          "metadata": {}
        }
      ]
    },
    {
      "cell_type": "code",
      "source": [
        "'''from google.colab import files\n",
        "files.download(\"xgboost_feature_importance.png\")'''\n"
      ],
      "metadata": {
        "colab": {
          "base_uri": "https://localhost:8080/",
          "height": 34
        },
        "id": "1PE2m0QHk0_j",
        "outputId": "ca08a7fd-0e8c-4fcc-854d-80acb6d332ac"
      },
      "execution_count": null,
      "outputs": [
        {
          "output_type": "display_data",
          "data": {
            "text/plain": [
              "<IPython.core.display.Javascript object>"
            ],
            "application/javascript": [
              "\n",
              "    async function download(id, filename, size) {\n",
              "      if (!google.colab.kernel.accessAllowed) {\n",
              "        return;\n",
              "      }\n",
              "      const div = document.createElement('div');\n",
              "      const label = document.createElement('label');\n",
              "      label.textContent = `Downloading \"${filename}\": `;\n",
              "      div.appendChild(label);\n",
              "      const progress = document.createElement('progress');\n",
              "      progress.max = size;\n",
              "      div.appendChild(progress);\n",
              "      document.body.appendChild(div);\n",
              "\n",
              "      const buffers = [];\n",
              "      let downloaded = 0;\n",
              "\n",
              "      const channel = await google.colab.kernel.comms.open(id);\n",
              "      // Send a message to notify the kernel that we're ready.\n",
              "      channel.send({})\n",
              "\n",
              "      for await (const message of channel.messages) {\n",
              "        // Send a message to notify the kernel that we're ready.\n",
              "        channel.send({})\n",
              "        if (message.buffers) {\n",
              "          for (const buffer of message.buffers) {\n",
              "            buffers.push(buffer);\n",
              "            downloaded += buffer.byteLength;\n",
              "            progress.value = downloaded;\n",
              "          }\n",
              "        }\n",
              "      }\n",
              "      const blob = new Blob(buffers, {type: 'application/binary'});\n",
              "      const a = document.createElement('a');\n",
              "      a.href = window.URL.createObjectURL(blob);\n",
              "      a.download = filename;\n",
              "      div.appendChild(a);\n",
              "      a.click();\n",
              "      div.remove();\n",
              "    }\n",
              "  "
            ]
          },
          "metadata": {}
        },
        {
          "output_type": "display_data",
          "data": {
            "text/plain": [
              "<IPython.core.display.Javascript object>"
            ],
            "application/javascript": [
              "download(\"download_ca36a332-7408-4343-ae12-c9bde9bfb445\", \"xgboost_feature_importance.png\", 116928)"
            ]
          },
          "metadata": {}
        }
      ]
    },
    {
      "cell_type": "code",
      "source": [
        "'''import pandas as pd\n",
        "import numpy as np\n",
        "from sklearn.preprocessing import MinMaxScaler\n",
        "from tensorflow.keras.models import Sequential\n",
        "from tensorflow.keras.layers import LSTM, Dense, Dropout\n",
        "from sklearn.metrics import mean_squared_error\n",
        "import matplotlib.pyplot as plt\n",
        "\n",
        "# ==== 1. Load & Prepare Data ====\n",
        "top_features = ['PM25', 'CO', 'PM10', 'NO2', 'OZONE' , 'SO2']\n",
        "target_col = 'AQI_CPCB'\n",
        "df = df.sort_values('Start_TS')  # ensure time order\n",
        "\n",
        "data = df[top_features + [target_col]].dropna().copy()\n",
        "\n",
        "# ==== 2. Normalize ====\n",
        "scaler = MinMaxScaler()\n",
        "scaled_data = scaler.fit_transform(data)\n",
        "\n",
        "# ==== 3. Create sequences ====\n",
        "def create_sequences(data, seq_len):\n",
        "    X, y = [], []\n",
        "    for i in range(seq_len, len(data)):\n",
        "        X.append(data[i-seq_len:i, :-1])  # all features except target\n",
        "        y.append(data[i, -1])             # target column\n",
        "    return np.array(X), np.array(y)\n",
        "\n",
        "SEQ_LEN = 24  # past 24 hours\n",
        "X, y = create_sequences(scaled_data, SEQ_LEN)\n",
        "\n",
        "# ==== 4. Train/Test Split ====\n",
        "split = int(0.8 * len(X))\n",
        "X_train, X_test = X[:split], X[split:]\n",
        "y_train, y_test = y[:split], y[split:]\n",
        "\n",
        "# ==== 5. Build LSTM Model ====\n",
        "model = Sequential([\n",
        "    LSTM(64, return_sequences=True, input_shape=(SEQ_LEN, len(top_features))),\n",
        "    Dropout(0.2),\n",
        "    LSTM(32),\n",
        "    Dropout(0.2),\n",
        "    Dense(1)\n",
        "])\n",
        "model.compile(optimizer='adam', loss='mse')\n",
        "\n",
        "# ==== 6. Train ====\n",
        "history = model.fit(X_train, y_train, epochs=10, batch_size=32,\n",
        "                    validation_data=(X_test, y_test), verbose=1)\n",
        "\n",
        "# ==== 7. Evaluate ====\n",
        "y_pred = model.predict(X_test)\n",
        "mse = mean_squared_error(y_test, y_pred)\n",
        "print(f\"Test MSE: {mse:.4f}\")\n",
        "\n",
        "# ==== 8. Plot ====\n",
        "plt.figure(figsize=(10, 4))\n",
        "plt.plot(y_test, label='True AQI')\n",
        "plt.plot(y_pred, label='Predicted AQI')\n",
        "plt.legend()\n",
        "plt.title(\"True vs Predicted AQI\")\n",
        "plt.tight_layout()\n",
        "plt.show()'''\n"
      ],
      "metadata": {
        "id": "XhTf7JMjxf7k",
        "colab": {
          "base_uri": "https://localhost:8080/",
          "height": 844
        },
        "outputId": "a18a8552-a53c-45ac-eda7-a9c85ab05e13"
      },
      "execution_count": 23,
      "outputs": [
        {
          "metadata": {
            "tags": null
          },
          "name": "stderr",
          "output_type": "stream",
          "text": [
            "/usr/local/lib/python3.11/dist-packages/keras/src/layers/rnn/rnn.py:200: UserWarning: Do not pass an `input_shape`/`input_dim` argument to a layer. When using Sequential models, prefer using an `Input(shape)` object as the first layer in the model instead.\n",
            "  super().__init__(**kwargs)\n"
          ]
        },
        {
          "output_type": "stream",
          "name": "stdout",
          "text": [
            "Epoch 1/10\n",
            "\u001b[1m33301/33301\u001b[0m \u001b[32m━━━━━━━━━━━━━━━━━━━━\u001b[0m\u001b[37m\u001b[0m \u001b[1m971s\u001b[0m 29ms/step - loss: 0.0196 - val_loss: 0.0120\n",
            "Epoch 2/10\n",
            "\u001b[1m33301/33301\u001b[0m \u001b[32m━━━━━━━━━━━━━━━━━━━━\u001b[0m\u001b[37m\u001b[0m \u001b[1m1006s\u001b[0m 30ms/step - loss: 0.0181 - val_loss: 0.0118\n",
            "Epoch 3/10\n",
            "\u001b[1m33301/33301\u001b[0m \u001b[32m━━━━━━━━━━━━━━━━━━━━\u001b[0m\u001b[37m\u001b[0m \u001b[1m985s\u001b[0m 30ms/step - loss: 0.0171 - val_loss: 0.0125\n",
            "Epoch 4/10\n",
            "\u001b[1m33301/33301\u001b[0m \u001b[32m━━━━━━━━━━━━━━━━━━━━\u001b[0m\u001b[37m\u001b[0m \u001b[1m1036s\u001b[0m 29ms/step - loss: 0.0161 - val_loss: 0.0120\n",
            "Epoch 5/10\n",
            "\u001b[1m33301/33301\u001b[0m \u001b[32m━━━━━━━━━━━━━━━━━━━━\u001b[0m\u001b[37m\u001b[0m \u001b[1m978s\u001b[0m 29ms/step - loss: 0.0157 - val_loss: 0.0122\n",
            "Epoch 6/10\n",
            "\u001b[1m33301/33301\u001b[0m \u001b[32m━━━━━━━━━━━━━━━━━━━━\u001b[0m\u001b[37m\u001b[0m \u001b[1m969s\u001b[0m 29ms/step - loss: 0.0154 - val_loss: 0.0118\n",
            "Epoch 7/10\n",
            "\u001b[1m33301/33301\u001b[0m \u001b[32m━━━━━━━━━━━━━━━━━━━━\u001b[0m\u001b[37m\u001b[0m \u001b[1m972s\u001b[0m 29ms/step - loss: 0.0149 - val_loss: 0.0117\n",
            "Epoch 8/10\n",
            "\u001b[1m33301/33301\u001b[0m \u001b[32m━━━━━━━━━━━━━━━━━━━━\u001b[0m\u001b[37m\u001b[0m \u001b[1m972s\u001b[0m 29ms/step - loss: 0.0147 - val_loss: 0.0118\n",
            "Epoch 9/10\n",
            "\u001b[1m33301/33301\u001b[0m \u001b[32m━━━━━━━━━━━━━━━━━━━━\u001b[0m\u001b[37m\u001b[0m \u001b[1m978s\u001b[0m 29ms/step - loss: 0.0144 - val_loss: 0.0118\n",
            "Epoch 10/10\n",
            "\u001b[1m33301/33301\u001b[0m \u001b[32m━━━━━━━━━━━━━━━━━━━━\u001b[0m\u001b[37m\u001b[0m \u001b[1m961s\u001b[0m 29ms/step - loss: 0.0142 - val_loss: 0.0120\n",
            "\u001b[1m8326/8326\u001b[0m \u001b[32m━━━━━━━━━━━━━━━━━━━━\u001b[0m\u001b[37m\u001b[0m \u001b[1m71s\u001b[0m 8ms/step\n",
            "Test MSE: 0.0120\n"
          ]
        },
        {
          "output_type": "display_data",
          "data": {
            "text/plain": [
              "<Figure size 1000x400 with 1 Axes>"
            ],
            "image/png": "[encoded data removed]"
          },
          "metadata": {}
        }
      ]
    },
    {
      "cell_type": "code",
      "source": [
        "'''from keras.saving import save_model\n",
        "from google.colab import files  # Only needed in Colab\n",
        "\n",
        "# Save the model\n",
        "save_model(model, \"lstm_aqi_model.keras\")\n",
        "\n",
        "# Download the file (Colab only)\n",
        "files.download(\"lstm_aqi_model.keras\")'''\n"
      ],
      "metadata": {
        "id": "YzRTrtUfxgD-",
        "colab": {
          "base_uri": "https://localhost:8080/",
          "height": 17
        },
        "outputId": "fb62de0a-3710-4310-bc02-1dd2d7710d99"
      },
      "execution_count": 25,
      "outputs": [
        {
          "output_type": "display_data",
          "data": {
            "text/plain": [
              "<IPython.core.display.Javascript object>"
            ],
            "application/javascript": [
              "\n",
              "    async function download(id, filename, size) {\n",
              "      if (!google.colab.kernel.accessAllowed) {\n",
              "        return;\n",
              "      }\n",
              "      const div = document.createElement('div');\n",
              "      const label = document.createElement('label');\n",
              "      label.textContent = `Downloading \"${filename}\": `;\n",
              "      div.appendChild(label);\n",
              "      const progress = document.createElement('progress');\n",
              "      progress.max = size;\n",
              "      div.appendChild(progress);\n",
              "      document.body.appendChild(div);\n",
              "\n",
              "      const buffers = [];\n",
              "      let downloaded = 0;\n",
              "\n",
              "      const channel = await google.colab.kernel.comms.open(id);\n",
              "      // Send a message to notify the kernel that we're ready.\n",
              "      channel.send({})\n",
              "\n",
              "      for await (const message of channel.messages) {\n",
              "        // Send a message to notify the kernel that we're ready.\n",
              "        channel.send({})\n",
              "        if (message.buffers) {\n",
              "          for (const buffer of message.buffers) {\n",
              "            buffers.push(buffer);\n",
              "            downloaded += buffer.byteLength;\n",
              "            progress.value = downloaded;\n",
              "          }\n",
              "        }\n",
              "      }\n",
              "      const blob = new Blob(buffers, {type: 'application/binary'});\n",
              "      const a = document.createElement('a');\n",
              "      a.href = window.URL.createObjectURL(blob);\n",
              "      a.download = filename;\n",
              "      div.appendChild(a);\n",
              "      a.click();\n",
              "      div.remove();\n",
              "    }\n",
              "  "
            ]
          },
          "metadata": {}
        },
        {
          "output_type": "display_data",
          "data": {
            "text/plain": [
              "<IPython.core.display.Javascript object>"
            ],
            "application/javascript": [
              "download(\"download_1c993c86-a2be-4377-87e4-3de0252c4b4e\", \"lstm_aqi_model.keras\", 403644)"
            ]
          },
          "metadata": {}
        }
      ]
    },
    {
      "cell_type": "code",
      "source": [
        "'''import matplotlib.pyplot as plt\n",
        "\n",
        "# ==== 8. Plot and Save ====\n",
        "plt.figure(figsize=(10, 4))\n",
        "plt.plot(y_test, label='True AQI')\n",
        "plt.plot(y_pred, label='Predicted AQI')\n",
        "plt.legend()\n",
        "plt.title(\"True vs Predicted AQI\")\n",
        "plt.tight_layout()\n",
        "\n",
        "# Save the plot as PNG\n",
        "plt.savefig(\"true_vs_predicted_aqi.png\")\n",
        "\n",
        "# Show the plot\n",
        "plt.show()'''\n"
      ],
      "metadata": {
        "colab": {
          "base_uri": "https://localhost:8080/",
          "height": 407
        },
        "id": "32vBlxvdP7o_",
        "outputId": "364dbbf7-d951-43bf-e184-fb315ebf0f21"
      },
      "execution_count": 26,
      "outputs": [
        {
          "output_type": "display_data",
          "data": {
            "text/plain": [
              "<Figure size 1000x400 with 1 Axes>"
            ],
            "image/png": "[encoded data removed]"
          },
          "metadata": {}
        }
      ]
    },
    {
      "cell_type": "code",
      "source": [
        "'''from google.colab import files\n",
        "files.download(\"true_vs_predicted_aqi.png\")'''\n"
      ],
      "metadata": {
        "colab": {
          "base_uri": "https://localhost:8080/",
          "height": 17
        },
        "id": "aPJH28QrP7Vo",
        "outputId": "b09a556e-fee9-4406-93df-dabc32026880"
      },
      "execution_count": 27,
      "outputs": [
        {
          "output_type": "display_data",
          "data": {
            "text/plain": [
              "<IPython.core.display.Javascript object>"
            ],
            "application/javascript": [
              "\n",
              "    async function download(id, filename, size) {\n",
              "      if (!google.colab.kernel.accessAllowed) {\n",
              "        return;\n",
              "      }\n",
              "      const div = document.createElement('div');\n",
              "      const label = document.createElement('label');\n",
              "      label.textContent = `Downloading \"${filename}\": `;\n",
              "      div.appendChild(label);\n",
              "      const progress = document.createElement('progress');\n",
              "      progress.max = size;\n",
              "      div.appendChild(progress);\n",
              "      document.body.appendChild(div);\n",
              "\n",
              "      const buffers = [];\n",
              "      let downloaded = 0;\n",
              "\n",
              "      const channel = await google.colab.kernel.comms.open(id);\n",
              "      // Send a message to notify the kernel that we're ready.\n",
              "      channel.send({})\n",
              "\n",
              "      for await (const message of channel.messages) {\n",
              "        // Send a message to notify the kernel that we're ready.\n",
              "        channel.send({})\n",
              "        if (message.buffers) {\n",
              "          for (const buffer of message.buffers) {\n",
              "            buffers.push(buffer);\n",
              "            downloaded += buffer.byteLength;\n",
              "            progress.value = downloaded;\n",
              "          }\n",
              "        }\n",
              "      }\n",
              "      const blob = new Blob(buffers, {type: 'application/binary'});\n",
              "      const a = document.createElement('a');\n",
              "      a.href = window.URL.createObjectURL(blob);\n",
              "      a.download = filename;\n",
              "      div.appendChild(a);\n",
              "      a.click();\n",
              "      div.remove();\n",
              "    }\n",
              "  "
            ]
          },
          "metadata": {}
        },
        {
          "output_type": "display_data",
          "data": {
            "text/plain": [
              "<IPython.core.display.Javascript object>"
            ],
            "application/javascript": [
              "download(\"download_3f8c75ad-c932-4034-a2a4-223ca9e51fc3\", \"true_vs_predicted_aqi.png\", 52106)"
            ]
          },
          "metadata": {}
        }
      ]
    },
    {
      "cell_type": "code",
      "source": [
        "!pip install optuna\n",
        "!pip install mlflow"
      ],
      "metadata": {
        "id": "J3mCmF3RxgHB",
        "colab": {
          "base_uri": "https://localhost:8080/"
        },
        "collapsed": true,
        "outputId": "5a371c16-b55f-4ec9-be98-21acef42d6e3"
      },
      "execution_count": 28,
      "outputs": [
        {
          "output_type": "stream",
          "name": "stdout",
          "text": [
            "Collecting optuna\n",
            "  Downloading optuna-4.4.0-py3-none-any.whl.metadata (17 kB)\n",
            "Collecting alembic>=1.5.0 (from optuna)\n",
            "  Downloading alembic-1.16.4-py3-none-any.whl.metadata (7.3 kB)\n",
            "Collecting colorlog (from optuna)\n",
            "  Downloading colorlog-6.9.0-py3-none-any.whl.metadata (10 kB)\n",
            "Requirement already satisfied: numpy in /usr/local/lib/python3.11/dist-packages (from optuna) (2.0.2)\n",
            "Requirement already satisfied: packaging>=20.0 in /usr/local/lib/python3.11/dist-packages (from optuna) (24.2)\n",
            "Requirement already satisfied: sqlalchemy>=1.4.2 in /usr/local/lib/python3.11/dist-packages (from optuna) (2.0.41)\n",
            "Requirement already satisfied: tqdm in /usr/local/lib/python3.11/dist-packages (from optuna) (4.67.1)\n",
            "Requirement already satisfied: PyYAML in /usr/local/lib/python3.11/dist-packages (from optuna) (6.0.2)\n",
            "Requirement already satisfied: Mako in /usr/lib/python3/dist-packages (from alembic>=1.5.0->optuna) (1.1.3)\n",
            "Requirement already satisfied: typing-extensions>=4.12 in /usr/local/lib/python3.11/dist-packages (from alembic>=1.5.0->optuna) (4.14.1)\n",
            "Requirement already satisfied: greenlet>=1 in /usr/local/lib/python3.11/dist-packages (from sqlalchemy>=1.4.2->optuna) (3.2.3)\n",
            "Downloading optuna-4.4.0-py3-none-any.whl (395 kB)\n",
            "\u001b[2K   \u001b[90m━━━━━━━━━━━━━━━━━━━━━━━━━━━━━━━━━━━━━━━━\u001b[0m \u001b[32m395.9/395.9 kB\u001b[0m \u001b[31m9.8 MB/s\u001b[0m eta \u001b[36m0:00:00\u001b[0m\n",
            "\u001b[?25hDownloading alembic-1.16.4-py3-none-any.whl (247 kB)\n",
            "\u001b[2K   \u001b[90m━━━━━━━━━━━━━━━━━━━━━━━━━━━━━━━━━━━━━━━━\u001b[0m \u001b[32m247.0/247.0 kB\u001b[0m \u001b[31m17.6 MB/s\u001b[0m eta \u001b[36m0:00:00\u001b[0m\n",
            "\u001b[?25hDownloading colorlog-6.9.0-py3-none-any.whl (11 kB)\n",
            "Installing collected packages: colorlog, alembic, optuna\n",
            "Successfully installed alembic-1.16.4 colorlog-6.9.0 optuna-4.4.0\n",
            "Collecting mlflow\n",
            "  Downloading mlflow-3.1.1-py3-none-any.whl.metadata (29 kB)\n",
            "Collecting mlflow-skinny==3.1.1 (from mlflow)\n",
            "  Downloading mlflow_skinny-3.1.1-py3-none-any.whl.metadata (30 kB)\n",
            "Requirement already satisfied: Flask<4 in /usr/local/lib/python3.11/dist-packages (from mlflow) (3.1.1)\n",
            "Requirement already satisfied: alembic!=1.10.0,<2 in /usr/local/lib/python3.11/dist-packages (from mlflow) (1.16.4)\n",
            "Collecting docker<8,>=4.0.0 (from mlflow)\n",
            "  Downloading docker-7.1.0-py3-none-any.whl.metadata (3.8 kB)\n",
            "Collecting graphene<4 (from mlflow)\n",
            "  Downloading graphene-3.4.3-py2.py3-none-any.whl.metadata (6.9 kB)\n",
            "Collecting gunicorn<24 (from mlflow)\n",
            "  Downloading gunicorn-23.0.0-py3-none-any.whl.metadata (4.4 kB)\n",
            "Requirement already satisfied: matplotlib<4 in /usr/local/lib/python3.11/dist-packages (from mlflow) (3.10.0)\n",
            "Requirement already satisfied: numpy<3 in /usr/local/lib/python3.11/dist-packages (from mlflow) (2.0.2)\n",
            "Requirement already satisfied: pandas<3 in /usr/local/lib/python3.11/dist-packages (from mlflow) (2.2.2)\n",
            "Requirement already satisfied: pyarrow<21,>=4.0.0 in /usr/local/lib/python3.11/dist-packages (from mlflow) (18.1.0)\n",
            "Requirement already satisfied: scikit-learn<2 in /usr/local/lib/python3.11/dist-packages (from mlflow) (1.6.1)\n",
            "Requirement already satisfied: scipy<2 in /usr/local/lib/python3.11/dist-packages (from mlflow) (1.15.3)\n",
            "Requirement already satisfied: sqlalchemy<3,>=1.4.0 in /usr/local/lib/python3.11/dist-packages (from mlflow) (2.0.41)\n",
            "Requirement already satisfied: cachetools<7,>=5.0.0 in /usr/local/lib/python3.11/dist-packages (from mlflow-skinny==3.1.1->mlflow) (5.5.2)\n",
            "Requirement already satisfied: click<9,>=7.0 in /usr/local/lib/python3.11/dist-packages (from mlflow-skinny==3.1.1->mlflow) (8.2.1)\n",
            "Requirement already satisfied: cloudpickle<4 in /usr/local/lib/python3.11/dist-packages (from mlflow-skinny==3.1.1->mlflow) (3.1.1)\n",
            "Collecting databricks-sdk<1,>=0.20.0 (from mlflow-skinny==3.1.1->mlflow)\n",
            "  Downloading databricks_sdk-0.59.0-py3-none-any.whl.metadata (39 kB)\n",
            "Requirement already satisfied: fastapi<1 in /usr/local/lib/python3.11/dist-packages (from mlflow-skinny==3.1.1->mlflow) (0.116.1)\n",
            "Requirement already satisfied: gitpython<4,>=3.1.9 in /usr/local/lib/python3.11/dist-packages (from mlflow-skinny==3.1.1->mlflow) (3.1.44)\n",
            "Requirement already satisfied: importlib_metadata!=4.7.0,<9,>=3.7.0 in /usr/local/lib/python3.11/dist-packages (from mlflow-skinny==3.1.1->mlflow) (8.7.0)\n",
            "Collecting opentelemetry-api<3,>=1.9.0 (from mlflow-skinny==3.1.1->mlflow)\n",
            "  Downloading opentelemetry_api-1.35.0-py3-none-any.whl.metadata (1.5 kB)\n",
            "Collecting opentelemetry-sdk<3,>=1.9.0 (from mlflow-skinny==3.1.1->mlflow)\n",
            "  Downloading opentelemetry_sdk-1.35.0-py3-none-any.whl.metadata (1.5 kB)\n",
            "Requirement already satisfied: packaging<26 in /usr/local/lib/python3.11/dist-packages (from mlflow-skinny==3.1.1->mlflow) (24.2)\n",
            "Requirement already satisfied: protobuf<7,>=3.12.0 in /usr/local/lib/python3.11/dist-packages (from mlflow-skinny==3.1.1->mlflow) (5.29.5)\n",
            "Requirement already satisfied: pydantic<3,>=1.10.8 in /usr/local/lib/python3.11/dist-packages (from mlflow-skinny==3.1.1->mlflow) (2.11.7)\n",
            "Requirement already satisfied: pyyaml<7,>=5.1 in /usr/local/lib/python3.11/dist-packages (from mlflow-skinny==3.1.1->mlflow) (6.0.2)\n",
            "Requirement already satisfied: requests<3,>=2.17.3 in /usr/local/lib/python3.11/dist-packages (from mlflow-skinny==3.1.1->mlflow) (2.32.3)\n",
            "Requirement already satisfied: sqlparse<1,>=0.4.0 in /usr/local/lib/python3.11/dist-packages (from mlflow-skinny==3.1.1->mlflow) (0.5.3)\n",
            "Requirement already satisfied: typing-extensions<5,>=4.0.0 in /usr/local/lib/python3.11/dist-packages (from mlflow-skinny==3.1.1->mlflow) (4.14.1)\n",
            "Requirement already satisfied: uvicorn<1 in /usr/local/lib/python3.11/dist-packages (from mlflow-skinny==3.1.1->mlflow) (0.35.0)\n",
            "Requirement already satisfied: Mako in /usr/lib/python3/dist-packages (from alembic!=1.10.0,<2->mlflow) (1.1.3)\n",
            "Requirement already satisfied: urllib3>=1.26.0 in /usr/local/lib/python3.11/dist-packages (from docker<8,>=4.0.0->mlflow) (2.4.0)\n",
            "Requirement already satisfied: blinker>=1.9.0 in /usr/local/lib/python3.11/dist-packages (from Flask<4->mlflow) (1.9.0)\n",
            "Requirement already satisfied: itsdangerous>=2.2.0 in /usr/local/lib/python3.11/dist-packages (from Flask<4->mlflow) (2.2.0)\n",
            "Requirement already satisfied: jinja2>=3.1.2 in /usr/local/lib/python3.11/dist-packages (from Flask<4->mlflow) (3.1.6)\n",
            "Requirement already satisfied: markupsafe>=2.1.1 in /usr/local/lib/python3.11/dist-packages (from Flask<4->mlflow) (3.0.2)\n",
            "Requirement already satisfied: werkzeug>=3.1.0 in /usr/local/lib/python3.11/dist-packages (from Flask<4->mlflow) (3.1.3)\n",
            "Collecting graphql-core<3.3,>=3.1 (from graphene<4->mlflow)\n",
            "  Downloading graphql_core-3.2.6-py3-none-any.whl.metadata (11 kB)\n",
            "Collecting graphql-relay<3.3,>=3.1 (from graphene<4->mlflow)\n",
            "  Downloading graphql_relay-3.2.0-py3-none-any.whl.metadata (12 kB)\n",
            "Requirement already satisfied: python-dateutil<3,>=2.7.0 in /usr/local/lib/python3.11/dist-packages (from graphene<4->mlflow) (2.9.0.post0)\n",
            "Requirement already satisfied: contourpy>=1.0.1 in /usr/local/lib/python3.11/dist-packages (from matplotlib<4->mlflow) (1.3.2)\n",
            "Requirement already satisfied: cycler>=0.10 in /usr/local/lib/python3.11/dist-packages (from matplotlib<4->mlflow) (0.12.1)\n",
            "Requirement already satisfied: fonttools>=4.22.0 in /usr/local/lib/python3.11/dist-packages (from matplotlib<4->mlflow) (4.58.5)\n",
            "Requirement already satisfied: kiwisolver>=1.3.1 in /usr/local/lib/python3.11/dist-packages (from matplotlib<4->mlflow) (1.4.8)\n",
            "Requirement already satisfied: pillow>=8 in /usr/local/lib/python3.11/dist-packages (from matplotlib<4->mlflow) (11.2.1)\n",
            "Requirement already satisfied: pyparsing>=2.3.1 in /usr/local/lib/python3.11/dist-packages (from matplotlib<4->mlflow) (3.2.3)\n",
            "Requirement already satisfied: pytz>=2020.1 in /usr/local/lib/python3.11/dist-packages (from pandas<3->mlflow) (2025.2)\n",
            "Requirement already satisfied: tzdata>=2022.7 in /usr/local/lib/python3.11/dist-packages (from pandas<3->mlflow) (2025.2)\n",
            "Requirement already satisfied: joblib>=1.2.0 in /usr/local/lib/python3.11/dist-packages (from scikit-learn<2->mlflow) (1.5.1)\n",
            "Requirement already satisfied: threadpoolctl>=3.1.0 in /usr/local/lib/python3.11/dist-packages (from scikit-learn<2->mlflow) (3.6.0)\n",
            "Requirement already satisfied: greenlet>=1 in /usr/local/lib/python3.11/dist-packages (from sqlalchemy<3,>=1.4.0->mlflow) (3.2.3)\n",
            "Requirement already satisfied: google-auth~=2.0 in /usr/local/lib/python3.11/dist-packages (from databricks-sdk<1,>=0.20.0->mlflow-skinny==3.1.1->mlflow) (2.38.0)\n",
            "Requirement already satisfied: starlette<0.48.0,>=0.40.0 in /usr/local/lib/python3.11/dist-packages (from fastapi<1->mlflow-skinny==3.1.1->mlflow) (0.47.1)\n",
            "Requirement already satisfied: gitdb<5,>=4.0.1 in /usr/local/lib/python3.11/dist-packages (from gitpython<4,>=3.1.9->mlflow-skinny==3.1.1->mlflow) (4.0.12)\n",
            "Requirement already satisfied: zipp>=3.20 in /usr/local/lib/python3.11/dist-packages (from importlib_metadata!=4.7.0,<9,>=3.7.0->mlflow-skinny==3.1.1->mlflow) (3.23.0)\n",
            "Collecting opentelemetry-semantic-conventions==0.56b0 (from opentelemetry-sdk<3,>=1.9.0->mlflow-skinny==3.1.1->mlflow)\n",
            "  Downloading opentelemetry_semantic_conventions-0.56b0-py3-none-any.whl.metadata (2.4 kB)\n",
            "Requirement already satisfied: annotated-types>=0.6.0 in /usr/local/lib/python3.11/dist-packages (from pydantic<3,>=1.10.8->mlflow-skinny==3.1.1->mlflow) (0.7.0)\n",
            "Requirement already satisfied: pydantic-core==2.33.2 in /usr/local/lib/python3.11/dist-packages (from pydantic<3,>=1.10.8->mlflow-skinny==3.1.1->mlflow) (2.33.2)\n",
            "Requirement already satisfied: typing-inspection>=0.4.0 in /usr/local/lib/python3.11/dist-packages (from pydantic<3,>=1.10.8->mlflow-skinny==3.1.1->mlflow) (0.4.1)\n",
            "Requirement already satisfied: six>=1.5 in /usr/local/lib/python3.11/dist-packages (from python-dateutil<3,>=2.7.0->graphene<4->mlflow) (1.17.0)\n",
            "Requirement already satisfied: charset-normalizer<4,>=2 in /usr/local/lib/python3.11/dist-packages (from requests<3,>=2.17.3->mlflow-skinny==3.1.1->mlflow) (3.4.2)\n",
            "Requirement already satisfied: idna<4,>=2.5 in /usr/local/lib/python3.11/dist-packages (from requests<3,>=2.17.3->mlflow-skinny==3.1.1->mlflow) (3.10)\n",
            "Requirement already satisfied: certifi>=2017.4.17 in /usr/local/lib/python3.11/dist-packages (from requests<3,>=2.17.3->mlflow-skinny==3.1.1->mlflow) (2025.7.14)\n",
            "Requirement already satisfied: h11>=0.8 in /usr/local/lib/python3.11/dist-packages (from uvicorn<1->mlflow-skinny==3.1.1->mlflow) (0.16.0)\n",
            "Requirement already satisfied: smmap<6,>=3.0.1 in /usr/local/lib/python3.11/dist-packages (from gitdb<5,>=4.0.1->gitpython<4,>=3.1.9->mlflow-skinny==3.1.1->mlflow) (5.0.2)\n",
            "Requirement already satisfied: pyasn1-modules>=0.2.1 in /usr/local/lib/python3.11/dist-packages (from google-auth~=2.0->databricks-sdk<1,>=0.20.0->mlflow-skinny==3.1.1->mlflow) (0.4.2)\n",
            "Requirement already satisfied: rsa<5,>=3.1.4 in /usr/local/lib/python3.11/dist-packages (from google-auth~=2.0->databricks-sdk<1,>=0.20.0->mlflow-skinny==3.1.1->mlflow) (4.9.1)\n",
            "Requirement already satisfied: anyio<5,>=3.6.2 in /usr/local/lib/python3.11/dist-packages (from starlette<0.48.0,>=0.40.0->fastapi<1->mlflow-skinny==3.1.1->mlflow) (4.9.0)\n",
            "Requirement already satisfied: sniffio>=1.1 in /usr/local/lib/python3.11/dist-packages (from anyio<5,>=3.6.2->starlette<0.48.0,>=0.40.0->fastapi<1->mlflow-skinny==3.1.1->mlflow) (1.3.1)\n",
            "Requirement already satisfied: pyasn1<0.7.0,>=0.6.1 in /usr/local/lib/python3.11/dist-packages (from pyasn1-modules>=0.2.1->google-auth~=2.0->databricks-sdk<1,>=0.20.0->mlflow-skinny==3.1.1->mlflow) (0.6.1)\n",
            "Downloading mlflow-3.1.1-py3-none-any.whl (24.7 MB)\n",
            "\u001b[2K   \u001b[90m━━━━━━━━━━━━━━━━━━━━━━━━━━━━━━━━━━━━━━━━\u001b[0m \u001b[32m24.7/24.7 MB\u001b[0m \u001b[31m34.5 MB/s\u001b[0m eta \u001b[36m0:00:00\u001b[0m\n",
            "\u001b[?25hDownloading mlflow_skinny-3.1.1-py3-none-any.whl (1.9 MB)\n",
            "\u001b[2K   \u001b[90m━━━━━━━━━━━━━━━━━━━━━━━━━━━━━━━━━━━━━━━━\u001b[0m \u001b[32m1.9/1.9 MB\u001b[0m \u001b[31m60.9 MB/s\u001b[0m eta \u001b[36m0:00:00\u001b[0m\n",
            "\u001b[?25hDownloading docker-7.1.0-py3-none-any.whl (147 kB)\n",
            "\u001b[2K   \u001b[90m━━━━━━━━━━━━━━━━━━━━━━━━━━━━━━━━━━━━━━━━\u001b[0m \u001b[32m147.8/147.8 kB\u001b[0m \u001b[31m8.4 MB/s\u001b[0m eta \u001b[36m0:00:00\u001b[0m\n",
            "\u001b[?25hDownloading graphene-3.4.3-py2.py3-none-any.whl (114 kB)\n",
            "\u001b[2K   \u001b[90m━━━━━━━━━━━━━━━━━━━━━━━━━━━━━━━━━━━━━━━━\u001b[0m \u001b[32m114.9/114.9 kB\u001b[0m \u001b[31m9.0 MB/s\u001b[0m eta \u001b[36m0:00:00\u001b[0m\n",
            "\u001b[?25hDownloading gunicorn-23.0.0-py3-none-any.whl (85 kB)\n",
            "\u001b[2K   \u001b[90m━━━━━━━━━━━━━━━━━━━━━━━━━━━━━━━━━━━━━━━━\u001b[0m \u001b[32m85.0/85.0 kB\u001b[0m \u001b[31m6.9 MB/s\u001b[0m eta \u001b[36m0:00:00\u001b[0m\n",
            "\u001b[?25hDownloading databricks_sdk-0.59.0-py3-none-any.whl (676 kB)\n",
            "\u001b[2K   \u001b[90m━━━━━━━━━━━━━━━━━━━━━━━━━━━━━━━━━━━━━━━━\u001b[0m \u001b[32m676.2/676.2 kB\u001b[0m \u001b[31m35.7 MB/s\u001b[0m eta \u001b[36m0:00:00\u001b[0m\n",
            "\u001b[?25hDownloading graphql_core-3.2.6-py3-none-any.whl (203 kB)\n",
            "\u001b[2K   \u001b[90m━━━━━━━━━━━━━━━━━━━━━━━━━━━━━━━━━━━━━━━━\u001b[0m \u001b[32m203.4/203.4 kB\u001b[0m \u001b[31m14.6 MB/s\u001b[0m eta \u001b[36m0:00:00\u001b[0m\n",
            "\u001b[?25hDownloading graphql_relay-3.2.0-py3-none-any.whl (16 kB)\n",
            "Downloading opentelemetry_api-1.35.0-py3-none-any.whl (65 kB)\n",
            "\u001b[2K   \u001b[90m━━━━━━━━━━━━━━━━━━━━━━━━━━━━━━━━━━━━━━━━\u001b[0m \u001b[32m65.6/65.6 kB\u001b[0m \u001b[31m3.8 MB/s\u001b[0m eta \u001b[36m0:00:00\u001b[0m\n",
            "\u001b[?25hDownloading opentelemetry_sdk-1.35.0-py3-none-any.whl (119 kB)\n",
            "\u001b[2K   \u001b[90m━━━━━━━━━━━━━━━━━━━━━━━━━━━━━━━━━━━━━━━━\u001b[0m \u001b[32m119.4/119.4 kB\u001b[0m \u001b[31m9.9 MB/s\u001b[0m eta \u001b[36m0:00:00\u001b[0m\n",
            "\u001b[?25hDownloading opentelemetry_semantic_conventions-0.56b0-py3-none-any.whl (201 kB)\n",
            "\u001b[2K   \u001b[90m━━━━━━━━━━━━━━━━━━━━━━━━━━━━━━━━━━━━━━━━\u001b[0m \u001b[32m201.6/201.6 kB\u001b[0m \u001b[31m10.1 MB/s\u001b[0m eta \u001b[36m0:00:00\u001b[0m\n",
            "\u001b[?25hInstalling collected packages: gunicorn, graphql-core, opentelemetry-api, graphql-relay, docker, opentelemetry-semantic-conventions, graphene, databricks-sdk, opentelemetry-sdk, mlflow-skinny, mlflow\n",
            "Successfully installed databricks-sdk-0.59.0 docker-7.1.0 graphene-3.4.3 graphql-core-3.2.6 graphql-relay-3.2.0 gunicorn-23.0.0 mlflow-3.1.1 mlflow-skinny-3.1.1 opentelemetry-api-1.35.0 opentelemetry-sdk-1.35.0 opentelemetry-semantic-conventions-0.56b0\n"
          ]
        }
      ]
    },
    {
      "cell_type": "code",
      "source": [
        "import pandas as pd\n",
        "import numpy as np\n",
        "from sklearn.model_selection import train_test_split\n",
        "from sklearn.metrics import mean_squared_error, mean_absolute_error, r2_score\n",
        "import lightgbm as lgb\n",
        "import mlflow\n",
        "import mlflow.lightgbm\n",
        "\n",
        "# Selected features\n",
        "feature_cols = [\n",
        "    'AQI_CO', 'AQI_PM25', 'AQI_NO2', 'AQI_PM10',\n",
        "    'NO2', 'PM25', 'NOX_TO_NO2', 'AQI_OZONE', 'PM10', 'CO',\n",
        "    'Rolling_NO2_mean', 'Rolling_CO_mean', 'Rolling_PM10_mean'\n",
        "]\n",
        "\n",
        "# Target column\n",
        "target_col = 'AQI_CPCB'\n",
        "\n",
        "# Filter to features and target\n",
        "X = df[feature_cols]\n",
        "y = df[target_col]\n",
        "\n",
        "# Impute missing values in features with median\n",
        "print(\"Missing values before imputation:\\n\", X.isnull().sum())\n",
        "X = X.fillna(X.median())\n",
        "print(\"Missing values after imputation:\\n\", X.isnull().sum())\n",
        "\n",
        "# Drop any rows with missing target values\n",
        "data = pd.concat([X, y], axis=1).dropna()\n",
        "X = data[feature_cols]\n",
        "y = data[target_col]\n",
        "\n",
        "print(f\"Data shape after cleanup: {X.shape}\")\n",
        "\n",
        "# Train-test split\n",
        "X_train, X_val, y_train, y_val = train_test_split(\n",
        "    X, y, test_size=0.2, random_state=42)\n",
        "\n",
        "# LightGBM datasets\n",
        "train_data = lgb.Dataset(X_train, label=y_train)\n",
        "val_data = lgb.Dataset(X_val, label=y_val)\n",
        "\n",
        "# LightGBM params\n",
        "params = {\n",
        "    'objective': 'regression',\n",
        "    'metric': 'rmse',\n",
        "    'verbosity': -1,\n",
        "    'boosting_type': 'gbdt',\n",
        "    'seed': 42\n",
        "}\n",
        "\n",
        "# Prepare input example for MLflow model logging\n",
        "input_example = X_val.iloc[:1]\n",
        "\n",
        "# Start MLflow run\n",
        "with mlflow.start_run(run_name=\"LightGBM Baseline with Median Impute\"):\n",
        "    # Log parameters\n",
        "    mlflow.log_params(params)\n",
        "\n",
        "    # Train model with callbacks\n",
        "    model = lgb.train(\n",
        "        params,\n",
        "        train_data,\n",
        "        valid_sets=[val_data],\n",
        "        num_boost_round=1000,\n",
        "        callbacks=[\n",
        "            lgb.early_stopping(stopping_rounds=50),\n",
        "            lgb.log_evaluation(period=50)\n",
        "        ]\n",
        "    )\n",
        "\n",
        "    # Predict\n",
        "    y_pred = model.predict(X_val, num_iteration=model.best_iteration)\n",
        "\n",
        "    # Evaluate\n",
        "    rmse = np.sqrt(mean_squared_error(y_val, y_pred))\n",
        "    mae = mean_absolute_error(y_val, y_pred)\n",
        "    r2 = r2_score(y_val, y_pred)\n",
        "    mape = (abs((y_val - y_pred) / y_val.replace(0, 1))).mean() * 100\n",
        "\n",
        "    # Log metrics\n",
        "    mlflow.log_metrics({\n",
        "        \"RMSE\": rmse,\n",
        "        \"MAE\": mae,\n",
        "        \"R2\": r2,\n",
        "        \"MAPE\": mape\n",
        "    })\n",
        "\n",
        "    # Log model with input example\n",
        "    mlflow.lightgbm.log_model(model, \"model\", input_example=input_example)\n",
        "\n",
        "    print(\"\\n✅ Evaluation Metrics:\")\n",
        "    print(f\"RMSE : {rmse:.4f}\")\n",
        "    print(f\"MAE  : {mae:.4f}\")\n",
        "    print(f\"R²   : {r2:.4f}\")\n",
        "    print(f\"MAPE : {mape:.2f}%\")\n"
      ],
      "metadata": {
        "id": "7AnrJXClxgKR",
        "colab": {
          "base_uri": "https://localhost:8080/"
        },
        "outputId": "9211d5c5-9cef-4c63-8c92-e66558f58906"
      },
      "execution_count": 29,
      "outputs": [
        {
          "output_type": "stream",
          "name": "stdout",
          "text": [
            "Missing values before imputation:\n",
            " AQI_CO                49942\n",
            "AQI_PM25              19202\n",
            "AQI_NO2                6729\n",
            "AQI_PM10              11131\n",
            "NO2                       0\n",
            "PM25                      0\n",
            "NOX_TO_NO2           314220\n",
            "AQI_OZONE              5219\n",
            "PM10                      0\n",
            "CO                        0\n",
            "Rolling_NO2_mean          0\n",
            "Rolling_CO_mean           0\n",
            "Rolling_PM10_mean         0\n",
            "dtype: int64\n",
            "Missing values after imputation:\n",
            " AQI_CO               0\n",
            "AQI_PM25             0\n",
            "AQI_NO2              0\n",
            "AQI_PM10             0\n",
            "NO2                  0\n",
            "PM25                 0\n",
            "NOX_TO_NO2           0\n",
            "AQI_OZONE            0\n",
            "PM10                 0\n",
            "CO                   0\n",
            "Rolling_NO2_mean     0\n",
            "Rolling_CO_mean      0\n",
            "Rolling_PM10_mean    0\n",
            "dtype: int64\n",
            "Data shape after cleanup: (1332059, 13)\n",
            "Training until validation scores don't improve for 50 rounds\n",
            "[50]\tvalid_0's rmse: 7.12837\n",
            "[100]\tvalid_0's rmse: 6.67109\n",
            "[150]\tvalid_0's rmse: 6.45978\n",
            "[200]\tvalid_0's rmse: 6.33901\n",
            "[250]\tvalid_0's rmse: 6.25453\n",
            "[300]\tvalid_0's rmse: 6.18508\n",
            "[350]\tvalid_0's rmse: 6.13878\n",
            "[400]\tvalid_0's rmse: 6.09319\n",
            "[450]\tvalid_0's rmse: 6.07183\n",
            "[500]\tvalid_0's rmse: 6.04573\n",
            "[550]\tvalid_0's rmse: 6.02275\n",
            "[600]\tvalid_0's rmse: 6.00205\n",
            "[650]\tvalid_0's rmse: 5.98054\n",
            "[700]\tvalid_0's rmse: 5.96397\n",
            "[750]\tvalid_0's rmse: 5.95504\n",
            "[800]\tvalid_0's rmse: 5.94367\n",
            "[850]\tvalid_0's rmse: 5.92676\n",
            "[900]\tvalid_0's rmse: 5.91434\n",
            "[950]\tvalid_0's rmse: 5.90659\n",
            "[1000]\tvalid_0's rmse: 5.89783\n",
            "Did not meet early stopping. Best iteration is:\n",
            "[1000]\tvalid_0's rmse: 5.89783\n"
          ]
        },
        {
          "output_type": "stream",
          "name": "stderr",
          "text": [
            "2025/07/17 21:22:30 WARNING mlflow.models.model: `artifact_path` is deprecated. Please use `name` instead.\n"
          ]
        },
        {
          "output_type": "stream",
          "name": "stdout",
          "text": [
            "\n",
            "✅ Evaluation Metrics:\n",
            "RMSE : 5.8978\n",
            "MAE  : 1.7099\n",
            "R²   : 0.9932\n",
            "MAPE : 5.99%\n"
          ]
        }
      ]
    },
    {
      "cell_type": "code",
      "source": [
        "import pandas as pd\n",
        "import numpy as np\n",
        "import lightgbm as lgb\n",
        "import optuna\n",
        "import mlflow\n",
        "import mlflow.lightgbm\n",
        "from sklearn.model_selection import train_test_split\n",
        "from sklearn.metrics import mean_squared_error, mean_absolute_error, r2_score\n",
        "from mlflow.models.signature import infer_signature\n",
        "\n",
        "# 1. Feature and Target Definitions (assumes `df` already exists)\n",
        "feature_cols = [\n",
        "    'AQI_CO', 'AQI_PM25', 'AQI_NO2', 'AQI_PM10',\n",
        "    'NO2', 'PM25', 'NOX_TO_NO2', 'AQI_OZONE', 'PM10', 'CO',\n",
        "    'Rolling_NO2_mean', 'Rolling_CO_mean', 'Rolling_PM10_mean'\n",
        "]\n",
        "target_col = 'AQI_CPCB'\n",
        "\n",
        "# 2. Clean and split the dataset\n",
        "X = df[feature_cols].fillna(df[feature_cols].median())\n",
        "y = df[target_col]\n",
        "data = pd.concat([X, y], axis=1).dropna()\n",
        "\n",
        "X = data[feature_cols]\n",
        "y = data[target_col]\n",
        "\n",
        "X_train, X_val, y_train, y_val = train_test_split(\n",
        "    X, y, test_size=0.2, random_state=42\n",
        ")\n",
        "\n",
        "# 3. Define the Optuna objective\n",
        "def objective(trial):\n",
        "    params = {\n",
        "        'objective': 'regression',\n",
        "        'metric': 'rmse',\n",
        "        'verbosity': -1,\n",
        "        'boosting_type': 'gbdt',\n",
        "        'learning_rate': trial.suggest_float('learning_rate', 1e-3, 0.3, log=True),\n",
        "        'num_leaves': trial.suggest_int('num_leaves', 31, 2047),\n",
        "        'max_depth': trial.suggest_int('max_depth', 4, 32),\n",
        "        'min_data_in_leaf': trial.suggest_int('min_data_in_leaf', 10, 100),\n",
        "        'lambda_l1': trial.suggest_float('lambda_l1', 1e-3, 10.0, log=True),\n",
        "        'lambda_l2': trial.suggest_float('lambda_l2', 1e-3, 10.0, log=True),\n",
        "        'feature_fraction': trial.suggest_float('feature_fraction', 0.5, 1.0),\n",
        "        'bagging_fraction': trial.suggest_float('bagging_fraction', 0.5, 1.0),\n",
        "        'bagging_freq': trial.suggest_int('bagging_freq', 1, 10),\n",
        "        'seed': 42\n",
        "    }\n",
        "\n",
        "    with mlflow.start_run(nested=True):\n",
        "        mlflow.log_params(params)\n",
        "\n",
        "        dtrain = lgb.Dataset(X_train, label=y_train)\n",
        "        dvalid = lgb.Dataset(X_val, label=y_val)\n",
        "\n",
        "        model = lgb.train(\n",
        "            params,\n",
        "            dtrain,\n",
        "            valid_sets=[dvalid],\n",
        "            num_boost_round=1000,\n",
        "            callbacks=[\n",
        "                lgb.early_stopping(stopping_rounds=50),\n",
        "                lgb.log_evaluation(period=50)\n",
        "            ]\n",
        "        )\n",
        "\n",
        "        y_pred = model.predict(X_val, num_iteration=model.best_iteration)\n",
        "        rmse = np.sqrt(mean_squared_error(y_val, y_pred))\n",
        "        mae = mean_absolute_error(y_val, y_pred)\n",
        "        r2 = r2_score(y_val, y_pred)\n",
        "        y_val_safe = y_val.replace(0, 1)\n",
        "        mape = np.mean(np.abs((y_val - y_pred) / y_val_safe)) * 100\n",
        "\n",
        "        mlflow.log_metric(\"rmse\", rmse)\n",
        "        mlflow.log_metric(\"mae\", mae)\n",
        "        mlflow.log_metric(\"r2\", r2)\n",
        "        mlflow.log_metric(\"mape\", mape)\n",
        "\n",
        "        return rmse\n",
        "\n",
        "# 4. Run Optuna study\n",
        "study = optuna.create_study(direction=\"minimize\")\n",
        "with mlflow.start_run(run_name=\"Optuna_LightGBM_Tuning\") as run:\n",
        "    study.optimize(objective, n_trials=10)\n",
        "\n",
        "    # 5. Train best model from study\n",
        "    best_params = study.best_params\n",
        "    best_params.update({\n",
        "        'objective': 'regression',\n",
        "        'metric': 'rmse',\n",
        "        'boosting_type': 'gbdt',\n",
        "        'verbosity': -1,\n",
        "        'seed': 42\n",
        "    })\n",
        "\n",
        "    dtrain = lgb.Dataset(X_train, label=y_train)\n",
        "    dvalid = lgb.Dataset(X_val, label=y_val)\n",
        "\n",
        "    best_model = lgb.train(\n",
        "        best_params,\n",
        "        dtrain,\n",
        "        valid_sets=[dvalid],\n",
        "        num_boost_round=1000,\n",
        "        callbacks=[\n",
        "            lgb.early_stopping(stopping_rounds=50),\n",
        "            lgb.log_evaluation(period=50)\n",
        "        ]\n",
        "    )\n",
        "\n",
        "    y_pred = best_model.predict(X_val, num_iteration=best_model.best_iteration)\n",
        "    rmse = np.sqrt(mean_squared_error(y_val, y_pred))\n",
        "    mae = mean_absolute_error(y_val, y_pred)\n",
        "    r2 = r2_score(y_val, y_pred)\n",
        "    y_val_safe = y_val.replace(0, 1)\n",
        "    mape = np.mean(np.abs((y_val - y_pred) / y_val_safe)) * 100\n",
        "\n",
        "    mlflow.log_metrics({\n",
        "        \"final_rmse\": rmse,\n",
        "        \"final_mae\": mae,\n",
        "        \"final_r2\": r2,\n",
        "        \"final_mape\": mape\n",
        "    })\n",
        "\n",
        "    signature = infer_signature(X_val, y_pred)\n",
        "    mlflow.lightgbm.log_model(\n",
        "        best_model,\n",
        "        \"model\",\n",
        "        signature=signature,\n",
        "        input_example=X_val.head(2)\n",
        "    )\n",
        "\n",
        "# 6. Print best result\n",
        "print(\"\\n🎯 Best trial results:\")\n",
        "print(f\"Best RMSE: {study.best_value:.4f}\")\n",
        "print(\"Best Parameters:\")\n",
        "for k, v in study.best_params.items():\n",
        "    print(f\"  {k}: {v}\")\n"
      ],
      "metadata": {
        "id": "0Z5hj9R2xgNJ",
        "colab": {
          "base_uri": "https://localhost:8080/"
        },
        "collapsed": true,
        "outputId": "e0fec6fd-3929-4697-f8c9-2a3ad49062f7"
      },
      "execution_count": 31,
      "outputs": [
        {
          "output_type": "stream",
          "name": "stderr",
          "text": [
            "[I 2025-07-17 21:28:01,979] A new study created in memory with name: no-name-421fba13-772a-4020-8e5f-c4ea54f45d06\n"
          ]
        },
        {
          "output_type": "stream",
          "name": "stdout",
          "text": [
            "Training until validation scores don't improve for 50 rounds\n",
            "[50]\tvalid_0's rmse: 57.8784\n",
            "[100]\tvalid_0's rmse: 47.0454\n",
            "[150]\tvalid_0's rmse: 38.3415\n",
            "[200]\tvalid_0's rmse: 31.3507\n",
            "[250]\tvalid_0's rmse: 25.7675\n",
            "[300]\tvalid_0's rmse: 21.3273\n",
            "[350]\tvalid_0's rmse: 17.8026\n",
            "[400]\tvalid_0's rmse: 15.0503\n",
            "[450]\tvalid_0's rmse: 12.9145\n",
            "[500]\tvalid_0's rmse: 11.2906\n",
            "[550]\tvalid_0's rmse: 10.0584\n",
            "[600]\tvalid_0's rmse: 9.1544\n",
            "[650]\tvalid_0's rmse: 8.50211\n",
            "[700]\tvalid_0's rmse: 8.03076\n",
            "[750]\tvalid_0's rmse: 7.69147\n",
            "[800]\tvalid_0's rmse: 7.43616\n",
            "[850]\tvalid_0's rmse: 7.24026\n",
            "[900]\tvalid_0's rmse: 7.09844\n",
            "[950]\tvalid_0's rmse: 6.9718\n",
            "[1000]\tvalid_0's rmse: 6.88348\n",
            "Did not meet early stopping. Best iteration is:\n",
            "[1000]\tvalid_0's rmse: 6.88348\n"
          ]
        },
        {
          "output_type": "stream",
          "name": "stderr",
          "text": [
            "[I 2025-07-17 21:33:45,964] Trial 0 finished with value: 6.883475354286368 and parameters: {'learning_rate': 0.0043018050012701555, 'num_leaves': 810, 'max_depth': 9, 'min_data_in_leaf': 29, 'lambda_l1': 0.0025583069070315733, 'lambda_l2': 0.07570520409823728, 'feature_fraction': 0.9018274803166679, 'bagging_fraction': 0.9024563827933768, 'bagging_freq': 7}. Best is trial 0 with value: 6.883475354286368.\n"
          ]
        },
        {
          "output_type": "stream",
          "name": "stdout",
          "text": [
            "Training until validation scores don't improve for 50 rounds\n",
            "[50]\tvalid_0's rmse: 27.8454\n",
            "[100]\tvalid_0's rmse: 12.2244\n",
            "[150]\tvalid_0's rmse: 7.56458\n",
            "[200]\tvalid_0's rmse: 6.48573\n",
            "[250]\tvalid_0's rmse: 6.19507\n",
            "[300]\tvalid_0's rmse: 6.05598\n",
            "[350]\tvalid_0's rmse: 5.97602\n",
            "[400]\tvalid_0's rmse: 5.92559\n",
            "[450]\tvalid_0's rmse: 5.89171\n",
            "[500]\tvalid_0's rmse: 5.86497\n",
            "[550]\tvalid_0's rmse: 5.84614\n",
            "[600]\tvalid_0's rmse: 5.83333\n",
            "[650]\tvalid_0's rmse: 5.8195\n",
            "[700]\tvalid_0's rmse: 5.81171\n",
            "[750]\tvalid_0's rmse: 5.80367\n",
            "[800]\tvalid_0's rmse: 5.79781\n",
            "[850]\tvalid_0's rmse: 5.7884\n",
            "[900]\tvalid_0's rmse: 5.78634\n",
            "[950]\tvalid_0's rmse: 5.78411\n",
            "[1000]\tvalid_0's rmse: 5.77999\n",
            "Did not meet early stopping. Best iteration is:\n",
            "[990]\tvalid_0's rmse: 5.77989\n"
          ]
        },
        {
          "output_type": "stream",
          "name": "stderr",
          "text": [
            "[I 2025-07-17 21:44:17,035] Trial 1 finished with value: 5.779889604364014 and parameters: {'learning_rate': 0.019441889009495675, 'num_leaves': 843, 'max_depth': 23, 'min_data_in_leaf': 57, 'lambda_l1': 0.34764957462656026, 'lambda_l2': 0.025683287618678004, 'feature_fraction': 0.82725183139095, 'bagging_fraction': 0.5656402337445862, 'bagging_freq': 9}. Best is trial 1 with value: 5.779889604364014.\n"
          ]
        },
        {
          "output_type": "stream",
          "name": "stdout",
          "text": [
            "Training until validation scores don't improve for 50 rounds\n",
            "[50]\tvalid_0's rmse: 67.5927\n",
            "[100]\tvalid_0's rmse: 64.0069\n",
            "[150]\tvalid_0's rmse: 60.6095\n",
            "[200]\tvalid_0's rmse: 57.4414\n",
            "[250]\tvalid_0's rmse: 54.4579\n",
            "[300]\tvalid_0's rmse: 51.6511\n",
            "[350]\tvalid_0's rmse: 48.9736\n",
            "[400]\tvalid_0's rmse: 46.4596\n",
            "[450]\tvalid_0's rmse: 44.0292\n",
            "[500]\tvalid_0's rmse: 41.7707\n",
            "[550]\tvalid_0's rmse: 39.6097\n",
            "[600]\tvalid_0's rmse: 37.6125\n",
            "[650]\tvalid_0's rmse: 35.7412\n",
            "[700]\tvalid_0's rmse: 33.956\n",
            "[750]\tvalid_0's rmse: 32.2379\n",
            "[800]\tvalid_0's rmse: 30.636\n",
            "[850]\tvalid_0's rmse: 29.1382\n",
            "[900]\tvalid_0's rmse: 27.727\n",
            "[950]\tvalid_0's rmse: 26.3823\n",
            "[1000]\tvalid_0's rmse: 25.1271\n",
            "Did not meet early stopping. Best iteration is:\n",
            "[1000]\tvalid_0's rmse: 25.1271\n"
          ]
        },
        {
          "output_type": "stream",
          "name": "stderr",
          "text": [
            "[I 2025-07-17 21:52:07,293] Trial 2 finished with value: 25.127068675552053 and parameters: {'learning_rate': 0.0011649943040590123, 'num_leaves': 445, 'max_depth': 22, 'min_data_in_leaf': 20, 'lambda_l1': 0.25455029549311237, 'lambda_l2': 7.272813516042065, 'feature_fraction': 0.6502942266834506, 'bagging_fraction': 0.8496573608192759, 'bagging_freq': 9}. Best is trial 1 with value: 5.779889604364014.\n"
          ]
        },
        {
          "output_type": "stream",
          "name": "stdout",
          "text": [
            "Training until validation scores don't improve for 50 rounds\n",
            "[50]\tvalid_0's rmse: 9.29877\n",
            "[100]\tvalid_0's rmse: 7.22841\n",
            "[150]\tvalid_0's rmse: 6.797\n",
            "[200]\tvalid_0's rmse: 6.49616\n",
            "[250]\tvalid_0's rmse: 6.35412\n",
            "[300]\tvalid_0's rmse: 6.26182\n",
            "[350]\tvalid_0's rmse: 6.19972\n",
            "[400]\tvalid_0's rmse: 6.16249\n",
            "[450]\tvalid_0's rmse: 6.11914\n",
            "[500]\tvalid_0's rmse: 6.09567\n",
            "[550]\tvalid_0's rmse: 6.07172\n",
            "[600]\tvalid_0's rmse: 6.05593\n",
            "[650]\tvalid_0's rmse: 6.04443\n",
            "[700]\tvalid_0's rmse: 6.03283\n",
            "[750]\tvalid_0's rmse: 6.02203\n",
            "[800]\tvalid_0's rmse: 6.01043\n",
            "[850]\tvalid_0's rmse: 6.00067\n",
            "[900]\tvalid_0's rmse: 5.99348\n",
            "[950]\tvalid_0's rmse: 5.98709\n",
            "[1000]\tvalid_0's rmse: 5.983\n",
            "Did not meet early stopping. Best iteration is:\n",
            "[997]\tvalid_0's rmse: 5.98297\n"
          ]
        },
        {
          "output_type": "stream",
          "name": "stderr",
          "text": [
            "[I 2025-07-17 21:55:49,882] Trial 3 finished with value: 5.982971806708374 and parameters: {'learning_rate': 0.06255181390233676, 'num_leaves': 1621, 'max_depth': 9, 'min_data_in_leaf': 16, 'lambda_l1': 0.15575040403696622, 'lambda_l2': 0.015161406352133693, 'feature_fraction': 0.5743513914977519, 'bagging_fraction': 0.9897285055494435, 'bagging_freq': 1}. Best is trial 1 with value: 5.779889604364014.\n"
          ]
        },
        {
          "output_type": "stream",
          "name": "stdout",
          "text": [
            "Training until validation scores don't improve for 50 rounds\n",
            "[50]\tvalid_0's rmse: 8.27964\n",
            "[100]\tvalid_0's rmse: 7.23648\n",
            "[150]\tvalid_0's rmse: 6.88133\n",
            "[200]\tvalid_0's rmse: 6.69503\n",
            "[250]\tvalid_0's rmse: 6.59245\n",
            "[300]\tvalid_0's rmse: 6.51835\n",
            "[350]\tvalid_0's rmse: 6.4586\n",
            "[400]\tvalid_0's rmse: 6.4221\n",
            "[450]\tvalid_0's rmse: 6.38742\n",
            "[500]\tvalid_0's rmse: 6.35682\n",
            "[550]\tvalid_0's rmse: 6.33119\n",
            "[600]\tvalid_0's rmse: 6.31044\n",
            "[650]\tvalid_0's rmse: 6.29238\n",
            "[700]\tvalid_0's rmse: 6.27414\n",
            "[750]\tvalid_0's rmse: 6.26045\n",
            "[800]\tvalid_0's rmse: 6.24241\n",
            "[850]\tvalid_0's rmse: 6.22942\n",
            "[900]\tvalid_0's rmse: 6.21663\n",
            "[950]\tvalid_0's rmse: 6.20497\n",
            "[1000]\tvalid_0's rmse: 6.19694\n",
            "Did not meet early stopping. Best iteration is:\n",
            "[1000]\tvalid_0's rmse: 6.19694\n"
          ]
        },
        {
          "output_type": "stream",
          "name": "stderr",
          "text": [
            "[I 2025-07-17 21:59:56,381] Trial 4 finished with value: 6.196938294029928 and parameters: {'learning_rate': 0.0931891356090384, 'num_leaves': 342, 'max_depth': 8, 'min_data_in_leaf': 93, 'lambda_l1': 0.17298388097210665, 'lambda_l2': 0.015712806757980202, 'feature_fraction': 0.5437104236611743, 'bagging_fraction': 0.7295618458132124, 'bagging_freq': 2}. Best is trial 1 with value: 5.779889604364014.\n"
          ]
        },
        {
          "output_type": "stream",
          "name": "stdout",
          "text": [
            "Training until validation scores don't improve for 50 rounds\n",
            "[50]\tvalid_0's rmse: 8.02375\n",
            "[100]\tvalid_0's rmse: 6.5216\n",
            "[150]\tvalid_0's rmse: 6.37094\n",
            "[200]\tvalid_0's rmse: 6.3278\n",
            "[250]\tvalid_0's rmse: 6.3072\n",
            "[300]\tvalid_0's rmse: 6.3041\n",
            "Early stopping, best iteration is:\n",
            "[260]\tvalid_0's rmse: 6.30281\n"
          ]
        },
        {
          "output_type": "stream",
          "name": "stderr",
          "text": [
            "[I 2025-07-17 22:02:55,175] Trial 5 finished with value: 6.302814805101348 and parameters: {'learning_rate': 0.06298144875460934, 'num_leaves': 1960, 'max_depth': 25, 'min_data_in_leaf': 11, 'lambda_l1': 1.2115909536413279, 'lambda_l2': 0.006687565932830208, 'feature_fraction': 0.6385581573108876, 'bagging_fraction': 0.5462270843229231, 'bagging_freq': 5}. Best is trial 1 with value: 5.779889604364014.\n"
          ]
        },
        {
          "output_type": "stream",
          "name": "stdout",
          "text": [
            "Training until validation scores don't improve for 50 rounds\n",
            "[50]\tvalid_0's rmse: 67.1092\n",
            "[100]\tvalid_0's rmse: 63.1743\n",
            "[150]\tvalid_0's rmse: 59.4889\n",
            "[200]\tvalid_0's rmse: 56.0398\n",
            "[250]\tvalid_0's rmse: 52.8203\n",
            "[300]\tvalid_0's rmse: 49.8017\n",
            "[350]\tvalid_0's rmse: 46.9468\n",
            "[400]\tvalid_0's rmse: 44.2859\n",
            "[450]\tvalid_0's rmse: 41.7927\n",
            "[500]\tvalid_0's rmse: 39.4589\n",
            "[550]\tvalid_0's rmse: 37.276\n",
            "[600]\tvalid_0's rmse: 35.221\n",
            "[650]\tvalid_0's rmse: 33.2974\n",
            "[700]\tvalid_0's rmse: 31.5041\n",
            "[750]\tvalid_0's rmse: 29.8179\n",
            "[800]\tvalid_0's rmse: 28.2418\n",
            "[850]\tvalid_0's rmse: 26.7656\n",
            "[900]\tvalid_0's rmse: 25.3766\n",
            "[950]\tvalid_0's rmse: 24.0719\n",
            "[1000]\tvalid_0's rmse: 22.86\n",
            "Did not meet early stopping. Best iteration is:\n",
            "[1000]\tvalid_0's rmse: 22.86\n"
          ]
        },
        {
          "output_type": "stream",
          "name": "stderr",
          "text": [
            "[I 2025-07-17 22:06:23,102] Trial 6 finished with value: 22.860032705211598 and parameters: {'learning_rate': 0.0013113398301693709, 'num_leaves': 1383, 'max_depth': 6, 'min_data_in_leaf': 18, 'lambda_l1': 0.19111534922714615, 'lambda_l2': 5.59592988758931, 'feature_fraction': 0.9095585976624492, 'bagging_fraction': 0.7128547368691992, 'bagging_freq': 7}. Best is trial 1 with value: 5.779889604364014.\n"
          ]
        },
        {
          "output_type": "stream",
          "name": "stdout",
          "text": [
            "Training until validation scores don't improve for 50 rounds\n",
            "[50]\tvalid_0's rmse: 65.9068\n",
            "[100]\tvalid_0's rmse: 60.9446\n",
            "[150]\tvalid_0's rmse: 56.3892\n",
            "[200]\tvalid_0's rmse: 52.2093\n",
            "[250]\tvalid_0's rmse: 48.3676\n",
            "[300]\tvalid_0's rmse: 44.8333\n",
            "[350]\tvalid_0's rmse: 41.573\n",
            "[400]\tvalid_0's rmse: 38.5929\n",
            "[450]\tvalid_0's rmse: 35.844\n",
            "[500]\tvalid_0's rmse: 33.3213\n",
            "[550]\tvalid_0's rmse: 31.0007\n",
            "[600]\tvalid_0's rmse: 28.8772\n",
            "[650]\tvalid_0's rmse: 26.9247\n",
            "[700]\tvalid_0's rmse: 25.1242\n",
            "[750]\tvalid_0's rmse: 23.472\n",
            "[800]\tvalid_0's rmse: 21.9474\n",
            "[850]\tvalid_0's rmse: 20.543\n",
            "[900]\tvalid_0's rmse: 19.2561\n",
            "[950]\tvalid_0's rmse: 18.0729\n",
            "[1000]\tvalid_0's rmse: 16.9939\n",
            "Did not meet early stopping. Best iteration is:\n",
            "[1000]\tvalid_0's rmse: 16.9939\n"
          ]
        },
        {
          "output_type": "stream",
          "name": "stderr",
          "text": [
            "[I 2025-07-17 22:09:29,042] Trial 7 finished with value: 16.993876374194905 and parameters: {'learning_rate': 0.0016983344631538457, 'num_leaves': 1095, 'max_depth': 6, 'min_data_in_leaf': 72, 'lambda_l1': 4.267173437357039, 'lambda_l2': 1.6496411130728428, 'feature_fraction': 0.9580420389909244, 'bagging_fraction': 0.6530608399086327, 'bagging_freq': 1}. Best is trial 1 with value: 5.779889604364014.\n"
          ]
        },
        {
          "output_type": "stream",
          "name": "stdout",
          "text": [
            "Training until validation scores don't improve for 50 rounds\n",
            "[50]\tvalid_0's rmse: 46.1529\n",
            "[100]\tvalid_0's rmse: 30.1537\n",
            "[150]\tvalid_0's rmse: 20.1522\n",
            "[200]\tvalid_0's rmse: 14.0736\n",
            "[250]\tvalid_0's rmse: 10.5682\n",
            "[300]\tvalid_0's rmse: 8.65407\n",
            "[350]\tvalid_0's rmse: 7.62995\n",
            "[400]\tvalid_0's rmse: 7.03683\n",
            "[450]\tvalid_0's rmse: 6.7024\n",
            "[500]\tvalid_0's rmse: 6.52156\n",
            "[550]\tvalid_0's rmse: 6.40319\n",
            "[600]\tvalid_0's rmse: 6.29894\n",
            "[650]\tvalid_0's rmse: 6.2215\n",
            "[700]\tvalid_0's rmse: 6.16682\n",
            "[750]\tvalid_0's rmse: 6.1291\n",
            "[800]\tvalid_0's rmse: 6.09598\n",
            "[850]\tvalid_0's rmse: 6.07085\n",
            "[900]\tvalid_0's rmse: 6.04291\n",
            "[950]\tvalid_0's rmse: 6.02077\n",
            "[1000]\tvalid_0's rmse: 6.00019\n",
            "Did not meet early stopping. Best iteration is:\n",
            "[1000]\tvalid_0's rmse: 6.00019\n"
          ]
        },
        {
          "output_type": "stream",
          "name": "stderr",
          "text": [
            "[I 2025-07-17 22:16:42,097] Trial 8 finished with value: 6.000192085594251 and parameters: {'learning_rate': 0.008897892430642845, 'num_leaves': 397, 'max_depth': 12, 'min_data_in_leaf': 46, 'lambda_l1': 0.03915312288908949, 'lambda_l2': 0.3996991930499918, 'feature_fraction': 0.9506867630771445, 'bagging_fraction': 0.7924959086018029, 'bagging_freq': 4}. Best is trial 1 with value: 5.779889604364014.\n"
          ]
        },
        {
          "output_type": "stream",
          "name": "stdout",
          "text": [
            "Training until validation scores don't improve for 50 rounds\n",
            "[50]\tvalid_0's rmse: 8.00908\n",
            "[100]\tvalid_0's rmse: 6.69368\n",
            "[150]\tvalid_0's rmse: 6.37579\n",
            "[200]\tvalid_0's rmse: 6.23713\n",
            "[250]\tvalid_0's rmse: 6.16763\n",
            "[300]\tvalid_0's rmse: 6.12771\n",
            "[350]\tvalid_0's rmse: 6.09258\n",
            "[400]\tvalid_0's rmse: 6.06846\n",
            "[450]\tvalid_0's rmse: 6.04624\n",
            "[500]\tvalid_0's rmse: 6.02932\n",
            "[550]\tvalid_0's rmse: 6.01297\n",
            "[600]\tvalid_0's rmse: 6.00115\n",
            "[650]\tvalid_0's rmse: 5.98975\n",
            "[700]\tvalid_0's rmse: 5.97789\n",
            "[750]\tvalid_0's rmse: 5.9678\n",
            "[800]\tvalid_0's rmse: 5.95937\n",
            "[850]\tvalid_0's rmse: 5.95416\n",
            "[900]\tvalid_0's rmse: 5.94872\n",
            "[950]\tvalid_0's rmse: 5.94408\n",
            "[1000]\tvalid_0's rmse: 5.9413\n",
            "Did not meet early stopping. Best iteration is:\n",
            "[990]\tvalid_0's rmse: 5.94118\n"
          ]
        },
        {
          "output_type": "stream",
          "name": "stderr",
          "text": [
            "[I 2025-07-17 22:21:23,627] Trial 9 finished with value: 5.941183207720773 and parameters: {'learning_rate': 0.062307537027434294, 'num_leaves': 864, 'max_depth': 9, 'min_data_in_leaf': 57, 'lambda_l1': 0.040876968409669576, 'lambda_l2': 0.24563369141496588, 'feature_fraction': 0.8350245901567186, 'bagging_fraction': 0.692230441107409, 'bagging_freq': 3}. Best is trial 1 with value: 5.779889604364014.\n"
          ]
        },
        {
          "output_type": "stream",
          "name": "stdout",
          "text": [
            "Training until validation scores don't improve for 50 rounds\n",
            "[50]\tvalid_0's rmse: 27.8454\n",
            "[100]\tvalid_0's rmse: 12.2244\n",
            "[150]\tvalid_0's rmse: 7.56458\n",
            "[200]\tvalid_0's rmse: 6.48573\n",
            "[250]\tvalid_0's rmse: 6.19507\n",
            "[300]\tvalid_0's rmse: 6.05598\n",
            "[350]\tvalid_0's rmse: 5.97602\n",
            "[400]\tvalid_0's rmse: 5.92559\n",
            "[450]\tvalid_0's rmse: 5.89171\n",
            "[500]\tvalid_0's rmse: 5.86497\n",
            "[550]\tvalid_0's rmse: 5.84614\n",
            "[600]\tvalid_0's rmse: 5.83333\n",
            "[650]\tvalid_0's rmse: 5.8195\n",
            "[700]\tvalid_0's rmse: 5.81171\n",
            "[750]\tvalid_0's rmse: 5.80367\n",
            "[800]\tvalid_0's rmse: 5.79781\n",
            "[850]\tvalid_0's rmse: 5.7884\n",
            "[900]\tvalid_0's rmse: 5.78634\n",
            "[950]\tvalid_0's rmse: 5.78411\n",
            "[1000]\tvalid_0's rmse: 5.77999\n",
            "Did not meet early stopping. Best iteration is:\n",
            "[990]\tvalid_0's rmse: 5.77989\n"
          ]
        },
        {
          "output_type": "stream",
          "name": "stderr",
          "text": [
            "2025/07/17 22:31:56 WARNING mlflow.models.model: `artifact_path` is deprecated. Please use `name` instead.\n"
          ]
        },
        {
          "output_type": "stream",
          "name": "stdout",
          "text": [
            "\n",
            "🎯 Best trial results:\n",
            "Best RMSE: 5.7799\n",
            "Best Parameters:\n",
            "  learning_rate: 0.019441889009495675\n",
            "  num_leaves: 843\n",
            "  max_depth: 23\n",
            "  min_data_in_leaf: 57\n",
            "  lambda_l1: 0.34764957462656026\n",
            "  lambda_l2: 0.025683287618678004\n",
            "  feature_fraction: 0.82725183139095\n",
            "  bagging_fraction: 0.5656402337445862\n",
            "  bagging_freq: 9\n"
          ]
        }
      ]
    },
    {
      "cell_type": "code",
      "source": [
        "# ✅ Final Model Training using Best Parameters from Optuna\n",
        "import lightgbm as lgb\n",
        "from sklearn.metrics import mean_squared_error, mean_absolute_error, r2_score\n",
        "from mlflow.models.signature import infer_signature\n",
        "import mlflow\n",
        "import mlflow.lightgbm\n",
        "import numpy as np\n",
        "best_params = {\n",
        "    'objective': 'regression',\n",
        "    'metric': 'rmse',\n",
        "    'boosting_type': 'gbdt',\n",
        "    'verbosity': -1,\n",
        "    'seed': 42,\n",
        "    'learning_rate': 0.019441889009495675,\n",
        "    'num_leaves': 843,\n",
        "    'max_depth': 23,\n",
        "    'min_data_in_leaf': 57,\n",
        "    'lambda_l1': 0.34764957462656026,\n",
        "    'lambda_l2': 0.025683287618678004,\n",
        "    'feature_fraction': 0.82725183139095,\n",
        "    'bagging_fraction': 0.5656402337445862,\n",
        "    'bagging_freq': 9\n",
        "}\n",
        "\n",
        "with mlflow.start_run(run_name=\"FinalModel_OptunaBestParams\"):\n",
        "    dtrain = lgb.Dataset(X_train, label=y_train)\n",
        "    dvalid = lgb.Dataset(X_val, label=y_val)\n",
        "\n",
        "    model = lgb.train(\n",
        "        best_params,\n",
        "        dtrain,\n",
        "        valid_sets=[dvalid],\n",
        "        num_boost_round=1000,\n",
        "        callbacks=[\n",
        "            lgb.early_stopping(stopping_rounds=50),\n",
        "            lgb.log_evaluation(period=50)\n",
        "        ]\n",
        "    )\n",
        "\n",
        "    y_pred = model.predict(X_val, num_iteration=model.best_iteration)\n",
        "    rmse = np.sqrt(mean_squared_error(y_val, y_pred))\n",
        "    mae = mean_absolute_error(y_val, y_pred)\n",
        "    r2 = r2_score(y_val, y_pred)\n",
        "    mape = np.mean(np.abs((y_val - y_pred) / y_val.replace(0, 1))) * 100\n",
        "\n",
        "    # Log metrics and model\n",
        "    mlflow.log_metrics({\n",
        "        \"final_rmse\": rmse,\n",
        "        \"final_mae\": mae,\n",
        "        \"final_r2\": r2,\n",
        "        \"final_mape\": mape\n",
        "    })\n",
        "\n",
        "    mlflow.lightgbm.log_model(\n",
        "        model,\n",
        "        \"model\",\n",
        "        signature=infer_signature(X_val, y_pred),\n",
        "        input_example=X_val.head(2)\n",
        "    )\n",
        "\n",
        "    # Print results\n",
        "    print(\"\\n✅ Final Model Evaluation:\")\n",
        "    print(f\"Best RMSE : {rmse:.4f}\")\n",
        "    print(f\"MAE       : {mae:.4f}\")\n",
        "    print(f\"R²        : {r2:.4f}\")\n",
        "    print(f\"MAPE      : {mape:.2f}%\")\n"
      ],
      "metadata": {
        "colab": {
          "base_uri": "https://localhost:8080/"
        },
        "id": "P5yIta_0Ze-A",
        "outputId": "5c63949f-dd57-40e7-90ed-fd0d56a902fe"
      },
      "execution_count": 32,
      "outputs": [
        {
          "output_type": "stream",
          "name": "stdout",
          "text": [
            "Training until validation scores don't improve for 50 rounds\n",
            "[50]\tvalid_0's rmse: 27.8454\n",
            "[100]\tvalid_0's rmse: 12.2244\n",
            "[150]\tvalid_0's rmse: 7.56458\n",
            "[200]\tvalid_0's rmse: 6.48573\n",
            "[250]\tvalid_0's rmse: 6.19507\n",
            "[300]\tvalid_0's rmse: 6.05598\n",
            "[350]\tvalid_0's rmse: 5.97602\n",
            "[400]\tvalid_0's rmse: 5.92559\n",
            "[450]\tvalid_0's rmse: 5.89171\n",
            "[500]\tvalid_0's rmse: 5.86497\n",
            "[550]\tvalid_0's rmse: 5.84614\n",
            "[600]\tvalid_0's rmse: 5.83333\n",
            "[650]\tvalid_0's rmse: 5.8195\n",
            "[700]\tvalid_0's rmse: 5.81171\n",
            "[750]\tvalid_0's rmse: 5.80367\n",
            "[800]\tvalid_0's rmse: 5.79781\n",
            "[850]\tvalid_0's rmse: 5.7884\n",
            "[900]\tvalid_0's rmse: 5.78634\n",
            "[950]\tvalid_0's rmse: 5.78411\n",
            "[1000]\tvalid_0's rmse: 5.77999\n",
            "Did not meet early stopping. Best iteration is:\n",
            "[990]\tvalid_0's rmse: 5.77989\n"
          ]
        },
        {
          "output_type": "stream",
          "name": "stderr",
          "text": [
            "2025/07/17 22:43:59 WARNING mlflow.models.model: `artifact_path` is deprecated. Please use `name` instead.\n"
          ]
        },
        {
          "output_type": "stream",
          "name": "stdout",
          "text": [
            "\n",
            "✅ Final Model Evaluation:\n",
            "Best RMSE : 5.7799\n",
            "MAE       : 1.4926\n",
            "R²        : 0.9934\n",
            "MAPE      : 5.11%\n"
          ]
        }
      ]
    },
    {
      "cell_type": "code",
      "source": [
        "# Check unique categories and their counts\n",
        "print(\"Unique AQI categories and counts:\")\n",
        "print(df['AQI_Category'].value_counts(dropna=False))\n",
        "\n",
        "# Check for null values\n",
        "null_count = df['AQI_Category'].isnull().sum()\n",
        "print(f\"\\nNumber of null values in AQI_Category: {null_count}\")\n",
        "\n",
        "# Basic info about the column\n",
        "print(f\"\\nTotal rows in AQI_Category column: {len(df['AQI_Category'])}\")\n",
        "print(f\"Non-null rows: {df['AQI_Category'].notnull().sum()}\")\n"
      ],
      "metadata": {
        "id": "IDtiWxEFxgP2",
        "colab": {
          "base_uri": "https://localhost:8080/"
        },
        "outputId": "1ff8a007-b5ec-4dca-98cc-e0dbb5115f50"
      },
      "execution_count": 33,
      "outputs": [
        {
          "output_type": "stream",
          "name": "stdout",
          "text": [
            "Unique AQI categories and counts:\n",
            "AQI_Category\n",
            "Good            702353\n",
            "Satisfactory    395049\n",
            "Moderate        176300\n",
            "Poor             24184\n",
            "Very Poor        20623\n",
            "Severe           13550\n",
            "Name: count, dtype: int64\n",
            "\n",
            "Number of null values in AQI_Category: 0\n",
            "\n",
            "Total rows in AQI_Category column: 1332059\n",
            "Non-null rows: 1332059\n"
          ]
        }
      ]
    },
    {
      "cell_type": "code",
      "source": [
        "import pandas as pd\n",
        "import numpy as np\n",
        "from sklearn.model_selection import train_test_split\n",
        "from sklearn.preprocessing import LabelEncoder\n",
        "from sklearn.metrics import accuracy_score, classification_report, confusion_matrix\n",
        "import lightgbm as lgb\n",
        "import mlflow\n",
        "import mlflow.lightgbm\n",
        "from mlflow.models.signature import infer_signature\n",
        "import joblib\n",
        "import os\n",
        "from google.colab import files\n",
        "\n",
        "# 1. Define features and target\n",
        "feature_cols = [\n",
        "    'AQI_CO', 'AQI_PM25', 'AQI_NO2', 'AQI_PM10',\n",
        "    'NO2', 'PM25', 'NOX_TO_NO2', 'AQI_OZONE', 'PM10', 'CO',\n",
        "    'Rolling_NO2_mean', 'Rolling_CO_mean', 'Rolling_PM10_mean'\n",
        "]\n",
        "target_col = 'AQI_Category'\n",
        "\n",
        "# 2. Prepare dataset\n",
        "X = df[feature_cols].fillna(df[feature_cols].median())\n",
        "y = df[target_col]\n",
        "\n",
        "# Remove rows with missing target values\n",
        "data = pd.concat([X, y], axis=1).dropna()\n",
        "X = data[feature_cols]\n",
        "y = data[target_col]\n",
        "\n",
        "# 3. Encode labels\n",
        "le = LabelEncoder()\n",
        "y_encoded = le.fit_transform(y)\n",
        "\n",
        "# 4. Split data\n",
        "X_train, X_val, y_train, y_val = train_test_split(\n",
        "    X, y_encoded, test_size=0.2, random_state=42, stratify=y_encoded\n",
        ")\n",
        "\n",
        "# 5. Prepare LightGBM Datasets\n",
        "train_data = lgb.Dataset(X_train, label=y_train)\n",
        "val_data = lgb.Dataset(X_val, label=y_val)\n",
        "\n",
        "# 6. LightGBM parameters\n",
        "params = {\n",
        "    'objective': 'multiclass',\n",
        "    'num_class': len(le.classes_),\n",
        "    'metric': 'multi_logloss',\n",
        "    'verbosity': -1,\n",
        "    'boosting_type': 'gbdt',\n",
        "    'seed': 42\n",
        "}\n",
        "\n",
        "# 7. MLflow tracking\n",
        "with mlflow.start_run(run_name=\"LightGBM AQI Category Classifier\"):\n",
        "\n",
        "    mlflow.log_params(params)\n",
        "\n",
        "    model = lgb.train(\n",
        "        params,\n",
        "        train_data,\n",
        "        valid_sets=[val_data],\n",
        "        num_boost_round=1000,\n",
        "        callbacks=[\n",
        "            lgb.early_stopping(stopping_rounds=50),\n",
        "            lgb.log_evaluation(period=10)\n",
        "        ]\n",
        "    )\n",
        "\n",
        "    # Predict on validation set\n",
        "    y_pred_probs = model.predict(X_val, num_iteration=model.best_iteration)\n",
        "    y_pred = np.argmax(y_pred_probs, axis=1)\n",
        "\n",
        "    # Evaluate\n",
        "    accuracy = accuracy_score(y_val, y_pred)\n",
        "    report = classification_report(y_val, y_pred, target_names=le.classes_)\n",
        "    conf_matrix = confusion_matrix(y_val, y_pred)\n",
        "\n",
        "    # Log accuracy\n",
        "    mlflow.log_metric(\"accuracy\", accuracy)\n",
        "\n",
        "    # Log model with input_example and signature\n",
        "    input_example = X_val.head(2)\n",
        "    signature = infer_signature(X_val, y_pred_probs)\n",
        "    mlflow.lightgbm.log_model(\n",
        "        model,\n",
        "        \"model\",\n",
        "        input_example=input_example,\n",
        "        signature=signature\n",
        "    )\n",
        "\n",
        "    print(\"\\n✅ Classification Metrics:\")\n",
        "    print(f\"Accuracy: {accuracy:.4f}\")\n",
        "    print(\"\\nClassification Report:\\n\", report)\n",
        "    print(\"\\nConfusion Matrix:\\n\", conf_matrix)\n",
        "\n",
        "    # Save LabelEncoder locally in Colab\n",
        "    encoder_path = \"label_encoder.pkl\"\n",
        "    joblib.dump(le, encoder_path)\n",
        "    print(f\"\\n📦 LabelEncoder saved as: {encoder_path}\")\n",
        "\n",
        "    # Trigger file download\n",
        "    files.download(encoder_path)\n"
      ],
      "metadata": {
        "id": "vDsS07GUxgS6",
        "colab": {
          "base_uri": "https://localhost:8080/",
          "height": 763
        },
        "outputId": "68bda938-4bf6-4b8d-d728-7291cea2d320"
      },
      "execution_count": 34,
      "outputs": [
        {
          "output_type": "stream",
          "name": "stdout",
          "text": [
            "Training until validation scores don't improve for 50 rounds\n",
            "[10]\tvalid_0's multi_logloss: 0.167022\n",
            "[20]\tvalid_0's multi_logloss: 0.0640787\n",
            "[30]\tvalid_0's multi_logloss: 0.0450518\n",
            "[40]\tvalid_0's multi_logloss: 0.0403925\n",
            "[50]\tvalid_0's multi_logloss: 0.0386868\n",
            "[60]\tvalid_0's multi_logloss: 0.0378708\n",
            "[70]\tvalid_0's multi_logloss: 0.045222\n",
            "[80]\tvalid_0's multi_logloss: 0.0541655\n",
            "[90]\tvalid_0's multi_logloss: 0.0674697\n",
            "[100]\tvalid_0's multi_logloss: 0.0664285\n",
            "[110]\tvalid_0's multi_logloss: 0.101703\n",
            "Early stopping, best iteration is:\n",
            "[60]\tvalid_0's multi_logloss: 0.0378708\n"
          ]
        },
        {
          "output_type": "stream",
          "name": "stderr",
          "text": [
            "2025/07/17 22:47:57 WARNING mlflow.models.model: `artifact_path` is deprecated. Please use `name` instead.\n"
          ]
        },
        {
          "output_type": "stream",
          "name": "stdout",
          "text": [
            "\n",
            "✅ Classification Metrics:\n",
            "Accuracy: 0.9893\n",
            "\n",
            "Classification Report:\n",
            "               precision    recall  f1-score   support\n",
            "\n",
            "        Good       0.99      1.00      0.99    140471\n",
            "    Moderate       0.99      0.97      0.98     35260\n",
            "        Poor       0.97      0.93      0.95      4837\n",
            "Satisfactory       0.99      0.99      0.99     79010\n",
            "      Severe       0.98      0.98      0.98      2710\n",
            "   Very Poor       0.97      0.97      0.97      4124\n",
            "\n",
            "    accuracy                           0.99    266412\n",
            "   macro avg       0.98      0.97      0.98    266412\n",
            "weighted avg       0.99      0.99      0.99    266412\n",
            "\n",
            "\n",
            "Confusion Matrix:\n",
            " [[140325     64      0     82      0      0]\n",
            " [   635  34169     70    381      0      5]\n",
            " [     0    257   4522      0      1     57]\n",
            " [   978    154      0  77878      0      0]\n",
            " [     0      0      6      0   2647     57]\n",
            " [     0     10     61      0     44   4009]]\n",
            "\n",
            "📦 LabelEncoder saved as: label_encoder.pkl\n"
          ]
        },
        {
          "output_type": "display_data",
          "data": {
            "text/plain": [
              "<IPython.core.display.Javascript object>"
            ],
            "application/javascript": [
              "\n",
              "    async function download(id, filename, size) {\n",
              "      if (!google.colab.kernel.accessAllowed) {\n",
              "        return;\n",
              "      }\n",
              "      const div = document.createElement('div');\n",
              "      const label = document.createElement('label');\n",
              "      label.textContent = `Downloading \"${filename}\": `;\n",
              "      div.appendChild(label);\n",
              "      const progress = document.createElement('progress');\n",
              "      progress.max = size;\n",
              "      div.appendChild(progress);\n",
              "      document.body.appendChild(div);\n",
              "\n",
              "      const buffers = [];\n",
              "      let downloaded = 0;\n",
              "\n",
              "      const channel = await google.colab.kernel.comms.open(id);\n",
              "      // Send a message to notify the kernel that we're ready.\n",
              "      channel.send({})\n",
              "\n",
              "      for await (const message of channel.messages) {\n",
              "        // Send a message to notify the kernel that we're ready.\n",
              "        channel.send({})\n",
              "        if (message.buffers) {\n",
              "          for (const buffer of message.buffers) {\n",
              "            buffers.push(buffer);\n",
              "            downloaded += buffer.byteLength;\n",
              "            progress.value = downloaded;\n",
              "          }\n",
              "        }\n",
              "      }\n",
              "      const blob = new Blob(buffers, {type: 'application/binary'});\n",
              "      const a = document.createElement('a');\n",
              "      a.href = window.URL.createObjectURL(blob);\n",
              "      a.download = filename;\n",
              "      div.appendChild(a);\n",
              "      a.click();\n",
              "      div.remove();\n",
              "    }\n",
              "  "
            ]
          },
          "metadata": {}
        },
        {
          "output_type": "display_data",
          "data": {
            "text/plain": [
              "<IPython.core.display.Javascript object>"
            ],
            "application/javascript": [
              "download(\"download_72251a3f-b4ca-4188-8774-4abbcaa99aaf\", \"label_encoder.pkl\", 534)"
            ]
          },
          "metadata": {}
        }
      ]
    },
    {
      "cell_type": "code",
      "source": [
        "import joblib\n",
        "\n",
        "# Save to Colab's local filesystem\n",
        "joblib.dump(best_model, \"LightGBM_AQI_Regression.pkl\")\n",
        "\n",
        "# Download it to your system\n",
        "from google.colab import files\n",
        "files.download(\"LightGBM_AQI_Regression.pkl\")\n"
      ],
      "metadata": {
        "colab": {
          "base_uri": "https://localhost:8080/",
          "height": 17
        },
        "id": "9_z0QGyrlWlq",
        "outputId": "105a3884-5e0b-47d6-9fa2-604838bb166b"
      },
      "execution_count": 45,
      "outputs": [
        {
          "output_type": "display_data",
          "data": {
            "text/plain": [
              "<IPython.core.display.Javascript object>"
            ],
            "application/javascript": [
              "\n",
              "    async function download(id, filename, size) {\n",
              "      if (!google.colab.kernel.accessAllowed) {\n",
              "        return;\n",
              "      }\n",
              "      const div = document.createElement('div');\n",
              "      const label = document.createElement('label');\n",
              "      label.textContent = `Downloading \"${filename}\": `;\n",
              "      div.appendChild(label);\n",
              "      const progress = document.createElement('progress');\n",
              "      progress.max = size;\n",
              "      div.appendChild(progress);\n",
              "      document.body.appendChild(div);\n",
              "\n",
              "      const buffers = [];\n",
              "      let downloaded = 0;\n",
              "\n",
              "      const channel = await google.colab.kernel.comms.open(id);\n",
              "      // Send a message to notify the kernel that we're ready.\n",
              "      channel.send({})\n",
              "\n",
              "      for await (const message of channel.messages) {\n",
              "        // Send a message to notify the kernel that we're ready.\n",
              "        channel.send({})\n",
              "        if (message.buffers) {\n",
              "          for (const buffer of message.buffers) {\n",
              "            buffers.push(buffer);\n",
              "            downloaded += buffer.byteLength;\n",
              "            progress.value = downloaded;\n",
              "          }\n",
              "        }\n",
              "      }\n",
              "      const blob = new Blob(buffers, {type: 'application/binary'});\n",
              "      const a = document.createElement('a');\n",
              "      a.href = window.URL.createObjectURL(blob);\n",
              "      a.download = filename;\n",
              "      div.appendChild(a);\n",
              "      a.click();\n",
              "      div.remove();\n",
              "    }\n",
              "  "
            ]
          },
          "metadata": {}
        },
        {
          "output_type": "display_data",
          "data": {
            "text/plain": [
              "<IPython.core.display.Javascript object>"
            ],
            "application/javascript": [
              "download(\"download_f44a14ba-6178-40dc-8b65-7a61436c3ca9\", \"LightGBM_AQI_Regression.pkl\", 73890821)"
            ]
          },
          "metadata": {}
        }
      ]
    },
    {
      "cell_type": "code",
      "source": [
        "import joblib\n",
        "from google.colab import files\n",
        "\n",
        "# Save model in Colab's local environment\n",
        "classifier_model_path = \"LightGBM_AQI_Classifier.pkl\"\n",
        "joblib.dump(model, classifier_model_path)\n",
        "\n",
        "# Download the saved model to your PC\n",
        "files.download(classifier_model_path)\n"
      ],
      "metadata": {
        "id": "f0_xbWRoxgV6",
        "colab": {
          "base_uri": "https://localhost:8080/",
          "height": 17
        },
        "outputId": "f15115bf-399d-4a44-f8f7-d0d8ef11be59"
      },
      "execution_count": 46,
      "outputs": [
        {
          "output_type": "display_data",
          "data": {
            "text/plain": [
              "<IPython.core.display.Javascript object>"
            ],
            "application/javascript": [
              "\n",
              "    async function download(id, filename, size) {\n",
              "      if (!google.colab.kernel.accessAllowed) {\n",
              "        return;\n",
              "      }\n",
              "      const div = document.createElement('div');\n",
              "      const label = document.createElement('label');\n",
              "      label.textContent = `Downloading \"${filename}\": `;\n",
              "      div.appendChild(label);\n",
              "      const progress = document.createElement('progress');\n",
              "      progress.max = size;\n",
              "      div.appendChild(progress);\n",
              "      document.body.appendChild(div);\n",
              "\n",
              "      const buffers = [];\n",
              "      let downloaded = 0;\n",
              "\n",
              "      const channel = await google.colab.kernel.comms.open(id);\n",
              "      // Send a message to notify the kernel that we're ready.\n",
              "      channel.send({})\n",
              "\n",
              "      for await (const message of channel.messages) {\n",
              "        // Send a message to notify the kernel that we're ready.\n",
              "        channel.send({})\n",
              "        if (message.buffers) {\n",
              "          for (const buffer of message.buffers) {\n",
              "            buffers.push(buffer);\n",
              "            downloaded += buffer.byteLength;\n",
              "            progress.value = downloaded;\n",
              "          }\n",
              "        }\n",
              "      }\n",
              "      const blob = new Blob(buffers, {type: 'application/binary'});\n",
              "      const a = document.createElement('a');\n",
              "      a.href = window.URL.createObjectURL(blob);\n",
              "      a.download = filename;\n",
              "      div.appendChild(a);\n",
              "      a.click();\n",
              "      div.remove();\n",
              "    }\n",
              "  "
            ]
          },
          "metadata": {}
        },
        {
          "output_type": "display_data",
          "data": {
            "text/plain": [
              "<IPython.core.display.Javascript object>"
            ],
            "application/javascript": [
              "download(\"download_bb0c8592-58a4-4212-ad80-99150dee5732\", \"LightGBM_AQI_Classifier.pkl\", 1243018)"
            ]
          },
          "metadata": {}
        }
      ]
    },
    {
      "cell_type": "code",
      "source": [
        "import joblib\n",
        "from google.colab import files\n",
        "\n",
        "# Save model in Colab's local environment\n",
        "classifier_model_path = \"LightGBM_AQI_Classifier.pkl\"\n",
        "joblib.dump(model, classifier_model_path)\n",
        "\n",
        "# Download the saved model to your PC\n",
        "files.download(classifier_model_path)\n"
      ],
      "metadata": {
        "colab": {
          "base_uri": "https://localhost:8080/",
          "height": 17
        },
        "id": "51F6LxPLmJGO",
        "outputId": "7833e785-879f-43d4-bc36-c221e0dcfb2b"
      },
      "execution_count": 47,
      "outputs": [
        {
          "output_type": "display_data",
          "data": {
            "text/plain": [
              "<IPython.core.display.Javascript object>"
            ],
            "application/javascript": [
              "\n",
              "    async function download(id, filename, size) {\n",
              "      if (!google.colab.kernel.accessAllowed) {\n",
              "        return;\n",
              "      }\n",
              "      const div = document.createElement('div');\n",
              "      const label = document.createElement('label');\n",
              "      label.textContent = `Downloading \"${filename}\": `;\n",
              "      div.appendChild(label);\n",
              "      const progress = document.createElement('progress');\n",
              "      progress.max = size;\n",
              "      div.appendChild(progress);\n",
              "      document.body.appendChild(div);\n",
              "\n",
              "      const buffers = [];\n",
              "      let downloaded = 0;\n",
              "\n",
              "      const channel = await google.colab.kernel.comms.open(id);\n",
              "      // Send a message to notify the kernel that we're ready.\n",
              "      channel.send({})\n",
              "\n",
              "      for await (const message of channel.messages) {\n",
              "        // Send a message to notify the kernel that we're ready.\n",
              "        channel.send({})\n",
              "        if (message.buffers) {\n",
              "          for (const buffer of message.buffers) {\n",
              "            buffers.push(buffer);\n",
              "            downloaded += buffer.byteLength;\n",
              "            progress.value = downloaded;\n",
              "          }\n",
              "        }\n",
              "      }\n",
              "      const blob = new Blob(buffers, {type: 'application/binary'});\n",
              "      const a = document.createElement('a');\n",
              "      a.href = window.URL.createObjectURL(blob);\n",
              "      a.download = filename;\n",
              "      div.appendChild(a);\n",
              "      a.click();\n",
              "      div.remove();\n",
              "    }\n",
              "  "
            ]
          },
          "metadata": {}
        },
        {
          "output_type": "display_data",
          "data": {
            "text/plain": [
              "<IPython.core.display.Javascript object>"
            ],
            "application/javascript": [
              "download(\"download_3a4ef9ed-be65-4899-91e8-6b71c89f6043\", \"LightGBM_AQI_Classifier.pkl\", 1243018)"
            ]
          },
          "metadata": {}
        }
      ]
    },
    {
      "cell_type": "code",
      "source": [
        "def print_latest_mlflow_run(experiment_name=\"Default\"):\n",
        "    from mlflow.tracking import MlflowClient\n",
        "    from datetime import datetime\n",
        "\n",
        "    client = MlflowClient()\n",
        "    experiment = client.get_experiment_by_name(experiment_name)\n",
        "\n",
        "    if experiment is None:\n",
        "        print(f\"❌ No experiment named '{experiment_name}' found.\")\n",
        "        return\n",
        "\n",
        "    runs = client.search_runs(\n",
        "        experiment_ids=[experiment.experiment_id],\n",
        "        order_by=[\"start_time DESC\"],\n",
        "        max_results=1\n",
        "    )\n",
        "\n",
        "    if not runs:\n",
        "        print(f\"❌ No runs found in the '{experiment_name}' experiment.\")\n",
        "        return\n",
        "\n",
        "    latest_run = runs[0]\n",
        "    print(f\"\\n🔍 Experiment Name: {experiment.name}\")\n",
        "    print(\"📦 Latest MLflow Run ID:\", latest_run.info.run_id)\n",
        "\n",
        "    print(\"\\n✅ MLflow Logged Metrics:\")\n",
        "    for key, value in latest_run.data.metrics.items():\n",
        "        print(f\"{key} : {value:.4f}\")\n",
        "\n",
        "    print(\"\\n✅ MLflow Logged Parameters:\")\n",
        "    for key, value in latest_run.data.params.items():\n",
        "        print(f\"{key} : {value}\")\n",
        "\n",
        "    start = datetime.fromtimestamp(latest_run.info.start_time / 1000)\n",
        "    print(\"🕒 Run started at:\", start.strftime('%Y-%m-%d %H:%M:%S'))\n"
      ],
      "metadata": {
        "id": "ZyPfzEJExgYz"
      },
      "execution_count": 52,
      "outputs": []
    },
    {
      "cell_type": "code",
      "source": [
        "from mlflow.tracking import MlflowClient\n",
        "\n",
        "client = MlflowClient()\n",
        "experiment = client.get_experiment_by_name(\"Default\")\n",
        "latest_run = client.search_runs(\n",
        "    experiment_ids=[experiment.experiment_id],\n",
        "    order_by=[\"start_time DESC\"],\n",
        "    max_results=1\n",
        ")[0]\n",
        "\n",
        "# List artifacts\n",
        "artifacts = client.list_artifacts(latest_run.info.run_id)\n",
        "for item in artifacts:\n",
        "    print(f\"📁 {item.path} ({item.file_size} bytes)\")\n"
      ],
      "metadata": {
        "id": "zLtSQiXhxgbt"
      },
      "execution_count": 53,
      "outputs": []
    },
    {
      "cell_type": "code",
      "source": [
        "    print(\"\\n📁 Artifacts Logged:\")\n",
        "    artifacts = client.list_artifacts(latest_run.info.run_id)\n",
        "    for artifact in artifacts:\n",
        "        print(f\"- {artifact.path}\")\n"
      ],
      "metadata": {
        "id": "6FDC8VZ8xgem",
        "colab": {
          "base_uri": "https://localhost:8080/"
        },
        "outputId": "e3e43036-ade4-4e66-b707-fc6b262578b1"
      },
      "execution_count": 54,
      "outputs": [
        {
          "output_type": "stream",
          "name": "stdout",
          "text": [
            "\n",
            "📁 Artifacts Logged:\n"
          ]
        }
      ]
    },
    {
      "cell_type": "code",
      "source": [
        "print(\"✅ All models trained & saved successfully! 🚀 You're all set.\\n🎯 Next step: Build the interactive App using DASH 🖥️🌿\")\n"
      ],
      "metadata": {
        "id": "leb82WKbxghM",
        "colab": {
          "base_uri": "https://localhost:8080/"
        },
        "outputId": "3bd66cbe-8967-4642-b8d9-f1fad6f8edb8"
      },
      "execution_count": 55,
      "outputs": [
        {
          "output_type": "stream",
          "name": "stdout",
          "text": [
            "✅ All models trained & saved successfully! 🚀 You're all set.\n",
            "🎯 Next step: Build the interactive App using DASH 🖥️🌿\n"
          ]
        }
      ]
    }
  ]
}